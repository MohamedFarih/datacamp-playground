{
 "metadata": {
  "language_info": {
   "codemirror_mode": {
    "name": "ipython",
    "version": 3
   },
   "file_extension": ".py",
   "mimetype": "text/x-python",
   "name": "python",
   "nbconvert_exporter": "python",
   "pygments_lexer": "ipython3",
   "version": "3.7.9-final"
  },
  "orig_nbformat": 2,
  "kernelspec": {
   "name": "python3",
   "display_name": "Python 3",
   "language": "python"
  }
 },
 "nbformat": 4,
 "nbformat_minor": 2,
 "cells": [
  {
   "source": [
    "# How frequently is a function tested?\n",
    "Many data scientists do not think much about testing, and just do it in the manual way when necessary. But once you see the big picture i.e. the life cycle of a function over the entire project, you appreciate how important testing really is and how frequently you need to test things.\n",
    "\n",
    "Which of the following is true about testing?\n",
    "\n",
    "A function is tested after the first implementation and then any time the function is modified, which happens mainly when new bugs are found, new features are implemented or the code is refactored."
   ],
   "cell_type": "markdown",
   "metadata": {}
  },
  {
   "source": [
    "# Manual testing\n",
    "The function row_to_list(), which you met in the video lesson, has the following expected return values for the arguments listed below.\n",
    "\n",
    "\n",
    "|Argument\t|Expected return value\t|Explanation|\n",
    "|-----------|-----------------------|------------|\n",
    "|\"2,081\\t314,942\\n\"\t| [\"2,081\", \"314,942\"]\t|Correct row format|\n",
    "|\"\\t293,410\\n\"\t|None\t|Missing area|\n",
    "|\"1,463238,765\\n\"\t|None\t|Missing tab separator|\n",
    "\n",
    "row_to_list() has been defined and imported for you. Your job is to test the function manually in the IPython console.\n",
    "\n",
    "While testing manually, notice how many times you have to repeat the same steps! The point is to experience the inefficiency of manual testing."
   ],
   "cell_type": "markdown",
   "metadata": {}
  },
  {
   "source": [
    "## Question\n",
    "Call row_to_list() in the IPython console on the three arguments listed in the table. Do the actual return values match the expected return values listed in the table?\n",
    "\n",
    "No. the function returns [\"\", \"293,410\"] for the argument \"\\t293,410\\n\" instead of the expected return value None."
   ],
   "cell_type": "markdown",
   "metadata": {}
  },
  {
   "source": [
    "## Question\n",
    "In the last step, you discovered a bug in our implementation of row_to_list(). Good job!\n",
    "\n",
    "We have implemented a corresponding bug fix in a new function row_to_list_bugfix(). Call row_to_list_bugfix() in the IPython console on the three arguments listed in the table. Do the actual return values now match the expected return values listed in the table?\n",
    "\n",
    "Yes, the implementation returns the expected value in each case."
   ],
   "cell_type": "markdown",
   "metadata": {}
  },
  {
   "source": [
    "# Your first unit test using pytest\n",
    "The data file containing housing area and prices uses commas as thousands separators, e.g. \"2,081\" or \"314,942\", as you can see in the IPython Shell.\n",
    "\n",
    "The convert_to_int() function takes a comma separated integer string as argument, and returns the integer. Therefore, the expected return value of convert_to_int(\"2,081\") is the integer 2081.\n",
    "\n",
    "This function is defined in the module preprocessing_helpers.py. But it is not known if the function is working properly."
   ],
   "cell_type": "markdown",
   "metadata": {}
  },
  {
   "cell_type": "code",
   "execution_count": 1,
   "metadata": {},
   "outputs": [],
   "source": [
    "# Import the pytest package\n",
    "import pytest"
   ]
  },
  {
   "cell_type": "code",
   "execution_count": 2,
   "metadata": {},
   "outputs": [],
   "source": [
    "# Import the pytest package\n",
    "import pytest\n",
    "\n",
    "# Import convert_to_int() from the module preprocessing_helpers.py\n",
    "from preprocessing_helpers import convert_to_int"
   ]
  },
  {
   "cell_type": "code",
   "execution_count": 3,
   "metadata": {},
   "outputs": [],
   "source": [
    "# Import the pytest package\n",
    "import pytest\n",
    "\n",
    "# Import the function convert_to_int()\n",
    "from preprocessing_helpers import convert_to_int\n",
    "\n",
    "# Complete the unit test name by adding a prefix\n",
    "def test_on_string_with_one_comma():\n",
    "  pass"
   ]
  },
  {
   "cell_type": "code",
   "execution_count": 4,
   "metadata": {},
   "outputs": [],
   "source": [
    "# Import the pytest package\n",
    "import pytest\n",
    "\n",
    "# Import the function convert_to_int()\n",
    "from preprocessing_helpers import convert_to_int\n",
    "\n",
    "# Complete the unit test name by adding a prefix\n",
    "def test_on_string_with_one_comma():\n",
    "  # Complete the assert statement\n",
    "  assert convert_to_int(\"2,081\") == 2081"
   ]
  },
  {
   "source": [
    "# Running unit tests\n",
    "The tests that you wrote in the previous exercise have been written to a test module test_convert_to_int.py. Try running the tests in the IPython console.\n",
    "\n",
    "What is the correct IPython console command to run the tests in this test module?\n",
    "\n",
    "!pytest test_convert_to_int.py"
   ],
   "cell_type": "markdown",
   "metadata": {}
  },
  {
   "source": [
    "# What causes a unit test to fail?\n",
    "In the test result report, the character ., as shown below, stands for a passing test. A passing test is good news as it means that your function works as expected. The character F stands for a failing test. A failing test is bad news as this means that something is broken.\n",
    "\n",
    "```shell\n",
    "test_row_to_list.py .F.                                                  [100%]\n",
    "```\n",
    "\n",
    "Which of the following describes best why a unit test fails?"
   ],
   "cell_type": "markdown",
   "metadata": {}
  },
  {
   "source": [
    "# Spotting and fixing bugs\n",
    "To find bugs in functions, you need to follow a four step procedure.\n",
    "\n",
    "1. Write unit tests.\n",
    "2. Run them.\n",
    "3. Read the test result report and spot the bugs.\n",
    "4. Fix the bugs.\n",
    "\n",
    "In a previous exercise, you wrote a unit test for the function convert_to_int(), which is supposed to convert a comma separated integer string like \"2,081\" to the integer 2081. You also ran the unit test and discovered that it is failing.\n",
    "\n",
    "In this exercise, you will read the test result report from that exercise in detail, and then spot and fix the bug. This would equip you with all basic skills to start using unit tests for your projects.\n",
    "\n",
    "The convert_to_int() function is defined in the file preprocessing_helpers.py. The unit test is available in the test module test_convert_to_int.py."
   ],
   "cell_type": "markdown",
   "metadata": {}
  },
  {
   "cell_type": "code",
   "execution_count": 6,
   "metadata": {},
   "outputs": [],
   "source": [
    "def convert_to_int(string_with_comma):\n",
    "    # Fix this line so that it returns an int, not a str\n",
    "    return int(string_with_comma.replace(\",\", \"\"))"
   ]
  },
  {
   "source": [
    "# Benefits of unit testing\n",
    "You have been invited to a meeting where company executives are discussing whether developers should write unit tests. The CEO is unsure, and asks you about the benefits that unit testing might bring. In your response, which of the following benefits should you include?\n",
    "\n",
    "1. Time savings, leading to faster development of new features.\n",
    "2. Better user experience due to faster code execution.\n",
    "3. Improved documentation, which will help new colleagues understand the code base better.\n",
    "4. More user trust in the software product.\n",
    "5. Better user experience due to improved visualizations.\n",
    "6. Better user experience due to reduced downtime."
   ],
   "cell_type": "markdown",
   "metadata": {}
  },
  {
   "source": [
    "# Unit tests as documentation\n",
    "Assume that you are a new collaborator of our linear regression project on housing area and prices.\n",
    "\n",
    "While inspecting the project, you come across a function mystery_function() in the feature module. You want to figure out what this function does. As you know, reading the unit tests might give you the answer quickly!\n",
    "\n",
    "The unit tests for the function is available in the test module test_mystery_function.py. You can read it, and any other file that you encounter, by using the !cat command in the IPython shell.\n",
    "\n",
    "Having read the unit tests, can you guess what mystery_function() does?"
   ],
   "cell_type": "markdown",
   "metadata": {}
  },
  {
   "cell_type": "code",
   "execution_count": null,
   "metadata": {},
   "outputs": [],
   "source": []
  }
 ]
}