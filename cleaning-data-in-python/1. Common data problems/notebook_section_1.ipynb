{
 "metadata": {
  "language_info": {
   "codemirror_mode": {
    "name": "ipython",
    "version": 3
   },
   "file_extension": ".py",
   "mimetype": "text/x-python",
   "name": "python",
   "nbconvert_exporter": "python",
   "pygments_lexer": "ipython3",
   "version": "3.7.9-final"
  },
  "orig_nbformat": 2,
  "kernelspec": {
   "name": "python3",
   "display_name": "Python 3",
   "language": "python"
  }
 },
 "nbformat": 4,
 "nbformat_minor": 2,
 "cells": [
  {
   "source": [
    "# Common data types\n",
    "Manipulating and analyzing data with incorrect data types could lead to compromised analysis as you go along the data science workflow.\n",
    "\n",
    "When working with new data, you should always check the data types of your columns using the .dtypes attribute or the .info() method which you'll see in the next exercise. Often times, you'll run into columns that should be converted to different data types before starting any analysis.\n",
    "\n",
    "In this exercise, you'll first identify different types of data and correctly map them to their respective types."
   ],
   "cell_type": "markdown",
   "metadata": {}
  },
  {
   "source": [
    "# Numeric data or ... ?\n",
    "In this exercise, and throughout this chapter, you'll be working with bicycle ride sharing data in San Francisco called ride_sharing. It contains information on the start and end stations, the trip duration, and some user information for a bike sharing service.\n",
    "\n",
    "The user_type column contains information on whether a user is taking a free ride and takes on the following values:\n",
    "\n",
    "- 1 for free riders.\n",
    "- 2 for pay per ride.\n",
    "- 3 for monthly subscribers.\n",
    "\n",
    "In this instance, you will print the information of ride_sharing using .info() and see a firsthand example of how an incorrect data type can flaw your analysis of the dataset. The pandas package is imported as pd."
   ],
   "cell_type": "markdown",
   "metadata": {}
  },
  {
   "cell_type": "code",
   "execution_count": 1,
   "metadata": {},
   "outputs": [
    {
     "output_type": "execute_result",
     "data": {
      "text/plain": [
       "       Unnamed: 0    duration  station_A_id  \\\n",
       "0               0  12 minutes            81   \n",
       "1               1  24 minutes             3   \n",
       "2               2   8 minutes            67   \n",
       "3               3   4 minutes            16   \n",
       "4               4  11 minutes            22   \n",
       "...           ...         ...           ...   \n",
       "25755       25755  11 minutes            15   \n",
       "25756       25756  10 minutes            15   \n",
       "25757       25757  14 minutes            15   \n",
       "25758       25758  14 minutes            15   \n",
       "25759       25759  29 minutes            16   \n",
       "\n",
       "                                          station_A_name  station_B_id  \\\n",
       "0                                     Berry St at 4th St           323   \n",
       "1           Powell St BART Station (Market St at 4th St)           118   \n",
       "2      San Francisco Caltrain Station 2  (Townsend St...            23   \n",
       "3                                Steuart St at Market St            28   \n",
       "4                                  Howard St at Beale St           350   \n",
       "...                                                  ...           ...   \n",
       "25755  San Francisco Ferry Building (Harry Bridges Pl...            34   \n",
       "25756  San Francisco Ferry Building (Harry Bridges Pl...            34   \n",
       "25757  San Francisco Ferry Building (Harry Bridges Pl...            42   \n",
       "25758  San Francisco Ferry Building (Harry Bridges Pl...            42   \n",
       "25759                            Steuart St at Market St           115   \n",
       "\n",
       "                                      station_B_name  bike_id  user_type  \\\n",
       "0                                 Broadway at Kearny     5480          2   \n",
       "1                    Eureka Valley Recreation Center     5193          2   \n",
       "2                      The Embarcadero at Steuart St     3652          3   \n",
       "3                       The Embarcadero at Bryant St     1883          1   \n",
       "4                               8th St at Brannan St     4626          2   \n",
       "...                                              ...      ...        ...   \n",
       "25755                 Father Alfred E Boeddeker Park     5063          1   \n",
       "25756                 Father Alfred E Boeddeker Park     5411          2   \n",
       "25757  San Francisco City Hall (Polk St at Grove St)     5157          2   \n",
       "25758  San Francisco City Hall (Polk St at Grove St)     4438          2   \n",
       "25759                             Jackson Playground     1705          3   \n",
       "\n",
       "       user_birth_year user_gender  \n",
       "0                 1959        Male  \n",
       "1                 1965        Male  \n",
       "2                 1993        Male  \n",
       "3                 1979        Male  \n",
       "4                 1994        Male  \n",
       "...                ...         ...  \n",
       "25755             2000        Male  \n",
       "25756             1998        Male  \n",
       "25757             1995        Male  \n",
       "25758             1995        Male  \n",
       "25759             1990        Male  \n",
       "\n",
       "[25760 rows x 10 columns]"
      ],
      "text/html": "<div>\n<style scoped>\n    .dataframe tbody tr th:only-of-type {\n        vertical-align: middle;\n    }\n\n    .dataframe tbody tr th {\n        vertical-align: top;\n    }\n\n    .dataframe thead th {\n        text-align: right;\n    }\n</style>\n<table border=\"1\" class=\"dataframe\">\n  <thead>\n    <tr style=\"text-align: right;\">\n      <th></th>\n      <th>Unnamed: 0</th>\n      <th>duration</th>\n      <th>station_A_id</th>\n      <th>station_A_name</th>\n      <th>station_B_id</th>\n      <th>station_B_name</th>\n      <th>bike_id</th>\n      <th>user_type</th>\n      <th>user_birth_year</th>\n      <th>user_gender</th>\n    </tr>\n  </thead>\n  <tbody>\n    <tr>\n      <th>0</th>\n      <td>0</td>\n      <td>12 minutes</td>\n      <td>81</td>\n      <td>Berry St at 4th St</td>\n      <td>323</td>\n      <td>Broadway at Kearny</td>\n      <td>5480</td>\n      <td>2</td>\n      <td>1959</td>\n      <td>Male</td>\n    </tr>\n    <tr>\n      <th>1</th>\n      <td>1</td>\n      <td>24 minutes</td>\n      <td>3</td>\n      <td>Powell St BART Station (Market St at 4th St)</td>\n      <td>118</td>\n      <td>Eureka Valley Recreation Center</td>\n      <td>5193</td>\n      <td>2</td>\n      <td>1965</td>\n      <td>Male</td>\n    </tr>\n    <tr>\n      <th>2</th>\n      <td>2</td>\n      <td>8 minutes</td>\n      <td>67</td>\n      <td>San Francisco Caltrain Station 2  (Townsend St...</td>\n      <td>23</td>\n      <td>The Embarcadero at Steuart St</td>\n      <td>3652</td>\n      <td>3</td>\n      <td>1993</td>\n      <td>Male</td>\n    </tr>\n    <tr>\n      <th>3</th>\n      <td>3</td>\n      <td>4 minutes</td>\n      <td>16</td>\n      <td>Steuart St at Market St</td>\n      <td>28</td>\n      <td>The Embarcadero at Bryant St</td>\n      <td>1883</td>\n      <td>1</td>\n      <td>1979</td>\n      <td>Male</td>\n    </tr>\n    <tr>\n      <th>4</th>\n      <td>4</td>\n      <td>11 minutes</td>\n      <td>22</td>\n      <td>Howard St at Beale St</td>\n      <td>350</td>\n      <td>8th St at Brannan St</td>\n      <td>4626</td>\n      <td>2</td>\n      <td>1994</td>\n      <td>Male</td>\n    </tr>\n    <tr>\n      <th>...</th>\n      <td>...</td>\n      <td>...</td>\n      <td>...</td>\n      <td>...</td>\n      <td>...</td>\n      <td>...</td>\n      <td>...</td>\n      <td>...</td>\n      <td>...</td>\n      <td>...</td>\n    </tr>\n    <tr>\n      <th>25755</th>\n      <td>25755</td>\n      <td>11 minutes</td>\n      <td>15</td>\n      <td>San Francisco Ferry Building (Harry Bridges Pl...</td>\n      <td>34</td>\n      <td>Father Alfred E Boeddeker Park</td>\n      <td>5063</td>\n      <td>1</td>\n      <td>2000</td>\n      <td>Male</td>\n    </tr>\n    <tr>\n      <th>25756</th>\n      <td>25756</td>\n      <td>10 minutes</td>\n      <td>15</td>\n      <td>San Francisco Ferry Building (Harry Bridges Pl...</td>\n      <td>34</td>\n      <td>Father Alfred E Boeddeker Park</td>\n      <td>5411</td>\n      <td>2</td>\n      <td>1998</td>\n      <td>Male</td>\n    </tr>\n    <tr>\n      <th>25757</th>\n      <td>25757</td>\n      <td>14 minutes</td>\n      <td>15</td>\n      <td>San Francisco Ferry Building (Harry Bridges Pl...</td>\n      <td>42</td>\n      <td>San Francisco City Hall (Polk St at Grove St)</td>\n      <td>5157</td>\n      <td>2</td>\n      <td>1995</td>\n      <td>Male</td>\n    </tr>\n    <tr>\n      <th>25758</th>\n      <td>25758</td>\n      <td>14 minutes</td>\n      <td>15</td>\n      <td>San Francisco Ferry Building (Harry Bridges Pl...</td>\n      <td>42</td>\n      <td>San Francisco City Hall (Polk St at Grove St)</td>\n      <td>4438</td>\n      <td>2</td>\n      <td>1995</td>\n      <td>Male</td>\n    </tr>\n    <tr>\n      <th>25759</th>\n      <td>25759</td>\n      <td>29 minutes</td>\n      <td>16</td>\n      <td>Steuart St at Market St</td>\n      <td>115</td>\n      <td>Jackson Playground</td>\n      <td>1705</td>\n      <td>3</td>\n      <td>1990</td>\n      <td>Male</td>\n    </tr>\n  </tbody>\n</table>\n<p>25760 rows × 10 columns</p>\n</div>"
     },
     "metadata": {},
     "execution_count": 1
    }
   ],
   "source": [
    "import pandas as pd \n",
    "\n",
    "ride_sharing = pd.read_csv('../datasets/ride_sharing_new.csv')\n",
    "\n",
    "ride_sharing"
   ]
  },
  {
   "cell_type": "code",
   "execution_count": 2,
   "metadata": {},
   "outputs": [
    {
     "output_type": "stream",
     "name": "stdout",
     "text": [
      "<class 'pandas.core.frame.DataFrame'>\nRangeIndex: 25760 entries, 0 to 25759\nData columns (total 10 columns):\n #   Column           Non-Null Count  Dtype \n---  ------           --------------  ----- \n 0   Unnamed: 0       25760 non-null  int64 \n 1   duration         25760 non-null  object\n 2   station_A_id     25760 non-null  int64 \n 3   station_A_name   25760 non-null  object\n 4   station_B_id     25760 non-null  int64 \n 5   station_B_name   25760 non-null  object\n 6   bike_id          25760 non-null  int64 \n 7   user_type        25760 non-null  int64 \n 8   user_birth_year  25760 non-null  int64 \n 9   user_gender      25760 non-null  object\ndtypes: int64(6), object(4)\nmemory usage: 2.0+ MB\n"
     ]
    }
   ],
   "source": [
    "# Print the information of ride_sharing\n",
    "ride_sharing.info()"
   ]
  },
  {
   "cell_type": "code",
   "execution_count": 3,
   "metadata": {},
   "outputs": [
    {
     "output_type": "execute_result",
     "data": {
      "text/plain": [
       "count    25760.000000\n",
       "mean         2.008385\n",
       "std          0.704541\n",
       "min          1.000000\n",
       "25%          2.000000\n",
       "50%          2.000000\n",
       "75%          3.000000\n",
       "max          3.000000\n",
       "Name: user_type, dtype: float64"
      ]
     },
     "metadata": {},
     "execution_count": 3
    }
   ],
   "source": [
    "# Print summary statistics of user_type column\n",
    "ride_sharing['user_type'].describe()"
   ]
  },
  {
   "source": [
    "# Summing strings and concatenating numbers\n",
    "In the previous exercise, you were able to identify that category is the correct data type for user_type and convert it in order to extract relevant statistical summaries that shed light on the distribution of user_type.\n",
    "\n",
    "Another common data type problem is importing what should be numerical values as strings, as mathematical operations such as summing and multiplication lead to string concatenation, not numerical outputs.\n",
    "\n",
    "In this exercise, you'll be converting the string column duration to the type int. Before that however, you will need to make sure to strip \"minutes\" from the column in order to make sure pandas reads it as numerical. The pandas package has been imported as pd."
   ],
   "cell_type": "markdown",
   "metadata": {}
  },
  {
   "cell_type": "code",
   "execution_count": 4,
   "metadata": {},
   "outputs": [],
   "source": [
    "# Strip duration of minutes\n",
    "ride_sharing['duration_trim'] = ride_sharing['duration'].str.strip(\"minutes\")\n",
    "\n",
    "# Convert duration to integer\n",
    "ride_sharing['duration_time'] = ride_sharing['duration_trim'].astype('int')\n",
    "\n",
    "# Write an assert statement making sure of conversion\n",
    "assert ride_sharing['duration_time'].dtype == 'int'"
   ]
  },
  {
   "cell_type": "code",
   "execution_count": 5,
   "metadata": {},
   "outputs": [
    {
     "output_type": "execute_result",
     "data": {
      "text/plain": [
       "         duration duration_trim  duration_time\n",
       "0      12 minutes           12              12\n",
       "1      24 minutes           24              24\n",
       "2       8 minutes            8               8\n",
       "3       4 minutes            4               4\n",
       "4      11 minutes           11              11\n",
       "...           ...           ...            ...\n",
       "25755  11 minutes           11              11\n",
       "25756  10 minutes           10              10\n",
       "25757  14 minutes           14              14\n",
       "25758  14 minutes           14              14\n",
       "25759  29 minutes           29              29\n",
       "\n",
       "[25760 rows x 3 columns]"
      ],
      "text/html": "<div>\n<style scoped>\n    .dataframe tbody tr th:only-of-type {\n        vertical-align: middle;\n    }\n\n    .dataframe tbody tr th {\n        vertical-align: top;\n    }\n\n    .dataframe thead th {\n        text-align: right;\n    }\n</style>\n<table border=\"1\" class=\"dataframe\">\n  <thead>\n    <tr style=\"text-align: right;\">\n      <th></th>\n      <th>duration</th>\n      <th>duration_trim</th>\n      <th>duration_time</th>\n    </tr>\n  </thead>\n  <tbody>\n    <tr>\n      <th>0</th>\n      <td>12 minutes</td>\n      <td>12</td>\n      <td>12</td>\n    </tr>\n    <tr>\n      <th>1</th>\n      <td>24 minutes</td>\n      <td>24</td>\n      <td>24</td>\n    </tr>\n    <tr>\n      <th>2</th>\n      <td>8 minutes</td>\n      <td>8</td>\n      <td>8</td>\n    </tr>\n    <tr>\n      <th>3</th>\n      <td>4 minutes</td>\n      <td>4</td>\n      <td>4</td>\n    </tr>\n    <tr>\n      <th>4</th>\n      <td>11 minutes</td>\n      <td>11</td>\n      <td>11</td>\n    </tr>\n    <tr>\n      <th>...</th>\n      <td>...</td>\n      <td>...</td>\n      <td>...</td>\n    </tr>\n    <tr>\n      <th>25755</th>\n      <td>11 minutes</td>\n      <td>11</td>\n      <td>11</td>\n    </tr>\n    <tr>\n      <th>25756</th>\n      <td>10 minutes</td>\n      <td>10</td>\n      <td>10</td>\n    </tr>\n    <tr>\n      <th>25757</th>\n      <td>14 minutes</td>\n      <td>14</td>\n      <td>14</td>\n    </tr>\n    <tr>\n      <th>25758</th>\n      <td>14 minutes</td>\n      <td>14</td>\n      <td>14</td>\n    </tr>\n    <tr>\n      <th>25759</th>\n      <td>29 minutes</td>\n      <td>29</td>\n      <td>29</td>\n    </tr>\n  </tbody>\n</table>\n<p>25760 rows × 3 columns</p>\n</div>"
     },
     "metadata": {},
     "execution_count": 5
    }
   ],
   "source": [
    "ride_sharing[['duration','duration_trim','duration_time']]"
   ]
  },
  {
   "cell_type": "code",
   "execution_count": 7,
   "metadata": {},
   "outputs": [
    {
     "output_type": "execute_result",
     "data": {
      "text/plain": [
       "11.389052795031056"
      ]
     },
     "metadata": {},
     "execution_count": 7
    }
   ],
   "source": [
    "import numpy as np\n",
    "np.mean(ride_sharing['duration_time'])"
   ]
  },
  {
   "source": [
    "# Tire size constraints\n",
    "In this lesson, you're going to build on top of the work you've been doing with the ride_sharing DataFrame. You'll be working with the tire_sizes column which contains data on each bike's tire size.\n",
    "\n",
    "Bicycle tire sizes could be either 26″, 27″ or 29″ and are here correctly stored as a categorical value. In an effort to cut maintenance costs, the ride sharing provider decided to set the maximum tire size to be 27″.\n",
    "\n",
    "In this exercise, you will make sure the tire_sizes column has the correct range by first converting it to an integer, then setting and testing the new upper limit of 27″ for tire sizes."
   ],
   "cell_type": "markdown",
   "metadata": {}
  },
  {
   "cell_type": "code",
   "execution_count": 8,
   "metadata": {},
   "outputs": [
    {
     "output_type": "error",
     "ename": "KeyError",
     "evalue": "'tire_sizes'",
     "traceback": [
      "\u001b[1;31m---------------------------------------------------------------------------\u001b[0m",
      "\u001b[1;31mKeyError\u001b[0m                                  Traceback (most recent call last)",
      "\u001b[1;32mD:\\Src\\Python37\\lib\\site-packages\\pandas\\core\\indexes\\base.py\u001b[0m in \u001b[0;36mget_loc\u001b[1;34m(self, key, method, tolerance)\u001b[0m\n\u001b[0;32m   2897\u001b[0m             \u001b[1;32mtry\u001b[0m\u001b[1;33m:\u001b[0m\u001b[1;33m\u001b[0m\u001b[1;33m\u001b[0m\u001b[0m\n\u001b[1;32m-> 2898\u001b[1;33m                 \u001b[1;32mreturn\u001b[0m \u001b[0mself\u001b[0m\u001b[1;33m.\u001b[0m\u001b[0m_engine\u001b[0m\u001b[1;33m.\u001b[0m\u001b[0mget_loc\u001b[0m\u001b[1;33m(\u001b[0m\u001b[0mcasted_key\u001b[0m\u001b[1;33m)\u001b[0m\u001b[1;33m\u001b[0m\u001b[1;33m\u001b[0m\u001b[0m\n\u001b[0m\u001b[0;32m   2899\u001b[0m             \u001b[1;32mexcept\u001b[0m \u001b[0mKeyError\u001b[0m \u001b[1;32mas\u001b[0m \u001b[0merr\u001b[0m\u001b[1;33m:\u001b[0m\u001b[1;33m\u001b[0m\u001b[1;33m\u001b[0m\u001b[0m\n",
      "\u001b[1;32mpandas\\_libs\\index.pyx\u001b[0m in \u001b[0;36mpandas._libs.index.IndexEngine.get_loc\u001b[1;34m()\u001b[0m\n",
      "\u001b[1;32mpandas\\_libs\\index.pyx\u001b[0m in \u001b[0;36mpandas._libs.index.IndexEngine.get_loc\u001b[1;34m()\u001b[0m\n",
      "\u001b[1;32mpandas\\_libs\\hashtable_class_helper.pxi\u001b[0m in \u001b[0;36mpandas._libs.hashtable.PyObjectHashTable.get_item\u001b[1;34m()\u001b[0m\n",
      "\u001b[1;32mpandas\\_libs\\hashtable_class_helper.pxi\u001b[0m in \u001b[0;36mpandas._libs.hashtable.PyObjectHashTable.get_item\u001b[1;34m()\u001b[0m\n",
      "\u001b[1;31mKeyError\u001b[0m: 'tire_sizes'",
      "\nThe above exception was the direct cause of the following exception:\n",
      "\u001b[1;31mKeyError\u001b[0m                                  Traceback (most recent call last)",
      "\u001b[1;32m<ipython-input-8-a2367fb8d266>\u001b[0m in \u001b[0;36m<module>\u001b[1;34m\u001b[0m\n\u001b[0;32m      1\u001b[0m \u001b[1;31m# Convert tire_sizes to integer\u001b[0m\u001b[1;33m\u001b[0m\u001b[1;33m\u001b[0m\u001b[1;33m\u001b[0m\u001b[0m\n\u001b[1;32m----> 2\u001b[1;33m \u001b[0mride_sharing\u001b[0m\u001b[1;33m[\u001b[0m\u001b[1;34m'tire_sizes'\u001b[0m\u001b[1;33m]\u001b[0m \u001b[1;33m=\u001b[0m \u001b[0mride_sharing\u001b[0m\u001b[1;33m[\u001b[0m\u001b[1;34m'tire_sizes'\u001b[0m\u001b[1;33m]\u001b[0m\u001b[1;33m.\u001b[0m\u001b[0mastype\u001b[0m\u001b[1;33m(\u001b[0m\u001b[1;34m'int'\u001b[0m\u001b[1;33m)\u001b[0m\u001b[1;33m\u001b[0m\u001b[1;33m\u001b[0m\u001b[0m\n\u001b[0m\u001b[0;32m      3\u001b[0m \u001b[1;33m\u001b[0m\u001b[0m\n\u001b[0;32m      4\u001b[0m \u001b[1;31m# Set all values above 27 to 27\u001b[0m\u001b[1;33m\u001b[0m\u001b[1;33m\u001b[0m\u001b[1;33m\u001b[0m\u001b[0m\n\u001b[0;32m      5\u001b[0m \u001b[0mride_sharing\u001b[0m\u001b[1;33m.\u001b[0m\u001b[0mloc\u001b[0m\u001b[1;33m[\u001b[0m\u001b[0mride_sharing\u001b[0m\u001b[1;33m[\u001b[0m\u001b[1;34m'tire_sizes'\u001b[0m\u001b[1;33m]\u001b[0m \u001b[1;33m>\u001b[0m \u001b[1;36m27\u001b[0m\u001b[1;33m,\u001b[0m \u001b[1;34m'tire_sizes'\u001b[0m\u001b[1;33m]\u001b[0m \u001b[1;33m=\u001b[0m \u001b[1;36m27\u001b[0m\u001b[1;33m\u001b[0m\u001b[1;33m\u001b[0m\u001b[0m\n",
      "\u001b[1;32mD:\\Src\\Python37\\lib\\site-packages\\pandas\\core\\frame.py\u001b[0m in \u001b[0;36m__getitem__\u001b[1;34m(self, key)\u001b[0m\n\u001b[0;32m   2904\u001b[0m             \u001b[1;32mif\u001b[0m \u001b[0mself\u001b[0m\u001b[1;33m.\u001b[0m\u001b[0mcolumns\u001b[0m\u001b[1;33m.\u001b[0m\u001b[0mnlevels\u001b[0m \u001b[1;33m>\u001b[0m \u001b[1;36m1\u001b[0m\u001b[1;33m:\u001b[0m\u001b[1;33m\u001b[0m\u001b[1;33m\u001b[0m\u001b[0m\n\u001b[0;32m   2905\u001b[0m                 \u001b[1;32mreturn\u001b[0m \u001b[0mself\u001b[0m\u001b[1;33m.\u001b[0m\u001b[0m_getitem_multilevel\u001b[0m\u001b[1;33m(\u001b[0m\u001b[0mkey\u001b[0m\u001b[1;33m)\u001b[0m\u001b[1;33m\u001b[0m\u001b[1;33m\u001b[0m\u001b[0m\n\u001b[1;32m-> 2906\u001b[1;33m             \u001b[0mindexer\u001b[0m \u001b[1;33m=\u001b[0m \u001b[0mself\u001b[0m\u001b[1;33m.\u001b[0m\u001b[0mcolumns\u001b[0m\u001b[1;33m.\u001b[0m\u001b[0mget_loc\u001b[0m\u001b[1;33m(\u001b[0m\u001b[0mkey\u001b[0m\u001b[1;33m)\u001b[0m\u001b[1;33m\u001b[0m\u001b[1;33m\u001b[0m\u001b[0m\n\u001b[0m\u001b[0;32m   2907\u001b[0m             \u001b[1;32mif\u001b[0m \u001b[0mis_integer\u001b[0m\u001b[1;33m(\u001b[0m\u001b[0mindexer\u001b[0m\u001b[1;33m)\u001b[0m\u001b[1;33m:\u001b[0m\u001b[1;33m\u001b[0m\u001b[1;33m\u001b[0m\u001b[0m\n\u001b[0;32m   2908\u001b[0m                 \u001b[0mindexer\u001b[0m \u001b[1;33m=\u001b[0m \u001b[1;33m[\u001b[0m\u001b[0mindexer\u001b[0m\u001b[1;33m]\u001b[0m\u001b[1;33m\u001b[0m\u001b[1;33m\u001b[0m\u001b[0m\n",
      "\u001b[1;32mD:\\Src\\Python37\\lib\\site-packages\\pandas\\core\\indexes\\base.py\u001b[0m in \u001b[0;36mget_loc\u001b[1;34m(self, key, method, tolerance)\u001b[0m\n\u001b[0;32m   2898\u001b[0m                 \u001b[1;32mreturn\u001b[0m \u001b[0mself\u001b[0m\u001b[1;33m.\u001b[0m\u001b[0m_engine\u001b[0m\u001b[1;33m.\u001b[0m\u001b[0mget_loc\u001b[0m\u001b[1;33m(\u001b[0m\u001b[0mcasted_key\u001b[0m\u001b[1;33m)\u001b[0m\u001b[1;33m\u001b[0m\u001b[1;33m\u001b[0m\u001b[0m\n\u001b[0;32m   2899\u001b[0m             \u001b[1;32mexcept\u001b[0m \u001b[0mKeyError\u001b[0m \u001b[1;32mas\u001b[0m \u001b[0merr\u001b[0m\u001b[1;33m:\u001b[0m\u001b[1;33m\u001b[0m\u001b[1;33m\u001b[0m\u001b[0m\n\u001b[1;32m-> 2900\u001b[1;33m                 \u001b[1;32mraise\u001b[0m \u001b[0mKeyError\u001b[0m\u001b[1;33m(\u001b[0m\u001b[0mkey\u001b[0m\u001b[1;33m)\u001b[0m \u001b[1;32mfrom\u001b[0m \u001b[0merr\u001b[0m\u001b[1;33m\u001b[0m\u001b[1;33m\u001b[0m\u001b[0m\n\u001b[0m\u001b[0;32m   2901\u001b[0m \u001b[1;33m\u001b[0m\u001b[0m\n\u001b[0;32m   2902\u001b[0m         \u001b[1;32mif\u001b[0m \u001b[0mtolerance\u001b[0m \u001b[1;32mis\u001b[0m \u001b[1;32mnot\u001b[0m \u001b[1;32mNone\u001b[0m\u001b[1;33m:\u001b[0m\u001b[1;33m\u001b[0m\u001b[1;33m\u001b[0m\u001b[0m\n",
      "\u001b[1;31mKeyError\u001b[0m: 'tire_sizes'"
     ]
    }
   ],
   "source": [
    "# Convert tire_sizes to integer\n",
    "ride_sharing['tire_sizes'] = ride_sharing['tire_sizes'].astype('int')\n",
    "\n",
    "# Set all values above 27 to 27\n",
    "ride_sharing.loc[ride_sharing['tire_sizes'] > 27, 'tire_sizes'] = 27\n",
    "\n",
    "# Reconvert tire_sizes back to categorical\n",
    "ride_sharing['tire_sizes'] = ride_sharing['tire_sizes'].astype('category')\n",
    "\n",
    "# Print tire size description\n",
    "print(ride_sharing['tire_sizes'].describe())"
   ]
  },
  {
   "cell_type": "code",
   "execution_count": null,
   "metadata": {},
   "outputs": [],
   "source": []
  }
 ]
}