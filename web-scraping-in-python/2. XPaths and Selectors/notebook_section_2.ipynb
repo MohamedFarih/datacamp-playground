{
 "metadata": {
  "language_info": {
   "codemirror_mode": {
    "name": "ipython",
    "version": 3
   },
   "file_extension": ".py",
   "mimetype": "text/x-python",
   "name": "python",
   "nbconvert_exporter": "python",
   "pygments_lexer": "ipython3",
   "version": "3.7.9-final"
  },
  "orig_nbformat": 2,
  "kernelspec": {
   "name": "python3",
   "display_name": "Python 3",
   "language": "python"
  }
 },
 "nbformat": 4,
 "nbformat_minor": 2,
 "cells": [
  {
   "source": [
    "# Counting Elements in the Wild\n",
    "Below, you are given a few options to consider regarding counting the number of elements which are selected. Choose the one which is incorrect!\n",
    "\n",
    "A. The number of elements selected with the XPath string ```xpath = \"/html/body/*``` is equal to the number of children of the body element; whereas the number of elements selected with the XPath string ```xpath = \"/html/body//*\"``` is equal to the total number of descendants of the body element.\n",
    "\n",
    "B. The number of elements selected with the XPath string ```xpath = \"/html/body//*\" ``` is equal to the number of children of the body element; whereas the number of elements selected with the XPath string ```xpath = \"/html/body/*\"``` is equal to the total number of descendants of the body element\n",
    "\n",
    "C. The number of elements selected by the XPath string ```xpath = \"/*\"``` is equal to the number of root elements within the HTML document, which is typically the 1 html root element\n",
    "\n",
    "D. The number of elements selected by the Xpath string ```xpath = \"//*\"``` is equal to the total number of elements in the entire HTML document."
   ],
   "cell_type": "markdown",
   "metadata": {}
  },
  {
   "source": [
    "# Body Appendages\n",
    "We have loaded the HTML from a secret website and have used it to create a function how_many_elements(). The way this function works is that you pass it an XPath string and it will print out the number of elements the XPath you wrote has selected. For example, by running the code how_many_elements('//*') in the console will print out the total number of elements the HTML document has (try it!).\n",
    "\n",
    "Your job in this exercise is to create an XPath string which can be used to direct to all child elements the body (regardless of tag type). To note, you can first test your solution with how_many_elements() to find the total number of children in the body element if you wish.\n",
    "\n",
    "Note that the exercises in this chapter may take some time to load."
   ],
   "cell_type": "markdown",
   "metadata": {}
  },
  {
   "cell_type": "code",
   "execution_count": null,
   "metadata": {},
   "outputs": [],
   "source": [
    "from scrapy.selector import Selector as sel \n",
    "\n",
    "def how_many_elements(xpath):\n",
    "  print( len(sel.xpath(query=xpath)))\n",
    "\n",
    "# Create an XPath string to direct to children of body element\n",
    "xpath = '//body/*'\n",
    "\n",
    "# Print out the number of elements selected\n",
    "how_many_elements(xpath)"
   ]
  },
  {
   "source": [
    "# Choose DataCamp!\n",
    "In this exercise, we want to give you the opportunity to create your own XPath string to achieve a certain task; the task is to select the paragraph element containing the text \"Choose DataCamp!\".\n",
    "\n",
    "Consider the following HTML:\n",
    "\n",
    "```html\n",
    "<html>\n",
    "  <body>\n",
    "    <div>\n",
    "      <p>Hello World!</p>\n",
    "      <div>\n",
    "        <p>Choose DataCamp!</p>\n",
    "      </div>\n",
    "    </div>\n",
    "    <div>\n",
    "      <p>Thanks for Watching!</p>\n",
    "    </div>\n",
    "  </body>\n",
    "</html>\n",
    "```\n",
    "\n",
    "We have created the function print_element_text() for you, which will print the text contained in your element (if it contains any). Feel free to use this function to check if your solution is correct!"
   ],
   "cell_type": "markdown",
   "metadata": {}
  },
  {
   "cell_type": "code",
   "execution_count": null,
   "metadata": {},
   "outputs": [],
   "source": [
    "def print_element_text( xpath ):\n",
    "  text = ' '.join( sel.xpath( xpath ).xpath( './text()' ).extract())\n",
    "  print(text)\n",
    "\n",
    "\n",
    "# Create an XPath string to the desired paragraph element\n",
    "xpath = '/html/body/div[1]/div/p'\n",
    "\n",
    "# Print out the element text\n",
    "print_element_text( xpath )"
   ]
  },
  {
   "source": [
    "# Where it's @\n",
    "In this exercise, you'll begin to write an XPath string using attributes to achieve a certain task; that task is to select the paragraph element containing the text \"Thanks for Watching!\". We've already created most of the XPath string for you.\n",
    "\n",
    "Consider the following HTML:\n",
    "\n",
    "```html\n",
    "<html>\n",
    "  <body>\n",
    "    <div id=\"div1\" class=\"class-1\">\n",
    "      <p class=\"class-1 class-2\">Hello World!</p>\n",
    "      <div id=\"div2\">\n",
    "        <p id=\"p2\" class=\"class-2\">Choose DataCamp!</p>\n",
    "      </div>\n",
    "    </div>\n",
    "    <div id=\"div3\" class=\"class-2\">\n",
    "      <p class=\"class-2\">Thanks for Watching!</p>\n",
    "    </div>\n",
    "  </body>\n",
    "</html>\n",
    "```\n",
    "\n",
    "We have created the function print_element_text() for you, which will print any text contained in your element."
   ],
   "cell_type": "markdown",
   "metadata": {}
  },
  {
   "cell_type": "code",
   "execution_count": null,
   "metadata": {},
   "outputs": [],
   "source": [
    "# Create an Xpath string to select desired p element\n",
    "xpath = '//*[@id=\\\"div3\\\"]/p'\n",
    "\n",
    "# Print out selection text\n",
    "print_element_text(xpath)"
   ]
  },
  {
   "source": [
    "# Check your Class\n",
    "This exercise is to emphasize that when you use an XPath to select an element by its class attribute without using the contains() function, you match the class exactly. Your job is to fill in the blank below and finish the variable xpath directing to the specified element.\n",
    "\n",
    "Consider the following HTML:\n",
    "\n",
    "```html\n",
    "<html>\n",
    "  <body>\n",
    "    <div id=\"div1\" class=\"class-1\">\n",
    "      <p class=\"class-1 class-2\">Hello World!</p>\n",
    "      <div id=\"div2\">\n",
    "        <p id=\"p2\" class=\"class-2\">Choose DataCamp!</p>\n",
    "      </div>\n",
    "    </div>\n",
    "    <div id=\"div3\" class=\"class-2\">\n",
    "      <p class=\"class-2\">Thanks for Watching!</p>\n",
    "    </div>\n",
    "  </body>\n",
    "</html>\n",
    "```"
   ],
   "cell_type": "markdown",
   "metadata": {}
  },
  {
   "cell_type": "code",
   "execution_count": null,
   "metadata": {},
   "outputs": [],
   "source": [
    "# Create an XPath string to select p element by class\n",
    "xpath = '//p[@class=\\\"class-1 class-2\\\"]'\n",
    "\n",
    "# Print out select text\n",
    "print_element_text( xpath )"
   ]
  },
  {
   "source": [
    "# Hyper(link) Active\n",
    "One of the most important attributes to extract for \"web-crawling\" is the hyperlink url (href attribute) within an a tag. Here, you will extract such a hyperlink! We have created the function print_attribute to print out the data extracted from your XPath, so you can test your XPath strings in the console, if you like.\n",
    "\n",
    "The exercise refers to the following HTML source code:\n",
    "\n",
    "```html \n",
    "<html>\n",
    "  <body>\n",
    "    <div id=\"div1\" class=\"class-1\">\n",
    "      <p class=\"class-1 class-2\">Hello World!</p>\n",
    "      <div id=\"div2\">\n",
    "        <p id=\"p2\" class=\"class-2\">Choose \n",
    "            <a href=\"http://datacamp.com\">DataCamp!</a>!\n",
    "        </p>\n",
    "      </div>\n",
    "    </div>\n",
    "    <div id=\"div3\" class=\"class-2\">\n",
    "      <p class=\"class-2\">Thanks for Watching!</p>\n",
    "    </div>\n",
    "  </body>\n",
    "</html>\n",
    "```"
   ],
   "cell_type": "markdown",
   "metadata": {}
  },
  {
   "cell_type": "code",
   "execution_count": null,
   "metadata": {},
   "outputs": [],
   "source": [
    "# Create an xpath to the href attribute\n",
    "xpath = '//p[@id=\\\"p2\\\"]/a/@href'\n",
    "\n",
    "# Print out the selection(s); there should be only one\n",
    "print_attribute( xpath )"
   ]
  },
  {
   "source": [
    "# Secret Links\n",
    "We have loaded the HTML from a secret website and have used it to create the functions how_many_elements() and preview(). The function how_many_elements() allows you to pass in an XPath string and it will print out the number of elements the XPath you wrote has selected. The function preview() allows you to pass in an XPath string and it will print out the first few elements you've selected.\n",
    "\n",
    "Your job in this exercise is to create an XPath which directs to all href attribute values of the hyperlink a elements whose class attributes contain the string \"course-block\". If you do it correctly, you should find that you have selected 40 elements with your XPath string and that it previews links (with some repetition)."
   ],
   "cell_type": "markdown",
   "metadata": {}
  },
  {
   "cell_type": "code",
   "execution_count": null,
   "metadata": {},
   "outputs": [],
   "source": [
    "def preview(xpath):\n",
    "  els = sel.xpath(xpath).extract()\n",
    "  n = len(els)\n",
    "  for i,el in enumerate( els[:min(4,n)]):\n",
    "    print( \"Element %d: %s\" % (i+1,el))\n",
    "\n",
    "\n",
    "# Create an xpath to the href attributes\n",
    "xpath = '//a[contains(@class,\\\"course-block\\\")]/@href'\n",
    "\n",
    "# Print out how many elements are selected\n",
    "how_many_elements( xpath )\n",
    "# Preview the selected elements\n",
    "preview(xpath)"
   ]
  },
  {
   "source": [
    "# XPath Chaining\n",
    "Selector and SelectorList objects allow for chaining when using the xpath method. What this means is that you can apply the xpath method over once you've already applied it. For example, if sel is the name of our Selector, then\n",
    "\n",
    "```\n",
    "sel.xpath('/html/body/div[2]')\n",
    "```\n",
    "\n",
    "is the same as\n",
    "\n",
    "```\n",
    "sel.xpath('/html').xpath('./body/div[2]')\n",
    "```\n",
    "\n",
    "or is the same as\n",
    "\n",
    "```\n",
    "sel.xpath('/html').xpath('./body').xpath('./div[2]')\n",
    "```\n",
    "\n",
    "The only catch is that you need to \"glue together\" the XPath pieces by using a period at the start of each subsequent XPath string (notice the periods we added to the XPath strings in our examples)."
   ],
   "cell_type": "markdown",
   "metadata": {}
  },
  {
   "cell_type": "code",
   "execution_count": null,
   "metadata": {},
   "outputs": [],
   "source": [
    "# Chain together xpath methods to select desired p element\n",
    "sel.xpath( '//div' ).xpath( './span/p[3]')"
   ]
  },
  {
   "source": [
    "# Divvy Up This Exercise\n",
    "We have pre-loaded an HTML into the string variable html. In this two part problem you will use this html variable as the HTML document to set up a Selector object with, and create a SelectorList which selects all div elements; then, you will check your understanding of what happens within the SelectorList."
   ],
   "cell_type": "markdown",
   "metadata": {}
  },
  {
   "cell_type": "code",
   "execution_count": null,
   "metadata": {},
   "outputs": [],
   "source": [
    "from scrapy import Selector\n",
    "\n",
    "# Create a Selector selecting html as the HTML document\n",
    "sel = Selector( text = html )\n",
    "\n",
    "# Create a SelectorList of all div elements in the HTML document\n",
    "divs = sel.xpath( '//div' )"
   ]
  },
  {
   "source": [
    "# Course Class by Inspection\n",
    "In the lesson, you had a brief glimpse of the following screenshot taken when \"inspecting the element\" of the DataCamp course title for the course Introduction to R:\n",
    "\n",
    "![](ElementSource.png)\n",
    "\n",
    "By looking at the source (HTML) code provided in this image, choose which of the following matches the class attribute for the h4 element containing the text for the title of the selected course."
   ],
   "cell_type": "markdown",
   "metadata": {}
  },
  {
   "source": [
    "# Requesting a Selector\n",
    "We have pre-loaded the URL for a particular website in the string variable url and use the requests library to put the content from the website into the string variable html. Your task is to create a Selector object sel using the HTML source code stored in html."
   ],
   "cell_type": "markdown",
   "metadata": {}
  },
  {
   "cell_type": "code",
   "execution_count": null,
   "metadata": {},
   "outputs": [],
   "source": [
    "# Import a scrapy Selector\n",
    "from scrapy import Selector\n",
    "\n",
    "# Import requests\n",
    "import requests\n",
    "\n",
    "# Create the string html containing the HTML source\n",
    "html = requests.get( url ).content\n",
    "\n",
    "# Create the Selector object sel from html\n",
    "sel = Selector( text=html )\n",
    "\n",
    "# Print out the number of elements in the HTML document\n",
    "print( \"There are 1020 elements in the HTML document.\")\n",
    "print( \"You have found: \", len( sel.xpath('//*') ) )"
   ]
  }
 ]
}