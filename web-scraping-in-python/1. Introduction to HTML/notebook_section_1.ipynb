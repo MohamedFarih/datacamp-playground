{
 "metadata": {
  "language_info": {
   "codemirror_mode": {
    "name": "ipython",
    "version": 3
   },
   "file_extension": ".py",
   "mimetype": "text/x-python",
   "name": "python",
   "nbconvert_exporter": "python",
   "pygments_lexer": "ipython3",
   "version": "3.7.9-final"
  },
  "orig_nbformat": 2,
  "kernelspec": {
   "name": "python3",
   "display_name": "Python 3",
   "language": "python"
  }
 },
 "nbformat": 4,
 "nbformat_minor": 2,
 "cells": [
  {
   "source": [
    "# Web-scraping is not nonsense!\n",
    "Select which of the following is not correct.\n",
    "\n",
    "A. Web scraping can be useful for looking through product reviews to gauge public opinion about a particular product.\n",
    "\n",
    "B. Web scraping can be useful for reading through social media posts between users in different areas to compare different language usage.\n",
    "\n",
    "C. Web scraping can be useful for going through online news publications to pick out articles discussing a particular topic.\n",
    "\n",
    "D. None of the above, everyone believes web scraping is nonsense!"
   ],
   "cell_type": "markdown",
   "metadata": {}
  },
  {
   "source": [
    "# HTML tree wordy navigation\n",
    "\n",
    "![](html_tree_exercise.png)\n",
    "\n",
    "Given the html tree, which of the following does not correctly navigate to the paragraph element containing \"Hello World!\"?\n",
    "\n",
    "A. The first child of the body element\n",
    "\n",
    "B. The first child of the second child of the root html element\n",
    "\n",
    "C. The first sibling of the title element\n",
    "\n",
    "D. The only sibling of the paragraph p element containing the text \"Enjoy DataCamp!\"\n",
    "\n",
    "E. The first paragraph element"
   ],
   "cell_type": "markdown",
   "metadata": {}
  },
  {
   "cell_type": "code",
   "execution_count": null,
   "metadata": {},
   "outputs": [],
   "source": [
    "html = '''\n",
    "<html>\n",
    "  <head>\n",
    "    <title>Intro HTML</title>\n",
    "  </head>\n",
    "  <body>\n",
    "    <p>Hello World!</p>\n",
    "    <p>Enjoy DataCamp!</p>\n",
    "  </body>\n",
    "</html>\n",
    "'''\n",
    "\n",
    "html"
   ]
  },
  {
   "source": [
    "# Keep it Classy\n",
    "In this two-part exercise, you will have a chance to show off what you've learned about attributes; in this case, we focus on the class attribute."
   ],
   "cell_type": "markdown",
   "metadata": {}
  },
  {
   "source": [
    "# Question\n",
    "Given the following HTML\n",
    "\n",
    "```html\n",
    "<html>\n",
    "  <head>\n",
    "    <title>Website Title</title>\n",
    "    <link rel=\"stylesheet\" type=\"text/css\" href=\"style.css\">\n",
    "  </head>\n",
    "  <body>\n",
    "    <div class=\"class1\" id=\"div1\">\n",
    "      <p class=\"class2\">\n",
    "        Visit <a href=\"http://datacamp.com/\">DataCamp</a>!\n",
    "      </p>\n",
    "    </div>\n",
    "    <div class=\"class1 class3\" id=\"div2\">\n",
    "      Hello World!\n",
    "    </div>\n",
    "  </body>\n",
    "</html>\n",
    "```\n",
    "Which elements belong to the class class1?"
   ],
   "cell_type": "markdown",
   "metadata": {}
  },
  {
   "cell_type": "code",
   "execution_count": null,
   "metadata": {},
   "outputs": [],
   "source": [
    "# HTML code string\n",
    "html = '''\n",
    "<html>\n",
    "  <body>\n",
    "    <div class=\"class1\" id=\"div1\">\n",
    "      <p class=\"class2\">Visit DataCamp!</p>\n",
    "    </div>\n",
    "    <div class=\"you-are-classy\">\n",
    "      <p class=\"class2\">Keep up the good work!</p>\n",
    "    </div>\n",
    "  </body>\n",
    "</html>\n",
    "'''\n",
    "# Print out the class of the second div element\n",
    "whats_my_class( html )"
   ]
  },
  {
   "source": [
    "# Where am I?\n",
    "In this exercise, you will navigate to a specific element using your new knowledge of XPath notation.\n",
    "\n",
    "Consider the HTML code:\n",
    "\n",
    "```html \n",
    "<html>\n",
    "  <body>\n",
    "    <div>\n",
    "      <p>Good Luck!</p>\n",
    "      <p>Not here...</p>\n",
    "    </div>\n",
    "    <div>\n",
    "      <p>Where am I?</p>\n",
    "    </div>\n",
    "  </body>\n",
    "</html>\n",
    "```\n",
    "\n",
    "Your job will be to create an XPath string using single forward-slashes and brackets which navigates to the paragraph p element which contains the text \"Where am I?\"."
   ],
   "cell_type": "markdown",
   "metadata": {}
  },
  {
   "cell_type": "code",
   "execution_count": null,
   "metadata": {},
   "outputs": [],
   "source": [
    "# Fill in the blank\n",
    "xpath = '/html/body/div[2]/p'"
   ]
  },
  {
   "source": [
    "# It's Time to P\n",
    "In the lecture, we learned how to use double forward-slashes to navigate to all future generations. In this exercise, you will select all paragraph p elements within the HTML. Because we want you to navigate to all paragraph elements, it is not important that you know what the HTML code is, since the task can be accomplished with a simple XPath string using the double forward-slash notation you have learned."
   ],
   "cell_type": "markdown",
   "metadata": {}
  },
  {
   "cell_type": "code",
   "execution_count": null,
   "metadata": {},
   "outputs": [],
   "source": [
    "# Fill in the blank\n",
    "xpath = '//p'"
   ]
  },
  {
   "source": [
    "# A classy span\n",
    "Although we haven't yet gone deep into XPath, one thing we can do is select elements by their attributes using an XPath. For example, if we want to direct to the div element within the HTML document whose id attribute is \"uid\", then we could write the XPath string '//div[@id=\"uid\"]'. The first part of this string, //div, first looks at all div elements in the HTML document. Then, using the brackets, we specify that we want only the div element with a specific id attribute (in this case uid). To note, the phrase @id=\"uid\" in the brackets would be read as \"attribute id equals uid\".\n",
    "\n",
    "In this exercise, you will select all span elements whose class attribute equals \"span-class\". (Note: span is just another possible tag-name)."
   ],
   "cell_type": "markdown",
   "metadata": {}
  },
  {
   "cell_type": "code",
   "execution_count": null,
   "metadata": {},
   "outputs": [],
   "source": [
    "# Fill in the blank\n",
    "xpath = '//span[@class=\\\"span-class\\\"]'"
   ]
  }
 ]
}