{
 "metadata": {
  "language_info": {
   "codemirror_mode": {
    "name": "ipython",
    "version": 3
   },
   "file_extension": ".py",
   "mimetype": "text/x-python",
   "name": "python",
   "nbconvert_exporter": "python",
   "pygments_lexer": "ipython3",
   "version": "3.7.9"
  },
  "orig_nbformat": 2,
  "kernelspec": {
   "name": "python3",
   "display_name": "Python 3.7.9 64-bit",
   "metadata": {
    "interpreter": {
     "hash": "beb6f077b0a50b1f641155dede90312e42f957c2e4f193eba21980585e31aa2e"
    }
   }
  }
 },
 "nbformat": 4,
 "nbformat_minor": 2,
 "cells": [
  {
   "source": [
    "# Working with GeoJSON\n",
    "The advantage of GeoJSON over shapefiles is:\n",
    "- The file is human readable, so you can open it in a text editor and understand the contents\n",
    "- The file stands alone and doesn't rely on other files\n",
    "- GeoJSON supports multi-part geometries"
   ],
   "cell_type": "markdown",
   "metadata": {}
  },
  {
   "source": [
    "# Colormaps\n",
    "When you want to differentiate regions, but not imply any type of relationship between the regions, a qualitative colormap is the best choice. In this exercise you'll compare a qualitative colormap to a sequential (quantitative) colormap using the school districts GeoDataFrame. It is available in your workspace as school_districts."
   ],
   "cell_type": "markdown",
   "metadata": {}
  },
  {
   "cell_type": "code",
   "execution_count": 3,
   "metadata": {},
   "outputs": [],
   "source": [
    "import geopandas as gpd \n",
    "\n",
    "school_districts = gpd.read_file('../datasets/school_districts.geojson')"
   ]
  },
  {
   "cell_type": "code",
   "execution_count": null,
   "metadata": {},
   "outputs": [],
   "source": [
    "import matplotlib.pyplot as plt\n",
    "# Set legend style\n",
    "lgnd_kwds = {'title': 'School Districts',\n",
    "               'loc': 'upper left', 'bbox_to_anchor': (1, 1.03), 'ncol': 1}\n",
    "\n",
    "# Plot the school districts using the tab20 colormap (qualitative)\n",
    "school_districts.plot(column='district', cmap = 'tab20', legend = True, legend_kwds = lgnd_kwds)\n",
    "plt.xlabel('Latitude')\n",
    "plt.ylabel('Longitude')\n",
    "plt.title('Nashville School Districts')\n",
    "plt.show()"
   ]
  },
  {
   "cell_type": "code",
   "execution_count": null,
   "metadata": {},
   "outputs": [],
   "source": []
  }
 ]
}