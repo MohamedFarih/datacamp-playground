{
 "metadata": {
  "language_info": {
   "codemirror_mode": {
    "name": "ipython",
    "version": 3
   },
   "file_extension": ".py",
   "mimetype": "text/x-python",
   "name": "python",
   "nbconvert_exporter": "python",
   "pygments_lexer": "ipython3",
   "version": 3
  },
  "orig_nbformat": 2
 },
 "nbformat": 4,
 "nbformat_minor": 2,
 "cells": [
  {
   "source": [
    "# Plotting a scatterplot from longitude and latitude\n",
    "When using latitude and longitude to create a scatterplot, which value is plotted along the horizontal axis (as x)?\n",
    "\n",
    "Possible answer: Longitude is plotted as x on the horizontal axis."
   ],
   "cell_type": "markdown",
   "metadata": {}
  },
  {
   "source": [
    "# Styling a scatterplot\n",
    "In this exercise, you'll be using plt.scatter() to plot the father and son height data from the video. The father_son DataFrame is available in your workspace. In each scatterplot, plot father_son.fheight as x-axis and father_son.sheight as y-axis."
   ],
   "cell_type": "markdown",
   "metadata": {}
  },
  {
   "cell_type": "code",
   "execution_count": null,
   "metadata": {},
   "outputs": [],
   "source": [
    "import pandas as pd \n"
   ]
  },
  {
   "cell_type": "code",
   "execution_count": null,
   "metadata": {},
   "outputs": [],
   "source": [
    "# Import matplotlib.pyplot\n",
    "import matplotlib.pyplot as plt\n",
    "\n",
    "# Scatterplot 1 - father heights vs son heights with darkred square markers\n",
    "plt.scatter(father_son.fheight, father_son.sheight, c = 'darkred', marker = 's')\n",
    "\n",
    "# Show your plot\n",
    "plt.show()"
   ]
  }
 ]
}