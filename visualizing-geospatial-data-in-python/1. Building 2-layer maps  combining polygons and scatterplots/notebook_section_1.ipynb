{
 "metadata": {
  "language_info": {
   "codemirror_mode": {
    "name": "ipython",
    "version": 3
   },
   "file_extension": ".py",
   "mimetype": "text/x-python",
   "name": "python",
   "nbconvert_exporter": "python",
   "pygments_lexer": "ipython3",
   "version": "3.8.5-final"
  },
  "orig_nbformat": 2,
  "kernelspec": {
   "name": "python3",
   "display_name": "Python 3",
   "language": "python"
  }
 },
 "nbformat": 4,
 "nbformat_minor": 2,
 "cells": [
  {
   "source": [
    "# Plotting a scatterplot from longitude and latitude\n",
    "When using latitude and longitude to create a scatterplot, which value is plotted along the horizontal axis (as x)?\n",
    "\n",
    "Possible answer: Longitude is plotted as x on the horizontal axis."
   ],
   "cell_type": "markdown",
   "metadata": {}
  },
  {
   "source": [
    "# Styling a scatterplot\n",
    "In this exercise, you'll be using plt.scatter() to plot the father and son height data from the video. The father_son DataFrame is available in your workspace. In each scatterplot, plot father_son.fheight as x-axis and father_son.sheight as y-axis."
   ],
   "cell_type": "markdown",
   "metadata": {}
  },
  {
   "cell_type": "code",
   "execution_count": null,
   "metadata": {},
   "outputs": [],
   "source": [
    "import pandas as pd\n",
    "father_son = pd.read_csv('../datasets/father_son.csv')\n"
   ]
  },
  {
   "cell_type": "code",
   "execution_count": null,
   "metadata": {},
   "outputs": [],
   "source": [
    "# Import matplotlib.pyplot\n",
    "import matplotlib.pyplot as plt\n",
    "\n",
    "# Scatterplot 1 - father heights vs son heights with darkred square markers\n",
    "plt.scatter(father_son.fheight, father_son.sheight, c = 'darkred', marker = 's')\n",
    "\n",
    "# Show your plot\n",
    "plt.show()"
   ]
  },
  {
   "cell_type": "code",
   "execution_count": null,
   "metadata": {},
   "outputs": [],
   "source": [
    "# Import matplotlib.pyplot\n",
    "import matplotlib.pyplot as plt\n",
    "\n",
    "# Scatterplot 2 - yellow markers with darkblue borders\n",
    "plt.scatter(father_son.fheight, father_son.sheight, c = 'yellow', edgecolor= 'darkblue')\n",
    "\n",
    "# Show the plot\n",
    "plt.show()"
   ]
  },
  {
   "cell_type": "code",
   "execution_count": null,
   "metadata": {},
   "outputs": [],
   "source": [
    "# Import matplotlib.pyplot\n",
    "import matplotlib.pyplot as plt\n",
    "\n",
    "# Scatterplot 3\n",
    "plt.scatter(father_son.fheight, father_son.sheight,  c = 'yellow', edgecolor = 'darkblue')\n",
    "plt.grid();\n",
    "plt.xlabel('father height (inches)');\n",
    "plt.ylabel('son height (inches)');\n",
    "plt.title('Son Height as a Function of Father Height')\n",
    "\n",
    "# Show your plot\n",
    "plt.show()"
   ]
  },
  {
   "source": [
    "# Extracting longitude and latitude\n",
    "A DataFrame named df has been loaded to your workspace. Complete the code to extract longitude and latitude to new, separate columns."
   ],
   "cell_type": "markdown",
   "metadata": {}
  },
  {
   "cell_type": "code",
   "execution_count": null,
   "metadata": {},
   "outputs": [],
   "source": [
    "df = pd.read_csv('../datasets/df.csv')"
   ]
  },
  {
   "cell_type": "code",
   "execution_count": null,
   "metadata": {},
   "outputs": [],
   "source": [
    "# print the first few rows of df \n",
    "print(df.head())\n",
    "\n",
    "# extract latitude to a new column: lat\n",
    "df['lat'] = [loc[0] for loc in df.Location]\n",
    "\n",
    "# extract longitude to a new column: lng\n",
    "df['lng'] = [loc[1] for loc in df.Location]\n",
    "\n",
    "# print the first few rows of df again\n",
    "print(df.head())"
   ]
  },
  {
   "source": [
    "# Plotting chicken locations\n",
    "Now you will create a scatterplot that shows where the Nashville chickens are!"
   ],
   "cell_type": "markdown",
   "metadata": {}
  },
  {
   "cell_type": "code",
   "execution_count": null,
   "metadata": {},
   "outputs": [],
   "source": [
    "# Import pandas and matplotlib.pyplot using their customary aliases\n",
    "import pandas as pd\n",
    "import matplotlib.pyplot as plt\n",
    "\n",
    "chickens_path = '../datasets/chickens_data.csv'\n",
    "\n",
    "# Load the dataset\n",
    "chickens = pd.read_csv(chickens_path)\n",
    "\n",
    "# Look at the first few rows of the chickens DataFrame\n",
    "print(chickens.head())\n",
    "\n",
    "# Plot the locations of all Nashville chicken permits\n",
    "plt.scatter(x = chickens.lng, y = chickens.lat)\n",
    "\n",
    "# Show the plot\n",
    "plt.show()"
   ]
  },
  {
   "source": [
    "# Creating a GeoDataFrame & examining the geometry\n",
    "Let's see where service districts are in Nashville. The path to the service district shapefile has been stored in the variable shapefile_path."
   ],
   "cell_type": "markdown",
   "metadata": {}
  },
  {
   "cell_type": "code",
   "execution_count": null,
   "metadata": {},
   "outputs": [],
   "source": [
    "# Import geopandas\n",
    "import geopandas as gpd \n",
    "\n",
    "shapefile_path = '../datasets/ServiceDistricts.shp'\n",
    "\n",
    "# Read in the services district shapefile and look at the first few rows.\n",
    "service_district = gpd.read_file(shapefile_path)\n",
    "print(service_district.head())\n",
    "\n",
    "# Print the contents of the service districts geometry in the first row\n",
    "# print(service_district.loc[0, 'geometry'])"
   ]
  },
  {
   "source": [
    "# Plotting shapefile polygons\n",
    "The next step is to show the map of polygons. We have imported matplotlib.pyplot as plt and geopandas as gpd, A GeoDataFrame of the service districts called service_district is in your workspace."
   ],
   "cell_type": "markdown",
   "metadata": {}
  },
  {
   "cell_type": "code",
   "execution_count": null,
   "metadata": {},
   "outputs": [],
   "source": [
    "# Import packages\n",
    "import geopandas as gpd\n",
    "import matplotlib.pyplot as plt"
   ]
  },
  {
   "cell_type": "code",
   "execution_count": null,
   "metadata": {},
   "outputs": [],
   "source": [
    "# Plot the Service Districts without any additional arguments\n",
    "service_district.plot()\n",
    "plt.show()"
   ]
  },
  {
   "source": [
    "# Plot the Service Districts, color them according to name, and show a legend\n",
    "service_district.plot(column='Name', legend=True)\n",
    "plt.show()"
   ],
   "cell_type": "code",
   "metadata": {},
   "execution_count": null,
   "outputs": []
  },
  {
   "source": [
    "# Geometry\n",
    "Geometry is a special type of data structure. What types of geometries might be stored in a geometry field?\n",
    "\n",
    "Possible Answer: lines, points, and polygons"
   ],
   "cell_type": "markdown",
   "metadata": {}
  },
  {
   "source": [
    "# Plotting points over polygons - part 1\n",
    "Make a basic plot of the service districts with the chicken locations. The packages needed have already been imported for you. The chickens DataFrame and service_district GeoDataFrame are in your workspace."
   ],
   "cell_type": "markdown",
   "metadata": {}
  },
  {
   "cell_type": "code",
   "execution_count": null,
   "metadata": {},
   "outputs": [],
   "source": [
    "# Plot the service district shapefile\n",
    "service_district.plot(column='Name')\n",
    "\n",
    "# Add the chicken locations\n",
    "plt.scatter(x=chickens.lng, y=chickens.lat, c = 'black')\n",
    "\n",
    "# Show the plot\n",
    "plt.show()"
   ]
  },
  {
   "cell_type": "code",
   "execution_count": null,
   "metadata": {},
   "outputs": [],
   "source": []
  },
  {
   "source": [
    "# Plotting points over polygons - part 2\n",
    "We have loaded the usual libraries as pd, plt, and gpd, the chickens dataset as chickens, and the service districts as service_district. Plot the service districts and chicken permits together to see what story your visualization tells."
   ],
   "cell_type": "markdown",
   "metadata": {}
  },
  {
   "cell_type": "code",
   "execution_count": null,
   "metadata": {},
   "outputs": [],
   "source": [
    "# Plot the service district shapefile\n",
    "service_district.plot(column='Name', legend=True)\n",
    "\n",
    "# Add the chicken locations\n",
    "plt.scatter(x=chickens.lng, y=chickens.lat, c = 'black', edgecolor='white')\n",
    "\n",
    "# Add labels and title\n",
    "plt.title('Nashville Chicken Permits')\n",
    "plt.xlabel('longitude')\n",
    "plt.ylabel('latitude')\n",
    "\n",
    "# Add grid lines and show the plot\n",
    "plt.grid(True)\n",
    "plt.show()"
   ]
  },
  {
   "cell_type": "code",
   "execution_count": null,
   "metadata": {},
   "outputs": [],
   "source": []
  }
 ]
}