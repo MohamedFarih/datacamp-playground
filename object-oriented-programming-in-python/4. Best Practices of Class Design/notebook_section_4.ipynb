{
 "metadata": {
  "language_info": {
   "codemirror_mode": {
    "name": "ipython",
    "version": 3
   },
   "file_extension": ".py",
   "mimetype": "text/x-python",
   "name": "python",
   "nbconvert_exporter": "python",
   "pygments_lexer": "ipython3",
   "version": 3
  },
  "orig_nbformat": 2
 },
 "nbformat": 4,
 "nbformat_minor": 2,
 "cells": [
  {
   "source": [
    "# Square and rectangle\n",
    "The classic example of a problem that violates the Liskov Substitution Principle is the Circle-Ellipse problem, sometimes called the Square-Rectangle problem.\n",
    "\n",
    "By all means, it seems like you should be able to define a class Rectangle, with attributes h and w (for height and width), and then define a class Square that inherits from the Rectangle. After all, a square \"is-a\" rectangle!\n",
    "\n",
    "Unfortunately, this intuition doesn't apply to object-oriented design."
   ],
   "cell_type": "markdown",
   "metadata": {}
  },
  {
   "cell_type": "code",
   "execution_count": null,
   "metadata": {},
   "outputs": [],
   "source": [
    "# Define a Rectangle class\n",
    "\n",
    "\n",
    "class Rectangle:\n",
    "\n",
    "    def __init__(self, h, w):\n",
    "        self.h = h\n",
    "        self.w = w\n",
    "\n",
    "# Define a Square class\n",
    "\n",
    "\n",
    "class Square(Rectangle):\n",
    "\n",
    "    def __init__(self, w):\n",
    "\n",
    "        Rectangle.__init__(self, w, w)"
   ]
  },
  {
   "cell_type": "code",
   "execution_count": null,
   "metadata": {},
   "outputs": [],
   "source": [
    "class Rectangle:\n",
    "    def __init__(self, w,h):\n",
    "      self.w, self.h = w,h\n",
    "\n",
    "# Define set_h to set h\n",
    "    def set_h(self, h):\n",
    "        self.h = h\n",
    "      \n",
    "# Define set_w to set w\n",
    "    def set_w(self, w):\n",
    "        self.w = w\n",
    "      \n",
    "      \n",
    "class Square(Rectangle):\n",
    "    def __init__(self, w):\n",
    "      self.w, self.h = w, w \n",
    "\n",
    "# Define set_h to set w and h\n",
    "    def set_h(self, h):\n",
    "      self.h = h\n",
    "      self.w = h\n",
    "\n",
    "# Define set_w to set w and h\n",
    "    def set_w(self, w):\n",
    "        self.w = w\n",
    "        self.h = w\n",
    "      "
   ]
  },
  {
   "source": [
    "# Using internal attibutes\n",
    "In this exercise, you'll return to the BetterDate class of Chapter 2. Your date class is better because it will use the sensible convention of having exactly 30 days in each month.\n",
    "\n",
    "You decide to add a method that checks the validity of the date, but you don't want to make it a part of BetterDate public interface.\n",
    "\n",
    "The class BetterDate is available in the script pane."
   ],
   "cell_type": "markdown",
   "metadata": {}
  },
  {
   "cell_type": "code",
   "execution_count": null,
   "metadata": {},
   "outputs": [],
   "source": [
    "# MODIFY to add class attributes for max number of days and months\n",
    "class BetterDate:\n",
    "  \n",
    "    _MAX_DAYS = 30\n",
    "    _MAX_MONTHS = 12\n",
    "    \n",
    "    def __init__(self, year, month, day):\n",
    "      self.year, self.month, self.day = year, month, day\n",
    "      \n",
    "    @classmethod\n",
    "    def from_str(cls, datestr):\n",
    "        year, month, day = map(int, datestr.split(\"-\"))\n",
    "        return cls(year, month, day)\n",
    "    \n",
    "    # Add _is_valid() checking day and month values\n",
    "    def _is_valid(self):\n",
    "        return self.month <= BetterDate._MAX_MONTHS and self.day <= BetterDate._MAX_DAYS\n",
    "         \n",
    "bd1 = BetterDate(2020, 4, 30)\n",
    "print(bd1._is_valid())\n",
    "\n",
    "bd2 = BetterDate(2020, 6, 45)\n",
    "print(bd2._is_valid())"
   ]
  },
  {
   "source": [
    "# Create and set properties\n",
    "There are two parts to defining a property:\n",
    "\n",
    "first, define an \"internal\" attribute that will contain the data;\n",
    "then, define a @property-decorated method whose name is the property name, and that returns the internal attribute storing the data.\n",
    "If you'd also like to define a custom setter method, there's an additional step:\n",
    "\n",
    "define another method whose name is exactly the property name (again), and decorate it with @prop_name.setter where prop_name is the name of the property. The method should take two arguments -- self (as always), and the value that's being assigned to the property.\n",
    "In this exercise, you'll create a balance property for a Customer class - a better, more controlled version of the balance attribute that you worked with before."
   ],
   "cell_type": "markdown",
   "metadata": {}
  },
  {
   "cell_type": "code",
   "execution_count": null,
   "metadata": {},
   "outputs": [],
   "source": [
    "# Create a Customer class\n",
    "class Customer:\n",
    "\n",
    "    def __init__(self, name, new_bal):\n",
    "        self.name = name\n",
    "        if new_bal < 0:\n",
    "            raise ValueError\n",
    "        else:\n",
    "            self._balance = new_bal"
   ]
  },
  {
   "cell_type": "code",
   "execution_count": null,
   "metadata": {},
   "outputs": [],
   "source": [
    "class Customer:\n",
    "    def __init__(self, name, new_bal):\n",
    "        self.name = name\n",
    "        if new_bal < 0:\n",
    "           raise ValueError(\"Invalid balance!\")\n",
    "        self._balance = new_bal  \n",
    "    \n",
    "    # Add a decorated balance() method returning _balance\n",
    "    @property\n",
    "    def balance(self):\n",
    "        return self._balance"
   ]
  },
  {
   "cell_type": "code",
   "execution_count": null,
   "metadata": {},
   "outputs": [],
   "source": [
    "class Customer:\n",
    "    def __init__(self, name, new_bal):\n",
    "        self.name = name\n",
    "        if new_bal < 0:\n",
    "           raise ValueError(\"Invalid balance!\")\n",
    "        self._balance = new_bal  \n",
    "\n",
    "    # Add a decorated balance() method returning _balance        \n",
    "    @property\n",
    "    def balance(self):\n",
    "        return self._balance\n",
    "     \n",
    "    # Add a setter balance() method\n",
    "    @balance.setter\n",
    "    def balance(self, new_balance):\n",
    "        # Validate the parameter value\n",
    "        if new_balance < 0:\n",
    "            raise ValueError\n",
    "        else:\n",
    "            self._balance = new_balance\n",
    "\n",
    "        # Print \"Setter method is called\"\n",
    "        print(\"Setter method is called\")"
   ]
  },
  {
   "cell_type": "code",
   "execution_count": null,
   "metadata": {},
   "outputs": [],
   "source": [
    "class Customer:\n",
    "    def __init__(self, name, new_bal):\n",
    "        self.name = name\n",
    "        if new_bal < 0:\n",
    "           raise ValueError(\"Invalid balance!\")\n",
    "        self._balance = new_bal  \n",
    "\n",
    "    # Add a decorated balance() method returning _balance        \n",
    "    @property\n",
    "    def balance(self):\n",
    "        return self._balance\n",
    "\n",
    "    # Add a setter balance() method\n",
    "    @balance.setter\n",
    "    def balance(self, new_bal):\n",
    "        # Validate the parameter value\n",
    "        if new_bal < 0:\n",
    "           raise ValueError(\"Invalid balance!\")\n",
    "        self._balance = new_bal\n",
    "        print(\"Setter method called\")\n",
    "\n",
    "# Create a Customer\n",
    "cust = Customer(\"Belinda Lutz\", 2000)\n",
    "\n",
    "# Assign 3000 to the balance property\n",
    "cust.balance = 3000\n",
    "\n",
    "# Print the balance property\n",
    "print(cust.balance)"
   ]
  },
  {
   "source": [
    "# Read-only properties\n",
    "The LoggedDF class from Chapter 2 was an extension of the pandas DataFrame class that had an additional created_at attribute that stored the timestamp when the DataFrame was created, so that the user could see how out-of-date the data is.\n",
    "\n",
    "But that class wasn't very useful: we could just assign any value to created_at after the DataFrame was created, thus defeating the whole point of the attribute! Now, using properties, we can make the attribute read-only.\n",
    "\n",
    "The LoggedDF class from Chapter 2 is available for you in the script pane."
   ],
   "cell_type": "markdown",
   "metadata": {}
  },
  {
   "cell_type": "code",
   "execution_count": null,
   "metadata": {},
   "outputs": [],
   "source": []
  }
 ]
}