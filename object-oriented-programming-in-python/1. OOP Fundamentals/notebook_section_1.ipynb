{
 "metadata": {
  "language_info": {
   "codemirror_mode": {
    "name": "ipython",
    "version": 3
   },
   "file_extension": ".py",
   "mimetype": "text/x-python",
   "name": "python",
   "nbconvert_exporter": "python",
   "pygments_lexer": "ipython3",
   "version": 3
  },
  "orig_nbformat": 2
 },
 "nbformat": 4,
 "nbformat_minor": 2,
 "cells": [
  {
   "source": [
    "# Exploring object interface\n",
    "The best way to learn how to write object-oriented code is to study the design of existing classes. You've already learned about exploration tools like type() and dir().\n",
    "\n",
    "Another important function is help(): calling help(x) in the console will show the documentation for the object or class x.\n",
    "\n",
    "Most real world classes have many methods and attributes, and it is easy to get lost, so in this exercise, you will start with something simpler. We have defined a class, and created an object of that class called mystery. Explore the object in the console using the tools that you learned."
   ],
   "cell_type": "markdown",
   "metadata": {}
  },
  {
   "cell_type": "code",
   "execution_count": null,
   "metadata": {},
   "outputs": [],
   "source": [
    "# Print the mystery employee's name\n",
    "print(mystery.name)\n",
    "\n",
    "# Print the mystery employee's salary\n",
    "print(mystery.salary)"
   ]
  },
  {
   "cell_type": "code",
   "execution_count": null,
   "metadata": {},
   "outputs": [],
   "source": [
    "# Print the mystery employee's name\n",
    "print(mystery.name)\n",
    "\n",
    "# Print the mystery employee's salary\n",
    "print(mystery.salary)\n",
    "\n",
    "# Give the mystery employee a raise of $2500\n",
    "# print(help(mystery))\n",
    "mystery.give_raise(2500)\n",
    "\n",
    "# Print the salary again\n",
    "print(mystery.salary)\n",
    "\n",
    "'''\n",
    "Help on Employee in module __main__ object:\n",
    "\n",
    "class Employee(builtins.object)\n",
    " |  Class representing a company employee.\n",
    " |  \n",
    " |  Attributes\n",
    " |   ----------\n",
    " |   name : str \n",
    " |       Employee's name        \n",
    " |   email : str, default None\n",
    " |       Employee's email\n",
    " |   salary : float, default None\n",
    " |       Employee's salary\n",
    " |   rank : int, default 5\n",
    " |       The rank of the employee in the company hierarchy (1 -- CEO, 2 -- direct reports of CEO, 3 -- direct reports of direct reports of CEO etc). Cannot be None if the employee is current.\n",
    " |  \n",
    " |  Methods defined here:\n",
    " |  \n",
    " |  __init__(self, name, email=None, salary=None, rank=5)\n",
    " |      Create an Employee object\n",
    " |  \n",
    " |  give_raise(self, amount)\n",
    " |      Raise employee's salary by a certain `amount`. Can only be used with current employees.\n",
    " |      \n",
    " |      Example usage:\n",
    " |        # emp is an Employee object\n",
    " |        emp.give_raise(1000)\n",
    " |  \n",
    " |  promote(self)\n",
    " |      Promote an employee to the next level of the company hierarchy. Decreases the rank of the employee by 1. Can only be used on current employeed who are not at the top of the hierarchy.\n",
    " |      \n",
    " |      Example usage:\n",
    " |          # emp is an Employee object\n",
    " |          emp.promote()\n",
    " |  \n",
    " |  terminate(self)\n",
    " |      Terminate the employee. Sets salary and rank to None..\n",
    " |      \n",
    " |      Example usage:\n",
    " |         # emp is an Employee object\n",
    " |         emp.terminate()\n",
    " |  \n",
    " |  ----------------------------------------------------------------------\n",
    " |  Data descriptors defined here:\n",
    " |  \n",
    " |  __dict__\n",
    " |      dictionary for instance variables (if defined)\n",
    " |  \n",
    " |  __weakref__\n",
    " |      list of weak references to the object (if defined)\n",
    "'''"
   ]
  },
  {
   "source": [
    "# Create your first class\n",
    "Time to write your first class! In this exercise, you'll start building the Employee class you briefly explored in the previous lesson. You'll start by creating methods that set attributes, and then add a few methods that manipulate them.\n",
    "\n",
    "As mentioned in the first video, an object-oriented approach is most useful when your code involves complex interactions of many objects. In real production code, classes can have dozens of attributes and methods with complicated logic, but the underlying structure is the same as with the most simple class.\n",
    "\n",
    "Your classes in this course will only have a few attributes and short methods, but the organizational principles behind the them will be directly translatable to more complicated code."
   ],
   "cell_type": "markdown",
   "metadata": {}
  },
  {
   "cell_type": "code",
   "execution_count": null,
   "metadata": {},
   "outputs": [],
   "source": [
    "# Create an empty class Employee\n",
    "class Employee:\n",
    "    pass\n",
    "\n",
    "\n",
    "# Create an object emp of class Employee \n",
    "emp = Employee()\n"
   ]
  },
  {
   "source": [
    "# Using attributes in class definition\n",
    "In the previous exercise, you defined an Employee class with two attributes and two methods setting those attributes. This kind of method, aptly called a setter method, is far from the only possible kind. Methods are functions, so anything you can do with a function, you can also do with a method. For example, you can use methods to print, return values, make plots, and raise exceptions, as long as it makes sense as the behavior of the objects described by the class (an Employee probably wouldn't have a pivot_table() method).\n",
    "\n",
    "In this exercise, you'll go beyond the setter methods and learn how to use existing class attributes to define new methods. The Employee class and the emp object from the previous exercise are in your script pane."
   ],
   "cell_type": "markdown",
   "metadata": {}
  },
  {
   "cell_type": "code",
   "execution_count": null,
   "metadata": {},
   "outputs": [],
   "source": [
    "class Employee:\n",
    "    def set_name(self, new_name):\n",
    "        self.name = new_name\n",
    "\n",
    "    def set_salary(self, new_salary):\n",
    "        self.salary = new_salary \n",
    "  \n",
    "emp = Employee()\n",
    "emp.set_name('Korel Rossi')\n",
    "emp.set_salary(50000)\n",
    "\n",
    "# Print the salary attribute of emp\n",
    "print(emp.salary)\n",
    "\n",
    "# Increase salary of emp by 1500\n",
    "emp.salary = emp.salary + 1500\n",
    "\n",
    "# Print the salary attribute of emp again\n",
    "print(emp.salary)"
   ]
  },
  {
   "source": [
    "# Add a class constructor\n",
    "In this exercise, you'll continue working on the Employee class. Instead of using the methods like set_salary() that you wrote in the previous lesson, you will introduce a constructor that assigns name and salary to the employee at the moment when the object is created.\n",
    "\n",
    "You'll also create a new attribute -- hire_date -- which will not be initialized through parameters, but instead will contain the current date.\n",
    "\n",
    "Initializing attributes in the constructor is a good idea, because this ensures that the object has all the necessary attributes the moment it is created."
   ],
   "cell_type": "markdown",
   "metadata": {}
  },
  {
   "cell_type": "code",
   "execution_count": null,
   "metadata": {},
   "outputs": [],
   "source": [
    "class Employee:\n",
    "    # Create __init__() method\n",
    "    def __init__(self, name, salary=0):\n",
    "        # Create the name and salary attributes\n",
    "        self.name = name\n",
    "        self.salary = salary\n",
    "    \n",
    "    # From the previous lesson\n",
    "    def give_raise(self, amount):\n",
    "        self.salary += amount\n",
    "\n",
    "    def monthly_salary(self):\n",
    "        return self.salary/12\n",
    "        \n",
    "emp = Employee(\"Korel Rossi\")\n",
    "print(emp.name)\n",
    "print(emp.salary)     "
   ]
  },
  {
   "cell_type": "code",
   "execution_count": null,
   "metadata": {},
   "outputs": [],
   "source": [
    "class Employee:\n",
    "  \n",
    "    def __init__(self, name, salary=0):\n",
    "        self.name = name\n",
    "        # Modify code below to check if salary is positive\n",
    "        self.salary = salary \n",
    "   \n",
    "   # ...Other methods omitted for brevity ...\n",
    "        if salary >= 0:\n",
    "            self.salary = salary\n",
    "        else:\n",
    "            self.salary = 0\n",
    "            print(\"Invalid salary!\")\n",
    "      \n",
    "emp = Employee(\"Korel Rossi\", -1000)\n",
    "print(emp.name)\n",
    "print(emp.salary)"
   ]
  },
  {
   "cell_type": "code",
   "execution_count": null,
   "metadata": {},
   "outputs": [],
   "source": [
    "# Import datetime from datetime\n",
    "from datetime import datetime\n",
    "\n",
    "class Employee:\n",
    "    \n",
    "    def __init__(self, name, salary=0):\n",
    "        self.name = name\n",
    "        if salary > 0:\n",
    "          self.salary = salary\n",
    "        else:\n",
    "          self.salary = 0\n",
    "          print(\"Invalid salary!\")\n",
    "          \n",
    "        # Add the hire_date attribute and set it to today's date\n",
    "        self.hire_date = datetime.today()\n",
    "        \n",
    "   # ...Other methods omitted for brevity ...\n",
    "      \n",
    "emp = Employee(\"Korel Rossi\", -1000)\n",
    "print(emp.name)\n",
    "print(emp.salary)"
   ]
  },
  {
   "source": [
    "# Write a class from scratch\n",
    "You are a Python developer writing a visualization package. For any element in a visualization, you want to be able to tell the position of the element, how far it is from other elements, and easily implement horizontal or vertical flip .\n",
    "\n",
    "The most basic element of any visualization is a single point. In this exercise, you'll write a class for a point on a plane from scratch."
   ],
   "cell_type": "markdown",
   "metadata": {}
  },
  {
   "cell_type": "code",
   "execution_count": null,
   "metadata": {},
   "outputs": [],
   "source": [
    "# Write the class Point as outlined in the instructions\n",
    "import math\n",
    "\n",
    "\n",
    "class Point:\n",
    "\n",
    "    # Constrctor to define the attributes\n",
    "    def __init__(self, x=0, y=0):\n",
    "        self.x = x\n",
    "        self.y = y\n",
    "\n",
    "    def distance_to_origin(self):\n",
    "        return math.sqrt(self.x**2 + self.y**2)\n",
    "\n",
    "    def reflect(self, axis):\n",
    "\n",
    "        if axis == \"x\":\n",
    "            self.y = - self.y\n",
    "        elif axis == \"y\":\n",
    "            self.x = - self.x\n",
    "        else:\n",
    "            print(\"Invalid input, please input x or y\")\n",
    "\n",
    "\n",
    "pt = Point(x=3.0)\n",
    "pt.reflect(\"y\")\n",
    "print((pt.x, pt.y))\n",
    "pt.y = 4.0\n",
    "print(pt.distance_to_origin())\n"
   ]
  },
  {
   "cell_type": "code",
   "execution_count": null,
   "metadata": {},
   "outputs": [],
   "source": []
  }
 ]
}