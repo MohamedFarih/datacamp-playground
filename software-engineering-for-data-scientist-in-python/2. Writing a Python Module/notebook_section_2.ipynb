{
 "metadata": {
  "language_info": {
   "codemirror_mode": {
    "name": "ipython",
    "version": 3
   },
   "file_extension": ".py",
   "mimetype": "text/x-python",
   "name": "python",
   "nbconvert_exporter": "python",
   "pygments_lexer": "ipython3",
   "version": "3.7.9-final"
  },
  "orig_nbformat": 2,
  "kernelspec": {
   "name": "python3",
   "display_name": "Python 3",
   "language": "python"
  }
 },
 "nbformat": 4,
 "nbformat_minor": 2,
 "cells": [
  {
   "source": [
    "# Minimal package requirements\n",
    "What are the minimal requirements to make an import-able python package?\n",
    "\n",
    "A directory with a blank file named __init__.py"
   ],
   "cell_type": "markdown",
   "metadata": {}
  },
  {
   "source": [
    "# Naming packages\n",
    "We covered the PEP 8 guidelines for naming packages. In this exercise, you'll use that knowledge to identify a package following the requirements.\n",
    "\n",
    "For additional reference, you can view the PEP 8 section on package naming here"
   ],
   "cell_type": "markdown",
   "metadata": {}
  },
  {
   "cell_type": "code",
   "execution_count": null,
   "metadata": {},
   "outputs": [],
   "source": [
    "# Import the package with a name that follows PEP 8\n",
    "import text_analyzer\n"
   ]
  },
  {
   "source": [
    "# Recognizing packages\n",
    "The structure of your directory tree is printed below. You'll be working in the file my_script.py that you can see in the tree.\n",
    "```\n",
    "recognizing_packages\n",
    "├── MY_PACKAGE\n",
    "│&nbsp;&nbsp; └── _init_.py\n",
    "├── package\n",
    "│&nbsp;&nbsp; └── __init__.py\n",
    "├── package_py\n",
    "│&nbsp;&nbsp; └── __init__\n",
    "│&nbsp;&nbsp;     └── __init__.py\n",
    "├── py_package\n",
    "│&nbsp;&nbsp; └── __init__.py\n",
    "├── pyackage\n",
    "│&nbsp;&nbsp; └── init.py\n",
    "└── my_script.py\n",
    "```"
   ],
   "cell_type": "markdown",
   "metadata": {}
  },
  {
   "cell_type": "code",
   "execution_count": null,
   "metadata": {},
   "outputs": [],
   "source": [
    "# Import local packages\n",
    "import package\n",
    "import py_package\n",
    "\n",
    "# View the help for each package\n",
    "help(package)\n",
    "help(py_package)"
   ]
  },
  {
   "source": [
    "# Adding functionality to your package\n",
    "Thanks to your work before, you already have a skeleton for your python package. In this exercise, you will work to define the functions needed for a text analysis of word usage.\n",
    "\n",
    "In the file counter_utils.py, you will write 2 functions to be a part of your package: plot_counter and sum_counters. The structure of your package can be seen in the tree below. For the coding portions of this exercise, you will be working in the file counter_utils.py.\n",
    "```\n",
    "text_analyzer\n",
    "├── __init__.py\n",
    "└── counter_utils.py\n",
    "```"
   ],
   "cell_type": "markdown",
   "metadata": {}
  },
  {
   "source": [
    "# Using your package's new functionality\n",
    "You've now created some great functionality for text analysis to your package. In this exercise, you'll leverage your package to analyze some tweets written by DataCamp & DataCamp users.\n",
    "\n",
    "The object word_counts is loaded into your environment. It contains a list of Counter objects that contain word counts from a sample of DataCamp tweets.\n",
    "\n",
    "The structure you've created can be seen in the tree below. You'll be working in my_script.py.\n",
    "```\n",
    "working_dir\n",
    "├── text_analyzer\n",
    "│    ├── __init__.py\n",
    "│    ├── counter_utils.py\n",
    "└── my_script.py\n",
    "```"
   ],
   "cell_type": "markdown",
   "metadata": {}
  },
  {
   "cell_type": "code",
   "execution_count": null,
   "metadata": {},
   "outputs": [],
   "source": [
    "# Import local package\n",
    "import text_analyzer\n",
    "\n",
    "# Sum word_counts using sum_counters from text_analyzer\n",
    "word_count_totals = text_analyzer.sum_counters(word_counts)\n",
    "\n",
    "# Plot word_count_totals using plot_counter from text_analyzer\n",
    "text_analyzer.plot_counter(word_count_totals)"
   ]
  },
  {
   "source": [
    "# Writing requirements.txt\n",
    "We covered how having a requirements.txt file can help your package be more portable by allowing your users to easily recreate its intended environment. In this exercise, you will be writing the contents of a requirements file to a python variable.\n",
    "\n",
    "Note, in practice, the code you write in this exercise would be written to it's own txt file instead of a variable in your python session."
   ],
   "cell_type": "markdown",
   "metadata": {}
  },
  {
   "cell_type": "code",
   "execution_count": null,
   "metadata": {},
   "outputs": [],
   "source": [
    "requirements = \"\"\"\n",
    "matplotlib>=3.0.0\n",
    "numpy==1.15.4\n",
    "pandas<=0.22.0\n",
    "pycodestyle\n",
    "\"\"\""
   ]
  },
  {
   "source": [
    "# Installing package requirements\n",
    "You've now written a requirements.txt file to recreate your package's environment using a pip install command. Given that you are running a shell session in the work_dir structure shown below, what command would properly recreate the my_package environment from requirements.txt?\n",
    "\n",
    "```\n",
    "work_dir/\n",
    "├── my_package\n",
    "│&nbsp;&nbsp; ├── __init__.py\n",
    "│&nbsp;&nbsp; └── utils.py\n",
    "├── requirements.txt\n",
    "└── setup.py\n",
    "```"
   ],
   "cell_type": "markdown",
   "metadata": {}
  },
  {
   "source": [
    "# Creating setup.py\n",
    "In order to make your package installable by pip you need to create a setup.py file. In this exercise you will create this file for the text_analyzer package you've been building."
   ],
   "cell_type": "markdown",
   "metadata": {}
  },
  {
   "cell_type": "code",
   "execution_count": null,
   "metadata": {},
   "outputs": [],
   "source": [
    "# Import needed function from setuptools\n",
    "from setuptools import setup\n",
    "\n",
    "# Create proper setup to be used by pip\n",
    "setup(name='text_analyzer',\n",
    "      version='0.0.1',\n",
    "      description='Perform and visualize a text anaylsis.',\n",
    "      author='Serhii',\n",
    "      packages=['text_analyzer'])"
   ]
  },
  {
   "source": [
    "# Listing requirements in setup.py\n",
    "We created a setup.py file earlier, but we forgot to list our dependency on matplotlib in the install_requires argument. In this exercise you will practice listing your version specific dependencies by correcting the setup.py you previously wrote for your text_analyzer package."
   ],
   "cell_type": "markdown",
   "metadata": {}
  },
  {
   "cell_type": "code",
   "execution_count": null,
   "metadata": {},
   "outputs": [],
   "source": [
    "# Import needed function from setuptools\n",
    "from setuptools import setup\n",
    "\n",
    "# Create proper setup to be used by pip\n",
    "setup(name='text_analyzer',\n",
    "      version='0.0.1',\n",
    "      description='Perform and visualize a text anaylsis.',\n",
    "      author='Serhii',\n",
    "      packages=['text_analyzer'],\n",
    "      install_requires=['matplotlib>=3.0.0'])\n"
   ]
  }
 ]
}