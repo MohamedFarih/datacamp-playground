{
 "metadata": {
  "language_info": {
   "codemirror_mode": {
    "name": "ipython",
    "version": 3
   },
   "file_extension": ".py",
   "mimetype": "text/x-python",
   "name": "python",
   "nbconvert_exporter": "python",
   "pygments_lexer": "ipython3",
   "version": "3.7.9-final"
  },
  "orig_nbformat": 2,
  "kernelspec": {
   "name": "python3",
   "display_name": "Python 3",
   "language": "python"
  }
 },
 "nbformat": 4,
 "nbformat_minor": 2,
 "cells": [
  {
   "source": [
    "# Identifying good comments\n",
    "We learned about what characteristics make a 'good' comment. In this exercise, you'll apply this knowledge to identify a function that utilizes comment best practices."
   ],
   "cell_type": "markdown",
   "metadata": {}
  },
  {
   "cell_type": "code",
   "execution_count": 1,
   "metadata": {},
   "outputs": [
    {
     "output_type": "stream",
     "name": "stdout",
     "text": [
      "Our competitor pricing is $10.50 an inch. Our price is $125.00 a foot.\n['$10.50', '$125.00']\n"
     ]
    }
   ],
   "source": [
    "import re\n",
    "\n",
    "text = 'Our competitor pricing is $10.50 an inch. Our price is $125.00 a foot.'\n",
    "\n",
    "def extract_0(text):\n",
    "    # match and extract dollar amounts from the text\n",
    "    return re.findall(r'\\$\\d+\\.\\d\\d', text)\n",
    "\n",
    "def extract_1(text):\n",
    "    # return all matches to regex pattern\n",
    "    return re.findall(r'\\$\\d+\\.\\d\\d', text)\n",
    "\n",
    "# Print the text\n",
    "print(text)\n",
    "\n",
    "# Print the results of the function with better commenting\n",
    "print(extract_0(text))"
   ]
  },
  {
   "source": [
    "# Identifying proper docstrings\n",
    "We covered how to write fully-fledged docstrings. Before writing one of your own, this exercise will help you practice by having you identify a properly formatted docstring.\n",
    "\n",
    "In this exercise, you'll be using the functions goldilocks(), rapunzel(), mary(), and sleeping_beauty() which have been loaded in your environment."
   ],
   "cell_type": "markdown",
   "metadata": {}
  },
  {
   "cell_type": "code",
   "execution_count": 2,
   "metadata": {},
   "outputs": [],
   "source": [
    "def goldilocks(bear=3):\n",
    "    \"\"\"\n",
    "    :param bear: which number bear's food are you trying to eat; valid numbers: [1, 2, 3]\n",
    "    :return: description of how the food's temperature is\n",
    "\n",
    "    >>> goldilocks(bear=1)\n",
    "    'too hot'\n",
    "    \"\"\"\n",
    "    if bear == 1:\n",
    "        return 'too hot'\n",
    "    elif bear == 2:\n",
    "        return 'too cold'\n",
    "    elif bear == 3:\n",
    "        return 'just right'\n",
    "    else:\n",
    "        ValueError('There are only 3 bears!')"
   ]
  },
  {
   "cell_type": "code",
   "execution_count": 3,
   "metadata": {},
   "outputs": [],
   "source": [
    "def rapunzel(hair_len=20):\n",
    "    \"\"\"Lets down hair from tower to be used as climbing rope\n",
    "\n",
    "    :param hair_len: length of hair (cannot be negative)\n",
    "    :return: strand of hair that is hair_len characters long\n",
    "\n",
    "    >>> rapunzel(hair_len=15)\n",
    "    '~~~~~~~~~~~~~~~'\n",
    "    \"\"\"\n",
    "    if hair_len < 0:\n",
    "        ValueError('hair_len cannot be negative!')\n",
    "\n",
    "    return \"~\" * hair_len"
   ]
  },
  {
   "cell_type": "code",
   "execution_count": 4,
   "metadata": {},
   "outputs": [],
   "source": [
    "def mary(white_as='snow'):\n",
    "    \"\"\"How white was mary's little lamb?\n",
    "\n",
    "    >>> mary(white_as='salt')\n",
    "    'Mary had a little lamb whose fleece was white as salt'\n",
    "    \"\"\"\n",
    "    return \"Mary had a little lamb whose fleece was white as {}\".format(white_as)"
   ]
  },
  {
   "cell_type": "code",
   "execution_count": 5,
   "metadata": {},
   "outputs": [],
   "source": [
    "def sleeping_beauty(awake=False):\n",
    "    \"\"\"Should Sleeping Beauty wake up?\n",
    "\n",
    "    :param awake: if True then wake up; else snooze\n",
    "    :return: string showing sleepiness or wakefulness\n",
    "    \"\"\"\n",
    "    if awake is True:\n",
    "        return 'o_o'\n",
    "\n",
    "    return 'Zzzzz'"
   ]
  },
  {
   "cell_type": "code",
   "execution_count": 6,
   "metadata": {},
   "outputs": [
    {
     "output_type": "stream",
     "name": "stdout",
     "text": [
      "Help on function goldilocks in module __main__:\n\ngoldilocks(bear=3)\n    :param bear: which number bear's food are you trying to eat; valid numbers: [1, 2, 3]\n    :return: description of how the food's temperature is\n    \n    >>> goldilocks(bear=1)\n    'too hot'\n\nHelp on function rapunzel in module __main__:\n\nrapunzel(hair_len=20)\n    Lets down hair from tower to be used as climbing rope\n    \n    :param hair_len: length of hair (cannot be negative)\n    :return: strand of hair that is hair_len characters long\n    \n    >>> rapunzel(hair_len=15)\n    '~~~~~~~~~~~~~~~'\n\nHelp on function mary in module __main__:\n\nmary(white_as='snow')\n    How white was mary's little lamb?\n    \n    >>> mary(white_as='salt')\n    'Mary had a little lamb whose fleece was white as salt'\n\nHelp on function sleeping_beauty in module __main__:\n\nsleeping_beauty(awake=False)\n    Should Sleeping Beauty wake up?\n    \n    :param awake: if True then wake up; else snooze\n    :return: string showing sleepiness or wakefulness\n\n"
     ]
    }
   ],
   "source": [
    "# Run the help on all 4 functions\n",
    "help(goldilocks)\n",
    "help(rapunzel)\n",
    "help(mary)\n",
    "help(sleeping_beauty)\n"
   ]
  },
  {
   "cell_type": "code",
   "execution_count": 7,
   "metadata": {},
   "outputs": [
    {
     "output_type": "stream",
     "name": "stdout",
     "text": [
      "~~~~~~~~~~~~~~~~~~~~\n"
     ]
    }
   ],
   "source": [
    "# Execute the function with most complete docstring\n",
    "result = rapunzel()\n",
    "\n",
    "# Print the result\n",
    "print(result)"
   ]
  },
  {
   "source": [
    "# Writing docstrings\n",
    "We just learned some about the benefits of docstrings. In this exercise, you will practice writing docstrings that can be utilized by a documentation generator like Sphinx.\n",
    "\n",
    "Note that your docstring submission must match the solution exactly. If you find yourself getting it wrong several times, it may be a good idea to refresh the sample code and start over."
   ],
   "cell_type": "markdown",
   "metadata": {}
  },
  {
   "cell_type": "code",
   "execution_count": 8,
   "metadata": {},
   "outputs": [
    {
     "output_type": "stream",
     "name": "stdout",
     "text": [
      "['the', 'rain', 'in', 'spain']\nHelp on function tokenize in module __main__:\n\ntokenize(text, regex='[a-zA-z]+')\n    Split text into tokens using a regular expression\n    :param text: text to be tokenized\n    :param regex: regular expression used to match tokens using re.findall\n    :return: a list of resulting tokens\n    >>> tokenize('the rain in spain')\n    ['the', 'rain', 'in', 'spain']\n\n"
     ]
    }
   ],
   "source": [
    "import re\n",
    "\n",
    "# Complete the function's docstring\n",
    "def tokenize(text, regex=r'[a-zA-z]+'):\n",
    "    \"\"\"Split text into tokens using a regular expression\n",
    "    :param text: text to be tokenized\n",
    "    :param regex: regular expression used to match tokens using re.findall\n",
    "    :return: a list of resulting tokens\n",
    "    >>> tokenize('the rain in spain')\n",
    "    ['the', 'rain', 'in', 'spain']\n",
    "    \"\"\"\n",
    "    return re.findall(regex, text, flags=re.IGNORECASE)\n",
    "\n",
    "tk = tokenize('the rain in spain')\n",
    "print(tk)\n",
    "# Print the docstring\n",
    "help(tokenize)"
   ]
  },
  {
   "source": [
    "# Using good function names\n",
    "A good function name can go a long way for both user and maintainer understanding. A good function name is descriptive and describes what a function does. In this exercise, you'll choose a name for a function that will help aid in its readability when used."
   ],
   "cell_type": "markdown",
   "metadata": {}
  },
  {
   "cell_type": "code",
   "execution_count": 9,
   "metadata": {},
   "outputs": [
    {
     "output_type": "stream",
     "name": "stdout",
     "text": [
      "10.0\n"
     ]
    }
   ],
   "source": [
    "import math\n",
    "\n",
    "def hypotenuse_length(leg_a, leg_b):\n",
    "    \"\"\"Find the length of a right triangle's hypotenuse\n",
    "    :param leg_a: length of one leg of triangle\n",
    "    :param leg_b: length of other leg of triangle\n",
    "    :return: length of hypotenuse\n",
    "    >>> hypotenuse_length(3, 4)\n",
    "    5\n",
    "    \"\"\"\n",
    "    return math.sqrt(leg_a**2 + leg_b**2)\n",
    "\n",
    "\n",
    "# Print the length of the hypotenuse with legs 6 & 8\n",
    "print(hypotenuse_length(6, 8))"
   ]
  },
  {
   "source": [
    "# Using good variable names\n",
    "Just like functions, descriptive variable names can make your code much more readable. In this exercise, you'll write some code using good variable naming practices.\n",
    "\n",
    "There's not always a clear best name for a variable. The exercise has been written to try and make a clear best choice from the provided options."
   ],
   "cell_type": "markdown",
   "metadata": {}
  },
  {
   "cell_type": "code",
   "execution_count": 10,
   "metadata": {},
   "outputs": [
    {
     "output_type": "stream",
     "name": "stdout",
     "text": [
      "5.04\n"
     ]
    }
   ],
   "source": [
    "from statistics import mean\n",
    "\n",
    "# Sample measurements of pupil diameter in mm\n",
    "pupil_diameter = [3.3, 6.8, 7.0, 5.4, 2.7]\n",
    "\n",
    "# Average pupil diameter from sample\n",
    "mean_diameter = mean(pupil_diameter)\n",
    "\n",
    "print(mean_diameter)"
   ]
  },
  {
   "source": [
    "# Refactoring for readability\n",
    "Refactoring longer functions into smaller units can help with both readability and modularity. In this exercise, you will refactor a function into smaller units. The function you will be refactoring is shown below. Note, in the exercise, you won't be using docstrings for the sake of space; in a real application, you should include documentation!\n",
    "\n",
    "```python\n",
    "def polygon_area(n_sides, side_len):\n",
    "    \"\"\"Find the area of a regular polygon\n",
    "\n",
    "    :param n_sides: number of sides\n",
    "    :param side_len: length of polygon sides\n",
    "    :return: area of polygon\n",
    "\n",
    "    >>> round(polygon_area(4, 5))\n",
    "    25\n",
    "    \"\"\"\n",
    "    perimeter = n_sides * side_len\n",
    "\n",
    "    apothem_denominator = 2 * math.tan(math.pi / n_sides)\n",
    "    apothem = side_len / apothem_denominator\n",
    "\n",
    "    return perimeter * apothem / 2\n",
    "```"
   ],
   "cell_type": "markdown",
   "metadata": {}
  },
  {
   "cell_type": "code",
   "execution_count": 11,
   "metadata": {},
   "outputs": [
    {
     "output_type": "stream",
     "name": "stdout",
     "text": [
      "259.8076211353316\n"
     ]
    }
   ],
   "source": [
    "def polygon_perimeter(n_sides, side_len):\n",
    "    return n_sides * side_len\n",
    "\n",
    "def polygon_apothem(n_sides, side_len):\n",
    "    denominator =  2 * math.tan(math.pi / n_sides)\n",
    "    return side_len / denominator\n",
    "\n",
    "def polygon_area(n_sides, side_len):\n",
    "    perimeter = polygon_perimeter(n_sides, side_len)\n",
    "    apothem = polygon_apothem(n_sides, side_len)\n",
    "    return perimeter * apothem / 2\n",
    "\n",
    "# Print the area of a hexagon with legs of size 10\n",
    "print(polygon_area(n_sides=6, side_len=10))"
   ]
  },
  {
   "source": [
    "# Using doctest\n",
    "We just learned about doctest, which, if you're writing full docstrings with examples, is a simple way to minimally test your functions. In this exercise, you'll get some hands-on practice testing and debugging with doctest.\n",
    "\n",
    "The following have all be pre-loaded in your environment: doctest, Counter, and text_analyzer.\n",
    "\n",
    "Note that your docstring submission must match the solution exactly. If you find yourself getting it wrong several times, it may be a good idea to refresh the sample code and start over."
   ],
   "cell_type": "markdown",
   "metadata": {}
  },
  {
   "cell_type": "code",
   "execution_count": 12,
   "metadata": {},
   "outputs": [
    {
     "output_type": "stream",
     "name": "stdout",
     "text": [
      "**********************************************************************\nFile \"__main__\", line 8, in __main__.hypotenuse_length\nFailed example:\n    hypotenuse_length(3, 4)\nExpected:\n    5\nGot:\n    5.0\n**********************************************************************\nFile \"__main__\", line 7, in __main__.sum_counters\nFailed example:\n    d1 = text_analyzer.Document('1 2 fizz 4 buzz fizz 7 8')\nException raised:\n    Traceback (most recent call last):\n      File \"D:\\Src\\Python37\\lib\\doctest.py\", line 1337, in __run\n        compileflags, 1), test.globs)\n      File \"<doctest __main__.sum_counters[0]>\", line 1, in <module>\n        d1 = text_analyzer.Document('1 2 fizz 4 buzz fizz 7 8')\n    NameError: name 'text_analyzer' is not defined\n**********************************************************************\nFile \"__main__\", line 8, in __main__.sum_counters\nFailed example:\n    d2 = text_analyzer.Document('fizz buzz 11 fizz 13 14')\nException raised:\n    Traceback (most recent call last):\n      File \"D:\\Src\\Python37\\lib\\doctest.py\", line 1337, in __run\n        compileflags, 1), test.globs)\n      File \"<doctest __main__.sum_counters[1]>\", line 1, in <module>\n        d2 = text_analyzer.Document('fizz buzz 11 fizz 13 14')\n    NameError: name 'text_analyzer' is not defined\n**********************************************************************\nFile \"__main__\", line 9, in __main__.sum_counters\nFailed example:\n    sum_counters([d1.word_counts, d2.word_counts])\nException raised:\n    Traceback (most recent call last):\n      File \"D:\\Src\\Python37\\lib\\doctest.py\", line 1337, in __run\n        compileflags, 1), test.globs)\n      File \"<doctest __main__.sum_counters[2]>\", line 1, in <module>\n        sum_counters([d1.word_counts, d2.word_counts])\n    NameError: name 'd1' is not defined\n**********************************************************************\n2 items had failures:\n   1 of   1 in __main__.hypotenuse_length\n   3 of   3 in __main__.sum_counters\n***Test Failed*** 4 failures.\n"
     ]
    },
    {
     "output_type": "execute_result",
     "data": {
      "text/plain": [
       "TestResults(failed=4, attempted=8)"
      ]
     },
     "metadata": {},
     "execution_count": 12
    }
   ],
   "source": [
    "import doctest\n",
    "\n",
    "def sum_counters(counters):\n",
    "    \"\"\"Aggregate collections.Counter objects by summing counts\n",
    "    :param counters: list/tuple of counters to sum\n",
    "    :return: aggregated counters with counts summed\n",
    "    >>> d1 = text_analyzer.Document('1 2 fizz 4 buzz fizz 7 8')\n",
    "    >>> d2 = text_analyzer.Document('fizz buzz 11 fizz 13 14')\n",
    "    >>> sum_counters([d1.word_counts, d2.word_counts])\n",
    "    Counter({'fizz': 4, 'buzz': 2})\n",
    "    \"\"\"\n",
    "    return sum(counters, Counter())\n",
    "\n",
    "doctest.testmod()"
   ]
  },
  {
   "source": [
    "# Using pytest\n",
    "doctest is a great tool, but it's not nearly as powerful as pytest. In this exercise, you'll write tests for your SocialMedia class using the pytest framework."
   ],
   "cell_type": "markdown",
   "metadata": {}
  },
  {
   "cell_type": "code",
   "execution_count": null,
   "metadata": {},
   "outputs": [],
   "source": [
    "from collections import Counter\n",
    "from text_analyzer import SocialMedia\n",
    "\n",
    "# Create an instance of SocialMedia for testing\n",
    "test_post = 'learning #python & #rstats is awesome! thanks @datacamp!'\n",
    "sm_post = SocialMedia(test_post)\n",
    "\n",
    "# Test hashtag counts are created properly\n",
    "def test_social_media_hashtags():\n",
    "    expected_hashtag_counts = Counter({'#python': 1, '#rstats': 1})\n",
    "    assert sm_post.hashtag_counts == expected_hashtag_counts\n"
   ]
  },
  {
   "source": [
    "# Documenting classes for Sphinx\n",
    "sphinx is a great tool for rendering documentation as HTML. In this exercise, you'll write a docstring for a class that can be taken advantage of by sphinx.\n",
    "\n",
    "Note that your docstring submission must match the solution exactly. If you find yourself getting it wrong several times, it may be a good idea to refresh the sample code and start over."
   ],
   "cell_type": "markdown",
   "metadata": {}
  },
  {
   "cell_type": "code",
   "execution_count": null,
   "metadata": {},
   "outputs": [],
   "source": [
    "from text_analyzer import Document\n",
    "\n",
    "class SocialMedia(Document):\n",
    "    \"\"\"Analyze text data from social media\n",
    "    :param text: social media text to analyze\n",
    "    :ivar hashtag_counts: Counter object containing counts of hashtags used in text\n",
    "    :ivar mention_counts: Counter object containing counts of @mentions used in text\n",
    "    \"\"\"\n",
    "    def __init__(self, text):\n",
    "        Document.__init__(self, text)\n",
    "        self.hashtag_counts = self._count_hashtags()\n",
    "        self.mention_counts = self._count_mentions()"
   ]
  }
 ]
}