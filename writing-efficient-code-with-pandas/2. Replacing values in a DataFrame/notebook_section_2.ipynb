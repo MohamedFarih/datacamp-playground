{
 "metadata": {
  "language_info": {
   "codemirror_mode": {
    "name": "ipython",
    "version": 3
   },
   "file_extension": ".py",
   "mimetype": "text/x-python",
   "name": "python",
   "nbconvert_exporter": "python",
   "pygments_lexer": "ipython3",
   "version": "3.7.9-final"
  },
  "orig_nbformat": 2,
  "kernelspec": {
   "name": "python3",
   "display_name": "Python 3",
   "language": "python"
  }
 },
 "nbformat": 4,
 "nbformat_minor": 2,
 "cells": [
  {
   "source": [
    "# Replacing scalar values I\n",
    "In this exercise, we will replace a list of values in our dataset by using the .replace() method with another list of desired values.\n",
    "\n",
    "We will apply the functions in the poker_hands DataFrame. Remember that in the poker_hands DataFrame, each row of columns R1 to R5 represents the rank of each card from a player's poker hand spanning from 1 (Ace) to 13 (King). The Class feature classifies each hand as a category, and the Explanation feature briefly explains each hand.\n",
    "\n",
    "The poker_hands DataFrame is already loaded for you, and you can explore the features Class and Explanation.\n",
    "\n",
    "Remember you can always explore the dataset and see how it changes in the IPython Shell, and refer to the slides in the Slides tab."
   ],
   "cell_type": "markdown",
   "metadata": {}
  },
  {
   "cell_type": "code",
   "execution_count": 1,
   "metadata": {},
   "outputs": [
    {
     "output_type": "execute_result",
     "data": {
      "text/plain": [
       "       S1  R1  S2  R2  S3  R3  S4  R4  S5  R5  Class\n",
       "0       1  10   1  11   1  13   1  12   1   1      9\n",
       "1       2  11   2  13   2  10   2  12   2   1      9\n",
       "2       3  12   3  11   3  13   3  10   3   1      9\n",
       "3       4  10   4  11   4   1   4  13   4  12      9\n",
       "4       4   1   4  13   4  12   4  11   4  10      9\n",
       "...    ..  ..  ..  ..  ..  ..  ..  ..  ..  ..    ...\n",
       "25005   3   9   2   6   4  11   4  12   2   4      0\n",
       "25006   4   1   4  10   3  13   3   4   1  10      1\n",
       "25007   2   1   2  10   4   4   4   1   4  13      1\n",
       "25008   2  12   4   3   1  10   1  12   4   9      1\n",
       "25009   1   7   3  11   3   3   4   8   3   7      1\n",
       "\n",
       "[25010 rows x 11 columns]"
      ],
      "text/html": "<div>\n<style scoped>\n    .dataframe tbody tr th:only-of-type {\n        vertical-align: middle;\n    }\n\n    .dataframe tbody tr th {\n        vertical-align: top;\n    }\n\n    .dataframe thead th {\n        text-align: right;\n    }\n</style>\n<table border=\"1\" class=\"dataframe\">\n  <thead>\n    <tr style=\"text-align: right;\">\n      <th></th>\n      <th>S1</th>\n      <th>R1</th>\n      <th>S2</th>\n      <th>R2</th>\n      <th>S3</th>\n      <th>R3</th>\n      <th>S4</th>\n      <th>R4</th>\n      <th>S5</th>\n      <th>R5</th>\n      <th>Class</th>\n    </tr>\n  </thead>\n  <tbody>\n    <tr>\n      <th>0</th>\n      <td>1</td>\n      <td>10</td>\n      <td>1</td>\n      <td>11</td>\n      <td>1</td>\n      <td>13</td>\n      <td>1</td>\n      <td>12</td>\n      <td>1</td>\n      <td>1</td>\n      <td>9</td>\n    </tr>\n    <tr>\n      <th>1</th>\n      <td>2</td>\n      <td>11</td>\n      <td>2</td>\n      <td>13</td>\n      <td>2</td>\n      <td>10</td>\n      <td>2</td>\n      <td>12</td>\n      <td>2</td>\n      <td>1</td>\n      <td>9</td>\n    </tr>\n    <tr>\n      <th>2</th>\n      <td>3</td>\n      <td>12</td>\n      <td>3</td>\n      <td>11</td>\n      <td>3</td>\n      <td>13</td>\n      <td>3</td>\n      <td>10</td>\n      <td>3</td>\n      <td>1</td>\n      <td>9</td>\n    </tr>\n    <tr>\n      <th>3</th>\n      <td>4</td>\n      <td>10</td>\n      <td>4</td>\n      <td>11</td>\n      <td>4</td>\n      <td>1</td>\n      <td>4</td>\n      <td>13</td>\n      <td>4</td>\n      <td>12</td>\n      <td>9</td>\n    </tr>\n    <tr>\n      <th>4</th>\n      <td>4</td>\n      <td>1</td>\n      <td>4</td>\n      <td>13</td>\n      <td>4</td>\n      <td>12</td>\n      <td>4</td>\n      <td>11</td>\n      <td>4</td>\n      <td>10</td>\n      <td>9</td>\n    </tr>\n    <tr>\n      <th>...</th>\n      <td>...</td>\n      <td>...</td>\n      <td>...</td>\n      <td>...</td>\n      <td>...</td>\n      <td>...</td>\n      <td>...</td>\n      <td>...</td>\n      <td>...</td>\n      <td>...</td>\n      <td>...</td>\n    </tr>\n    <tr>\n      <th>25005</th>\n      <td>3</td>\n      <td>9</td>\n      <td>2</td>\n      <td>6</td>\n      <td>4</td>\n      <td>11</td>\n      <td>4</td>\n      <td>12</td>\n      <td>2</td>\n      <td>4</td>\n      <td>0</td>\n    </tr>\n    <tr>\n      <th>25006</th>\n      <td>4</td>\n      <td>1</td>\n      <td>4</td>\n      <td>10</td>\n      <td>3</td>\n      <td>13</td>\n      <td>3</td>\n      <td>4</td>\n      <td>1</td>\n      <td>10</td>\n      <td>1</td>\n    </tr>\n    <tr>\n      <th>25007</th>\n      <td>2</td>\n      <td>1</td>\n      <td>2</td>\n      <td>10</td>\n      <td>4</td>\n      <td>4</td>\n      <td>4</td>\n      <td>1</td>\n      <td>4</td>\n      <td>13</td>\n      <td>1</td>\n    </tr>\n    <tr>\n      <th>25008</th>\n      <td>2</td>\n      <td>12</td>\n      <td>4</td>\n      <td>3</td>\n      <td>1</td>\n      <td>10</td>\n      <td>1</td>\n      <td>12</td>\n      <td>4</td>\n      <td>9</td>\n      <td>1</td>\n    </tr>\n    <tr>\n      <th>25009</th>\n      <td>1</td>\n      <td>7</td>\n      <td>3</td>\n      <td>11</td>\n      <td>3</td>\n      <td>3</td>\n      <td>4</td>\n      <td>8</td>\n      <td>3</td>\n      <td>7</td>\n      <td>1</td>\n    </tr>\n  </tbody>\n</table>\n<p>25010 rows × 11 columns</p>\n</div>"
     },
     "metadata": {},
     "execution_count": 1
    }
   ],
   "source": [
    "import pandas as pd \n",
    "poker_hands = pd.read_csv('../datasets/poker_hand.csv')\n",
    "poker_hands"
   ]
  },
  {
   "cell_type": "code",
   "execution_count": 4,
   "metadata": {},
   "outputs": [
    {
     "output_type": "stream",
     "name": "stdout",
     "text": [
      "       Class\n0          9\n1          9\n2          9\n3          9\n4          9\n...      ...\n25005      0\n25006     -2\n25007     -2\n25008     -2\n25009     -2\n\n[25010 rows x 1 columns]\n"
     ]
    }
   ],
   "source": [
    "# Replace Class 1 to -2 \n",
    "poker_hands['Class'].replace(1, -2, inplace=True)\n",
    "# Replace Class 2 to -3\n",
    "poker_hands['Class'].replace(2, -3, inplace=True)\n",
    "\n",
    "print(poker_hands[['Class']])"
   ]
  },
  {
   "source": [
    "# Replace scalar values II\n",
    "As discussed in the video, in a pandas DataFrame, it is possible to replace values in a very intuitive way: we locate the position (row and column) in the Dataframe and assign in the new value you want to replace with. In a more pandas-ian way, the .replace() function is available that performs the same task.\n",
    "\n",
    "You will be using the names DataFrame which includes, among others, the most popular names in the US by year, gender and ethnicity.\n",
    "\n",
    "Your task is to replace all the babies that are classified as FEMALE to GIRL using the following methods:\n",
    "\n",
    "- intuitive scalar replacement\n",
    "- using the .replace() function"
   ],
   "cell_type": "markdown",
   "metadata": {}
  }
 ]
}