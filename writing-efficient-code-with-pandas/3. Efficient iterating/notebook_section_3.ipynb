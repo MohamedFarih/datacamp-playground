{
 "metadata": {
  "language_info": {
   "codemirror_mode": {
    "name": "ipython",
    "version": 3
   },
   "file_extension": ".py",
   "mimetype": "text/x-python",
   "name": "python",
   "nbconvert_exporter": "python",
   "pygments_lexer": "ipython3",
   "version": "3.7.9-final"
  },
  "orig_nbformat": 2,
  "kernelspec": {
   "name": "python3",
   "display_name": "Python 3",
   "language": "python"
  }
 },
 "nbformat": 4,
 "nbformat_minor": 2,
 "cells": [
  {
   "source": [
    "# Create a generator for a pandas DataFrame\n",
    "As you've seen in the video, you can easily create a generator out of a pandas DataFrame. Each time you iterate through it, it will yield two elements:\n",
    "\n",
    "- the index of the respective row\n",
    "- a pandas Series with all the elements of that row\n",
    "\n",
    "You are going to create a generator over the poker dataset, imported as poker_hands. Then, you will print all the elements of the 2nd row, using the generator.\n",
    "\n",
    "Remember you can always explore the dataset and see how it changes in the IPython Shell, and refer to the slides in the Slides tab."
   ],
   "cell_type": "markdown",
   "metadata": {}
  },
  {
   "cell_type": "code",
   "execution_count": 1,
   "metadata": {},
   "outputs": [
    {
     "output_type": "execute_result",
     "data": {
      "text/plain": [
       "       S1  R1  S2  R2  S3  R3  S4  R4  S5  R5  Class\n",
       "0       1  10   1  11   1  13   1  12   1   1      9\n",
       "1       2  11   2  13   2  10   2  12   2   1      9\n",
       "2       3  12   3  11   3  13   3  10   3   1      9\n",
       "3       4  10   4  11   4   1   4  13   4  12      9\n",
       "4       4   1   4  13   4  12   4  11   4  10      9\n",
       "...    ..  ..  ..  ..  ..  ..  ..  ..  ..  ..    ...\n",
       "25005   3   9   2   6   4  11   4  12   2   4      0\n",
       "25006   4   1   4  10   3  13   3   4   1  10      1\n",
       "25007   2   1   2  10   4   4   4   1   4  13      1\n",
       "25008   2  12   4   3   1  10   1  12   4   9      1\n",
       "25009   1   7   3  11   3   3   4   8   3   7      1\n",
       "\n",
       "[25010 rows x 11 columns]"
      ],
      "text/html": "<div>\n<style scoped>\n    .dataframe tbody tr th:only-of-type {\n        vertical-align: middle;\n    }\n\n    .dataframe tbody tr th {\n        vertical-align: top;\n    }\n\n    .dataframe thead th {\n        text-align: right;\n    }\n</style>\n<table border=\"1\" class=\"dataframe\">\n  <thead>\n    <tr style=\"text-align: right;\">\n      <th></th>\n      <th>S1</th>\n      <th>R1</th>\n      <th>S2</th>\n      <th>R2</th>\n      <th>S3</th>\n      <th>R3</th>\n      <th>S4</th>\n      <th>R4</th>\n      <th>S5</th>\n      <th>R5</th>\n      <th>Class</th>\n    </tr>\n  </thead>\n  <tbody>\n    <tr>\n      <th>0</th>\n      <td>1</td>\n      <td>10</td>\n      <td>1</td>\n      <td>11</td>\n      <td>1</td>\n      <td>13</td>\n      <td>1</td>\n      <td>12</td>\n      <td>1</td>\n      <td>1</td>\n      <td>9</td>\n    </tr>\n    <tr>\n      <th>1</th>\n      <td>2</td>\n      <td>11</td>\n      <td>2</td>\n      <td>13</td>\n      <td>2</td>\n      <td>10</td>\n      <td>2</td>\n      <td>12</td>\n      <td>2</td>\n      <td>1</td>\n      <td>9</td>\n    </tr>\n    <tr>\n      <th>2</th>\n      <td>3</td>\n      <td>12</td>\n      <td>3</td>\n      <td>11</td>\n      <td>3</td>\n      <td>13</td>\n      <td>3</td>\n      <td>10</td>\n      <td>3</td>\n      <td>1</td>\n      <td>9</td>\n    </tr>\n    <tr>\n      <th>3</th>\n      <td>4</td>\n      <td>10</td>\n      <td>4</td>\n      <td>11</td>\n      <td>4</td>\n      <td>1</td>\n      <td>4</td>\n      <td>13</td>\n      <td>4</td>\n      <td>12</td>\n      <td>9</td>\n    </tr>\n    <tr>\n      <th>4</th>\n      <td>4</td>\n      <td>1</td>\n      <td>4</td>\n      <td>13</td>\n      <td>4</td>\n      <td>12</td>\n      <td>4</td>\n      <td>11</td>\n      <td>4</td>\n      <td>10</td>\n      <td>9</td>\n    </tr>\n    <tr>\n      <th>...</th>\n      <td>...</td>\n      <td>...</td>\n      <td>...</td>\n      <td>...</td>\n      <td>...</td>\n      <td>...</td>\n      <td>...</td>\n      <td>...</td>\n      <td>...</td>\n      <td>...</td>\n      <td>...</td>\n    </tr>\n    <tr>\n      <th>25005</th>\n      <td>3</td>\n      <td>9</td>\n      <td>2</td>\n      <td>6</td>\n      <td>4</td>\n      <td>11</td>\n      <td>4</td>\n      <td>12</td>\n      <td>2</td>\n      <td>4</td>\n      <td>0</td>\n    </tr>\n    <tr>\n      <th>25006</th>\n      <td>4</td>\n      <td>1</td>\n      <td>4</td>\n      <td>10</td>\n      <td>3</td>\n      <td>13</td>\n      <td>3</td>\n      <td>4</td>\n      <td>1</td>\n      <td>10</td>\n      <td>1</td>\n    </tr>\n    <tr>\n      <th>25007</th>\n      <td>2</td>\n      <td>1</td>\n      <td>2</td>\n      <td>10</td>\n      <td>4</td>\n      <td>4</td>\n      <td>4</td>\n      <td>1</td>\n      <td>4</td>\n      <td>13</td>\n      <td>1</td>\n    </tr>\n    <tr>\n      <th>25008</th>\n      <td>2</td>\n      <td>12</td>\n      <td>4</td>\n      <td>3</td>\n      <td>1</td>\n      <td>10</td>\n      <td>1</td>\n      <td>12</td>\n      <td>4</td>\n      <td>9</td>\n      <td>1</td>\n    </tr>\n    <tr>\n      <th>25009</th>\n      <td>1</td>\n      <td>7</td>\n      <td>3</td>\n      <td>11</td>\n      <td>3</td>\n      <td>3</td>\n      <td>4</td>\n      <td>8</td>\n      <td>3</td>\n      <td>7</td>\n      <td>1</td>\n    </tr>\n  </tbody>\n</table>\n<p>25010 rows × 11 columns</p>\n</div>"
     },
     "metadata": {},
     "execution_count": 1
    }
   ],
   "source": [
    "import pandas as pd \n",
    "poker_hands = pd.read_csv('../datasets/poker_hand.csv')\n",
    "poker_hands"
   ]
  },
  {
   "cell_type": "code",
   "execution_count": 2,
   "metadata": {},
   "outputs": [
    {
     "output_type": "stream",
     "name": "stdout",
     "text": [
      "(0, S1        1\nR1       10\nS2        1\nR2       11\nS3        1\nR3       13\nS4        1\nR4       12\nS5        1\nR5        1\nClass     9\nName: 0, dtype: int64) (1, S1        2\nR1       11\nS2        2\nR2       13\nS3        2\nR3       10\nS4        2\nR4       12\nS5        2\nR5        1\nClass     9\nName: 1, dtype: int64)\n"
     ]
    }
   ],
   "source": [
    "# Create a generator over the rows\n",
    "generator = poker_hands.iterrows()\n",
    "\n",
    "# Access the elements of the 2nd row\n",
    "first_element = next(generator)\n",
    "second_element = next(generator)\n",
    "print(first_element, second_element)"
   ]
  },
  {
   "source": [
    "# The iterrows() function for looping\n",
    "You just saw how to create a generator out of a pandas DataFrame. You will now use this generator and see how to take advantage of that method of looping through a pandas DataFrame, still using the poker_hands dataset.\n",
    "\n",
    "Specifically, we want the sum of the ranks of all the cards, if the index of the hand is an odd number. The ranks of the cards are located in the odd columns of the DataFrame."
   ],
   "cell_type": "markdown",
   "metadata": {}
  },
  {
   "cell_type": "code",
   "execution_count": 3,
   "metadata": {},
   "outputs": [],
   "source": [
    "data_generator = poker_hands.iterrows()\n",
    "\n",
    "for index, values in data_generator:\n",
    "  \t# Check if index is odd\n",
    "    if (index%2)!=0:\n",
    "      \t# Sum the ranks of all the cards\n",
    "        hand_sum = sum([values[1], values[3], values[5], values[7], values[9]])"
   ]
  },
  {
   "source": [
    "# .apply() function in every cell\n",
    "As you saw in the lesson, you can use .apply() to map a function to every cell of the DataFrame, regardless the column or the row.\n",
    "\n",
    "You're going to try it out on the poker_hands dataset. You will use .apply() to square every cell of the DataFrame. The native Python way to square a number n is n**2."
   ],
   "cell_type": "markdown",
   "metadata": {}
  },
  {
   "cell_type": "code",
   "execution_count": 4,
   "metadata": {},
   "outputs": [
    {
     "output_type": "stream",
     "name": "stdout",
     "text": [
      "   S1   R1  S2   R2  S3   R3  S4   R4  S5   R5  Class\n0   1  100   1  121   1  169   1  144   1    1     81\n1   4  121   4  169   4  100   4  144   4    1     81\n2   9  144   9  121   9  169   9  100   9    1     81\n3  16  100  16  121  16    1  16  169  16  144     81\n4  16    1  16  169  16  144  16  121  16  100     81\n"
     ]
    }
   ],
   "source": [
    "# Define the lambda transformation\n",
    "get_square = lambda x: x**2\n",
    "\n",
    "# Apply the transformation\n",
    "data_sum = poker_hands.apply(get_square)\n",
    "print(data_sum.head())"
   ]
  },
  {
   "source": [
    "# .apply() for rows iteration\n",
    ".apply() is a very useful to iterate through the rows of a DataFrame and apply a specific function.\n",
    "\n",
    "You will work on a subset of the poker_hands dataset, which includes only the rank of all the five cards of each hand in each row (this subset is generated for you in the script). You're going to get the variance of every hand for all ranks, and every rank for all hands."
   ],
   "cell_type": "markdown",
   "metadata": {}
  },
  {
   "cell_type": "code",
   "execution_count": null,
   "metadata": {},
   "outputs": [],
   "source": [
    "import math\n",
    "\n",
    "median \t\t    = lambda data: data[len(data)/2]\n",
    "mean \t\t    = lambda data: float(sum(data)/len(data))\n",
    "high_low\t\t= lambda data: (data[0], data[len(data)-1])\n",
    "variance \t    = lambda data, avg: sum([x**2 for x in [i-avg for i in data]])/float(len(data))\n",
    "std_dev \t    = lambda data: math.sqrt(variance(data, mean(data)))"
   ]
  },
  {
   "cell_type": "code",
   "execution_count": 5,
   "metadata": {},
   "outputs": [
    {
     "output_type": "stream",
     "name": "stdout",
     "text": [
      "0    18.64\n1    18.64\n2    18.64\n3    18.64\n4    18.64\ndtype: float64\n"
     ]
    }
   ],
   "source": [
    "import numpy as np \n",
    "\n",
    "# Define the lambda transformation\n",
    "get_variance = lambda x: np.var(x)\n",
    "\n",
    "# Apply the transformation\n",
    "data_tr = poker_hands[['R1', 'R2', 'R3', 'R4', 'R5']].apply(get_variance, axis=1)\n",
    "print(data_tr.head())"
   ]
  },
  {
   "cell_type": "code",
   "execution_count": 6,
   "metadata": {},
   "outputs": [
    {
     "output_type": "stream",
     "name": "stdout",
     "text": [
      "R1    14.060473\nR2    14.189523\nR3    14.024270\nR4    14.040552\nR5    13.998851\ndtype: float64\n"
     ]
    }
   ],
   "source": [
    "get_variance = lambda x: np.var(x)\n",
    "\n",
    "# Apply the transformation\n",
    "data_tr = poker_hands[['R1', 'R2', 'R3', 'R4', 'R5']].apply(get_variance, axis=0)\n",
    "print(data_tr.head())"
   ]
  },
  {
   "source": [
    "# Why vectorization in pandas is so fast?\n",
    "As you probably noticed in this lesson, we achieved a massive improvement using some form of vectorization.\n",
    "\n",
    "Where does this improvement come from?\n",
    "\n",
    "https://stackoverflow.com/questions/57018511/why-is-pandas-so-madly-fast-how-to-define-such-functions#:~:text=Most%20often%20the%20same%20result,implements%20highly%20efficient%20array%20operations"
   ],
   "cell_type": "markdown",
   "metadata": {}
  },
  {
   "source": [
    "# pandas vectorization in action\n",
    "In this exercise, you will apply vectorization over pandas series to:\n",
    "\n",
    "- calculate the mean rank of all the cards in each hand (row)\n",
    "- calculate the mean rank of each of the 5 cards in each hand (column)\n",
    "\n",
    "You will use the poker_hands dataset once again to compare both methods' efficiency."
   ],
   "cell_type": "markdown",
   "metadata": {}
  },
  {
   "cell_type": "code",
   "execution_count": 8,
   "metadata": {},
   "outputs": [
    {
     "output_type": "stream",
     "name": "stdout",
     "text": [
      "Time using pandas vectorization for rows: 0.004036903381347656 sec\n0    9.4\n1    9.4\n2    9.4\n3    9.4\n4    9.4\ndtype: float64\nTime using pandas vectorization for columns: 0.003004789352416992 sec\nR1    6.995242\nR2    7.014194\nR3    7.014154\nR4    6.942463\nR5    6.962735\ndtype: float64\n"
     ]
    }
   ],
   "source": [
    "import time\n",
    "# Calculate the mean rank in each hand\n",
    "row_start_time = time.time()\n",
    "mean_r = poker_hands[['R1', 'R2', 'R3', 'R4', 'R5']].mean(axis=1)\n",
    "print(\"Time using pandas vectorization for rows: {} sec\".format(time.time() - row_start_time))\n",
    "print(mean_r.head())\n",
    "\n",
    "# Calculate the mean rank of each of the 5 card in all hands\n",
    "col_start_time = time.time()\n",
    "mean_c = poker_hands[['R1', 'R2', 'R3', 'R4', 'R5']].mean(axis=0)\n",
    "print(\"Time using pandas vectorization for columns: {} sec\".format(time.time() - col_start_time))\n",
    "print(mean_c.head())"
   ]
  },
  {
   "source": [
    "# Best method of vectorization\n",
    "So far, you have encountered two vectorization methods:\n",
    "\n",
    "- Vectorization over pandas Series\n",
    "- Vectorization over Numpy ndarrays\n",
    "\n",
    "While these two methods outperform all the other methods, when can vectorization over NumPy ndarrays be used to replace vectorization over pandas Series?"
   ],
   "cell_type": "markdown",
   "metadata": {}
  },
  {
   "source": [
    "# Vectorization methods for looping a DataFrame\n",
    "Now that you're familiar with vectorization in pandas and NumPy, you're going to compare their respective performances yourself.\n",
    "\n",
    "Your task is to calculate the variance of all the hands in each hand using the vectorization over pandas Series and then modify your code using the vectorization over Numpy ndarrays method."
   ],
   "cell_type": "markdown",
   "metadata": {}
  },
  {
   "cell_type": "code",
   "execution_count": 9,
   "metadata": {},
   "outputs": [
    {
     "output_type": "stream",
     "name": "stdout",
     "text": [
      "Time using pandas vectorization: 0.0044384002685546875 sec\n0    23.3\n1    23.3\n2    23.3\n3    23.3\n4    23.3\ndtype: float64\n"
     ]
    }
   ],
   "source": [
    "# Calculate the variance in each hand\n",
    "start_time = time.time()\n",
    "poker_var = poker_hands[['R1', 'R2', 'R3', 'R4', 'R5']].var(axis=1)\n",
    "print(\"Time using pandas vectorization: {} sec\".format(time.time() - start_time))\n",
    "print(poker_var.head())"
   ]
  },
  {
   "cell_type": "code",
   "execution_count": 10,
   "metadata": {},
   "outputs": [
    {
     "output_type": "stream",
     "name": "stdout",
     "text": [
      "Time using NumPy vectorization: 0.004001617431640625 sec\n[23.3 23.3 23.3 23.3 23.3]\n"
     ]
    }
   ],
   "source": [
    "# Calculate the variance in each hand\n",
    "start_time = time.time()\n",
    "poker_var = poker_hands[['R1', 'R2', 'R3', 'R4', 'R5']].values.var(axis=1, ddof=1)\n",
    "print(\"Time using NumPy vectorization: {} sec\".format(time.time() - start_time))\n",
    "print(poker_var[0:5])"
   ]
  },
  {
   "cell_type": "code",
   "execution_count": null,
   "metadata": {},
   "outputs": [],
   "source": []
  }
 ]
}