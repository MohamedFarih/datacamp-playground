{
 "metadata": {
  "language_info": {
   "codemirror_mode": {
    "name": "ipython",
    "version": 3
   },
   "file_extension": ".py",
   "mimetype": "text/x-python",
   "name": "python",
   "nbconvert_exporter": "python",
   "pygments_lexer": "ipython3",
   "version": "3.7.9-final"
  },
  "orig_nbformat": 2,
  "kernelspec": {
   "name": "python3",
   "display_name": "Python 3",
   "language": "python"
  }
 },
 "nbformat": 4,
 "nbformat_minor": 2,
 "cells": [
  {
   "source": [
    "# Categorical data validation\n",
    "What expression asserts that the distinct Nobel Prize categories catalogued by the \"prizes\" collection are the same as those catalogued by the \"laureates\"? Remember to explore example documents in the console via e.g. db.prizes.find_one() and db.laureates.find_one()."
   ],
   "cell_type": "markdown",
   "metadata": {}
  },
  {
   "cell_type": "code",
   "execution_count": 1,
   "metadata": {},
   "outputs": [],
   "source": [
    "# assert set(db.prizes.distinct(\"category\")) == set(db.laureates.distinct(\"prizes.category\"))"
   ]
  },
  {
   "cell_type": "code",
   "execution_count": 2,
   "metadata": {},
   "outputs": [],
   "source": [
    "from pymongo import MongoClient\n",
    "\n",
    "client = MongoClient('mongodb://localhost:27017')\n",
    "\n",
    "# Connect to the \"nobel\" database\n",
    "db = client.nobel"
   ]
  },
  {
   "source": [
    "# Never from there, but sometimes there at last\n",
    "There are some recorded countries of death (\"diedCountry\") that do not appear as a country of birth (\"bornCountry\") for laureates. One such country is \"East Germany\"."
   ],
   "cell_type": "markdown",
   "metadata": {}
  },
  {
   "cell_type": "code",
   "execution_count": 3,
   "metadata": {},
   "outputs": [
    {
     "output_type": "stream",
     "name": "stdout",
     "text": [
      "{'USSR', 'Puerto Rico', 'Jamaica', 'Greece', 'Czechoslovakia', 'Israel', 'Gabon', 'Yugoslavia (now Serbia)', 'Tunisia', 'East Germany', 'Northern Rhodesia (now Zambia)', 'Philippines', 'Barbados'}\n"
     ]
    }
   ],
   "source": [
    "# Countries recorded as countries of death but not as countries of birth\n",
    "countries = set(db.laureates.distinct(\"diedCountry\")) - set(db.laureates.distinct(\"bornCountry\"))\n",
    "print(countries)"
   ]
  },
  {
   "source": [
    "# Countries of affiliation\n",
    "We saw in the last exercise that countries can be associated with a laureate as their country of birth and as their country of death. For each prize a laureate received, they may also have been affiliated with an institution at the time, located in a country."
   ],
   "cell_type": "markdown",
   "metadata": {}
  },
  {
   "cell_type": "code",
   "execution_count": 4,
   "metadata": {},
   "outputs": [
    {
     "output_type": "stream",
     "name": "stdout",
     "text": [
      "29\n"
     ]
    }
   ],
   "source": [
    "# The number of distinct countries of laureate affiliation for prizes\n",
    "count = len(db\n",
    "    .laureates\n",
    "    .distinct('prizes.affiliations.country'))\n",
    "print(count)"
   ]
  },
  {
   "source": [
    "# Born here, went there\n",
    "In which countries have USA-born laureates had affiliations for their prizes?\n",
    "\n",
    "Possible Answers:\n",
    "\n",
    "Australia, Denmark, United Kingdom, USA"
   ],
   "cell_type": "markdown",
   "metadata": {}
  },
  {
   "cell_type": "code",
   "execution_count": 5,
   "metadata": {},
   "outputs": [
    {
     "output_type": "stream",
     "name": "stdout",
     "text": [
      "['Australia', 'Denmark', 'USA', 'United Kingdom']\n"
     ]
    }
   ],
   "source": [
    "print(db.laureates.distinct('prizes.affiliations.country', {'bornCountry': 'USA'}))"
   ]
  },
  {
   "source": [
    "# Triple plays (mostly) all around\n",
    "Prizes can be shared, even by more than two laureates. In fact, all prize categories but one – literature – have had prizes shared by three or more laureates."
   ],
   "cell_type": "markdown",
   "metadata": {}
  },
  {
   "cell_type": "code",
   "execution_count": 6,
   "metadata": {},
   "outputs": [],
   "source": [
    "# Save a filter for prize documents with three or more laureates\n",
    "criteria = {\n",
    "    'laureates.2': {\n",
    "        '$exists': True\n",
    "    }\n",
    "}\n",
    "\n",
    "# Save the set of distinct prize categories in documents satisfying the criteria\n",
    "triple_play_categories = set(db\n",
    "                            .prizes\n",
    "                            .distinct(\n",
    "                                'category', \n",
    "                                criteria))\n",
    "\n",
    "# Confirm literature as the only category not satisfying the criteria.\n",
    "assert set(db.prizes.distinct(\"category\")) - triple_play_categories == {\"literature\"}"
   ]
  },
  {
   "source": [
    "# Sharing in physics after World War II\n",
    "What is the approximate ratio of the number of laureates who won an unshared ({\"share\": \"1\"}) prize in physics after World War II ({\"year\": {\"$gte\": \"1945\"}}) to the number of laureates who won a shared prize in physics after World War II?\n",
    "\n",
    "For reference, the code below determines the number of laureates who won a shared prize in physics before 1945.\n",
    "\n",
    "```\n",
    "db.laureates.count_documents({\n",
    "    \"prizes\": {\"$elemMatch\": {\n",
    "        \"category\": \"physics\",\n",
    "        \"share\": {\"$ne\": \"1\"},\n",
    "        \"year\": {\"$lt\": \"1945\"}}}})\n",
    "```"
   ],
   "cell_type": "markdown",
   "metadata": {}
  },
  {
   "cell_type": "code",
   "execution_count": 7,
   "metadata": {},
   "outputs": [
    {
     "output_type": "stream",
     "name": "stdout",
     "text": [
      "19\n"
     ]
    }
   ],
   "source": [
    "print(db.laureates.count_documents({\n",
    "    \"prizes\": {\"$elemMatch\": {\n",
    "        \"category\": \"physics\",\n",
    "        \"share\": {\"$ne\": \"1\"},\n",
    "        \"year\": {\"$lt\": \"1945\"}}}}))"
   ]
  },
  {
   "cell_type": "code",
   "execution_count": 8,
   "metadata": {},
   "outputs": [
    {
     "output_type": "stream",
     "name": "stdout",
     "text": [
      "143\n"
     ]
    }
   ],
   "source": [
    "print(db.laureates.count_documents({\n",
    "    \"prizes\": {\"$elemMatch\": {\n",
    "        \"category\": \"physics\",\n",
    "        \"share\": {\"$ne\": \"1\"},\n",
    "        \"year\": {\"$gte\": \"1945\"}}}}))"
   ]
  },
  {
   "cell_type": "code",
   "execution_count": 9,
   "metadata": {},
   "outputs": [
    {
     "output_type": "execute_result",
     "data": {
      "text/plain": [
       "0.13286713286713286"
      ]
     },
     "metadata": {},
     "execution_count": 9
    }
   ],
   "source": [
    "19 / 143"
   ]
  },
  {
   "source": [
    "# Meanwhile, in other categories...\n",
    "We learned in the last exercise that there has been significantly more sharing of physics prizes since World War II: the ratio of the number of laureates who won an unshared prize in physics in or after 1945 to the number of laureates who shared a prize in physics in or after 1945 is approximately 0.13. What is this ratio for prize categories other than physics, chemistry, and medicine?"
   ],
   "cell_type": "markdown",
   "metadata": {}
  },
  {
   "cell_type": "code",
   "execution_count": 10,
   "metadata": {},
   "outputs": [
    {
     "output_type": "stream",
     "name": "stdout",
     "text": [
      "1.3653846153846154\n"
     ]
    }
   ],
   "source": [
    "# Save a filter for laureates with unshared prizes\n",
    "unshared = {\n",
    "    \"prizes\": {\n",
    "        '$elemMatch': {\n",
    "        \"category\": {\n",
    "            \"$nin\": [\n",
    "                \"physics\", \n",
    "                \"chemistry\", \n",
    "                \"medicine\"]\n",
    "        },\n",
    "        \"share\": \"1\",\n",
    "        \"year\": {\n",
    "            \"$gte\": \"1945\"\n",
    "            },\n",
    "    }}}\n",
    "\n",
    "# Save a filter for laureates with shared prizes\n",
    "shared = {\n",
    "    \"prizes\": {\"$elemMatch\": {\n",
    "        \"category\": {\n",
    "            \"$nin\": [\n",
    "                \"physics\", \n",
    "                \"chemistry\", \n",
    "                \"medicine\"]\n",
    "        },\n",
    "        \"share\": {\n",
    "            \"$ne\": \"1\"\n",
    "        },\n",
    "        \"year\": {\n",
    "            \"$gte\": \"1945\"\n",
    "        },\n",
    "    }}}\n",
    "\n",
    "ratio = db.laureates.count_documents(unshared) / db.laureates.count_documents(shared)\n",
    "print(ratio)"
   ]
  },
  {
   "source": [
    "# Organizations and prizes over time\n",
    "How many organizations won prizes before 1945 versus in or after 1945?"
   ],
   "cell_type": "markdown",
   "metadata": {}
  },
  {
   "cell_type": "code",
   "execution_count": 11,
   "metadata": {},
   "outputs": [
    {
     "output_type": "stream",
     "name": "stdout",
     "text": [
      "0.84\n"
     ]
    }
   ],
   "source": [
    "# Save a filter for organization laureates with prizes won before 1945\n",
    "before = {\n",
    "    \"gender\": \"org\",\n",
    "    \"prizes.year\": {\n",
    "        \"$lt\": \"1945\"\n",
    "        },\n",
    "    }\n",
    "\n",
    "# Save a filter for organization laureates with prizes won in or after 1945\n",
    "in_or_after = {\n",
    "    'gender': 'org',\n",
    "    'prizes.year': {\n",
    "        '$gte': \"1945\"\n",
    "        },\n",
    "    }\n",
    "\n",
    "n_before = db.laureates.count_documents(before)\n",
    "n_in_or_after = db.laureates.count_documents(in_or_after)\n",
    "ratio = n_in_or_after / (n_in_or_after + n_before)\n",
    "print(ratio)"
   ]
  },
  {
   "source": [
    "# Glenn, George, and others in the G.B. crew\n",
    "There are two laureates with Berkeley, California as a prize affiliation city that have the initials G.S. - Glenn Seaborg and George Smoot. How many laureates in total have a first name beginning with \"G\" and a surname beginning with \"S\"?\n",
    "\n",
    "Evaluate the expression\n",
    "\n",
    "```\n",
    "db.laureates.count_documents({\"firstname\": Regex(____), \"surname\": Regex(____)})\n",
    "```\n",
    "\n",
    "in the console, filling in the blanks appropriately."
   ],
   "cell_type": "markdown",
   "metadata": {}
  },
  {
   "cell_type": "code",
   "execution_count": 12,
   "metadata": {},
   "outputs": [
    {
     "output_type": "stream",
     "name": "stdout",
     "text": [
      "9\n"
     ]
    }
   ],
   "source": [
    "from bson.regex import Regex\n",
    "print(db.laureates.count_documents({\n",
    "    \"firstname\": Regex(\"^G\"), \n",
    "    \"surname\": Regex(\"^S\")\n",
    "    }))"
   ]
  },
  {
   "source": [
    "# Germany, then and now\n",
    "Just as we saw with Poland, there are laureates who were born somewhere that was in Germany at the time but is now not, and others born somewhere that was not in Germany at the time but now is."
   ],
   "cell_type": "markdown",
   "metadata": {}
  },
  {
   "cell_type": "code",
   "execution_count": 13,
   "metadata": {},
   "outputs": [
    {
     "output_type": "stream",
     "name": "stdout",
     "text": [
      "{'Germany (now Russia)', 'Mecklenburg (now Germany)', 'Germany (now Poland)', 'East Friesland (now Germany)', 'Bavaria (now Germany)', 'Hesse-Kassel (now Germany)', 'Prussia (now Germany)', 'Schleswig (now Germany)', 'West Germany (now Germany)', 'W&uuml;rttemberg (now Germany)', 'Germany', 'Germany (now France)'}\n"
     ]
    }
   ],
   "source": [
    "from bson.regex import Regex\n",
    "\n",
    "# Filter for laureates with \"Germany\" in their \"bornCountry\" value\n",
    "criteria = {\n",
    "    \"bornCountry\": Regex(\"Germany\"\n",
    "    )}\n",
    "print(set(db.laureates.distinct(\"bornCountry\", criteria)))"
   ]
  },
  {
   "cell_type": "code",
   "execution_count": 14,
   "metadata": {},
   "outputs": [
    {
     "output_type": "stream",
     "name": "stdout",
     "text": [
      "{'Germany (now Russia)', 'Germany (now Poland)', 'Germany', 'Germany (now France)'}\n"
     ]
    }
   ],
   "source": [
    "from bson.regex import Regex\n",
    "\n",
    "# Filter for laureates with a \"bornCountry\" value starting with \"Germany\"\n",
    "criteria = {\n",
    "    \"bornCountry\": Regex(\"^Germany\", 0)\n",
    "    }\n",
    "\n",
    "print(set(db.laureates.distinct(\"bornCountry\", criteria)))"
   ]
  },
  {
   "cell_type": "code",
   "execution_count": 15,
   "metadata": {},
   "outputs": [
    {
     "output_type": "stream",
     "name": "stdout",
     "text": [
      "{'Germany (now Russia)', 'Germany (now Poland)', 'Germany (now France)'}\n"
     ]
    }
   ],
   "source": [
    "from bson.regex import Regex\n",
    "\n",
    "# Fill in a string value to be sandwiched between the strings \"^Germany \" and \"now\"\n",
    "criteria = {\"bornCountry\": Regex(\"^Germany \" + \"\\(\" + \"now\")}\n",
    "print(set(db.laureates.distinct(\"bornCountry\", criteria)))"
   ]
  },
  {
   "cell_type": "code",
   "execution_count": 16,
   "metadata": {},
   "outputs": [
    {
     "output_type": "stream",
     "name": "stdout",
     "text": [
      "{'Mecklenburg (now Germany)', 'East Friesland (now Germany)', 'Bavaria (now Germany)', 'Hesse-Kassel (now Germany)', 'Prussia (now Germany)', 'Schleswig (now Germany)', 'West Germany (now Germany)', 'W&uuml;rttemberg (now Germany)'}\n"
     ]
    }
   ],
   "source": [
    "from bson.regex import Regex\n",
    "\n",
    "#Filter for currently-Germany countries of birth. Fill in a string value to be sandwiched between the strings \"now\" and \"$\"\n",
    "criteria = {\"bornCountry\": Regex(\"now\" + \" Germany\\)\" + \"$\")}\n",
    "print(set(db.laureates.distinct(\"bornCountry\", criteria)))"
   ]
  },
  {
   "source": [
    "# The prized transistor\n",
    "Three people shared a Nobel prize \"for their researches on semiconductors and their discovery of the transistor effect\". We can filter on \"transistor\" as a substring of a laureate's \"prizes.motivation\" field value to find these laureates."
   ],
   "cell_type": "markdown",
   "metadata": {}
  },
  {
   "cell_type": "code",
   "execution_count": null,
   "metadata": {},
   "outputs": [],
   "source": [
    "from bson.regex import Regex\n",
    "\n",
    "# Save a filter for laureates with prize motivation values containing \"transistor\" as a substring\n",
    "criteria = {'prizes.motivation': Regex('transistor')}\n",
    "\n",
    "# Save the field names corresponding to a laureate's first name and last name\n",
    "first, last = 'firstname', 'surname'\n",
    "print([(laureate[first], laureate[last]) for laureate in db.laureates.find(criteria)])"
   ]
  }
 ]
}