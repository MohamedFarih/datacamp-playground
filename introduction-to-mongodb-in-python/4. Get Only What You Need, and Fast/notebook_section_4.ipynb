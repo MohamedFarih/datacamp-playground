{
 "metadata": {
  "language_info": {
   "codemirror_mode": {
    "name": "ipython",
    "version": 3
   },
   "file_extension": ".py",
   "mimetype": "text/x-python",
   "name": "python",
   "nbconvert_exporter": "python",
   "pygments_lexer": "ipython3",
   "version": "3.7.9-final"
  },
  "orig_nbformat": 2,
  "kernelspec": {
   "name": "python3",
   "display_name": "Python 3",
   "language": "python"
  }
 },
 "nbformat": 4,
 "nbformat_minor": 2,
 "cells": [
  {
   "source": [
    "# Sequencing stages\n",
    "Here is a cursor, followed by four aggregation pipeline stages:\n",
    "\n",
    "```\n",
    "cursor = (db.laureates.find(\n",
    "    projection={\"firstname\": 1, \"prizes.year\": 1, \"_id\": 0},\n",
    "    filter={\"gender\": \"org\"})\n",
    " .limit(3).sort(\"prizes.year\", -1))\n",
    "\n",
    "project_stage = {\"$project\": {\"firstname\": 1, \"prizes.year\": 1, \"_id\": 0}}\n",
    "match_stage = {\"$match\": {\"gender\": \"org\"}}\n",
    "limit_stage = {\"$limit\": 3}\n",
    "sort_stage = {\"$sort\": {\"prizes.year\": -1}}\n",
    "```\n",
    "\n",
    "What sequence pipeline of the above four stages can produce a cursor db.laureates.aggregate(pipeline) equivalent to cursor above?"
   ],
   "cell_type": "markdown",
   "metadata": {}
  },
  {
   "cell_type": "code",
   "execution_count": 1,
   "metadata": {},
   "outputs": [],
   "source": [
    "from pymongo import MongoClient\n",
    "\n",
    "client = MongoClient('mongodb://localhost:27017')\n",
    "\n",
    "# Connect to the \"nobel\" database\n",
    "db = client.nobel"
   ]
  },
  {
   "cell_type": "code",
   "execution_count": 2,
   "metadata": {},
   "outputs": [
    {
     "output_type": "execute_result",
     "data": {
      "text/plain": [
       "<pymongo.cursor.Cursor at 0x223518a3648>"
      ]
     },
     "metadata": {},
     "execution_count": 2
    }
   ],
   "source": [
    "cursor = (db.laureates.find(\n",
    "    projection={\"firstname\": 1, \"prizes.year\": 1, \"_id\": 0},\n",
    "    filter={\"gender\": \"org\"})\n",
    " .limit(3).sort(\"prizes.year\", -1))\n",
    "\n",
    "cursor"
   ]
  },
  {
   "cell_type": "code",
   "execution_count": 3,
   "metadata": {},
   "outputs": [],
   "source": [
    "project_stage = {\"$project\": {\"firstname\": 1, \"prizes.year\": 1, \"_id\": 0}}\n",
    "match_stage = {\"$match\": {\"gender\": \"org\"}}\n",
    "limit_stage = {\"$limit\": 3}\n",
    "sort_stage = {\"$sort\": {\"prizes.year\": -1}}"
   ]
  },
  {
   "source": [
    "# Aggregating a few individuals' country data\n",
    "The following query cursor yields birth-country and prize-affiliation-country information for three non-organization laureates:\n",
    "\n",
    "```\n",
    "cursor = (db.laureates.find(\n",
    "    {\"gender\": {\"$ne\": \"org\"}},\n",
    "    [\"bornCountry\", \"prizes.affiliations.country\"]\n",
    ").limit(3))\n",
    "```"
   ],
   "cell_type": "markdown",
   "metadata": {}
  },
  {
   "cell_type": "code",
   "execution_count": 4,
   "metadata": {},
   "outputs": [
    {
     "output_type": "stream",
     "name": "stdout",
     "text": [
      "the Netherlands: [{'affiliations': [{'country': 'the Netherlands'}]}]\nUSA: [{'affiliations': [{'country': 'USA'}]}]\nUSA: [{'affiliations': [{'country': 'USA'}]}]\n"
     ]
    }
   ],
   "source": [
    "# Translate cursor to aggregation pipeline\n",
    "pipeline = [\n",
    "    {'$match': {'gender': {'$ne': 'org'}}},\n",
    "    {'$project': {'bornCountry': 1, 'prizes.affiliations.country': 1}},\n",
    "    {'$limit': 3}\n",
    "]\n",
    "\n",
    "for doc in db.laureates.aggregate(pipeline):\n",
    "    print(\"{bornCountry}: {prizes}\".format(**doc))"
   ]
  },
  {
   "source": [
    "# Passing the aggregation baton to Python\n",
    "Construct an aggregation pipeline to collect, in reverse chronological order (i.e., descending year), prize documents for all original categories (that is, $in categories awarded in 1901). Project only the prize year and category (including document _id is fine).\n",
    "\n",
    "The aggregation cursor will be fed to Python's itertools.groupby function to group prizes by year. For each year that at least one of the original prize categories was missing, a line with all missing categories for that year will be printed."
   ],
   "cell_type": "markdown",
   "metadata": {}
  },
  {
   "cell_type": "code",
   "execution_count": 5,
   "metadata": {},
   "outputs": [
    {
     "output_type": "stream",
     "name": "stdout",
     "text": [
      "2018: literature\n1972: peace\n1967: peace\n1966: peace\n1956: peace\n1955: peace\n1948: peace\n1943: literature, peace\n1939: peace\n1935: literature\n1934: physics\n1933: chemistry\n1932: peace\n1931: physics\n1928: peace\n1925: medicine\n1924: chemistry, peace\n1923: peace\n1921: medicine\n1919: chemistry\n1918: literature, medicine, peace\n1917: chemistry, medicine\n1916: chemistry, medicine, peace, physics\n1915: medicine, peace\n1914: literature, peace\n"
     ]
    }
   ],
   "source": [
    "from collections import OrderedDict\n",
    "from itertools import groupby\n",
    "from operator import itemgetter\n",
    "\n",
    "original_categories = set(db.prizes.distinct(\"category\", {\"year\": \"1901\"}))\n",
    "\n",
    "# Save an pipeline to collect original-category prizes\n",
    "pipeline = [\n",
    "    {\"$match\": {\"category\": {\"$in\": list(original_categories)}}},\n",
    "    {\"$project\": {\"category\": 1, \"year\": 1}},\n",
    "    {\"$sort\": OrderedDict([(\"year\", -1)])}\n",
    "]\n",
    "cursor = db.prizes.aggregate(pipeline)\n",
    "for key, group in groupby(cursor, key=itemgetter(\"year\")):\n",
    "    missing = original_categories - {doc[\"category\"] for doc in group}\n",
    "    if missing:\n",
    "        print(\"{year}: {missing}\".format(\n",
    "            year=key, missing=\", \".join(sorted(missing))))"
   ]
  },
  {
   "source": [
    "# Field Paths and Sets\n",
    "Previously, we confirmed -- via a Python loop -- that for each prize, either all laureates have a 1/3 share, or none do. Now, let's do this via an aggregation (result should be an empty list):\n",
    "\n",
    "```\n",
    "list(db.prizes.aggregate([\n",
    "    {\"$project\": {\"allThree\": {\"$setEquals\": [____, ____]},\n",
    "                  \"noneThree\": {\"$not\": {\"$setIsSubset\": [____, ____]}}}},\n",
    "    {\"$match\": {\"$nor\": [{\"allThree\": True}, {\"noneThree\": True}]}}]))\n",
    "Which values fill the blanks?\n",
    "```"
   ],
   "cell_type": "markdown",
   "metadata": {}
  },
  {
   "cell_type": "code",
   "execution_count": 6,
   "metadata": {},
   "outputs": [
    {
     "output_type": "execute_result",
     "data": {
      "text/plain": [
       "[]"
      ]
     },
     "metadata": {},
     "execution_count": 6
    }
   ],
   "source": [
    "list(db.prizes.aggregate([\n",
    "    {\"$project\": {\"allThree\": {\"$setEquals\": [\"$laureates.share\", [\"3\"]]},\n",
    "                  \"noneThree\": {\"$not\": {\"$setIsSubset\": [[\"3\"], \"$laureates.share\"]}}}},\n",
    "    {\"$match\": {\"$nor\": [{\"allThree\": True}, {\"noneThree\": True}]}}]))"
   ]
  },
  {
   "source": [
    "# Organizing prizes\n",
    "In the slides at the beginning of this lesson, we saw a two-stage aggregation pipeline to determine the number of prizes awarded in total. How many prizes were awarded (at least partly) to organizations?"
   ],
   "cell_type": "markdown",
   "metadata": {}
  },
  {
   "cell_type": "code",
   "execution_count": 7,
   "metadata": {},
   "outputs": [
    {
     "output_type": "stream",
     "name": "stdout",
     "text": [
      "[{'_id': None, 'n_prizes_total': 27}]\n"
     ]
    }
   ],
   "source": [
    "# Count prizes awarded (at least partly) to organizations as a sum over sizes of \"prizes\" arrays.\n",
    "pipeline = [\n",
    "    {'$match': {'gender': \"org\"}},\n",
    "    {\"$project\": {\"n_prizes\": {\"$size\": '$prizes'}}},\n",
    "    {\"$group\": {\"_id\": None, \"n_prizes_total\": {\"$sum\": '$n_prizes'}}}\n",
    "]\n",
    "\n",
    "print(list(db.laureates.aggregate(pipeline)))"
   ]
  },
  {
   "source": [
    "# Gap years, aggregated\n",
    "In a previous exercise, you collected instances of prize categories not being awarded in particular years. You implemented this using a for loop in Python. You will now implement this as an aggregation pipeline that:\n",
    "\n",
    "1. Filters for original prize categories (i.e. sans economics),\n",
    "2. Projects category and year,\n",
    "3. Groups distinct prize categories awarded by year,\n",
    "4. Projects prize categories not awarded by year,\n",
    "5. Filters for years with missing prize categories, and\n",
    "6. Returns a cursor of documents in reverse chronological order, one per year, each with a list of missing prize categories for that year.\n",
    "\n",
    "Remember to use field paths (precede field names with \"$\") to extract field values in expressions."
   ],
   "cell_type": "markdown",
   "metadata": {}
  },
  {
   "cell_type": "code",
   "execution_count": 8,
   "metadata": {},
   "outputs": [
    {
     "output_type": "stream",
     "name": "stdout",
     "text": [
      "2018: literature\n1972: peace\n1967: peace\n1966: peace\n1956: peace\n1955: peace\n1948: peace\n1943: literature, peace\n1939: peace\n1935: literature\n1934: physics\n1933: chemistry\n1932: peace\n1931: physics\n1928: peace\n1925: medicine\n1924: chemistry, peace\n1923: peace\n1921: medicine\n1919: chemistry\n1918: literature, medicine, peace\n1917: chemistry, medicine\n1916: chemistry, medicine, peace, physics\n1915: medicine, peace\n1914: literature, peace\n"
     ]
    }
   ],
   "source": [
    "from collections import OrderedDict\n",
    "\n",
    "original_categories = sorted(set(db.prizes.distinct(\"category\", {\"year\": \"1901\"})))\n",
    "pipeline = [\n",
    "    {\"$match\": {\"category\": {\"$in\": original_categories}}},\n",
    "    {\"$project\": {\"category\": 1, \"year\": 1}},\n",
    "\n",
    "    # Collect the set of category values for each prize year.\n",
    "    {\"$group\": {\"_id\": '$year', \"categories\": {\"$addToSet\": \"$category\"}}},\n",
    "\n",
    "    # Project categories *not* awarded (i.e., that are missing this year).\n",
    "    {\"$project\": {\"missing\": {\"$setDifference\": [\n",
    "        original_categories, '$categories']}}},\n",
    "\n",
    "    # Only include years with at least one missing category\n",
    "    {\"$match\": {\"missing.0\": {\"$exists\": True}}},\n",
    "\n",
    "    # Sort in reverse chronological order. Note that \"_id\" is a distinct year at this stage.\n",
    "    {\"$sort\": OrderedDict([(\"_id\", -1)])},\n",
    "]\n",
    "for doc in db.prizes.aggregate(pipeline):\n",
    "    print(\"{year}: {missing}\".format(\n",
    "        year=doc[\"_id\"], missing=\", \".join(sorted(doc[\"missing\"]))))"
   ]
  },
  {
   "source": [
    "# Embedding aggregation expressions\n",
    "The $expr operator allows embedding of aggregation expressions in a normal query (or in a $match stage). Which of the following expressions counts the number of laureate documents with string-valued bornCountries when passed to db.laureates.count_documents?\n",
    "\n",
    "You can assume (and check!) that the following is true:\n",
    "\n",
    "```\n",
    "assert all(isinstance(v, str) for v in db.laureates.distinct(\"bornCountry\"))\n",
    "```"
   ],
   "cell_type": "markdown",
   "metadata": {}
  },
  {
   "source": [
    "# Here and elsewhere\n",
    "What proportion of laureates won a prize while affiliated with an institution in their country of birth? Build an aggregation pipeline to get the count of laureates who either did or did not win a prize with an affiliation country that is a substring of their country of birth -- for example, the prize affiliation country \"Germany\" should match the country of birth \"Prussia (now Germany)\"."
   ],
   "cell_type": "markdown",
   "metadata": {}
  },
  {
   "cell_type": "code",
   "execution_count": 9,
   "metadata": {},
   "outputs": [
    {
     "output_type": "stream",
     "name": "stdout",
     "text": [
      "{'_id': False, 'count': 261}\n{'_id': True, 'count': 477}\n"
     ]
    }
   ],
   "source": [
    "key_ac = \"prizes.affiliations.country\"\n",
    "key_bc = \"bornCountry\"\n",
    "pipeline = [\n",
    "    {\"$project\": {key_bc: 1, key_ac: 1}},\n",
    "\n",
    "    # Ensure a single prize affiliation country per pipeline document\n",
    "    {'$unwind': \"$prizes\"},\n",
    "    {'$unwind': \"$prizes.affiliations\"},\n",
    "\n",
    "    # Ensure values in the list of distinct values (so not empty)\n",
    "    {\"$match\": {key_ac: {'$in': db.laureates.distinct(key_ac)}}},\n",
    "    {\"$project\": {\"affilCountrySameAsBorn\": {\n",
    "        \"$gte\": [{\"$indexOfBytes\": [\"$\"+key_ac, \"$\"+key_bc]}, 0]}}},\n",
    "\n",
    "    # Count by \"$affilCountrySameAsBorn\" value (True or False)\n",
    "    {\"$group\": {\"_id\": \"$affilCountrySameAsBorn\",\n",
    "                \"count\": {\"$sum\": 1}}},\n",
    "]\n",
    "\n",
    "for doc in db.laureates.aggregate(pipeline): print(doc)"
   ]
  },
  {
   "source": [
    "# Countries of birth by prize category\n",
    "Some prize categories have laureates hailing from a greater number of countries than do other categories. You will build an aggregation pipeline for the prizes collection to collect these numbers, using a $lookup stage to obtain laureate countries of birth."
   ],
   "cell_type": "markdown",
   "metadata": {}
  },
  {
   "cell_type": "code",
   "execution_count": 10,
   "metadata": {},
   "outputs": [
    {
     "output_type": "stream",
     "name": "stdout",
     "text": [
      "{'_id': 'literature', 'nBornCountries': 55}\n{'_id': 'peace', 'nBornCountries': 50}\n{'_id': 'chemistry', 'nBornCountries': 48}\n{'_id': 'medicine', 'nBornCountries': 44}\n{'_id': 'physics', 'nBornCountries': 44}\n{'_id': 'economics', 'nBornCountries': 21}\n"
     ]
    }
   ],
   "source": [
    "pipeline = [\n",
    "    # Unwind the laureates array\n",
    "    {'$unwind': \"$laureates\"},\n",
    "    {\"$lookup\": {\n",
    "        \"from\": \"laureates\", \"foreignField\": \"id\",\n",
    "        \"localField\": \"laureates.id\", \"as\": \"laureate_bios\"}},\n",
    "\n",
    "    # Unwind the new laureate_bios array\n",
    "    {\"$unwind\": \"$laureate_bios\"},\n",
    "    {\"$project\": {\"category\": 1,\n",
    "                  \"bornCountry\": \"$laureate_bios.bornCountry\"}},\n",
    "\n",
    "    # Collect bornCountry values associated with each prize category\n",
    "    {\"$group\": {\"_id\": \"$category\",\n",
    "                \"bornCountries\": {\"$addToSet\": \"$bornCountry\"}}},\n",
    "\n",
    "    # Project out the size of each category's (set of) bornCountries\n",
    "    {\"$project\": {\"category\": 1,\n",
    "                  \"nBornCountries\": {\"$size\": \"$bornCountries\"}}},\n",
    "    {\"$sort\": {\"nBornCountries\": -1}},\n",
    "]\n",
    "\n",
    "for doc in db.prizes.aggregate(pipeline): print(doc)"
   ]
  },
  {
   "source": [
    "# \"...it's the life in your years\"\n",
    "For the pipeline we developed in the last slide deck, I want you to replace the last ($bucket) stage with one such that, given the documents docs collected, we can get the following output:\n",
    "\n",
    "```\n",
    "from operator import itemgetter\n",
    "\n",
    "print(max(docs, key=itemgetter(\"years\")))\n",
    "print(min(docs, key=itemgetter(\"years\")))\n",
    "{'firstname': 'Rita', 'surname': 'Levi-Montalcini', 'years': 103.0}\n",
    "{'firstname': 'Martin Luther', 'surname': 'King Jr.', 'years': 39.0}\n",
    "\n",
    "```\n",
    "You may assume that any earlier $project stage has been replaced by an equivalent $addFields stage."
   ],
   "cell_type": "markdown",
   "metadata": {}
  },
  {
   "cell_type": "code",
   "execution_count": 11,
   "metadata": {},
   "outputs": [
    {
     "output_type": "execute_result",
     "data": {
      "text/plain": [
       "{'$project': {'years': 1, 'firstname': 1, 'surname': 1, '_id': 0}}"
      ]
     },
     "metadata": {},
     "execution_count": 11
    }
   ],
   "source": [
    "{\"$project\": {\"years\": 1, \"firstname\": 1, \"surname\": 1, \"_id\": 0}}"
   ]
  },
  {
   "source": [
    "# How many prizes were awarded to immigrants?\n",
    "How many prizes were awarded to people who had no affiliation in their country of birth at the time of the award?"
   ],
   "cell_type": "markdown",
   "metadata": {}
  },
  {
   "cell_type": "code",
   "execution_count": 12,
   "metadata": {},
   "outputs": [
    {
     "output_type": "stream",
     "name": "stdout",
     "text": [
      "[{'awardedElsewhere': 478}]\n"
     ]
    }
   ],
   "source": [
    "pipeline = [\n",
    "    # Limit results to people; project needed fields; unwind prizes\n",
    "    {\"$match\": {\n",
    "        \"gender\": {\"$ne\": \"org\"}}},\n",
    "    {\"$project\": {\n",
    "        \"bornCountry\": 1, \"prizes.affiliations.country\": 1}},\n",
    "    {\"$unwind\": \"$prizes\"},\n",
    "\n",
    "    # Count prizes with no country-of-birth affiliation\n",
    "    {\"$addFields\": {\"bornCountryInAffiliations\": {\n",
    "        \"$in\": [\n",
    "            \"$bornCountry\", \n",
    "            \"$prizes.affiliations.country\"\n",
    "            ]}}},\n",
    "    {\"$match\": {\n",
    "        \"bornCountryInAffiliations\": False}},\n",
    "    {\"$count\": \"awardedElsewhere\"},\n",
    "]\n",
    "\n",
    "print(list(db.laureates.aggregate(pipeline)))"
   ]
  },
  {
   "source": [
    "# Refinement: filter out \"unaffiliated\" people\n",
    "In the previous exercise, we counted prizes awarded to people without an affiliation in their \"bornCountry\". However, hundreds of prizes were awarded to people without recorded affiliations; sure, their \"bornCountry\" is technically not the \"country\" of any of their affiliations, but there are no \"country\" values to compare against!"
   ],
   "cell_type": "markdown",
   "metadata": {}
  },
  {
   "cell_type": "code",
   "execution_count": 13,
   "metadata": {},
   "outputs": [
    {
     "output_type": "stream",
     "name": "stdout",
     "text": [
      "[{'awardedElsewhere': 252}]\n"
     ]
    }
   ],
   "source": [
    "pipeline = [\n",
    "    {\"$match\": {\n",
    "        \"gender\": {\n",
    "            \"$ne\": \"org\"\n",
    "        }\n",
    "    }},\n",
    "    {\"$project\": {\n",
    "        \"bornCountry\": 1, \n",
    "        \"prizes.affiliations.country\": 1\n",
    "        }\n",
    "    },\n",
    "    {\n",
    "        \"$unwind\": \"$prizes\"\n",
    "    },\n",
    "    {\"$addFields\": {\"bornCountryInAffiliations\": {\n",
    "        \"$in\": [\"$bornCountry\", \"$prizes.affiliations.country\"]}}},\n",
    "    {\"$match\": {\"bornCountryInAffiliations\": False}},\n",
    "    {\"$count\": \"awardedElsewhere\"},\n",
    "]\n",
    "\n",
    "# Construct the additional filter stage\n",
    "added_stage = {\"$match\": {\"prizes.affiliations.country\": {\n",
    "    '$in': db.laureates.distinct(\"prizes.affiliations.country\")}}}\n",
    "\n",
    "# Insert this stage into the pipeline\n",
    "pipeline.insert(3, added_stage)\n",
    "print(list(db.laureates.aggregate(pipeline)))\n"
   ]
  },
  {
   "cell_type": "code",
   "execution_count": null,
   "metadata": {},
   "outputs": [],
   "source": []
  }
 ]
}