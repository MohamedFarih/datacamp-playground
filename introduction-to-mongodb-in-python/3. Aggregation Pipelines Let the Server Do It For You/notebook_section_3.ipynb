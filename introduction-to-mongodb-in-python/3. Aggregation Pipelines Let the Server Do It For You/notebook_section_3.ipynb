{
 "metadata": {
  "language_info": {
   "codemirror_mode": {
    "name": "ipython",
    "version": 3
   },
   "file_extension": ".py",
   "mimetype": "text/x-python",
   "name": "python",
   "nbconvert_exporter": "python",
   "pygments_lexer": "ipython3",
   "version": "3.7.9-final"
  },
  "orig_nbformat": 2,
  "kernelspec": {
   "name": "python3",
   "display_name": "Python 3",
   "language": "python"
  }
 },
 "nbformat": 4,
 "nbformat_minor": 2,
 "cells": [
  {
   "source": [
    "# Shares of the 1903 Prize in Physics\n",
    "You want to examine the laureates of the 1903 prize in physics and how they split the prize. Here is a query without projection:\n",
    "\n",
    "db.laureates.find_one({\"prizes\": {\"$elemMatch\": {\"category\": \"physics\", \"year\": \"1903\"}}})\n",
    "Which projection(s) will fetch ONLY the laureates' full names and prize share info? I encourage you to experiment with the console and re-familiarize yourself with the structure of laureate collection documents."
   ],
   "cell_type": "markdown",
   "metadata": {}
  },
  {
   "cell_type": "code",
   "execution_count": 1,
   "metadata": {},
   "outputs": [],
   "source": [
    "from pymongo import MongoClient\n",
    "\n",
    "client = MongoClient('mongodb://localhost:27017')\n",
    "\n",
    "# Connect to the \"nobel\" database\n",
    "db = client.nobel"
   ]
  },
  {
   "cell_type": "code",
   "execution_count": 2,
   "metadata": {},
   "outputs": [
    {
     "output_type": "stream",
     "name": "stdout",
     "text": [
      "{'_id': ObjectId('6018024085c61d018cc9850d'), 'id': '4', 'firstname': 'Antoine Henri', 'surname': 'Becquerel', 'born': '1852-12-15', 'died': '1908-08-25', 'bornCountry': 'France', 'bornCountryCode': 'FR', 'bornCity': 'Paris', 'diedCountry': 'France', 'diedCountryCode': 'FR', 'gender': 'male', 'prizes': [{'year': '1903', 'category': 'physics', 'share': '2', 'motivation': '\"in recognition of the extraordinary services he has rendered by his discovery of spontaneous radioactivity\"', 'affiliations': [{'name': 'École Polytechnique', 'city': 'Paris', 'country': 'France'}]}]}\n"
     ]
    }
   ],
   "source": [
    "print(db.laureates.find_one({\"prizes\": {\"$elemMatch\": {\"category\": \"physics\", \"year\": \"1903\"}}}))"
   ]
  },
  {
   "cell_type": "code",
   "execution_count": 8,
   "metadata": {},
   "outputs": [
    {
     "output_type": "stream",
     "name": "stdout",
     "text": [
      "None\n"
     ]
    }
   ],
   "source": [
    "print(db.laureates.find_one({\"prizes\":[\"firstname\", \"surname\", \"prizes\"]}))"
   ]
  },
  {
   "cell_type": "code",
   "execution_count": 4,
   "metadata": {},
   "outputs": [
    {
     "output_type": "stream",
     "name": "stdout",
     "text": [
      "None\n"
     ]
    }
   ],
   "source": [
    "print(db.laureates.find_one([\"firstname\", \"surname\", \"prizes.share\"]))"
   ]
  },
  {
   "cell_type": "code",
   "execution_count": 9,
   "metadata": {},
   "outputs": [
    {
     "output_type": "stream",
     "name": "stdout",
     "text": [
      "None\n"
     ]
    }
   ],
   "source": [
    "print(db.laureates.find_one({\"prizes\": {\"firstname\": 1, \"surname\": 1, \"prizes.share\": 1, \"_id\": 0}}))"
   ]
  },
  {
   "source": [
    "# Rounding up the G.S. crew\n",
    "In chapter 2, you used a regular expression object Regex to find values that follow a pattern. We can also use the regular expression operator $regex for the same purpose. For example, the following query:\n",
    "\n",
    "{ \"name\": {$regex: \"^Py\"}    }\n",
    "will fetch documents where the field 'name' starts with \"Py\". Here the caret symbol ^ means \"starts with\".\n",
    "\n",
    "In this exercise, you will use regular expressions, projection, and list comprehension to collect the full names of laureates whose initials are \"G.S.\"."
   ],
   "cell_type": "markdown",
   "metadata": {}
  },
  {
   "cell_type": "code",
   "execution_count": 10,
   "metadata": {},
   "outputs": [
    {
     "output_type": "stream",
     "name": "stdout",
     "text": [
      "{'_id': ObjectId('6018024085c61d018cc985e8'), 'id': '421', 'firstname': 'George D.', 'surname': 'Snell', 'born': '1903-12-19', 'died': '1996-06-06', 'bornCountry': 'USA', 'bornCountryCode': 'US', 'bornCity': 'Bradford, MA', 'diedCountry': 'USA', 'diedCountryCode': 'US', 'diedCity': 'Bar Harbor, ME', 'gender': 'male', 'prizes': [{'year': '1980', 'category': 'medicine', 'share': '3', 'motivation': '\"for their discoveries concerning genetically determined structures on the cell surface that regulate immunological reactions\"', 'affiliations': [{'name': 'Jackson Laboratory', 'city': 'Bar Harbor, ME', 'country': 'USA'}]}]}\n"
     ]
    }
   ],
   "source": [
    "# Find laureates whose first name starts with \"G\" and last name starts with \"S\"\n",
    "docs = db.laureates.find(\n",
    "    filter={\n",
    "        \"firstname\": {\"$regex\": \"^G\"},\n",
    "        \"surname\": {\"$regex\": \"^S\"}})\n",
    "# Print the first document \n",
    "print(docs[0])"
   ]
  },
  {
   "cell_type": "code",
   "execution_count": 11,
   "metadata": {},
   "outputs": [
    {
     "output_type": "stream",
     "name": "stdout",
     "text": [
      "{'_id': ObjectId('6018024085c61d018cc985e8'), 'firstname': 'George D.', 'surname': 'Snell'}\n"
     ]
    }
   ],
   "source": [
    "# Use projection to select only firstname and surname\n",
    "docs = db.laureates.find(\n",
    "        filter= {\"firstname\" : {\"$regex\" : \"^G\"},\n",
    "                 \"surname\" : {\"$regex\" : \"^S\"}  },\n",
    "\tprojection=[\"firstname\", \"surname\"]) \n",
    "\n",
    "# Print the first document \n",
    "print(docs[0])"
   ]
  },
  {
   "cell_type": "code",
   "execution_count": 12,
   "metadata": {},
   "outputs": [
    {
     "output_type": "stream",
     "name": "stdout",
     "text": [
      "['George D. Snell', 'Gustav Stresemann', 'Glenn Theodore Seaborg', 'George J. Stigler', 'George F. Smoot', 'George E. Smith', 'George P. Smith', 'George Bernard Shaw', 'Giorgos Seferis']\n"
     ]
    }
   ],
   "source": [
    "# Use projection to select only firstname and surname\n",
    "docs = db.laureates.find(\n",
    "       filter= {\"firstname\" : {\"$regex\" : \"^G\"},\n",
    "                \"surname\" : {\"$regex\" : \"^S\"}  },\n",
    "   projection= [\"firstname\", \"surname\"]  )\n",
    "\n",
    "# Iterate over docs and concatenate first name and surname\n",
    "full_names = [doc[\"firstname\"] + \" \" + doc[\"surname\"] for doc in docs]\n",
    "\n",
    "# Print the full names\n",
    "print(full_names)"
   ]
  },
  {
   "source": [
    "# Doing our share of data validation\n",
    "In our Nobel prizes collection, each document has an array of laureate subdocuments \"laureates\", each containing information such as the prize share for a laureate:\n",
    "\n",
    "```\n",
    "{'_id': ObjectId('5bc56145f35b634065ba1997'),\n",
    " 'category': 'chemistry',\n",
    " 'laureates': [{'firstname': 'Frances H.',\n",
    "   'id': '963',\n",
    "   'motivation': '\"for the directed evolution of enzymes\"',\n",
    "   'share': '2',\n",
    "   'surname': 'Arnold'},\n",
    "  {'firstname': 'George P.',\n",
    "   'id': '964',\n",
    "   'motivation': '\"for the phage display of peptides and antibodies\"',\n",
    "   'share': '4',\n",
    "   'surname': 'Smith'},\n",
    " {...\n",
    "```\n",
    "\n",
    "Each \"laureates.share\" value appears to be the reciprocal of a laureate's fractional share of that prize, encoded as a string. For example, a laureate \"share\" of \"4\" means that this laureate received a $\\frac{1}{4}$ share of the prize. Let's check that for each prize, all the shares of all the laureates add up to 1!\n",
    "\n",
    "Notice the quotes around the values in the \"share\" field: these values are actually given as strings! You'll have to convert then to numbers before you find the reciprocals and add up the shares."
   ],
   "cell_type": "markdown",
   "metadata": {}
  },
  {
   "cell_type": "code",
   "execution_count": 13,
   "metadata": {},
   "outputs": [
    {
     "output_type": "stream",
     "name": "stdout",
     "text": [
      "1.0\n1.0\n1.0\n1.0\n1.0\n1.0\n1.0\n1.0\n1.0\n1.0\n1.0\n1.0\n1.0\n1.0\n1.0\n1.0\n1.0\n1.0\n1.0\n1.0\n1.0\n1.0\n1.0\n1.0\n1.0\n1.0\n1.0\n1.0\n1.0\n1.0\n1.0\n1.0\n1.0\n1.0\n1.0\n1.0\n1.0\n1.0\n1.0\n1.0\n1.0\n1.0\n1.0\n1.0\n1.0\n1.0\n1.0\n1.0\n1.0\n1.0\n1.0\n1.0\n1.0\n1.0\n1.0\n1.0\n1.0\n1.0\n1.0\n1.0\n1.0\n1.0\n1.0\n1.0\n1.0\n1.0\n1.0\n1.0\n1.0\n1.0\n1.0\n1.0\n1.0\n1.0\n1.0\n1.0\n1.0\n1.0\n1.0\n1.0\n1.0\n1.0\n1.0\n1.0\n1.0\n1.0\n1.0\n1.0\n1.0\n1.0\n1.0\n1.0\n1.0\n1.0\n1.0\n1.0\n1.0\n1.0\n1.0\n1.0\n1.0\n1.0\n1.0\n1.0\n1.0\n1.0\n1.0\n1.0\n1.0\n1.0\n1.0\n1.0\n1.0\n1.0\n1.0\n1.0\n1.0\n1.0\n1.0\n1.0\n1.0\n1.0\n1.0\n1.0\n1.0\n1.0\n1.0\n1.0\n1.0\n1.0\n1.0\n1.0\n1.0\n1.0\n1.0\n1.0\n1.0\n1.0\n1.0\n1.0\n1.0\n1.0\n1.0\n1.0\n1.0\n1.0\n1.0\n1.0\n1.0\n1.0\n1.0\n1.0\n1.0\n1.0\n1.0\n1.0\n1.0\n1.0\n1.0\n1.0\n1.0\n1.0\n1.0\n1.0\n1.0\n1.0\n1.0\n1.0\n1.0\n1.0\n1.0\n1.0\n1.0\n1.0\n1.0\n1.0\n1.0\n1.0\n1.0\n1.0\n1.0\n1.0\n1.0\n1.0\n1.0\n1.0\n1.0\n1.0\n1.0\n1.0\n1.0\n1.0\n1.0\n1.0\n1.0\n1.0\n1.0\n1.0\n1.0\n1.0\n1.0\n1.0\n1.0\n1.0\n1.0\n1.0\n1.0\n1.0\n1.0\n1.0\n1.0\n1.0\n1.0\n1.0\n1.0\n1.0\n1.0\n1.0\n1.0\n1.0\n1.0\n1.0\n1.0\n1.0\n1.0\n1.0\n1.0\n1.0\n1.0\n1.0\n1.0\n1.0\n1.0\n1.0\n1.0\n1.0\n1.0\n1.0\n1.0\n1.0\n1.0\n1.0\n1.0\n1.0\n1.0\n1.0\n1.0\n1.0\n1.0\n1.0\n1.0\n1.0\n1.0\n1.0\n1.0\n1.0\n1.0\n1.0\n1.0\n1.0\n1.0\n1.0\n1.0\n1.0\n1.0\n1.0\n1.0\n1.0\n1.0\n1.0\n1.0\n1.0\n1.0\n1.0\n1.0\n1.0\n1.0\n1.0\n1.0\n1.0\n1.0\n1.0\n1.0\n1.0\n1.0\n1.0\n1.0\n1.0\n1.0\n1.0\n1.0\n1.0\n1.0\n1.0\n1.0\n1.0\n1.0\n1.0\n1.0\n1.0\n1.0\n1.0\n1.0\n1.0\n1.0\n1.0\n1.0\n1.0\n1.0\n1.0\n1.0\n1.0\n1.0\n1.0\n1.0\n1.0\n1.0\n1.0\n1.0\n1.0\n1.0\n1.0\n1.0\n1.0\n1.0\n1.0\n1.0\n1.0\n1.0\n1.0\n1.0\n1.0\n1.0\n1.0\n1.0\n1.0\n1.0\n1.0\n1.0\n1.0\n1.0\n1.0\n1.0\n1.0\n1.0\n1.0\n1.0\n1.0\n1.0\n1.0\n1.0\n1.0\n1.0\n1.0\n1.0\n1.0\n1.0\n1.0\n1.0\n1.0\n1.0\n1.0\n1.0\n1.0\n1.0\n1.0\n1.0\n1.0\n1.0\n1.0\n1.0\n1.0\n1.0\n1.0\n1.0\n1.0\n1.0\n1.0\n1.0\n1.0\n1.0\n1.0\n1.0\n1.0\n1.0\n1.0\n1.0\n1.0\n1.0\n1.0\n1.0\n1.0\n1.0\n1.0\n1.0\n1.0\n1.0\n1.0\n1.0\n1.0\n1.0\n1.0\n1.0\n1.0\n1.0\n1.0\n1.0\n1.0\n1.0\n1.0\n1.0\n1.0\n1.0\n1.0\n1.0\n1.0\n1.0\n1.0\n1.0\n1.0\n1.0\n1.0\n1.0\n1.0\n1.0\n1.0\n1.0\n1.0\n1.0\n1.0\n1.0\n1.0\n1.0\n1.0\n1.0\n1.0\n1.0\n1.0\n1.0\n1.0\n1.0\n1.0\n1.0\n1.0\n1.0\n1.0\n1.0\n1.0\n1.0\n1.0\n1.0\n1.0\n1.0\n1.0\n1.0\n1.0\n1.0\n1.0\n1.0\n1.0\n1.0\n1.0\n1.0\n1.0\n1.0\n1.0\n1.0\n1.0\n1.0\n1.0\n1.0\n1.0\n1.0\n1.0\n1.0\n1.0\n1.0\n1.0\n1.0\n1.0\n1.0\n1.0\n1.0\n1.0\n1.0\n1.0\n1.0\n1.0\n1.0\n1.0\n1.0\n1.0\n1.0\n1.0\n1.0\n1.0\n1.0\n1.0\n1.0\n1.0\n1.0\n1.0\n1.0\n1.0\n1.0\n1.0\n1.0\n1.0\n1.0\n1.0\n1.0\n1.0\n1.0\n1.0\n1.0\n1.0\n1.0\n1.0\n1.0\n1.0\n1.0\n1.0\n1.0\n1.0\n1.0\n1.0\n1.0\n1.0\n1.0\n1.0\n1.0\n1.0\n1.0\n1.0\n1.0\n1.0\n1.0\n1.0\n1.0\n1.0\n1.0\n1.0\n1.0\n1.0\n1.0\n1.0\n1.0\n1.0\n1.0\n1.0\n1.0\n1.0\n1.0\n1.0\n1.0\n1.0\n1.0\n1.0\n1.0\n1.0\n1.0\n1.0\n1.0\n1.0\n1.0\n1.0\n1.0\n1.0\n1.0\n1.0\n1.0\n1.0\n1.0\n1.0\n1.0\n1.0\n1.0\n1.0\n1.0\n1.0\n1.0\n1.0\n1.0\n1.0\n1.0\n1.0\n1.0\n1.0\n1.0\n1.0\n"
     ]
    }
   ],
   "source": [
    "# Save documents, projecting out laureates share\n",
    "prizes = db.prizes.find({}, [\"laureates.share\"])\n",
    "\n",
    "# Iterate over prizes\n",
    "for prize in prizes:\n",
    "    # Initialize total share\n",
    "    total_share = 0\n",
    "\n",
    "    # Iterate over laureates for the prize\n",
    "    for laureate in prize[\"laureates\"]:\n",
    "        # add the share of the laureate to total_share\n",
    "        total_share += 1 / float(laureate['share'])\n",
    "\n",
    "    # Print the total share\n",
    "    print(total_share)  "
   ]
  },
  {
   "source": [
    "# What the sort?\n",
    "This block prints out the first five projections of a sorted query. What \"sort\" argument fills the blank?\n",
    "\n",
    "```\n",
    "docs = list(db.laureates.find(\n",
    "    {\"born\": {\"$gte\": \"1900\"}, \"prizes.year\": {\"$gte\": \"1954\"}},\n",
    "    {\"born\": 1, \"prizes.year\": 1, \"_id\": 0},\n",
    "    sort=____))\n",
    "for doc in docs[:5]:\n",
    "    print(doc)\n",
    "```\n",
    "\n",
    "```\n",
    "{'born': '1916-08-25', 'prizes': [{'year': '1954'}]}\n",
    "{'born': '1915-06-15', 'prizes': [{'year': '1954'}]}\n",
    "{'born': '1901-02-28', 'prizes': [{'year': '1954'}, {'year': '1962'}]}\n",
    "{'born': '1913-07-12', 'prizes': [{'year': '1955'}]}\n",
    "{'born': '1911-01-26', 'prizes': [{'year': '1955'}]}\n",
    "```"
   ],
   "cell_type": "markdown",
   "metadata": {}
  },
  {
   "cell_type": "code",
   "execution_count": 16,
   "metadata": {},
   "outputs": [
    {
     "output_type": "stream",
     "name": "stdout",
     "text": [
      "{'born': '1916-08-25', 'prizes': [{'year': '1954'}]}\n{'born': '1915-06-15', 'prizes': [{'year': '1954'}]}\n{'born': '1901-02-28', 'prizes': [{'year': '1954'}, {'year': '1962'}]}\n{'born': '1913-07-12', 'prizes': [{'year': '1955'}]}\n{'born': '1911-01-26', 'prizes': [{'year': '1955'}]}\n"
     ]
    }
   ],
   "source": [
    "docs = list(db.laureates.find(\n",
    "    {\"born\": {\"$gte\": \"1900\"}, \"prizes.year\": {\"$gte\": \"1954\"}},\n",
    "    {\"born\": 1, \"prizes.year\": 1, \"_id\": 0},\n",
    "    sort=[(\"prizes.year\", 1), (\"born\", -1)]))\n",
    "for doc in docs[:5]:\n",
    "    print(doc)"
   ]
  },
  {
   "cell_type": "code",
   "execution_count": 17,
   "metadata": {},
   "outputs": [
    {
     "output_type": "error",
     "ename": "TypeError",
     "evalue": "passing a dict to sort/create_index/hint is not allowed - use a list of tuples instead. did you mean [('prizes.year', 1), ('born', -1)]?",
     "traceback": [
      "\u001b[1;31m---------------------------------------------------------------------------\u001b[0m",
      "\u001b[1;31mTypeError\u001b[0m                                 Traceback (most recent call last)",
      "\u001b[1;32m<ipython-input-17-83ac431d45c3>\u001b[0m in \u001b[0;36m<module>\u001b[1;34m\u001b[0m\n\u001b[0;32m      2\u001b[0m     \u001b[1;33m{\u001b[0m\u001b[1;34m\"born\"\u001b[0m\u001b[1;33m:\u001b[0m \u001b[1;33m{\u001b[0m\u001b[1;34m\"$gte\"\u001b[0m\u001b[1;33m:\u001b[0m \u001b[1;34m\"1900\"\u001b[0m\u001b[1;33m}\u001b[0m\u001b[1;33m,\u001b[0m \u001b[1;34m\"prizes.year\"\u001b[0m\u001b[1;33m:\u001b[0m \u001b[1;33m{\u001b[0m\u001b[1;34m\"$gte\"\u001b[0m\u001b[1;33m:\u001b[0m \u001b[1;34m\"1954\"\u001b[0m\u001b[1;33m}\u001b[0m\u001b[1;33m}\u001b[0m\u001b[1;33m,\u001b[0m\u001b[1;33m\u001b[0m\u001b[1;33m\u001b[0m\u001b[0m\n\u001b[0;32m      3\u001b[0m     \u001b[1;33m{\u001b[0m\u001b[1;34m\"born\"\u001b[0m\u001b[1;33m:\u001b[0m \u001b[1;36m1\u001b[0m\u001b[1;33m,\u001b[0m \u001b[1;34m\"prizes.year\"\u001b[0m\u001b[1;33m:\u001b[0m \u001b[1;36m1\u001b[0m\u001b[1;33m,\u001b[0m \u001b[1;34m\"_id\"\u001b[0m\u001b[1;33m:\u001b[0m \u001b[1;36m0\u001b[0m\u001b[1;33m}\u001b[0m\u001b[1;33m,\u001b[0m\u001b[1;33m\u001b[0m\u001b[1;33m\u001b[0m\u001b[0m\n\u001b[1;32m----> 4\u001b[1;33m     sort={\"prizes.year\": 1, \"born\": -1}))\n\u001b[0m\u001b[0;32m      5\u001b[0m \u001b[1;32mfor\u001b[0m \u001b[0mdoc\u001b[0m \u001b[1;32min\u001b[0m \u001b[0mdocs\u001b[0m\u001b[1;33m[\u001b[0m\u001b[1;33m:\u001b[0m\u001b[1;36m5\u001b[0m\u001b[1;33m]\u001b[0m\u001b[1;33m:\u001b[0m\u001b[1;33m\u001b[0m\u001b[1;33m\u001b[0m\u001b[0m\n\u001b[0;32m      6\u001b[0m     \u001b[0mprint\u001b[0m\u001b[1;33m(\u001b[0m\u001b[0mdoc\u001b[0m\u001b[1;33m)\u001b[0m\u001b[1;33m\u001b[0m\u001b[1;33m\u001b[0m\u001b[0m\n",
      "\u001b[1;32mD:\\Src\\Python37\\lib\\site-packages\\pymongo\\collection.py\u001b[0m in \u001b[0;36mfind\u001b[1;34m(self, *args, **kwargs)\u001b[0m\n\u001b[0;32m   1521\u001b[0m \u001b[1;33m\u001b[0m\u001b[0m\n\u001b[0;32m   1522\u001b[0m         \"\"\"\n\u001b[1;32m-> 1523\u001b[1;33m         \u001b[1;32mreturn\u001b[0m \u001b[0mCursor\u001b[0m\u001b[1;33m(\u001b[0m\u001b[0mself\u001b[0m\u001b[1;33m,\u001b[0m \u001b[1;33m*\u001b[0m\u001b[0margs\u001b[0m\u001b[1;33m,\u001b[0m \u001b[1;33m**\u001b[0m\u001b[0mkwargs\u001b[0m\u001b[1;33m)\u001b[0m\u001b[1;33m\u001b[0m\u001b[1;33m\u001b[0m\u001b[0m\n\u001b[0m\u001b[0;32m   1524\u001b[0m \u001b[1;33m\u001b[0m\u001b[0m\n\u001b[0;32m   1525\u001b[0m     \u001b[1;32mdef\u001b[0m \u001b[0mfind_raw_batches\u001b[0m\u001b[1;33m(\u001b[0m\u001b[0mself\u001b[0m\u001b[1;33m,\u001b[0m \u001b[1;33m*\u001b[0m\u001b[0margs\u001b[0m\u001b[1;33m,\u001b[0m \u001b[1;33m**\u001b[0m\u001b[0mkwargs\u001b[0m\u001b[1;33m)\u001b[0m\u001b[1;33m:\u001b[0m\u001b[1;33m\u001b[0m\u001b[1;33m\u001b[0m\u001b[0m\n",
      "\u001b[1;32mD:\\Src\\Python37\\lib\\site-packages\\pymongo\\cursor.py\u001b[0m in \u001b[0;36m__init__\u001b[1;34m(self, collection, filter, projection, skip, limit, no_cursor_timeout, cursor_type, sort, allow_partial_results, oplog_replay, modifiers, batch_size, manipulate, collation, hint, max_scan, max_time_ms, max, min, return_key, show_record_id, snapshot, comment, session, allow_disk_use)\u001b[0m\n\u001b[0;32m    177\u001b[0m         \u001b[0mself\u001b[0m\u001b[1;33m.\u001b[0m\u001b[0m__batch_size\u001b[0m \u001b[1;33m=\u001b[0m \u001b[0mbatch_size\u001b[0m\u001b[1;33m\u001b[0m\u001b[1;33m\u001b[0m\u001b[0m\n\u001b[0;32m    178\u001b[0m         \u001b[0mself\u001b[0m\u001b[1;33m.\u001b[0m\u001b[0m__modifiers\u001b[0m \u001b[1;33m=\u001b[0m \u001b[0mmodifiers\u001b[0m \u001b[1;32mand\u001b[0m \u001b[0mmodifiers\u001b[0m\u001b[1;33m.\u001b[0m\u001b[0mcopy\u001b[0m\u001b[1;33m(\u001b[0m\u001b[1;33m)\u001b[0m \u001b[1;32mor\u001b[0m \u001b[1;33m{\u001b[0m\u001b[1;33m}\u001b[0m\u001b[1;33m\u001b[0m\u001b[1;33m\u001b[0m\u001b[0m\n\u001b[1;32m--> 179\u001b[1;33m         \u001b[0mself\u001b[0m\u001b[1;33m.\u001b[0m\u001b[0m__ordering\u001b[0m \u001b[1;33m=\u001b[0m \u001b[0msort\u001b[0m \u001b[1;32mand\u001b[0m \u001b[0mhelpers\u001b[0m\u001b[1;33m.\u001b[0m\u001b[0m_index_document\u001b[0m\u001b[1;33m(\u001b[0m\u001b[0msort\u001b[0m\u001b[1;33m)\u001b[0m \u001b[1;32mor\u001b[0m \u001b[1;32mNone\u001b[0m\u001b[1;33m\u001b[0m\u001b[1;33m\u001b[0m\u001b[0m\n\u001b[0m\u001b[0;32m    180\u001b[0m         \u001b[0mself\u001b[0m\u001b[1;33m.\u001b[0m\u001b[0m__max_scan\u001b[0m \u001b[1;33m=\u001b[0m \u001b[0mmax_scan\u001b[0m\u001b[1;33m\u001b[0m\u001b[1;33m\u001b[0m\u001b[0m\n\u001b[0;32m    181\u001b[0m         \u001b[0mself\u001b[0m\u001b[1;33m.\u001b[0m\u001b[0m__explain\u001b[0m \u001b[1;33m=\u001b[0m \u001b[1;32mFalse\u001b[0m\u001b[1;33m\u001b[0m\u001b[1;33m\u001b[0m\u001b[0m\n",
      "\u001b[1;32mD:\\Src\\Python37\\lib\\site-packages\\pymongo\\helpers.py\u001b[0m in \u001b[0;36m_index_document\u001b[1;34m(index_list)\u001b[0m\n\u001b[0;32m     85\u001b[0m         raise TypeError(\"passing a dict to sort/create_index/hint is not \"\n\u001b[0;32m     86\u001b[0m                         \u001b[1;34m\"allowed - use a list of tuples instead. did you \"\u001b[0m\u001b[1;33m\u001b[0m\u001b[1;33m\u001b[0m\u001b[0m\n\u001b[1;32m---> 87\u001b[1;33m                         \"mean %r?\" % list(iteritems(index_list)))\n\u001b[0m\u001b[0;32m     88\u001b[0m     \u001b[1;32melif\u001b[0m \u001b[1;32mnot\u001b[0m \u001b[0misinstance\u001b[0m\u001b[1;33m(\u001b[0m\u001b[0mindex_list\u001b[0m\u001b[1;33m,\u001b[0m \u001b[1;33m(\u001b[0m\u001b[0mlist\u001b[0m\u001b[1;33m,\u001b[0m \u001b[0mtuple\u001b[0m\u001b[1;33m)\u001b[0m\u001b[1;33m)\u001b[0m\u001b[1;33m:\u001b[0m\u001b[1;33m\u001b[0m\u001b[1;33m\u001b[0m\u001b[0m\n\u001b[0;32m     89\u001b[0m         raise TypeError(\"must use a list of (key, direction) pairs, \"\n",
      "\u001b[1;31mTypeError\u001b[0m: passing a dict to sort/create_index/hint is not allowed - use a list of tuples instead. did you mean [('prizes.year', 1), ('born', -1)]?"
     ]
    }
   ],
   "source": [
    "docs = list(db.laureates.find(\n",
    "    {\"born\": {\"$gte\": \"1900\"}, \"prizes.year\": {\"$gte\": \"1954\"}},\n",
    "    {\"born\": 1, \"prizes.year\": 1, \"_id\": 0},\n",
    "    sort={\"prizes.year\": 1, \"born\": -1}))\n",
    "for doc in docs[:5]:\n",
    "    print(doc)"
   ]
  },
  {
   "source": [
    "# Sorting together: MongoDB + Python\n",
    "In this exercise you'll explore the prizes in the physics category.You will use Python to sort laureates for one prize by last name, and then MongoDB to sort prizes by year:\n",
    "\n",
    "```\n",
    "1901: Röntgen\n",
    "1902: Lorentz and Zeeman\n",
    "1903: Becquerel and Curie and Curie, née Sklodowska\n",
    "```\n",
    "\n",
    "You'll start by writing a function that takes a prize document as an argument, extracts all the laureates from that document, arranges them in alphabetical order, and returns a string containing the last names separated by \" and \".\n",
    "\n",
    "The Nobel database is again available to you as db. We also pre-loaded a sample document sample_doc so you can test your laureate-extracting function.\n",
    "\n",
    "(Remember that you can always type help(function_name) in console to get a refresher on functions you might be less familiar with, e.g. help(sorted)!)"
   ],
   "cell_type": "markdown",
   "metadata": {}
  },
  {
   "cell_type": "code",
   "execution_count": 24,
   "metadata": {},
   "outputs": [
    {
     "output_type": "stream",
     "name": "stdout",
     "text": [
      "{'_id': ObjectId('6018022985c61d018cc9827d'), 'year': '2018', 'category': 'physics', 'overallMotivation': '“for groundbreaking inventions in the field of laser physics”', 'laureates': [{'id': '960', 'firstname': 'Arthur', 'surname': 'Ashkin', 'motivation': '\"for the optical tweezers and their application to biological systems\"', 'share': '2'}, {'id': '961', 'firstname': 'Gérard', 'surname': 'Mourou', 'motivation': '\"for their method of generating high-intensity, ultra-short optical pulses\"', 'share': '4'}, {'id': '962', 'firstname': 'Donna', 'surname': 'Strickland', 'motivation': '\"for their method of generating high-intensity, ultra-short optical pulses\"', 'share': '4'}]}\n"
     ]
    }
   ],
   "source": [
    "print(db.prizes.find_one())"
   ]
  },
  {
   "cell_type": "code",
   "execution_count": 25,
   "metadata": {},
   "outputs": [
    {
     "output_type": "stream",
     "name": "stdout",
     "text": [
      "Ashkin and Mourou and Strickland\n"
     ]
    }
   ],
   "source": [
    "from operator import itemgetter\n",
    "\n",
    "sample_prize = db.prizes.find_one()\n",
    "\n",
    "def all_laureates(prize):  \n",
    "  # sort the laureates by surname\n",
    "  sorted_laureates = sorted(prize['laureates'], key=itemgetter('surname'))\n",
    "  \n",
    "  # extract surnames\n",
    "  surnames = [laureate[\"surname\"] for laureate in sorted_laureates]\n",
    "  \n",
    "  # concatenate surnames separated with \" and \" \n",
    "  all_names = \" and \".join(surnames)\n",
    "  \n",
    "  return all_names\n",
    "\n",
    "# test the function on a sample doc\n",
    "print(all_laureates(sample_prize))"
   ]
  },
  {
   "cell_type": "code",
   "execution_count": 26,
   "metadata": {},
   "outputs": [],
   "source": [
    "from operator import itemgetter\n",
    "\n",
    "def all_laureates(prize):  \n",
    "  # sort the laureates by surname\n",
    "  sorted_laureates = sorted(prize[\"laureates\"], key=itemgetter(\"surname\"))\n",
    "  \n",
    "  # extract surnames\n",
    "  surnames = [laureate[\"surname\"] for laureate in sorted_laureates]\n",
    "  \n",
    "  # concatenate surnames separated with \" and \" \n",
    "  all_names = \" and \".join(surnames)\n",
    "  \n",
    "  return all_names\n",
    "\n",
    "# find physics prizes, project year and first and last name, and sort by year\n",
    "docs = db.prizes.find(\n",
    "           filter={\"category\": \"physics\"},\n",
    "           projection=[\"year\", \"laureates.firstname\", \"laureates.surname\"],\n",
    "           sort=[(\"year\", 1)])"
   ]
  },
  {
   "cell_type": "code",
   "execution_count": 27,
   "metadata": {},
   "outputs": [
    {
     "output_type": "stream",
     "name": "stdout",
     "text": [
      "1901: Röntgen\n1902: Lorentz and Zeeman\n1903: Becquerel and Curie and Curie, née Sklodowska\n1904: (John William Strutt)\n1905: von Lenard\n1906: Thomson\n1907: Michelson\n1908: Lippmann\n1909: Braun and Marconi\n1910: van der Waals\n1911: Wien\n1912: Dalén\n1913: Kamerlingh Onnes\n1914: von Laue\n1915: Bragg and Bragg\n1917: Barkla\n1918: Planck\n1919: Stark\n1920: Guillaume\n1921: Einstein\n1922: Bohr\n1923: Millikan\n1924: Siegbahn\n1925: Franck and Hertz\n1926: Perrin\n1927: Compton and Wilson\n1928: Richardson\n1929: de Broglie\n1930: Raman\n1932: Heisenberg\n1933: Dirac and Schrödinger\n1935: Chadwick\n1936: Anderson and Hess\n1937: Davisson and Thomson\n1938: Fermi\n1939: Lawrence\n1943: Stern\n1944: Rabi\n1945: Pauli\n1946: Bridgman\n1947: Appleton\n1948: Blackett\n1949: Yukawa\n1950: Powell\n1951: Cockcroft and Walton\n1952: Bloch and Purcell\n1953: Zernike\n1954: Born and Bothe\n1955: Kusch and Lamb\n1956: Bardeen and Brattain and Shockley\n1957: Lee and Yang\n1958: Cherenkov and Frank and Tamm\n1959: Chamberlain and Segrè\n1960: Glaser\n1961: Hofstadter and Mössbauer\n1962: Landau\n1963: Goeppert Mayer and Jensen and Wigner\n1964: Basov and Prokhorov and Townes\n1965: Feynman and Schwinger and Tomonaga\n1966: Kastler\n1967: Bethe\n1968: Alvarez\n1969: Gell-Mann\n1970: Alfvén and Néel\n1971: Gabor\n1972: Bardeen and Cooper and Schrieffer\n1973: Esaki and Giaever and Josephson\n1974: Hewish and Ryle\n1975: Bohr and Mottelson and Rainwater\n1976: Richter and Ting\n1977: Anderson and Mott and van Vleck\n1978: Kapitsa and Penzias and Wilson\n1979: Glashow and Salam and Weinberg\n1980: Cronin and Fitch\n1981: Bloembergen and Schawlow and Siegbahn\n1982: Wilson\n1983: Chandrasekhar and Fowler\n1984: Rubbia and van der Meer\n1985: von Klitzing\n1986: Binnig and Rohrer and Ruska\n1987: Bednorz and Müller\n1988: Lederman and Schwartz and Steinberger\n1989: Dehmelt and Paul and Ramsey\n1990: Friedman and Kendall and Taylor\n1991: de Gennes\n1992: Charpak\n1993: Hulse and Taylor Jr.\n1994: Brockhouse and Shull\n1995: Perl and Reines\n1996: Lee and Osheroff and Richardson\n1997: Chu and Cohen-Tannoudji and Phillips\n1998: Laughlin and Störmer and Tsui\n1999: 't Hooft and Veltman\n2000: Alferov and Kilby and Kroemer\n2001: Cornell and Ketterle and Wieman\n2002: Davis Jr. and Giacconi and Koshiba\n2003: Abrikosov and Ginzburg and Leggett\n2004: Gross and Politzer and Wilczek\n2005: Glauber and Hall and Hänsch\n2006: Mather and Smoot\n2007: Fert and Grünberg\n2008: Kobayashi and Maskawa and Nambu\n2009: Boyle and Kao and Smith\n2010: Geim and Novoselov\n2011: Perlmutter and Riess and Schmidt\n2012: Haroche and Wineland\n2013: Englert and Higgs\n2014: Akasaki and Amano and Nakamura\n2015: Kajita and McDonald\n2016: Haldane and Kosterlitz and Thouless\n2017: Barish and Thorne and Weiss\n2018: Ashkin and Mourou and Strickland\n"
     ]
    }
   ],
   "source": [
    "from operator import itemgetter\n",
    "\n",
    "def all_laureates(prize):  \n",
    "  # sort the laureates by surname\n",
    "  sorted_laureates = sorted(prize[\"laureates\"], key=itemgetter(\"surname\"))\n",
    "  \n",
    "  # extract surnames\n",
    "  surnames = [laureate[\"surname\"] for laureate in sorted_laureates]\n",
    "  \n",
    "  # concatenate surnames separated with \" and \" \n",
    "  all_names = \" and \".join(surnames)\n",
    "  \n",
    "  return all_names\n",
    "\n",
    "# find physics prizes, project year and name, and sort by year\n",
    "docs = db.prizes.find(\n",
    "           filter= {\"category\": \"physics\"}, \n",
    "           projection= [\"year\", \"laureates.firstname\", \"laureates.surname\"], \n",
    "           sort= [(\"year\", 1)])\n",
    "\n",
    "# print the year and laureate names (from all_laureates)\n",
    "for doc in docs:\n",
    "    print(\"{year}: {names}\".format(year=doc['year'], names=all_laureates(doc)))"
   ]
  },
  {
   "source": [
    "# Gap years\n",
    "The prize in economics was not added until 1969. There have also been many years for which prizes in one or more of the original categories were not awarded.\n",
    "\n",
    "In this exercise, you will utilize sorting by multiple fields to see which categories are missing in which years.\n",
    "\n",
    "For now, you will just print the list of all documents, but in the next chapter, you'll learn how to use MongoDB to group and aggregate data to present this information in a more convenient format."
   ],
   "cell_type": "markdown",
   "metadata": {}
  },
  {
   "cell_type": "code",
   "execution_count": 28,
   "metadata": {},
   "outputs": [
    {
     "output_type": "stream",
     "name": "stdout",
     "text": [
      "['chemistry', 'literature', 'medicine', 'peace', 'physics']\n{'year': '2018', 'category': 'chemistry'}\n{'year': '2018', 'category': 'economics'}\n{'year': '2018', 'category': 'medicine'}\n{'year': '2018', 'category': 'peace'}\n{'year': '2018', 'category': 'physics'}\n{'year': '2017', 'category': 'chemistry'}\n{'year': '2017', 'category': 'economics'}\n{'year': '2017', 'category': 'literature'}\n{'year': '2017', 'category': 'medicine'}\n{'year': '2017', 'category': 'peace'}\n{'year': '2017', 'category': 'physics'}\n{'year': '2016', 'category': 'chemistry'}\n{'year': '2016', 'category': 'economics'}\n{'year': '2016', 'category': 'literature'}\n{'year': '2016', 'category': 'medicine'}\n{'year': '2016', 'category': 'peace'}\n{'year': '2016', 'category': 'physics'}\n{'year': '2015', 'category': 'chemistry'}\n{'year': '2015', 'category': 'economics'}\n{'year': '2015', 'category': 'literature'}\n{'year': '2015', 'category': 'medicine'}\n{'year': '2015', 'category': 'peace'}\n{'year': '2015', 'category': 'physics'}\n{'year': '2014', 'category': 'chemistry'}\n{'year': '2014', 'category': 'economics'}\n{'year': '2014', 'category': 'literature'}\n{'year': '2014', 'category': 'medicine'}\n{'year': '2014', 'category': 'peace'}\n{'year': '2014', 'category': 'physics'}\n{'year': '2013', 'category': 'chemistry'}\n{'year': '2013', 'category': 'economics'}\n{'year': '2013', 'category': 'literature'}\n{'year': '2013', 'category': 'medicine'}\n{'year': '2013', 'category': 'peace'}\n{'year': '2013', 'category': 'physics'}\n{'year': '2012', 'category': 'chemistry'}\n{'year': '2012', 'category': 'economics'}\n{'year': '2012', 'category': 'literature'}\n{'year': '2012', 'category': 'medicine'}\n{'year': '2012', 'category': 'peace'}\n{'year': '2012', 'category': 'physics'}\n{'year': '2011', 'category': 'chemistry'}\n{'year': '2011', 'category': 'economics'}\n{'year': '2011', 'category': 'literature'}\n{'year': '2011', 'category': 'medicine'}\n{'year': '2011', 'category': 'peace'}\n{'year': '2011', 'category': 'physics'}\n{'year': '2010', 'category': 'chemistry'}\n{'year': '2010', 'category': 'economics'}\n{'year': '2010', 'category': 'literature'}\n{'year': '2010', 'category': 'medicine'}\n{'year': '2010', 'category': 'peace'}\n{'year': '2010', 'category': 'physics'}\n{'year': '2009', 'category': 'chemistry'}\n{'year': '2009', 'category': 'economics'}\n{'year': '2009', 'category': 'literature'}\n{'year': '2009', 'category': 'medicine'}\n{'year': '2009', 'category': 'peace'}\n{'year': '2009', 'category': 'physics'}\n{'year': '2008', 'category': 'chemistry'}\n{'year': '2008', 'category': 'economics'}\n{'year': '2008', 'category': 'literature'}\n{'year': '2008', 'category': 'medicine'}\n{'year': '2008', 'category': 'peace'}\n{'year': '2008', 'category': 'physics'}\n{'year': '2007', 'category': 'chemistry'}\n{'year': '2007', 'category': 'economics'}\n{'year': '2007', 'category': 'literature'}\n{'year': '2007', 'category': 'medicine'}\n{'year': '2007', 'category': 'peace'}\n{'year': '2007', 'category': 'physics'}\n{'year': '2006', 'category': 'chemistry'}\n{'year': '2006', 'category': 'economics'}\n{'year': '2006', 'category': 'literature'}\n{'year': '2006', 'category': 'medicine'}\n{'year': '2006', 'category': 'peace'}\n{'year': '2006', 'category': 'physics'}\n{'year': '2005', 'category': 'chemistry'}\n{'year': '2005', 'category': 'economics'}\n{'year': '2005', 'category': 'literature'}\n{'year': '2005', 'category': 'medicine'}\n{'year': '2005', 'category': 'peace'}\n{'year': '2005', 'category': 'physics'}\n{'year': '2004', 'category': 'chemistry'}\n{'year': '2004', 'category': 'economics'}\n{'year': '2004', 'category': 'literature'}\n{'year': '2004', 'category': 'medicine'}\n{'year': '2004', 'category': 'peace'}\n{'year': '2004', 'category': 'physics'}\n{'year': '2003', 'category': 'chemistry'}\n{'year': '2003', 'category': 'economics'}\n{'year': '2003', 'category': 'literature'}\n{'year': '2003', 'category': 'medicine'}\n{'year': '2003', 'category': 'peace'}\n{'year': '2003', 'category': 'physics'}\n{'year': '2002', 'category': 'chemistry'}\n{'year': '2002', 'category': 'economics'}\n{'year': '2002', 'category': 'literature'}\n{'year': '2002', 'category': 'medicine'}\n{'year': '2002', 'category': 'peace'}\n{'year': '2002', 'category': 'physics'}\n{'year': '2001', 'category': 'chemistry'}\n{'year': '2001', 'category': 'economics'}\n{'year': '2001', 'category': 'literature'}\n{'year': '2001', 'category': 'medicine'}\n{'year': '2001', 'category': 'peace'}\n{'year': '2001', 'category': 'physics'}\n{'year': '2000', 'category': 'chemistry'}\n{'year': '2000', 'category': 'economics'}\n{'year': '2000', 'category': 'literature'}\n{'year': '2000', 'category': 'medicine'}\n{'year': '2000', 'category': 'peace'}\n{'year': '2000', 'category': 'physics'}\n{'year': '1999', 'category': 'chemistry'}\n{'year': '1999', 'category': 'economics'}\n{'year': '1999', 'category': 'literature'}\n{'year': '1999', 'category': 'medicine'}\n{'year': '1999', 'category': 'peace'}\n{'year': '1999', 'category': 'physics'}\n{'year': '1998', 'category': 'chemistry'}\n{'year': '1998', 'category': 'economics'}\n{'year': '1998', 'category': 'literature'}\n{'year': '1998', 'category': 'medicine'}\n{'year': '1998', 'category': 'peace'}\n{'year': '1998', 'category': 'physics'}\n{'year': '1997', 'category': 'chemistry'}\n{'year': '1997', 'category': 'economics'}\n{'year': '1997', 'category': 'literature'}\n{'year': '1997', 'category': 'medicine'}\n{'year': '1997', 'category': 'peace'}\n{'year': '1997', 'category': 'physics'}\n{'year': '1996', 'category': 'chemistry'}\n{'year': '1996', 'category': 'economics'}\n{'year': '1996', 'category': 'literature'}\n{'year': '1996', 'category': 'medicine'}\n{'year': '1996', 'category': 'peace'}\n{'year': '1996', 'category': 'physics'}\n{'year': '1995', 'category': 'chemistry'}\n{'year': '1995', 'category': 'economics'}\n{'year': '1995', 'category': 'literature'}\n{'year': '1995', 'category': 'medicine'}\n{'year': '1995', 'category': 'peace'}\n{'year': '1995', 'category': 'physics'}\n{'year': '1994', 'category': 'chemistry'}\n{'year': '1994', 'category': 'economics'}\n{'year': '1994', 'category': 'literature'}\n{'year': '1994', 'category': 'medicine'}\n{'year': '1994', 'category': 'peace'}\n{'year': '1994', 'category': 'physics'}\n{'year': '1993', 'category': 'chemistry'}\n{'year': '1993', 'category': 'economics'}\n{'year': '1993', 'category': 'literature'}\n{'year': '1993', 'category': 'medicine'}\n{'year': '1993', 'category': 'peace'}\n{'year': '1993', 'category': 'physics'}\n{'year': '1992', 'category': 'chemistry'}\n{'year': '1992', 'category': 'economics'}\n{'year': '1992', 'category': 'literature'}\n{'year': '1992', 'category': 'medicine'}\n{'year': '1992', 'category': 'peace'}\n{'year': '1992', 'category': 'physics'}\n{'year': '1991', 'category': 'chemistry'}\n{'year': '1991', 'category': 'economics'}\n{'year': '1991', 'category': 'literature'}\n{'year': '1991', 'category': 'medicine'}\n{'year': '1991', 'category': 'peace'}\n{'year': '1991', 'category': 'physics'}\n{'year': '1990', 'category': 'chemistry'}\n{'year': '1990', 'category': 'economics'}\n{'year': '1990', 'category': 'literature'}\n{'year': '1990', 'category': 'medicine'}\n{'year': '1990', 'category': 'peace'}\n{'year': '1990', 'category': 'physics'}\n{'year': '1989', 'category': 'chemistry'}\n{'year': '1989', 'category': 'economics'}\n{'year': '1989', 'category': 'literature'}\n{'year': '1989', 'category': 'medicine'}\n{'year': '1989', 'category': 'peace'}\n{'year': '1989', 'category': 'physics'}\n{'year': '1988', 'category': 'chemistry'}\n{'year': '1988', 'category': 'economics'}\n{'year': '1988', 'category': 'literature'}\n{'year': '1988', 'category': 'medicine'}\n{'year': '1988', 'category': 'peace'}\n{'year': '1988', 'category': 'physics'}\n{'year': '1987', 'category': 'chemistry'}\n{'year': '1987', 'category': 'economics'}\n{'year': '1987', 'category': 'literature'}\n{'year': '1987', 'category': 'medicine'}\n{'year': '1987', 'category': 'peace'}\n{'year': '1987', 'category': 'physics'}\n{'year': '1986', 'category': 'chemistry'}\n{'year': '1986', 'category': 'economics'}\n{'year': '1986', 'category': 'literature'}\n{'year': '1986', 'category': 'medicine'}\n{'year': '1986', 'category': 'peace'}\n{'year': '1986', 'category': 'physics'}\n{'year': '1985', 'category': 'chemistry'}\n{'year': '1985', 'category': 'economics'}\n{'year': '1985', 'category': 'literature'}\n{'year': '1985', 'category': 'medicine'}\n{'year': '1985', 'category': 'peace'}\n{'year': '1985', 'category': 'physics'}\n{'year': '1984', 'category': 'chemistry'}\n{'year': '1984', 'category': 'economics'}\n{'year': '1984', 'category': 'literature'}\n{'year': '1984', 'category': 'medicine'}\n{'year': '1984', 'category': 'peace'}\n{'year': '1984', 'category': 'physics'}\n{'year': '1983', 'category': 'chemistry'}\n{'year': '1983', 'category': 'economics'}\n{'year': '1983', 'category': 'literature'}\n{'year': '1983', 'category': 'medicine'}\n{'year': '1983', 'category': 'peace'}\n{'year': '1983', 'category': 'physics'}\n{'year': '1982', 'category': 'chemistry'}\n{'year': '1982', 'category': 'economics'}\n{'year': '1982', 'category': 'literature'}\n{'year': '1982', 'category': 'medicine'}\n{'year': '1982', 'category': 'peace'}\n{'year': '1982', 'category': 'physics'}\n{'year': '1981', 'category': 'chemistry'}\n{'year': '1981', 'category': 'economics'}\n{'year': '1981', 'category': 'literature'}\n{'year': '1981', 'category': 'medicine'}\n{'year': '1981', 'category': 'peace'}\n{'year': '1981', 'category': 'physics'}\n{'year': '1980', 'category': 'chemistry'}\n{'year': '1980', 'category': 'economics'}\n{'year': '1980', 'category': 'literature'}\n{'year': '1980', 'category': 'medicine'}\n{'year': '1980', 'category': 'peace'}\n{'year': '1980', 'category': 'physics'}\n{'year': '1979', 'category': 'chemistry'}\n{'year': '1979', 'category': 'economics'}\n{'year': '1979', 'category': 'literature'}\n{'year': '1979', 'category': 'medicine'}\n{'year': '1979', 'category': 'peace'}\n{'year': '1979', 'category': 'physics'}\n{'year': '1978', 'category': 'chemistry'}\n{'year': '1978', 'category': 'economics'}\n{'year': '1978', 'category': 'literature'}\n{'year': '1978', 'category': 'medicine'}\n{'year': '1978', 'category': 'peace'}\n{'year': '1978', 'category': 'physics'}\n{'year': '1977', 'category': 'chemistry'}\n{'year': '1977', 'category': 'economics'}\n{'year': '1977', 'category': 'literature'}\n{'year': '1977', 'category': 'medicine'}\n{'year': '1977', 'category': 'peace'}\n{'year': '1977', 'category': 'physics'}\n{'year': '1976', 'category': 'chemistry'}\n{'year': '1976', 'category': 'economics'}\n{'year': '1976', 'category': 'literature'}\n{'year': '1976', 'category': 'medicine'}\n{'year': '1976', 'category': 'peace'}\n{'year': '1976', 'category': 'physics'}\n{'year': '1975', 'category': 'chemistry'}\n{'year': '1975', 'category': 'economics'}\n{'year': '1975', 'category': 'literature'}\n{'year': '1975', 'category': 'medicine'}\n{'year': '1975', 'category': 'peace'}\n{'year': '1975', 'category': 'physics'}\n{'year': '1974', 'category': 'chemistry'}\n{'year': '1974', 'category': 'economics'}\n{'year': '1974', 'category': 'literature'}\n{'year': '1974', 'category': 'medicine'}\n{'year': '1974', 'category': 'peace'}\n{'year': '1974', 'category': 'physics'}\n{'year': '1973', 'category': 'chemistry'}\n{'year': '1973', 'category': 'economics'}\n{'year': '1973', 'category': 'literature'}\n{'year': '1973', 'category': 'medicine'}\n{'year': '1973', 'category': 'peace'}\n{'year': '1973', 'category': 'physics'}\n{'year': '1972', 'category': 'chemistry'}\n{'year': '1972', 'category': 'economics'}\n{'year': '1972', 'category': 'literature'}\n{'year': '1972', 'category': 'medicine'}\n{'year': '1972', 'category': 'physics'}\n{'year': '1971', 'category': 'chemistry'}\n{'year': '1971', 'category': 'economics'}\n{'year': '1971', 'category': 'literature'}\n{'year': '1971', 'category': 'medicine'}\n{'year': '1971', 'category': 'peace'}\n{'year': '1971', 'category': 'physics'}\n{'year': '1970', 'category': 'chemistry'}\n{'year': '1970', 'category': 'economics'}\n{'year': '1970', 'category': 'literature'}\n{'year': '1970', 'category': 'medicine'}\n{'year': '1970', 'category': 'peace'}\n{'year': '1970', 'category': 'physics'}\n{'year': '1969', 'category': 'chemistry'}\n{'year': '1969', 'category': 'economics'}\n{'year': '1969', 'category': 'literature'}\n{'year': '1969', 'category': 'medicine'}\n{'year': '1969', 'category': 'peace'}\n{'year': '1969', 'category': 'physics'}\n{'year': '1968', 'category': 'chemistry'}\n{'year': '1968', 'category': 'literature'}\n{'year': '1968', 'category': 'medicine'}\n{'year': '1968', 'category': 'peace'}\n{'year': '1968', 'category': 'physics'}\n{'year': '1967', 'category': 'chemistry'}\n{'year': '1967', 'category': 'literature'}\n{'year': '1967', 'category': 'medicine'}\n{'year': '1967', 'category': 'physics'}\n{'year': '1966', 'category': 'chemistry'}\n{'year': '1966', 'category': 'literature'}\n{'year': '1966', 'category': 'medicine'}\n{'year': '1966', 'category': 'physics'}\n{'year': '1965', 'category': 'chemistry'}\n{'year': '1965', 'category': 'literature'}\n{'year': '1965', 'category': 'medicine'}\n{'year': '1965', 'category': 'peace'}\n{'year': '1965', 'category': 'physics'}\n{'year': '1964', 'category': 'chemistry'}\n{'year': '1964', 'category': 'literature'}\n{'year': '1964', 'category': 'medicine'}\n{'year': '1964', 'category': 'peace'}\n{'year': '1964', 'category': 'physics'}\n{'year': '1963', 'category': 'chemistry'}\n{'year': '1963', 'category': 'literature'}\n{'year': '1963', 'category': 'medicine'}\n{'year': '1963', 'category': 'peace'}\n{'year': '1963', 'category': 'physics'}\n{'year': '1962', 'category': 'chemistry'}\n{'year': '1962', 'category': 'literature'}\n{'year': '1962', 'category': 'medicine'}\n{'year': '1962', 'category': 'peace'}\n{'year': '1962', 'category': 'physics'}\n{'year': '1961', 'category': 'chemistry'}\n{'year': '1961', 'category': 'literature'}\n{'year': '1961', 'category': 'medicine'}\n{'year': '1961', 'category': 'peace'}\n{'year': '1961', 'category': 'physics'}\n{'year': '1960', 'category': 'chemistry'}\n{'year': '1960', 'category': 'literature'}\n{'year': '1960', 'category': 'medicine'}\n{'year': '1960', 'category': 'peace'}\n{'year': '1960', 'category': 'physics'}\n{'year': '1959', 'category': 'chemistry'}\n{'year': '1959', 'category': 'literature'}\n{'year': '1959', 'category': 'medicine'}\n{'year': '1959', 'category': 'peace'}\n{'year': '1959', 'category': 'physics'}\n{'year': '1958', 'category': 'chemistry'}\n{'year': '1958', 'category': 'literature'}\n{'year': '1958', 'category': 'medicine'}\n{'year': '1958', 'category': 'peace'}\n{'year': '1958', 'category': 'physics'}\n{'year': '1957', 'category': 'chemistry'}\n{'year': '1957', 'category': 'literature'}\n{'year': '1957', 'category': 'medicine'}\n{'year': '1957', 'category': 'peace'}\n{'year': '1957', 'category': 'physics'}\n{'year': '1956', 'category': 'chemistry'}\n{'year': '1956', 'category': 'literature'}\n{'year': '1956', 'category': 'medicine'}\n{'year': '1956', 'category': 'physics'}\n{'year': '1955', 'category': 'chemistry'}\n{'year': '1955', 'category': 'literature'}\n{'year': '1955', 'category': 'medicine'}\n{'year': '1955', 'category': 'physics'}\n{'year': '1954', 'category': 'chemistry'}\n{'year': '1954', 'category': 'literature'}\n{'year': '1954', 'category': 'medicine'}\n{'year': '1954', 'category': 'peace'}\n{'year': '1954', 'category': 'physics'}\n{'year': '1953', 'category': 'chemistry'}\n{'year': '1953', 'category': 'literature'}\n{'year': '1953', 'category': 'medicine'}\n{'year': '1953', 'category': 'peace'}\n{'year': '1953', 'category': 'physics'}\n{'year': '1952', 'category': 'chemistry'}\n{'year': '1952', 'category': 'literature'}\n{'year': '1952', 'category': 'medicine'}\n{'year': '1952', 'category': 'peace'}\n{'year': '1952', 'category': 'physics'}\n{'year': '1951', 'category': 'chemistry'}\n{'year': '1951', 'category': 'literature'}\n{'year': '1951', 'category': 'medicine'}\n{'year': '1951', 'category': 'peace'}\n{'year': '1951', 'category': 'physics'}\n{'year': '1950', 'category': 'chemistry'}\n{'year': '1950', 'category': 'literature'}\n{'year': '1950', 'category': 'medicine'}\n{'year': '1950', 'category': 'peace'}\n{'year': '1950', 'category': 'physics'}\n{'year': '1949', 'category': 'chemistry'}\n{'year': '1949', 'category': 'literature'}\n{'year': '1949', 'category': 'medicine'}\n{'year': '1949', 'category': 'peace'}\n{'year': '1949', 'category': 'physics'}\n{'year': '1948', 'category': 'chemistry'}\n{'year': '1948', 'category': 'literature'}\n{'year': '1948', 'category': 'medicine'}\n{'year': '1948', 'category': 'physics'}\n{'year': '1947', 'category': 'chemistry'}\n{'year': '1947', 'category': 'literature'}\n{'year': '1947', 'category': 'medicine'}\n{'year': '1947', 'category': 'peace'}\n{'year': '1947', 'category': 'physics'}\n{'year': '1946', 'category': 'chemistry'}\n{'year': '1946', 'category': 'literature'}\n{'year': '1946', 'category': 'medicine'}\n{'year': '1946', 'category': 'peace'}\n{'year': '1946', 'category': 'physics'}\n{'year': '1945', 'category': 'chemistry'}\n{'year': '1945', 'category': 'literature'}\n{'year': '1945', 'category': 'medicine'}\n{'year': '1945', 'category': 'peace'}\n{'year': '1945', 'category': 'physics'}\n{'year': '1944', 'category': 'chemistry'}\n{'year': '1944', 'category': 'literature'}\n{'year': '1944', 'category': 'medicine'}\n{'year': '1944', 'category': 'peace'}\n{'year': '1944', 'category': 'physics'}\n{'year': '1943', 'category': 'chemistry'}\n{'year': '1943', 'category': 'medicine'}\n{'year': '1943', 'category': 'physics'}\n{'year': '1939', 'category': 'chemistry'}\n{'year': '1939', 'category': 'literature'}\n{'year': '1939', 'category': 'medicine'}\n{'year': '1939', 'category': 'physics'}\n{'year': '1938', 'category': 'chemistry'}\n{'year': '1938', 'category': 'literature'}\n{'year': '1938', 'category': 'medicine'}\n{'year': '1938', 'category': 'peace'}\n{'year': '1938', 'category': 'physics'}\n{'year': '1937', 'category': 'chemistry'}\n{'year': '1937', 'category': 'literature'}\n{'year': '1937', 'category': 'medicine'}\n{'year': '1937', 'category': 'peace'}\n{'year': '1937', 'category': 'physics'}\n{'year': '1936', 'category': 'chemistry'}\n{'year': '1936', 'category': 'literature'}\n{'year': '1936', 'category': 'medicine'}\n{'year': '1936', 'category': 'peace'}\n{'year': '1936', 'category': 'physics'}\n{'year': '1935', 'category': 'chemistry'}\n{'year': '1935', 'category': 'medicine'}\n{'year': '1935', 'category': 'peace'}\n{'year': '1935', 'category': 'physics'}\n{'year': '1934', 'category': 'chemistry'}\n{'year': '1934', 'category': 'literature'}\n{'year': '1934', 'category': 'medicine'}\n{'year': '1934', 'category': 'peace'}\n{'year': '1933', 'category': 'literature'}\n{'year': '1933', 'category': 'medicine'}\n{'year': '1933', 'category': 'peace'}\n{'year': '1933', 'category': 'physics'}\n{'year': '1932', 'category': 'chemistry'}\n{'year': '1932', 'category': 'literature'}\n{'year': '1932', 'category': 'medicine'}\n{'year': '1932', 'category': 'physics'}\n{'year': '1931', 'category': 'chemistry'}\n{'year': '1931', 'category': 'literature'}\n{'year': '1931', 'category': 'medicine'}\n{'year': '1931', 'category': 'peace'}\n{'year': '1930', 'category': 'chemistry'}\n{'year': '1930', 'category': 'literature'}\n{'year': '1930', 'category': 'medicine'}\n{'year': '1930', 'category': 'peace'}\n{'year': '1930', 'category': 'physics'}\n{'year': '1929', 'category': 'chemistry'}\n{'year': '1929', 'category': 'literature'}\n{'year': '1929', 'category': 'medicine'}\n{'year': '1929', 'category': 'peace'}\n{'year': '1929', 'category': 'physics'}\n{'year': '1928', 'category': 'chemistry'}\n{'year': '1928', 'category': 'literature'}\n{'year': '1928', 'category': 'medicine'}\n{'year': '1928', 'category': 'physics'}\n{'year': '1927', 'category': 'chemistry'}\n{'year': '1927', 'category': 'literature'}\n{'year': '1927', 'category': 'medicine'}\n{'year': '1927', 'category': 'peace'}\n{'year': '1927', 'category': 'physics'}\n{'year': '1926', 'category': 'chemistry'}\n{'year': '1926', 'category': 'literature'}\n{'year': '1926', 'category': 'medicine'}\n{'year': '1926', 'category': 'peace'}\n{'year': '1926', 'category': 'physics'}\n{'year': '1925', 'category': 'chemistry'}\n{'year': '1925', 'category': 'literature'}\n{'year': '1925', 'category': 'peace'}\n{'year': '1925', 'category': 'physics'}\n{'year': '1924', 'category': 'literature'}\n{'year': '1924', 'category': 'medicine'}\n{'year': '1924', 'category': 'physics'}\n{'year': '1923', 'category': 'chemistry'}\n{'year': '1923', 'category': 'literature'}\n{'year': '1923', 'category': 'medicine'}\n{'year': '1923', 'category': 'physics'}\n{'year': '1922', 'category': 'chemistry'}\n{'year': '1922', 'category': 'literature'}\n{'year': '1922', 'category': 'medicine'}\n{'year': '1922', 'category': 'peace'}\n{'year': '1922', 'category': 'physics'}\n{'year': '1921', 'category': 'chemistry'}\n{'year': '1921', 'category': 'literature'}\n{'year': '1921', 'category': 'peace'}\n{'year': '1921', 'category': 'physics'}\n{'year': '1920', 'category': 'chemistry'}\n{'year': '1920', 'category': 'literature'}\n{'year': '1920', 'category': 'medicine'}\n{'year': '1920', 'category': 'peace'}\n{'year': '1920', 'category': 'physics'}\n{'year': '1919', 'category': 'literature'}\n{'year': '1919', 'category': 'medicine'}\n{'year': '1919', 'category': 'peace'}\n{'year': '1919', 'category': 'physics'}\n{'year': '1918', 'category': 'chemistry'}\n{'year': '1918', 'category': 'physics'}\n{'year': '1917', 'category': 'literature'}\n{'year': '1917', 'category': 'peace'}\n{'year': '1917', 'category': 'physics'}\n{'year': '1916', 'category': 'literature'}\n{'year': '1915', 'category': 'chemistry'}\n{'year': '1915', 'category': 'literature'}\n{'year': '1915', 'category': 'physics'}\n{'year': '1914', 'category': 'chemistry'}\n{'year': '1914', 'category': 'medicine'}\n{'year': '1914', 'category': 'physics'}\n{'year': '1913', 'category': 'chemistry'}\n{'year': '1913', 'category': 'literature'}\n{'year': '1913', 'category': 'medicine'}\n{'year': '1913', 'category': 'peace'}\n{'year': '1913', 'category': 'physics'}\n{'year': '1912', 'category': 'chemistry'}\n{'year': '1912', 'category': 'literature'}\n{'year': '1912', 'category': 'medicine'}\n{'year': '1912', 'category': 'peace'}\n{'year': '1912', 'category': 'physics'}\n{'year': '1911', 'category': 'chemistry'}\n{'year': '1911', 'category': 'literature'}\n{'year': '1911', 'category': 'medicine'}\n{'year': '1911', 'category': 'peace'}\n{'year': '1911', 'category': 'physics'}\n{'year': '1910', 'category': 'chemistry'}\n{'year': '1910', 'category': 'literature'}\n{'year': '1910', 'category': 'medicine'}\n{'year': '1910', 'category': 'peace'}\n{'year': '1910', 'category': 'physics'}\n{'year': '1909', 'category': 'chemistry'}\n{'year': '1909', 'category': 'literature'}\n{'year': '1909', 'category': 'medicine'}\n{'year': '1909', 'category': 'peace'}\n{'year': '1909', 'category': 'physics'}\n{'year': '1908', 'category': 'chemistry'}\n{'year': '1908', 'category': 'literature'}\n{'year': '1908', 'category': 'medicine'}\n{'year': '1908', 'category': 'peace'}\n{'year': '1908', 'category': 'physics'}\n{'year': '1907', 'category': 'chemistry'}\n{'year': '1907', 'category': 'literature'}\n{'year': '1907', 'category': 'medicine'}\n{'year': '1907', 'category': 'peace'}\n{'year': '1907', 'category': 'physics'}\n{'year': '1906', 'category': 'chemistry'}\n{'year': '1906', 'category': 'literature'}\n{'year': '1906', 'category': 'medicine'}\n{'year': '1906', 'category': 'peace'}\n{'year': '1906', 'category': 'physics'}\n{'year': '1905', 'category': 'chemistry'}\n{'year': '1905', 'category': 'literature'}\n{'year': '1905', 'category': 'medicine'}\n{'year': '1905', 'category': 'peace'}\n{'year': '1905', 'category': 'physics'}\n{'year': '1904', 'category': 'chemistry'}\n{'year': '1904', 'category': 'literature'}\n{'year': '1904', 'category': 'medicine'}\n{'year': '1904', 'category': 'peace'}\n{'year': '1904', 'category': 'physics'}\n{'year': '1903', 'category': 'chemistry'}\n{'year': '1903', 'category': 'literature'}\n{'year': '1903', 'category': 'medicine'}\n{'year': '1903', 'category': 'peace'}\n{'year': '1903', 'category': 'physics'}\n{'year': '1902', 'category': 'chemistry'}\n{'year': '1902', 'category': 'literature'}\n{'year': '1902', 'category': 'medicine'}\n{'year': '1902', 'category': 'peace'}\n{'year': '1902', 'category': 'physics'}\n{'year': '1901', 'category': 'chemistry'}\n{'year': '1901', 'category': 'literature'}\n{'year': '1901', 'category': 'medicine'}\n{'year': '1901', 'category': 'peace'}\n{'year': '1901', 'category': 'physics'}\n"
     ]
    }
   ],
   "source": [
    "# original categories from 1901\n",
    "original_categories = db.prizes.distinct('category', {'year': '1901'})\n",
    "print(original_categories)\n",
    "\n",
    "# project year and category, and sort\n",
    "docs = db.prizes.find(\n",
    "    filter={},\n",
    "    projection={'year': 1, 'category': 1, \"_id\": 0},\n",
    "    sort=[('year', -1), ('category', 1)]\n",
    ")\n",
    "\n",
    "# print the documents\n",
    "for doc in docs:\n",
    "    print(doc)"
   ]
  },
  {
   "source": [
    "# High-share categories\n",
    "In the year 3030, everybody wants to be a Nobel laureate. Over the last thousand years, many new categories have been added. You serve a MongoDB prizes collection with the same schema as we've seen. Many people theorize that they have a better chance in \"high-share\" categories. They are hitting your server with similar, long-running queries. It's time to cover those queries with an index.\n",
    "\n",
    "Which of the following indexes is best suited to speeding up the operation \n",
    "```\n",
    "db.prizes.distinct(\"category\", {\"laureates.share\": {\"$gt\": \"3\"}})?\n",
    "```"
   ],
   "cell_type": "markdown",
   "metadata": {}
  },
  {
   "cell_type": "code",
   "execution_count": 29,
   "metadata": {},
   "outputs": [
    {
     "output_type": "stream",
     "name": "stdout",
     "text": [
      "['chemistry', 'medicine', 'physics']\n"
     ]
    }
   ],
   "source": [
    "print(db.prizes.distinct(\"category\", {\"laureates.share\": {\"$gt\": \"3\"}}))"
   ]
  },
  {
   "source": [
    "# Recently single?\n",
    "A prize might be awarded to a single laureate or to several. For each prize category, report the most recent year that a single laureate -- rather than several -- received a prize in that category. As part of this task, you will ensure an index that speeds up finding prizes by category and then sorting results by decreasing year"
   ],
   "cell_type": "markdown",
   "metadata": {}
  },
  {
   "cell_type": "code",
   "execution_count": 30,
   "metadata": {},
   "outputs": [
    {
     "output_type": "stream",
     "name": "stdout",
     "text": [
      "chemistry: 2011\neconomics: 2017\nliterature: 2017\nmedicine: 2016\npeace: 2017\nphysics: 1992\n\n"
     ]
    }
   ],
   "source": [
    "# Specify an index model for compound sorting\n",
    "index_model = [('category', 1), ('year', -1)]\n",
    "db.prizes.create_index(index_model)\n",
    "\n",
    "# Collect the last single-laureate year for each category\n",
    "report = \"\"\n",
    "for category in sorted(db.prizes.distinct(\"category\")):\n",
    "    doc = db.prizes.find_one(\n",
    "        {'category': category, \"laureates.share\": \"1\"},\n",
    "        sort=[('year', -1)]\n",
    "    )\n",
    "    report += \"{category}: {year}\\n\".format(**doc)\n",
    "\n",
    "print(report)"
   ]
  },
  {
   "source": [
    "# Born and affiliated\n",
    "Some countries are, for one or more laureates, both their country of birth (\"bornCountry\") and a country of affiliation for one or more of their prizes (\"prizes.affiliations.country\"). You will find the five countries of birth with the highest counts of such laureates."
   ],
   "cell_type": "markdown",
   "metadata": {}
  },
  {
   "cell_type": "code",
   "execution_count": 31,
   "metadata": {},
   "outputs": [
    {
     "output_type": "stream",
     "name": "stdout",
     "text": [
      "[('USA', 241), ('United Kingdom', 56), ('France', 26), ('Germany', 19), ('Japan', 17)]\n"
     ]
    }
   ],
   "source": [
    "from collections import Counter\n",
    "\n",
    "# Ensure an index on country of birth\n",
    "db.laureates.create_index([('bornCountry', 1)])\n",
    "\n",
    "# Collect a count of laureates for each country of birth\n",
    "n_born_and_affiliated = {\n",
    "    country: db.laureates.count_documents({\n",
    "        'bornCountry': country,\n",
    "        \"prizes.affiliations.country\": country\n",
    "    })\n",
    "    for country in db.laureates.distinct(\"bornCountry\")\n",
    "}\n",
    "\n",
    "five_most_common = Counter(n_born_and_affiliated).most_common(5)\n",
    "print(five_most_common)"
   ]
  },
  {
   "source": [
    "# Setting a new limit?\n",
    "How many documents does the following expression return?\n",
    "\n",
    "```\n",
    "list(db.prizes.find({\"category\": \"economics\"},\n",
    "                    {\"year\": 1, \"_id\": 0})\n",
    "     .sort(\"year\")\n",
    "     .limit(3)\n",
    "     .limit(5))\n",
    "```"
   ],
   "cell_type": "markdown",
   "metadata": {}
  },
  {
   "cell_type": "code",
   "execution_count": 32,
   "metadata": {},
   "outputs": [
    {
     "output_type": "execute_result",
     "data": {
      "text/plain": [
       "[{'year': '1969'},\n",
       " {'year': '1970'},\n",
       " {'year': '1971'},\n",
       " {'year': '1972'},\n",
       " {'year': '1973'}]"
      ]
     },
     "metadata": {},
     "execution_count": 32
    }
   ],
   "source": [
    "list(db.prizes.find({\"category\": \"economics\"},\n",
    "                    {\"year\": 1, \"_id\": 0})\n",
    "     .sort(\"year\")\n",
    "     .limit(3)\n",
    "     .limit(5))"
   ]
  },
  {
   "source": [
    "# The first five prizes with quarter shares\n",
    "Find the first five prizes with one or more laureates sharing 1/4 of the prize. Project our prize category, year, and laureates' motivations."
   ],
   "cell_type": "markdown",
   "metadata": {}
  },
  {
   "cell_type": "code",
   "execution_count": 33,
   "metadata": {},
   "outputs": [
    {
     "output_type": "stream",
     "name": "stdout",
     "text": [
      "[{'_id': ObjectId('6018022985c61d018cc98472'),\n  'category': 'physics',\n  'laureates': [{'motivation': '\"in recognition of the extraordinary services '\n                               'he has rendered by his discovery of '\n                               'spontaneous radioactivity\"'},\n                {'motivation': '\"in recognition of the extraordinary services '\n                               'they have rendered by their joint researches '\n                               'on the radiation phenomena discovered by '\n                               'Professor Henri Becquerel\"'},\n                {'motivation': '\"in recognition of the extraordinary services '\n                               'they have rendered by their joint researches '\n                               'on the radiation phenomena discovered by '\n                               'Professor Henri Becquerel\"'}],\n  'year': '1903'},\n {'_id': ObjectId('6018022985c61d018cc98419'),\n  'category': 'chemistry',\n  'laureates': [{'motivation': '\"for his discovery that enzymes can be '\n                               'crystallized\"'},\n                {'motivation': '\"for their preparation of enzymes and virus '\n                               'proteins in a pure form\"'},\n                {'motivation': '\"for their preparation of enzymes and virus '\n                               'proteins in a pure form\"'}],\n  'year': '1946'},\n {'_id': ObjectId('6018022985c61d018cc983f2'),\n  'category': 'medicine',\n  'laureates': [{'motivation': '\"for their discovery of the course of the '\n                               'catalytic conversion of glycogen\"'},\n                {'motivation': '\"for their discovery of the course of the '\n                               'catalytic conversion of glycogen\"'},\n                {'motivation': '\"for his discovery of the part played by the '\n                               'hormone of the anterior pituitary lobe in the '\n                               'metabolism of sugar\"'}],\n  'year': '1947'},\n {'_id': ObjectId('6018022985c61d018cc983d3'),\n  'category': 'medicine',\n  'laureates': [{'motivation': '\"for their discovery that genes act by '\n                               'regulating definite chemical events\"'},\n                {'motivation': '\"for their discovery that genes act by '\n                               'regulating definite chemical events\"'},\n                {'motivation': '\"for his discoveries concerning genetic '\n                               'recombination and the organization of the '\n                               'genetic material of bacteria\"'}],\n  'year': '1958'},\n {'_id': ObjectId('6018022985c61d018cc983b3'),\n  'category': 'physics',\n  'laureates': [{'motivation': '\"for his contributions to the theory of the '\n                               'atomic nucleus and the elementary particles, '\n                               'particularly through the discovery and '\n                               'application of fundamental symmetry '\n                               'principles\"'},\n                {'motivation': '\"for their discoveries concerning nuclear '\n                               'shell structure\"'},\n                {'motivation': '\"for their discoveries concerning nuclear '\n                               'shell structure\"'}],\n  'year': '1963'}]\n"
     ]
    }
   ],
   "source": [
    "from pprint import pprint\n",
    "\n",
    "# Fetch prizes with quarter-share laureate(s)\n",
    "filter_ = {'laureates.share': '4'}\n",
    "\n",
    "# Save the list of field names\n",
    "projection = ['category', 'year', 'laureates.motivation']\n",
    "\n",
    "# Save a cursor to yield the first five prizes\n",
    "cursor = db.prizes.find(filter_, projection).sort('year').limit(5)\n",
    "pprint(list(cursor))"
   ]
  },
  {
   "source": [
    "# Pages of particle-prized people\n",
    "You and a friend want to set up a website that gives information on Nobel laureates with awards relating to particle phenomena. You want to present these laureates one page at a time, with three laureates per page. You decide to order the laureates chronologically by award year. When there is a \"tie\" in ordering (i.e. two laureates were awarded prizes in the same year), you want to order them alphabetically by surname."
   ],
   "cell_type": "markdown",
   "metadata": {}
  },
  {
   "cell_type": "code",
   "execution_count": 34,
   "metadata": {},
   "outputs": [
    {
     "output_type": "stream",
     "name": "stdout",
     "text": [
      "[{'_id': ObjectId('6018024085c61d018cc9852a'),\n  'firstname': 'Charles Thomson Rees',\n  'prizes': [{'affiliations': [{'city': 'Cambridge',\n                                'country': 'United Kingdom',\n                                'name': 'University of Cambridge'}],\n              'category': 'physics',\n              'motivation': '\"for his method of making the paths of '\n                            'electrically charged particles visible by '\n                            'condensation of vapour\"',\n              'share': '2',\n              'year': '1927'}],\n  'surname': 'Wilson'},\n {'_id': ObjectId('6018024085c61d018cc98540'),\n  'firstname': 'Sir John Douglas',\n  'prizes': [{'affiliations': [{'city': 'Harwell, Berkshire',\n                                'country': 'United Kingdom',\n                                'name': 'Atomic Energy Research '\n                                        'Establishment'}],\n              'category': 'physics',\n              'motivation': '\"for their pioneer work on the transmutation of '\n                            'atomic nuclei by artificially accelerated atomic '\n                            'particles\"',\n              'share': '2',\n              'year': '1951'}],\n  'surname': 'Cockcroft'},\n {'_id': ObjectId('6018024085c61d018cc98541'),\n  'firstname': 'Ernest Thomas Sinton',\n  'prizes': [{'affiliations': [{'city': 'Dublin',\n                                'country': 'Ireland',\n                                'name': 'Trinity College'}],\n              'category': 'physics',\n              'motivation': '\"for their pioneer work on the transmutation of '\n                            'atomic nuclei by artificially accelerated atomic '\n                            'particles\"',\n              'share': '2',\n              'year': '1951'}],\n  'surname': 'Walton'}]\n"
     ]
    }
   ],
   "source": [
    "from pprint import pprint\n",
    "\n",
    "# Write a function to retrieve a page of data\n",
    "def get_particle_laureates(page_number=1, page_size=3):\n",
    "    if page_number < 1 or not isinstance(page_number, int):\n",
    "        raise ValueError(\"Pages are natural numbers (starting from 1).\")\n",
    "    particle_laureates = list(\n",
    "        db.laureates.find(\n",
    "            {'prizes.motivation': {'$regex': \"particle\"}},\n",
    "            [\"firstname\", \"surname\", \"prizes\"])\n",
    "        .sort([('prizes.year', 1), ('surname', 1)])\n",
    "        .skip(page_size * (page_number - 1))\n",
    "        .limit(page_size))\n",
    "    return particle_laureates\n",
    "\n",
    "\n",
    "# Collect and save the first nine pages\n",
    "pages = [get_particle_laureates(page_number=page) for page in range(1, 9)]\n",
    "pprint(pages[0])\n"
   ]
  },
  {
   "cell_type": "code",
   "execution_count": null,
   "metadata": {},
   "outputs": [],
   "source": []
  }
 ]
}