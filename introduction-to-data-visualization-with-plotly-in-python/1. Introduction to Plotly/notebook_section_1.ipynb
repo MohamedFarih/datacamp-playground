{
 "metadata": {
  "language_info": {
   "codemirror_mode": {
    "name": "ipython",
    "version": 3
   },
   "file_extension": ".py",
   "mimetype": "text/x-python",
   "name": "python",
   "nbconvert_exporter": "python",
   "pygments_lexer": "ipython3",
   "version": "3.7.9-final"
  },
  "orig_nbformat": 2,
  "kernelspec": {
   "name": "python3",
   "display_name": "Python 3",
   "language": "python"
  }
 },
 "nbformat": 4,
 "nbformat_minor": 2,
 "cells": [
  {
   "source": [
    "# Plotly and the Plotly Figure\n"
   ],
   "cell_type": "markdown",
   "metadata": {}
  },
  {
   "source": [
    "# Playing with a Plotly Figure\n",
    "You have been provided a figure to explore.\n",
    "\n",
    "Display the figure with fig.show() and try each of the interactive options. It may take a few seconds to appear!\n",
    "\n",
    "Determine what the temperature was on Wednesday. You can determine this from a simple hover, or toggling the spike lines (a button in the top-right of the plot).\n",
    "\n",
    "Possible Answers: 25"
   ],
   "cell_type": "markdown",
   "metadata": {}
  },
  {
   "source": [
    "# Fixing a Plotly figure\n",
    "Your colleague had started a project to create a visualization of sales for the first three months of 2020. However, she then left for some annual leave - but the boss wants the visualization now!\n",
    "\n",
    "You can see she left behind a dictionary object that has started to define the visualization. It is your task to finish this dictionary with the important key arguments so it can be turned into a Plotly visualization.\n",
    "\n",
    "In the exercises where it is needed throughout the course, plotly.graph_objects has already been loaded as go.\n",
    "\n",
    "There is a monthly_sales dictionary that has been partially complete also available."
   ],
   "cell_type": "markdown",
   "metadata": {}
  },
  {
   "cell_type": "code",
   "execution_count": 1,
   "metadata": {},
   "outputs": [
    {
     "output_type": "execute_result",
     "data": {
      "text/plain": [
       "  Month Start      Month  Sales Volume  Sales Value  Returns Percentage  \\\n",
       "0      1/1/20    January         56482       206231                3.48   \n",
       "1      1/2/20   February         46779       300835                3.99   \n",
       "2      1/3/20      March         51681       338870                1.30   \n",
       "3      1/4/20      April         63780       172543                1.08   \n",
       "4      1/5/20        May         70776       245770                2.16   \n",
       "5      1/6/20       June         50680       273360                5.67   \n",
       "6      1/7/20       July         68691       200309                1.64   \n",
       "7      1/8/20     August         66942       239271                2.67   \n",
       "8      1/9/20  September         63790       345397                3.93   \n",
       "9     1/10/20    October         71900       155825                5.00   \n",
       "\n",
       "   Average Feedback  \n",
       "0              4.41  \n",
       "1              2.47  \n",
       "2              4.22  \n",
       "3              1.19  \n",
       "4              2.45  \n",
       "5              2.04  \n",
       "6              2.52  \n",
       "7              3.85  \n",
       "8              1.35  \n",
       "9              3.25  "
      ],
      "text/html": "<div>\n<style scoped>\n    .dataframe tbody tr th:only-of-type {\n        vertical-align: middle;\n    }\n\n    .dataframe tbody tr th {\n        vertical-align: top;\n    }\n\n    .dataframe thead th {\n        text-align: right;\n    }\n</style>\n<table border=\"1\" class=\"dataframe\">\n  <thead>\n    <tr style=\"text-align: right;\">\n      <th></th>\n      <th>Month Start</th>\n      <th>Month</th>\n      <th>Sales Volume</th>\n      <th>Sales Value</th>\n      <th>Returns Percentage</th>\n      <th>Average Feedback</th>\n    </tr>\n  </thead>\n  <tbody>\n    <tr>\n      <th>0</th>\n      <td>1/1/20</td>\n      <td>January</td>\n      <td>56482</td>\n      <td>206231</td>\n      <td>3.48</td>\n      <td>4.41</td>\n    </tr>\n    <tr>\n      <th>1</th>\n      <td>1/2/20</td>\n      <td>February</td>\n      <td>46779</td>\n      <td>300835</td>\n      <td>3.99</td>\n      <td>2.47</td>\n    </tr>\n    <tr>\n      <th>2</th>\n      <td>1/3/20</td>\n      <td>March</td>\n      <td>51681</td>\n      <td>338870</td>\n      <td>1.30</td>\n      <td>4.22</td>\n    </tr>\n    <tr>\n      <th>3</th>\n      <td>1/4/20</td>\n      <td>April</td>\n      <td>63780</td>\n      <td>172543</td>\n      <td>1.08</td>\n      <td>1.19</td>\n    </tr>\n    <tr>\n      <th>4</th>\n      <td>1/5/20</td>\n      <td>May</td>\n      <td>70776</td>\n      <td>245770</td>\n      <td>2.16</td>\n      <td>2.45</td>\n    </tr>\n    <tr>\n      <th>5</th>\n      <td>1/6/20</td>\n      <td>June</td>\n      <td>50680</td>\n      <td>273360</td>\n      <td>5.67</td>\n      <td>2.04</td>\n    </tr>\n    <tr>\n      <th>6</th>\n      <td>1/7/20</td>\n      <td>July</td>\n      <td>68691</td>\n      <td>200309</td>\n      <td>1.64</td>\n      <td>2.52</td>\n    </tr>\n    <tr>\n      <th>7</th>\n      <td>1/8/20</td>\n      <td>August</td>\n      <td>66942</td>\n      <td>239271</td>\n      <td>2.67</td>\n      <td>3.85</td>\n    </tr>\n    <tr>\n      <th>8</th>\n      <td>1/9/20</td>\n      <td>September</td>\n      <td>63790</td>\n      <td>345397</td>\n      <td>3.93</td>\n      <td>1.35</td>\n    </tr>\n    <tr>\n      <th>9</th>\n      <td>1/10/20</td>\n      <td>October</td>\n      <td>71900</td>\n      <td>155825</td>\n      <td>5.00</td>\n      <td>3.25</td>\n    </tr>\n  </tbody>\n</table>\n</div>"
     },
     "metadata": {},
     "execution_count": 1
    }
   ],
   "source": [
    "import pandas as pd \n",
    "data = pd.read_csv('../datasets/monthly_sales.csv')\n",
    "data"
   ]
  },
  {
   "cell_type": "code",
   "execution_count": 2,
   "metadata": {},
   "outputs": [],
   "source": [
    "monthly_sales = {'data': [{'type': '', 'x': ['Jan', 'Feb', 'March'], 'y': [450, 475, 400]}],\n",
    " 'layout': {'title': {'text': ''}}}"
   ]
  },
  {
   "cell_type": "code",
   "execution_count": null,
   "metadata": {},
   "outputs": [],
   "source": []
  }
 ]
}