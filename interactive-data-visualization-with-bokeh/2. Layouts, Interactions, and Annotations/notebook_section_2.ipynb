{
 "metadata": {
  "language_info": {
   "codemirror_mode": {
    "name": "ipython",
    "version": 3
   },
   "file_extension": ".py",
   "mimetype": "text/x-python",
   "name": "python",
   "nbconvert_exporter": "python",
   "pygments_lexer": "ipython3",
   "version": "3.7.9"
  },
  "orig_nbformat": 2,
  "kernelspec": {
   "name": "python3",
   "display_name": "Python 3.7.9 64-bit",
   "metadata": {
    "interpreter": {
     "hash": "beb6f077b0a50b1f641155dede90312e42f957c2e4f193eba21980585e31aa2e"
    }
   }
  }
 },
 "nbformat": 4,
 "nbformat_minor": 2,
 "cells": [
  {
   "cell_type": "code",
   "execution_count": null,
   "metadata": {},
   "outputs": [],
   "source": [
    "#Import CategoricalColorMapper from bokeh.models\n",
    "from bokeh.models import CategoricalColorMapper\n",
    "\n",
    "# Import the ColumnDataSource class from bokeh.plotting\n",
    "from bokeh.plotting import ColumnDataSource\n",
    "\n",
    "# Import figure from bokeh.plotting\n",
    "from bokeh.plotting import figure\n",
    "\n",
    "# Import output_file and show from bokeh.io\n",
    "from bokeh.io import output_file, show\n",
    "\n",
    "# Import pandas\n",
    "import pandas as pd "
   ]
  },
  {
   "source": [
    "# Creating rows of plots\n",
    "Layouts are collections of Bokeh figure objects.\n",
    "\n",
    "In this exercise, you're going to create two plots from the Literacy and Birth Rate data set to plot fertility vs female literacy and population vs female literacy.\n",
    "\n",
    "By using the row() method, you'll create a single layout of the two figures.\n",
    "\n",
    "Remember, as in the previous chapter, once you have created your figures, you can interact with them in various ways.\n",
    "\n",
    "In this exercise, you may have to scroll sideways to view both figures in the row layout. Alternatively, you can view the figures in a new window by clicking on the expand icon to the right of the \"Bokeh plot\" tab."
   ],
   "cell_type": "markdown",
   "metadata": {}
  },
  {
   "cell_type": "code",
   "execution_count": null,
   "metadata": {},
   "outputs": [],
   "source": [
    "# Import row from bokeh.layouts\n",
    "from bokeh.layouts import row\n",
    "\n",
    "import pandas as pd \n",
    "df = pd.read_csv('../datasets/literacy_birth_rate.csv')\n",
    "\n",
    "# Create a ColumnDataSource from df: source\n",
    "source = ColumnDataSource(df)\n",
    "\n",
    "# Create the first figure: p1\n",
    "p1 = figure(x_axis_label='fertility (children per woman)', y_axis_label='female_literacy (% population)')\n",
    "\n",
    "# Add a circle glyph to p1\n",
    "p1.circle('fertility', 'female_literacy', source=source)\n",
    "\n",
    "# Create the second figure: p2\n",
    "p2 = figure(x_axis_label='population', y_axis_label='female_literacy (% population)')\n",
    "\n",
    "# Add a circle glyph to p2\n",
    "p2.circle('population', 'female_literacy', source=source)\n",
    "\n",
    "# Put p1 and p2 into a horizontal row: layout\n",
    "layout = row(p1, p2)\n",
    "\n",
    "# Specify the name of the output_file and show the result\n",
    "output_file('fert_row.html')\n",
    "show(layout)"
   ]
  },
  {
   "source": [
    "# Creating columns of plots\n",
    "In this exercise, you're going to use the column() function to create a single column layout of the two plots you created in the previous exercise.\n",
    "\n",
    "Figure p1 has been created for you.\n",
    "\n",
    "In this exercise and the ones to follow, you may have to scroll down to view the lower portion of the figure."
   ],
   "cell_type": "markdown",
   "metadata": {}
  },
  {
   "cell_type": "code",
   "execution_count": null,
   "metadata": {},
   "outputs": [],
   "source": [
    "# Import column from the bokeh.layouts module\n",
    "from bokeh.layouts import column\n",
    "\n",
    "# Import the ColumnDataSource class from bokeh.plotting\n",
    "from bokeh.plotting import ColumnDataSource\n",
    "\n",
    "# Import figure from bokeh.plotting\n",
    "from bokeh.plotting import figure\n",
    "\n",
    "# Import output_file and show from bokeh.io\n",
    "from bokeh.io import output_file, show\n",
    "\n",
    "import pandas as pd \n",
    "df = pd.read_csv('../datasets/literacy_birth_rate.csv')\n",
    "\n",
    "# Create a ColumnDataSource from df: source\n",
    "source = ColumnDataSource(df)\n",
    "\n",
    "# Create a blank figure: p1\n",
    "p1 = figure(x_axis_label='fertility (children per woman)', y_axis_label='female_literacy (% population)')\n",
    "\n",
    "# Add circle scatter to the figure p1\n",
    "p1.circle('fertility', 'female_literacy', source=source)\n",
    "\n",
    "# Create a new blank figure: p2\n",
    "p2 = figure(x_axis_label='population', y_axis_label='female_literacy (% population)')\n",
    "\n",
    "# Add circle scatter to the figure p2\n",
    "p2.circle('population', 'female_literacy', source=source)\n",
    "\n",
    "# Put plots p1 and p2 in a column: layout\n",
    "layout = column(p1,p2)\n",
    "\n",
    "# Specify the name of the output_file and show the result\n",
    "output_file('fert_column.html')\n",
    "show(layout)"
   ]
  },
  {
   "source": [
    "# Nesting rows and columns of plots\n",
    "You can create nested layouts of plots by combining row and column layouts. In this exercise, you'll make a 3-plot layout in two rows using the auto-mpg data set. Three plots have been created for you of average mpg vs year (avg_mpg), mpg vs hp (mpg_hp), and mpg vs weight (mpg_weight).\n",
    "\n",
    "Your job is to use the row() and column() functions to make a two-row layout where the first row will have only the average mpg vs year plot and the second row will have mpg vs hp and mpg vs weight plots as columns.\n",
    "\n",
    "By using the sizing_mode argument, you can scale the widths to fill the whole figure."
   ],
   "cell_type": "markdown",
   "metadata": {}
  },
  {
   "cell_type": "code",
   "execution_count": null,
   "metadata": {},
   "outputs": [],
   "source": [
    "import pandas as pd \n",
    "\n",
    "mpg = pd.read_csv('../datasets/auto-mpg.csv')\n",
    "\n",
    "mpg_hp = mpg['hp']\n",
    "\n",
    "mpg_weight = mpg['weight']\n",
    "\n",
    "# Import column and row from bokeh.layouts\n",
    "from bokeh.layouts import column, row\n",
    "\n",
    "# Make a row layout that will be used as the second row: row2\n",
    "row2 = row([mpg_hp, mpg_weight], sizing_mode='scale_width')\n",
    "\n",
    "# Make a column layout that includes the above row layout: layout\n",
    "layout = column([avg_mpg, row2], sizing_mode='scale_width')\n",
    "\n",
    "# Specify the name of the output_file and show the result\n",
    "output_file('layout_custom.html')\n",
    "show(layout)"
   ]
  },
  {
   "source": [
    "# Investigating the layout API\n",
    "Bokeh layouts allow for positioning items visually in the page presented to the user. What kinds of objects can be put into Bokeh layouts?\n",
    "\n",
    "Possible Answers: All of the above"
   ],
   "cell_type": "markdown",
   "metadata": {}
  },
  {
   "source": [
    "# Creating gridded layouts\n",
    "Regular grids of Bokeh plots can be generated with gridplot.\n",
    "\n",
    "In this example, you're going to display four plots of fertility vs female literacy for four regions: Latin America, Africa, Asia and Europe.\n",
    "\n",
    "Your job is to create a list-of-lists for the four Bokeh plots that have been provided to you as p1, p2, p3 and p4. The list-of-lists defines the row and column placement of each plot."
   ],
   "cell_type": "markdown",
   "metadata": {}
  },
  {
   "cell_type": "code",
   "execution_count": null,
   "metadata": {},
   "outputs": [],
   "source": [
    "# Import gridplot from bokeh.layouts\n",
    "from bokeh.layouts import gridplot\n",
    "\n",
    "# Create a list containing plots p1 and p2: row1\n",
    "row1 = [p1,p2]\n",
    "\n",
    "# Create a list containing plots p3 and p4: row2\n",
    "row2 = [p3,p4]\n",
    "\n",
    "# Create a gridplot using row1 and row2: layout\n",
    "layout = gridplot([row1,row2])\n",
    "\n",
    "# Specify the name of the output_file and show the result\n",
    "output_file('grid.html')\n",
    "show(layout)"
   ]
  },
  {
   "source": [
    "# Starting tabbed layouts\n",
    "Tabbed layouts can be created in Bokeh by placing plots or layouts in Panels.\n",
    "\n",
    "In this exercise, you'll take the four fertility vs female literacy plots from the last exercise and make a Panel() for each.\n",
    "\n",
    "No figure will be generated in this exercise. Instead, you will use these panels in the next exercise to build and display a tabbed layout."
   ],
   "cell_type": "markdown",
   "metadata": {}
  },
  {
   "cell_type": "code",
   "execution_count": null,
   "metadata": {},
   "outputs": [],
   "source": [
    "# Import Panel from bokeh.models.widgets\n",
    "from bokeh.models.widgets import Panel\n",
    "\n",
    "# Create tab1 from plot p1: tab1\n",
    "tab1 = Panel(child=p1, title='Latin America')\n",
    "\n",
    "# Create tab2 from plot p2: tab2\n",
    "tab2 = Panel(child=p2, title='Africa')\n",
    "\n",
    "# Create tab3 from plot p3: tab3\n",
    "tab3 = Panel(child=p3, title='Asia')\n",
    "\n",
    "# Create tab4 from plot p4: tab4\n",
    "tab4 = Panel(child=p4, title='Europe')"
   ]
  },
  {
   "source": [
    "# Displaying tabbed layouts\n",
    "Tabbed layouts are collections of Panel objects. Using the figures and Panels from the previous two exercises, you'll create a tabbed layout to change the region in the fertility vs female literacy plots.\n",
    "\n",
    "Your job is to create the layout using Tabs() and assign the tabs keyword argument to your list of Panels. The Panels have been created for you as tab1, tab2, tab3 and tab4.\n",
    "\n",
    "After you've displayed the figure, explore the tabs you just added! The \"Pan\", \"Box Zoom\" and \"Wheel Zoom\" tools are also all available as before."
   ],
   "cell_type": "markdown",
   "metadata": {}
  },
  {
   "cell_type": "code",
   "execution_count": null,
   "metadata": {},
   "outputs": [],
   "source": [
    "# Import Tabs from bokeh.models.widgets\n",
    "from bokeh.models.widgets import Tabs\n",
    "\n",
    "# Create a Tabs layout: layout\n",
    "layout = Tabs(layout=[tab1, tab2, tab3, tab4])\n",
    "\n",
    "# Specify the name of the output_file and show the result\n",
    "output_file('tabs.html')\n",
    "show(layout)"
   ]
  },
  {
   "source": [
    "# Linked axes\n",
    "Linking axes between plots is achieved by sharing range objects.\n",
    "\n",
    "In this exercise, you'll link four plots of female literacy vs fertility so that when one plot is zoomed or dragged, one or more of the other plots will respond.\n",
    "\n",
    "The four plots p1, p2, p3 and p4 along with the layout that you created in the last section have been provided for you.\n",
    "\n",
    "Your job is link p1 with the three other plots by assignment of the .x_range and .y_range attributes.\n",
    "\n",
    "After you have linked the axes, explore the plots by clicking and dragging along the x or y axes of any of the plots, and notice how the linked plots change together."
   ],
   "cell_type": "markdown",
   "metadata": {}
  },
  {
   "cell_type": "code",
   "execution_count": null,
   "metadata": {},
   "outputs": [],
   "source": [
    "# Link the x_range of p2 to p1: p2.x_range\n",
    "p2.x_range = p1.x_range\n",
    "\n",
    "# Link the y_range of p2 to p1: p2.y_range\n",
    "p2.y_range = p1.y_range\n",
    "\n",
    "# Link the x_range of p3 to p1: p3.x_range\n",
    "p3.x_range = p1.x_range\n",
    "\n",
    "# Link the y_range of p4 to p1: p4.y_range\n",
    "p4.y_range = p1.y_range\n",
    "\n",
    "# Specify the name of the output_file and show the result\n",
    "output_file('linked_range.html')\n",
    "show(layout)\n"
   ]
  },
  {
   "source": [
    "# Linked brushing\n",
    "By sharing the same ColumnDataSource object between multiple plots, selection tools like BoxSelect and LassoSelect will highlight points in both plots that share a row in the ColumnDataSource.\n",
    "\n",
    "In this exercise, you'll plot female literacy vs fertility and population vs fertility in two plots using the same ColumnDataSource.\n",
    "\n",
    "After you have built the figure, experiment with the Lasso Select and Box Select tools. Use your mouse to drag a box or lasso around points in one figure, and notice how points in the other figure that share a row in the ColumnDataSource also get highlighted.\n",
    "\n",
    "Before experimenting with the Lasso Select, however, click the Bokeh plot pop-out icon to pop out the figure so that you can definitely see everything that you're doing."
   ],
   "cell_type": "markdown",
   "metadata": {}
  },
  {
   "cell_type": "code",
   "execution_count": null,
   "metadata": {},
   "outputs": [],
   "source": [
    "# Create ColumnDataSource: source\n",
    "source = ColumnDataSource(df)\n",
    "\n",
    "# Create the first figure: p1\n",
    "p1 = figure(x_axis_label='fertility (children per woman)', y_axis_label='female literacy (% population)',\n",
    "            tools='box_select,lasso_select')\n",
    "\n",
    "# Add a circle glyph to p1\n",
    "p1.circle('fertility', 'female literacy', source=source)\n",
    "\n",
    "# Create the second figure: p2\n",
    "p2 = figure(x_axis_label='fertility (children per woman)', y_axis_label='population (millions)',\n",
    "            tools='box_select,lasso_select')\n",
    "\n",
    "# Add a circle glyph to p2\n",
    "p2.circle('fertility', 'population', source=source)\n",
    "\n",
    "# Create row layout of figures p1 and p2: layout\n",
    "layout = row(p1,p2)\n",
    "\n",
    "# Specify the name of the output_file and show the result\n",
    "output_file('linked_brush.html')\n",
    "show(layout)"
   ]
  },
  {
   "source": [
    "# How to create legends\n",
    "Legends can be added to any glyph by using the legend keyword argument.\n",
    "\n",
    "In this exercise, you will plot two circle glyphs for female literacy vs fertility in Africa and Latin America.\n",
    "\n",
    "Two ColumnDataSources called latin_america and africa have been provided.\n",
    "\n",
    "Your job is to plot two circle glyphs for these two objects with fertility on the x axis and female_literacy on the y axis and add the legend values. The figure p has been provided for you."
   ],
   "cell_type": "markdown",
   "metadata": {}
  },
  {
   "cell_type": "code",
   "execution_count": null,
   "metadata": {},
   "outputs": [],
   "source": [
    "# Add the first circle glyph to the figure p\n",
    "p.circle('fertility', 'female_literacy', source=latin_america, size=10, color='red', legend='Latin America')\n",
    "\n",
    "# Add the second circle glyph to the figure p\n",
    "p.circle('fertility', 'female_literacy', source=africa, size=10, color='blue', legend='Africa')\n",
    "\n",
    "# Specify the name of the output_file and show the result\n",
    "output_file('fert_lit_groups.html')\n",
    "show(p)\n"
   ]
  },
  {
   "source": [
    "# Positioning and styling legends\n",
    "Properties of the legend can be changed by using the legend member attribute of a Bokeh figure after the glyphs have been plotted.\n",
    "\n",
    "In this exercise, you'll adjust the background color and legend location of the female literacy vs fertility plot from the previous exercise.\n",
    "\n",
    "The figure object p has been created for you along with the circle glyphs."
   ],
   "cell_type": "markdown",
   "metadata": {}
  },
  {
   "cell_type": "code",
   "execution_count": null,
   "metadata": {},
   "outputs": [],
   "source": [
    "# Assign the legend to the bottom left: p.legend.location\n",
    "p.legend.location='bottom_left'\n",
    "\n",
    "# Fill the legend background with the color 'lightgray': p.legend.background_fill_color\n",
    "p.legend.background_fill_color='lightgray'\n",
    "\n",
    "# Specify the name of the output_file and show the result\n",
    "output_file('fert_lit_groups.html')\n",
    "show(p)"
   ]
  },
  {
   "source": [
    "# Adding a hover tooltip\n",
    "Working with the HoverTool is easy for data stored in a ColumnDataSource.\n",
    "\n",
    "In this exercise, you will create a HoverTool object and display the country for each circle glyph in the figure that you created in the last exercise. This is done by assigning the tooltips keyword argument to a list-of-tuples specifying the label and the column of values from the ColumnDataSource using the @ operator.\n",
    "\n",
    "The figure object has been prepared for you as p.\n",
    "\n",
    "After you have added the hover tooltip to the figure, be sure to interact with it by hovering your mouse over each point to see which country it represents."
   ],
   "cell_type": "markdown",
   "metadata": {}
  },
  {
   "cell_type": "code",
   "execution_count": null,
   "metadata": {},
   "outputs": [],
   "source": [
    "# Import HoverTool from bokeh.models\n",
    "from bokeh.models import HoverTool\n",
    "\n",
    "# Create a HoverTool object: hover\n",
    "hover = HoverTool(tooltips=[('Country','@Country')])\n",
    "\n",
    "# Add the HoverTool object to figure p\n",
    "p.add_tools(hover)\n",
    "\n",
    "# Specify the name of the output_file and show the result\n",
    "output_file('hover.html')\n",
    "show(p)"
   ]
  }
 ]
}