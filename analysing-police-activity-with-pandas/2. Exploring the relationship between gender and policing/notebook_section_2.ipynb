{
 "metadata": {
  "language_info": {
   "codemirror_mode": {
    "name": "ipython",
    "version": 3
   },
   "file_extension": ".py",
   "mimetype": "text/x-python",
   "name": "python",
   "nbconvert_exporter": "python",
   "pygments_lexer": "ipython3",
   "version": "3.7.9-final"
  },
  "orig_nbformat": 2,
  "kernelspec": {
   "name": "python3",
   "display_name": "Python 3",
   "language": "python"
  }
 },
 "nbformat": 4,
 "nbformat_minor": 2,
 "cells": [
  {
   "cell_type": "code",
   "execution_count": 1,
   "metadata": {},
   "outputs": [],
   "source": [
    "# Import the pandas library as pd\n",
    "import pandas as pd\n",
    "\n",
    "# Read 'police.csv' into a DataFrame named ri\n",
    "ri = pd.read_csv('../datasets/police.csv')"
   ]
  },
  {
   "source": [
    "# Examining traffic violations\n",
    "Before comparing the violations being committed by each gender, you should examine the violations committed by all drivers to get a baseline understanding of the data.\n",
    "\n",
    "In this exercise, you'll count the unique values in the violation column, and then separately express those counts as proportions."
   ],
   "cell_type": "markdown",
   "metadata": {}
  },
  {
   "cell_type": "code",
   "execution_count": 2,
   "metadata": {},
   "outputs": [
    {
     "output_type": "stream",
     "name": "stdout",
     "text": [
      "Speeding               48424\nMoving violation       16224\nEquipment              10922\nOther                   4410\nRegistration/plates     3703\nSeat belt               2856\nName: violation, dtype: int64\nSpeeding               0.559563\nMoving violation       0.187476\nEquipment              0.126209\nOther                  0.050960\nRegistration/plates    0.042790\nSeat belt              0.033002\nName: violation, dtype: float64\n"
     ]
    }
   ],
   "source": [
    "# Count the unique values in 'violation'\n",
    "print(ri.violation.value_counts())\n",
    "\n",
    "# Express the counts as proportions\n",
    "print(ri.violation.value_counts(normalize = True))"
   ]
  },
  {
   "source": [
    "# Comparing violations by gender\n",
    "The question we're trying to answer is whether male and female drivers tend to commit different types of traffic violations.\n",
    "\n",
    "In this exercise, you'll first create a DataFrame for each gender, and then analyze the violations in each DataFrame separately."
   ],
   "cell_type": "markdown",
   "metadata": {}
  },
  {
   "cell_type": "code",
   "execution_count": 3,
   "metadata": {},
   "outputs": [
    {
     "output_type": "stream",
     "name": "stdout",
     "text": [
      "Speeding               0.658114\nMoving violation       0.138218\nEquipment              0.105199\nRegistration/plates    0.044418\nOther                  0.029738\nSeat belt              0.024312\nName: violation, dtype: float64\nSpeeding               0.522243\nMoving violation       0.206144\nEquipment              0.134158\nOther                  0.058985\nRegistration/plates    0.042175\nSeat belt              0.036296\nName: violation, dtype: float64\n"
     ]
    }
   ],
   "source": [
    "# Create a DataFrame of female drivers\n",
    "female = ri[ri.driver_gender == 'F']\n",
    "\n",
    "# Create a DataFrame of male drivers\n",
    "male = ri[ri.driver_gender == 'M']\n",
    "\n",
    "# Compute the violations by female drivers (as proportions)\n",
    "print(female.violation.value_counts(normalize = True))\n",
    "\n",
    "# Compute the violations by male drivers (as proportions)\n",
    "print(male.violation.value_counts(normalize = True))"
   ]
  },
  {
   "source": [
    "# Filtering by multiple conditions\n",
    "Which one of these commands would filter the ri DataFrame to only include female drivers who were stopped for a speeding violation?"
   ],
   "cell_type": "markdown",
   "metadata": {}
  },
  {
   "cell_type": "code",
   "execution_count": 4,
   "metadata": {},
   "outputs": [
    {
     "output_type": "error",
     "ename": "SyntaxError",
     "evalue": "invalid syntax (<ipython-input-4-3d4d99945bf0>, line 1)",
     "traceback": [
      "\u001b[1;36m  File \u001b[1;32m\"<ipython-input-4-3d4d99945bf0>\"\u001b[1;36m, line \u001b[1;32m1\u001b[0m\n\u001b[1;33m    ri[(ri.driver_gender = 'F') & (ri.violation = 'Speeding')]\u001b[0m\n\u001b[1;37m                         ^\u001b[0m\n\u001b[1;31mSyntaxError\u001b[0m\u001b[1;31m:\u001b[0m invalid syntax\n"
     ]
    }
   ],
   "source": [
    "ri[(ri.driver_gender = 'F') & (ri.violation = 'Speeding')]"
   ]
  },
  {
   "cell_type": "code",
   "execution_count": 5,
   "metadata": {},
   "outputs": [
    {
     "output_type": "error",
     "ename": "TypeError",
     "evalue": "Cannot perform 'rand_' with a dtyped [object] array and scalar of type [bool]",
     "traceback": [
      "\u001b[1;31m---------------------------------------------------------------------------\u001b[0m",
      "\u001b[1;31mTypeError\u001b[0m                                 Traceback (most recent call last)",
      "\u001b[1;32mD:\\Src\\Python37\\lib\\site-packages\\pandas\\core\\ops\\array_ops.py\u001b[0m in \u001b[0;36mna_logical_op\u001b[1;34m(x, y, op)\u001b[0m\n\u001b[0;32m    265\u001b[0m         \u001b[1;31m#  (xint or xbool) and (yint or bool)\u001b[0m\u001b[1;33m\u001b[0m\u001b[1;33m\u001b[0m\u001b[1;33m\u001b[0m\u001b[0m\n\u001b[1;32m--> 266\u001b[1;33m         \u001b[0mresult\u001b[0m \u001b[1;33m=\u001b[0m \u001b[0mop\u001b[0m\u001b[1;33m(\u001b[0m\u001b[0mx\u001b[0m\u001b[1;33m,\u001b[0m \u001b[0my\u001b[0m\u001b[1;33m)\u001b[0m\u001b[1;33m\u001b[0m\u001b[1;33m\u001b[0m\u001b[0m\n\u001b[0m\u001b[0;32m    267\u001b[0m     \u001b[1;32mexcept\u001b[0m \u001b[0mTypeError\u001b[0m\u001b[1;33m:\u001b[0m\u001b[1;33m\u001b[0m\u001b[1;33m\u001b[0m\u001b[0m\n",
      "\u001b[1;32mD:\\Src\\Python37\\lib\\site-packages\\pandas\\core\\ops\\roperator.py\u001b[0m in \u001b[0;36mrand_\u001b[1;34m(left, right)\u001b[0m\n\u001b[0;32m     51\u001b[0m \u001b[1;32mdef\u001b[0m \u001b[0mrand_\u001b[0m\u001b[1;33m(\u001b[0m\u001b[0mleft\u001b[0m\u001b[1;33m,\u001b[0m \u001b[0mright\u001b[0m\u001b[1;33m)\u001b[0m\u001b[1;33m:\u001b[0m\u001b[1;33m\u001b[0m\u001b[1;33m\u001b[0m\u001b[0m\n\u001b[1;32m---> 52\u001b[1;33m     \u001b[1;32mreturn\u001b[0m \u001b[0moperator\u001b[0m\u001b[1;33m.\u001b[0m\u001b[0mand_\u001b[0m\u001b[1;33m(\u001b[0m\u001b[0mright\u001b[0m\u001b[1;33m,\u001b[0m \u001b[0mleft\u001b[0m\u001b[1;33m)\u001b[0m\u001b[1;33m\u001b[0m\u001b[1;33m\u001b[0m\u001b[0m\n\u001b[0m\u001b[0;32m     53\u001b[0m \u001b[1;33m\u001b[0m\u001b[0m\n",
      "\u001b[1;31mTypeError\u001b[0m: unsupported operand type(s) for &: 'str' and 'str'",
      "\nDuring handling of the above exception, another exception occurred:\n",
      "\u001b[1;31mTypeError\u001b[0m                                 Traceback (most recent call last)",
      "\u001b[1;32mD:\\Src\\Python37\\lib\\site-packages\\pandas\\core\\ops\\array_ops.py\u001b[0m in \u001b[0;36mna_logical_op\u001b[1;34m(x, y, op)\u001b[0m\n\u001b[0;32m    279\u001b[0m             \u001b[1;32mtry\u001b[0m\u001b[1;33m:\u001b[0m\u001b[1;33m\u001b[0m\u001b[1;33m\u001b[0m\u001b[0m\n\u001b[1;32m--> 280\u001b[1;33m                 \u001b[0mresult\u001b[0m \u001b[1;33m=\u001b[0m \u001b[0mlibops\u001b[0m\u001b[1;33m.\u001b[0m\u001b[0mscalar_binop\u001b[0m\u001b[1;33m(\u001b[0m\u001b[0mx\u001b[0m\u001b[1;33m,\u001b[0m \u001b[0my\u001b[0m\u001b[1;33m,\u001b[0m \u001b[0mop\u001b[0m\u001b[1;33m)\u001b[0m\u001b[1;33m\u001b[0m\u001b[1;33m\u001b[0m\u001b[0m\n\u001b[0m\u001b[0;32m    281\u001b[0m             except (\n",
      "\u001b[1;32mpandas\\_libs\\ops.pyx\u001b[0m in \u001b[0;36mpandas._libs.ops.scalar_binop\u001b[1;34m()\u001b[0m\n",
      "\u001b[1;32mD:\\Src\\Python37\\lib\\site-packages\\pandas\\core\\ops\\roperator.py\u001b[0m in \u001b[0;36mrand_\u001b[1;34m(left, right)\u001b[0m\n\u001b[0;32m     51\u001b[0m \u001b[1;32mdef\u001b[0m \u001b[0mrand_\u001b[0m\u001b[1;33m(\u001b[0m\u001b[0mleft\u001b[0m\u001b[1;33m,\u001b[0m \u001b[0mright\u001b[0m\u001b[1;33m)\u001b[0m\u001b[1;33m:\u001b[0m\u001b[1;33m\u001b[0m\u001b[1;33m\u001b[0m\u001b[0m\n\u001b[1;32m---> 52\u001b[1;33m     \u001b[1;32mreturn\u001b[0m \u001b[0moperator\u001b[0m\u001b[1;33m.\u001b[0m\u001b[0mand_\u001b[0m\u001b[1;33m(\u001b[0m\u001b[0mright\u001b[0m\u001b[1;33m,\u001b[0m \u001b[0mleft\u001b[0m\u001b[1;33m)\u001b[0m\u001b[1;33m\u001b[0m\u001b[1;33m\u001b[0m\u001b[0m\n\u001b[0m\u001b[0;32m     53\u001b[0m \u001b[1;33m\u001b[0m\u001b[0m\n",
      "\u001b[1;31mTypeError\u001b[0m: unsupported operand type(s) for &: 'bool' and 'str'",
      "\nThe above exception was the direct cause of the following exception:\n",
      "\u001b[1;31mTypeError\u001b[0m                                 Traceback (most recent call last)",
      "\u001b[1;32m<ipython-input-5-d6922f64b8ed>\u001b[0m in \u001b[0;36m<module>\u001b[1;34m\u001b[0m\n\u001b[1;32m----> 1\u001b[1;33m \u001b[0mri\u001b[0m\u001b[1;33m[\u001b[0m\u001b[0mri\u001b[0m\u001b[1;33m.\u001b[0m\u001b[0mdriver_gender\u001b[0m \u001b[1;33m==\u001b[0m \u001b[1;34m'F'\u001b[0m \u001b[1;33m&\u001b[0m \u001b[0mri\u001b[0m\u001b[1;33m.\u001b[0m\u001b[0mviolation\u001b[0m \u001b[1;33m==\u001b[0m \u001b[1;34m'Speeding'\u001b[0m\u001b[1;33m]\u001b[0m\u001b[1;33m\u001b[0m\u001b[1;33m\u001b[0m\u001b[0m\n\u001b[0m",
      "\u001b[1;32mD:\\Src\\Python37\\lib\\site-packages\\pandas\\core\\ops\\common.py\u001b[0m in \u001b[0;36mnew_method\u001b[1;34m(self, other)\u001b[0m\n\u001b[0;32m     63\u001b[0m         \u001b[0mother\u001b[0m \u001b[1;33m=\u001b[0m \u001b[0mitem_from_zerodim\u001b[0m\u001b[1;33m(\u001b[0m\u001b[0mother\u001b[0m\u001b[1;33m)\u001b[0m\u001b[1;33m\u001b[0m\u001b[1;33m\u001b[0m\u001b[0m\n\u001b[0;32m     64\u001b[0m \u001b[1;33m\u001b[0m\u001b[0m\n\u001b[1;32m---> 65\u001b[1;33m         \u001b[1;32mreturn\u001b[0m \u001b[0mmethod\u001b[0m\u001b[1;33m(\u001b[0m\u001b[0mself\u001b[0m\u001b[1;33m,\u001b[0m \u001b[0mother\u001b[0m\u001b[1;33m)\u001b[0m\u001b[1;33m\u001b[0m\u001b[1;33m\u001b[0m\u001b[0m\n\u001b[0m\u001b[0;32m     66\u001b[0m \u001b[1;33m\u001b[0m\u001b[0m\n\u001b[0;32m     67\u001b[0m     \u001b[1;32mreturn\u001b[0m \u001b[0mnew_method\u001b[0m\u001b[1;33m\u001b[0m\u001b[1;33m\u001b[0m\u001b[0m\n",
      "\u001b[1;32mD:\\Src\\Python37\\lib\\site-packages\\pandas\\core\\ops\\__init__.py\u001b[0m in \u001b[0;36mwrapper\u001b[1;34m(self, other)\u001b[0m\n\u001b[0;32m    392\u001b[0m         \u001b[0mrvalues\u001b[0m \u001b[1;33m=\u001b[0m \u001b[0mextract_array\u001b[0m\u001b[1;33m(\u001b[0m\u001b[0mother\u001b[0m\u001b[1;33m,\u001b[0m \u001b[0mextract_numpy\u001b[0m\u001b[1;33m=\u001b[0m\u001b[1;32mTrue\u001b[0m\u001b[1;33m)\u001b[0m\u001b[1;33m\u001b[0m\u001b[1;33m\u001b[0m\u001b[0m\n\u001b[0;32m    393\u001b[0m \u001b[1;33m\u001b[0m\u001b[0m\n\u001b[1;32m--> 394\u001b[1;33m         \u001b[0mres_values\u001b[0m \u001b[1;33m=\u001b[0m \u001b[0mlogical_op\u001b[0m\u001b[1;33m(\u001b[0m\u001b[0mlvalues\u001b[0m\u001b[1;33m,\u001b[0m \u001b[0mrvalues\u001b[0m\u001b[1;33m,\u001b[0m \u001b[0mop\u001b[0m\u001b[1;33m)\u001b[0m\u001b[1;33m\u001b[0m\u001b[1;33m\u001b[0m\u001b[0m\n\u001b[0m\u001b[0;32m    395\u001b[0m         \u001b[1;32mreturn\u001b[0m \u001b[0mself\u001b[0m\u001b[1;33m.\u001b[0m\u001b[0m_construct_result\u001b[0m\u001b[1;33m(\u001b[0m\u001b[0mres_values\u001b[0m\u001b[1;33m,\u001b[0m \u001b[0mname\u001b[0m\u001b[1;33m=\u001b[0m\u001b[0mres_name\u001b[0m\u001b[1;33m)\u001b[0m\u001b[1;33m\u001b[0m\u001b[1;33m\u001b[0m\u001b[0m\n\u001b[0;32m    396\u001b[0m \u001b[1;33m\u001b[0m\u001b[0m\n",
      "\u001b[1;32mD:\\Src\\Python37\\lib\\site-packages\\pandas\\core\\ops\\array_ops.py\u001b[0m in \u001b[0;36mlogical_op\u001b[1;34m(left, right, op)\u001b[0m\n\u001b[0;32m    354\u001b[0m         \u001b[0mfiller\u001b[0m \u001b[1;33m=\u001b[0m \u001b[0mfill_int\u001b[0m \u001b[1;32mif\u001b[0m \u001b[0mis_self_int_dtype\u001b[0m \u001b[1;32mand\u001b[0m \u001b[0mis_other_int_dtype\u001b[0m \u001b[1;32melse\u001b[0m \u001b[0mfill_bool\u001b[0m\u001b[1;33m\u001b[0m\u001b[1;33m\u001b[0m\u001b[0m\n\u001b[0;32m    355\u001b[0m \u001b[1;33m\u001b[0m\u001b[0m\n\u001b[1;32m--> 356\u001b[1;33m         \u001b[0mres_values\u001b[0m \u001b[1;33m=\u001b[0m \u001b[0mna_logical_op\u001b[0m\u001b[1;33m(\u001b[0m\u001b[0mlvalues\u001b[0m\u001b[1;33m,\u001b[0m \u001b[0mrvalues\u001b[0m\u001b[1;33m,\u001b[0m \u001b[0mop\u001b[0m\u001b[1;33m)\u001b[0m\u001b[1;33m\u001b[0m\u001b[1;33m\u001b[0m\u001b[0m\n\u001b[0m\u001b[0;32m    357\u001b[0m         \u001b[0mres_values\u001b[0m \u001b[1;33m=\u001b[0m \u001b[0mfiller\u001b[0m\u001b[1;33m(\u001b[0m\u001b[0mres_values\u001b[0m\u001b[1;33m)\u001b[0m  \u001b[1;31m# type: ignore\u001b[0m\u001b[1;33m\u001b[0m\u001b[1;33m\u001b[0m\u001b[0m\n\u001b[0;32m    358\u001b[0m \u001b[1;33m\u001b[0m\u001b[0m\n",
      "\u001b[1;32mD:\\Src\\Python37\\lib\\site-packages\\pandas\\core\\ops\\array_ops.py\u001b[0m in \u001b[0;36mna_logical_op\u001b[1;34m(x, y, op)\u001b[0m\n\u001b[0;32m    290\u001b[0m                     \u001b[1;34mf\"Cannot perform '{op.__name__}' with a dtyped [{x.dtype}] array \"\u001b[0m\u001b[1;33m\u001b[0m\u001b[1;33m\u001b[0m\u001b[0m\n\u001b[0;32m    291\u001b[0m                     \u001b[1;34mf\"and scalar of type [{typ}]\"\u001b[0m\u001b[1;33m\u001b[0m\u001b[1;33m\u001b[0m\u001b[0m\n\u001b[1;32m--> 292\u001b[1;33m                 ) from err\n\u001b[0m\u001b[0;32m    293\u001b[0m \u001b[1;33m\u001b[0m\u001b[0m\n\u001b[0;32m    294\u001b[0m     \u001b[1;32mreturn\u001b[0m \u001b[0mresult\u001b[0m\u001b[1;33m.\u001b[0m\u001b[0mreshape\u001b[0m\u001b[1;33m(\u001b[0m\u001b[0mx\u001b[0m\u001b[1;33m.\u001b[0m\u001b[0mshape\u001b[0m\u001b[1;33m)\u001b[0m\u001b[1;33m\u001b[0m\u001b[1;33m\u001b[0m\u001b[0m\n",
      "\u001b[1;31mTypeError\u001b[0m: Cannot perform 'rand_' with a dtyped [object] array and scalar of type [bool]"
     ]
    }
   ],
   "source": [
    "ri[ri.driver_gender == 'F' & ri.violation == 'Speeding']"
   ]
  },
  {
   "cell_type": "code",
   "execution_count": 6,
   "metadata": {},
   "outputs": [
    {
     "output_type": "execute_result",
     "data": {
      "text/plain": [
       "      state   stop_date stop_time  county_name driver_gender driver_race  \\\n",
       "4        RI  2005-02-24     01:20          NaN             F       White   \n",
       "5        RI  2005-03-14     10:00          NaN             F       White   \n",
       "8        RI  2005-07-14     11:20          NaN             F       White   \n",
       "11       RI  2005-07-18     19:30          NaN             F       White   \n",
       "13       RI  2005-07-24     20:10          NaN             F       White   \n",
       "...     ...         ...       ...          ...           ...         ...   \n",
       "91712    RI  2015-12-30     14:09          NaN             F       White   \n",
       "91715    RI  2015-12-30     19:21          NaN             F       White   \n",
       "91717    RI  2015-12-30     23:26          NaN             F    Hispanic   \n",
       "91723    RI  2015-12-31     07:31          NaN             F       White   \n",
       "91737    RI  2015-12-31     21:59          NaN             F       White   \n",
       "\n",
       "      violation_raw violation  search_conducted search_type stop_outcome  \\\n",
       "4          Speeding  Speeding             False         NaN     Citation   \n",
       "5          Speeding  Speeding             False         NaN     Citation   \n",
       "8          Speeding  Speeding             False         NaN     Citation   \n",
       "11         Speeding  Speeding             False         NaN     Citation   \n",
       "13         Speeding  Speeding             False         NaN     Citation   \n",
       "...             ...       ...               ...         ...          ...   \n",
       "91712      Speeding  Speeding             False         NaN      Warning   \n",
       "91715      Speeding  Speeding             False         NaN      Warning   \n",
       "91717      Speeding  Speeding             False         NaN     Citation   \n",
       "91723      Speeding  Speeding             False         NaN     Citation   \n",
       "91737      Speeding  Speeding             False         NaN     Citation   \n",
       "\n",
       "      is_arrested stop_duration  drugs_related_stop district  \n",
       "4           False      0-15 Min               False  Zone X3  \n",
       "5           False      0-15 Min               False  Zone K3  \n",
       "8           False      0-15 Min               False  Zone X4  \n",
       "11          False      0-15 Min               False  Zone K3  \n",
       "13          False      0-15 Min               False  Zone K3  \n",
       "...           ...           ...                 ...      ...  \n",
       "91712       False      0-15 Min               False  Zone X4  \n",
       "91715       False      0-15 Min               False  Zone X1  \n",
       "91717       False      0-15 Min               False  Zone X4  \n",
       "91723       False      0-15 Min               False  Zone X1  \n",
       "91737       False      0-15 Min               False  Zone K3  \n",
       "\n",
       "[15646 rows x 15 columns]"
      ],
      "text/html": "<div>\n<style scoped>\n    .dataframe tbody tr th:only-of-type {\n        vertical-align: middle;\n    }\n\n    .dataframe tbody tr th {\n        vertical-align: top;\n    }\n\n    .dataframe thead th {\n        text-align: right;\n    }\n</style>\n<table border=\"1\" class=\"dataframe\">\n  <thead>\n    <tr style=\"text-align: right;\">\n      <th></th>\n      <th>state</th>\n      <th>stop_date</th>\n      <th>stop_time</th>\n      <th>county_name</th>\n      <th>driver_gender</th>\n      <th>driver_race</th>\n      <th>violation_raw</th>\n      <th>violation</th>\n      <th>search_conducted</th>\n      <th>search_type</th>\n      <th>stop_outcome</th>\n      <th>is_arrested</th>\n      <th>stop_duration</th>\n      <th>drugs_related_stop</th>\n      <th>district</th>\n    </tr>\n  </thead>\n  <tbody>\n    <tr>\n      <th>4</th>\n      <td>RI</td>\n      <td>2005-02-24</td>\n      <td>01:20</td>\n      <td>NaN</td>\n      <td>F</td>\n      <td>White</td>\n      <td>Speeding</td>\n      <td>Speeding</td>\n      <td>False</td>\n      <td>NaN</td>\n      <td>Citation</td>\n      <td>False</td>\n      <td>0-15 Min</td>\n      <td>False</td>\n      <td>Zone X3</td>\n    </tr>\n    <tr>\n      <th>5</th>\n      <td>RI</td>\n      <td>2005-03-14</td>\n      <td>10:00</td>\n      <td>NaN</td>\n      <td>F</td>\n      <td>White</td>\n      <td>Speeding</td>\n      <td>Speeding</td>\n      <td>False</td>\n      <td>NaN</td>\n      <td>Citation</td>\n      <td>False</td>\n      <td>0-15 Min</td>\n      <td>False</td>\n      <td>Zone K3</td>\n    </tr>\n    <tr>\n      <th>8</th>\n      <td>RI</td>\n      <td>2005-07-14</td>\n      <td>11:20</td>\n      <td>NaN</td>\n      <td>F</td>\n      <td>White</td>\n      <td>Speeding</td>\n      <td>Speeding</td>\n      <td>False</td>\n      <td>NaN</td>\n      <td>Citation</td>\n      <td>False</td>\n      <td>0-15 Min</td>\n      <td>False</td>\n      <td>Zone X4</td>\n    </tr>\n    <tr>\n      <th>11</th>\n      <td>RI</td>\n      <td>2005-07-18</td>\n      <td>19:30</td>\n      <td>NaN</td>\n      <td>F</td>\n      <td>White</td>\n      <td>Speeding</td>\n      <td>Speeding</td>\n      <td>False</td>\n      <td>NaN</td>\n      <td>Citation</td>\n      <td>False</td>\n      <td>0-15 Min</td>\n      <td>False</td>\n      <td>Zone K3</td>\n    </tr>\n    <tr>\n      <th>13</th>\n      <td>RI</td>\n      <td>2005-07-24</td>\n      <td>20:10</td>\n      <td>NaN</td>\n      <td>F</td>\n      <td>White</td>\n      <td>Speeding</td>\n      <td>Speeding</td>\n      <td>False</td>\n      <td>NaN</td>\n      <td>Citation</td>\n      <td>False</td>\n      <td>0-15 Min</td>\n      <td>False</td>\n      <td>Zone K3</td>\n    </tr>\n    <tr>\n      <th>...</th>\n      <td>...</td>\n      <td>...</td>\n      <td>...</td>\n      <td>...</td>\n      <td>...</td>\n      <td>...</td>\n      <td>...</td>\n      <td>...</td>\n      <td>...</td>\n      <td>...</td>\n      <td>...</td>\n      <td>...</td>\n      <td>...</td>\n      <td>...</td>\n      <td>...</td>\n    </tr>\n    <tr>\n      <th>91712</th>\n      <td>RI</td>\n      <td>2015-12-30</td>\n      <td>14:09</td>\n      <td>NaN</td>\n      <td>F</td>\n      <td>White</td>\n      <td>Speeding</td>\n      <td>Speeding</td>\n      <td>False</td>\n      <td>NaN</td>\n      <td>Warning</td>\n      <td>False</td>\n      <td>0-15 Min</td>\n      <td>False</td>\n      <td>Zone X4</td>\n    </tr>\n    <tr>\n      <th>91715</th>\n      <td>RI</td>\n      <td>2015-12-30</td>\n      <td>19:21</td>\n      <td>NaN</td>\n      <td>F</td>\n      <td>White</td>\n      <td>Speeding</td>\n      <td>Speeding</td>\n      <td>False</td>\n      <td>NaN</td>\n      <td>Warning</td>\n      <td>False</td>\n      <td>0-15 Min</td>\n      <td>False</td>\n      <td>Zone X1</td>\n    </tr>\n    <tr>\n      <th>91717</th>\n      <td>RI</td>\n      <td>2015-12-30</td>\n      <td>23:26</td>\n      <td>NaN</td>\n      <td>F</td>\n      <td>Hispanic</td>\n      <td>Speeding</td>\n      <td>Speeding</td>\n      <td>False</td>\n      <td>NaN</td>\n      <td>Citation</td>\n      <td>False</td>\n      <td>0-15 Min</td>\n      <td>False</td>\n      <td>Zone X4</td>\n    </tr>\n    <tr>\n      <th>91723</th>\n      <td>RI</td>\n      <td>2015-12-31</td>\n      <td>07:31</td>\n      <td>NaN</td>\n      <td>F</td>\n      <td>White</td>\n      <td>Speeding</td>\n      <td>Speeding</td>\n      <td>False</td>\n      <td>NaN</td>\n      <td>Citation</td>\n      <td>False</td>\n      <td>0-15 Min</td>\n      <td>False</td>\n      <td>Zone X1</td>\n    </tr>\n    <tr>\n      <th>91737</th>\n      <td>RI</td>\n      <td>2015-12-31</td>\n      <td>21:59</td>\n      <td>NaN</td>\n      <td>F</td>\n      <td>White</td>\n      <td>Speeding</td>\n      <td>Speeding</td>\n      <td>False</td>\n      <td>NaN</td>\n      <td>Citation</td>\n      <td>False</td>\n      <td>0-15 Min</td>\n      <td>False</td>\n      <td>Zone K3</td>\n    </tr>\n  </tbody>\n</table>\n<p>15646 rows × 15 columns</p>\n</div>"
     },
     "metadata": {},
     "execution_count": 6
    }
   ],
   "source": [
    "ri[(ri.driver_gender == 'F') & (ri.violation == 'Speeding')]"
   ]
  },
  {
   "cell_type": "code",
   "execution_count": 7,
   "metadata": {},
   "outputs": [
    {
     "output_type": "execute_result",
     "data": {
      "text/plain": [
       "      state   stop_date stop_time  county_name driver_gender driver_race  \\\n",
       "1        RI  2005-01-23     23:15          NaN             M       White   \n",
       "2        RI  2005-02-17     04:15          NaN             M       White   \n",
       "4        RI  2005-02-24     01:20          NaN             F       White   \n",
       "5        RI  2005-03-14     10:00          NaN             F       White   \n",
       "6        RI  2005-03-29     21:55          NaN             M       White   \n",
       "...     ...         ...       ...          ...           ...         ...   \n",
       "91734    RI  2015-12-31     20:20          NaN             M       White   \n",
       "91735    RI  2015-12-31     20:50          NaN             M       White   \n",
       "91736    RI  2015-12-31     21:21          NaN             F       Black   \n",
       "91737    RI  2015-12-31     21:59          NaN             F       White   \n",
       "91739    RI  2015-12-31     22:09          NaN             F    Hispanic   \n",
       "\n",
       "                        violation_raw         violation  search_conducted  \\\n",
       "1                            Speeding          Speeding             False   \n",
       "2                            Speeding          Speeding             False   \n",
       "4                            Speeding          Speeding             False   \n",
       "5                            Speeding          Speeding             False   \n",
       "6                            Speeding          Speeding             False   \n",
       "...                               ...               ...               ...   \n",
       "91734                        Speeding          Speeding             False   \n",
       "91735                        Speeding          Speeding             False   \n",
       "91736         Other Traffic Violation  Moving violation             False   \n",
       "91737                        Speeding          Speeding             False   \n",
       "91739  Equipment/Inspection Violation         Equipment             False   \n",
       "\n",
       "      search_type stop_outcome is_arrested stop_duration  drugs_related_stop  \\\n",
       "1             NaN     Citation       False      0-15 Min               False   \n",
       "2             NaN     Citation       False      0-15 Min               False   \n",
       "4             NaN     Citation       False      0-15 Min               False   \n",
       "5             NaN     Citation       False      0-15 Min               False   \n",
       "6             NaN     Citation       False      0-15 Min               False   \n",
       "...           ...          ...         ...           ...                 ...   \n",
       "91734         NaN     Citation       False      0-15 Min               False   \n",
       "91735         NaN     Citation       False      0-15 Min               False   \n",
       "91736         NaN     Citation       False      0-15 Min               False   \n",
       "91737         NaN     Citation       False      0-15 Min               False   \n",
       "91739         NaN      Warning       False      0-15 Min               False   \n",
       "\n",
       "      district  \n",
       "1      Zone K3  \n",
       "2      Zone X4  \n",
       "4      Zone X3  \n",
       "5      Zone K3  \n",
       "6      Zone K3  \n",
       "...        ...  \n",
       "91734  Zone K2  \n",
       "91735  Zone K2  \n",
       "91736  Zone K2  \n",
       "91737  Zone K3  \n",
       "91739  Zone K3  \n",
       "\n",
       "[56552 rows x 15 columns]"
      ],
      "text/html": "<div>\n<style scoped>\n    .dataframe tbody tr th:only-of-type {\n        vertical-align: middle;\n    }\n\n    .dataframe tbody tr th {\n        vertical-align: top;\n    }\n\n    .dataframe thead th {\n        text-align: right;\n    }\n</style>\n<table border=\"1\" class=\"dataframe\">\n  <thead>\n    <tr style=\"text-align: right;\">\n      <th></th>\n      <th>state</th>\n      <th>stop_date</th>\n      <th>stop_time</th>\n      <th>county_name</th>\n      <th>driver_gender</th>\n      <th>driver_race</th>\n      <th>violation_raw</th>\n      <th>violation</th>\n      <th>search_conducted</th>\n      <th>search_type</th>\n      <th>stop_outcome</th>\n      <th>is_arrested</th>\n      <th>stop_duration</th>\n      <th>drugs_related_stop</th>\n      <th>district</th>\n    </tr>\n  </thead>\n  <tbody>\n    <tr>\n      <th>1</th>\n      <td>RI</td>\n      <td>2005-01-23</td>\n      <td>23:15</td>\n      <td>NaN</td>\n      <td>M</td>\n      <td>White</td>\n      <td>Speeding</td>\n      <td>Speeding</td>\n      <td>False</td>\n      <td>NaN</td>\n      <td>Citation</td>\n      <td>False</td>\n      <td>0-15 Min</td>\n      <td>False</td>\n      <td>Zone K3</td>\n    </tr>\n    <tr>\n      <th>2</th>\n      <td>RI</td>\n      <td>2005-02-17</td>\n      <td>04:15</td>\n      <td>NaN</td>\n      <td>M</td>\n      <td>White</td>\n      <td>Speeding</td>\n      <td>Speeding</td>\n      <td>False</td>\n      <td>NaN</td>\n      <td>Citation</td>\n      <td>False</td>\n      <td>0-15 Min</td>\n      <td>False</td>\n      <td>Zone X4</td>\n    </tr>\n    <tr>\n      <th>4</th>\n      <td>RI</td>\n      <td>2005-02-24</td>\n      <td>01:20</td>\n      <td>NaN</td>\n      <td>F</td>\n      <td>White</td>\n      <td>Speeding</td>\n      <td>Speeding</td>\n      <td>False</td>\n      <td>NaN</td>\n      <td>Citation</td>\n      <td>False</td>\n      <td>0-15 Min</td>\n      <td>False</td>\n      <td>Zone X3</td>\n    </tr>\n    <tr>\n      <th>5</th>\n      <td>RI</td>\n      <td>2005-03-14</td>\n      <td>10:00</td>\n      <td>NaN</td>\n      <td>F</td>\n      <td>White</td>\n      <td>Speeding</td>\n      <td>Speeding</td>\n      <td>False</td>\n      <td>NaN</td>\n      <td>Citation</td>\n      <td>False</td>\n      <td>0-15 Min</td>\n      <td>False</td>\n      <td>Zone K3</td>\n    </tr>\n    <tr>\n      <th>6</th>\n      <td>RI</td>\n      <td>2005-03-29</td>\n      <td>21:55</td>\n      <td>NaN</td>\n      <td>M</td>\n      <td>White</td>\n      <td>Speeding</td>\n      <td>Speeding</td>\n      <td>False</td>\n      <td>NaN</td>\n      <td>Citation</td>\n      <td>False</td>\n      <td>0-15 Min</td>\n      <td>False</td>\n      <td>Zone K3</td>\n    </tr>\n    <tr>\n      <th>...</th>\n      <td>...</td>\n      <td>...</td>\n      <td>...</td>\n      <td>...</td>\n      <td>...</td>\n      <td>...</td>\n      <td>...</td>\n      <td>...</td>\n      <td>...</td>\n      <td>...</td>\n      <td>...</td>\n      <td>...</td>\n      <td>...</td>\n      <td>...</td>\n      <td>...</td>\n    </tr>\n    <tr>\n      <th>91734</th>\n      <td>RI</td>\n      <td>2015-12-31</td>\n      <td>20:20</td>\n      <td>NaN</td>\n      <td>M</td>\n      <td>White</td>\n      <td>Speeding</td>\n      <td>Speeding</td>\n      <td>False</td>\n      <td>NaN</td>\n      <td>Citation</td>\n      <td>False</td>\n      <td>0-15 Min</td>\n      <td>False</td>\n      <td>Zone K2</td>\n    </tr>\n    <tr>\n      <th>91735</th>\n      <td>RI</td>\n      <td>2015-12-31</td>\n      <td>20:50</td>\n      <td>NaN</td>\n      <td>M</td>\n      <td>White</td>\n      <td>Speeding</td>\n      <td>Speeding</td>\n      <td>False</td>\n      <td>NaN</td>\n      <td>Citation</td>\n      <td>False</td>\n      <td>0-15 Min</td>\n      <td>False</td>\n      <td>Zone K2</td>\n    </tr>\n    <tr>\n      <th>91736</th>\n      <td>RI</td>\n      <td>2015-12-31</td>\n      <td>21:21</td>\n      <td>NaN</td>\n      <td>F</td>\n      <td>Black</td>\n      <td>Other Traffic Violation</td>\n      <td>Moving violation</td>\n      <td>False</td>\n      <td>NaN</td>\n      <td>Citation</td>\n      <td>False</td>\n      <td>0-15 Min</td>\n      <td>False</td>\n      <td>Zone K2</td>\n    </tr>\n    <tr>\n      <th>91737</th>\n      <td>RI</td>\n      <td>2015-12-31</td>\n      <td>21:59</td>\n      <td>NaN</td>\n      <td>F</td>\n      <td>White</td>\n      <td>Speeding</td>\n      <td>Speeding</td>\n      <td>False</td>\n      <td>NaN</td>\n      <td>Citation</td>\n      <td>False</td>\n      <td>0-15 Min</td>\n      <td>False</td>\n      <td>Zone K3</td>\n    </tr>\n    <tr>\n      <th>91739</th>\n      <td>RI</td>\n      <td>2015-12-31</td>\n      <td>22:09</td>\n      <td>NaN</td>\n      <td>F</td>\n      <td>Hispanic</td>\n      <td>Equipment/Inspection Violation</td>\n      <td>Equipment</td>\n      <td>False</td>\n      <td>NaN</td>\n      <td>Warning</td>\n      <td>False</td>\n      <td>0-15 Min</td>\n      <td>False</td>\n      <td>Zone K3</td>\n    </tr>\n  </tbody>\n</table>\n<p>56552 rows × 15 columns</p>\n</div>"
     },
     "metadata": {},
     "execution_count": 7
    }
   ],
   "source": [
    "ri[(ri.driver_gender == 'F') | (ri.violation == 'Speeding')]"
   ]
  },
  {
   "cell_type": "code",
   "execution_count": 8,
   "metadata": {},
   "outputs": [
    {
     "output_type": "error",
     "ename": "ValueError",
     "evalue": "The truth value of a Series is ambiguous. Use a.empty, a.bool(), a.item(), a.any() or a.all().",
     "traceback": [
      "\u001b[1;31m---------------------------------------------------------------------------\u001b[0m",
      "\u001b[1;31mValueError\u001b[0m                                Traceback (most recent call last)",
      "\u001b[1;32m<ipython-input-8-95c8373c7b39>\u001b[0m in \u001b[0;36m<module>\u001b[1;34m\u001b[0m\n\u001b[1;32m----> 1\u001b[1;33m \u001b[0mri\u001b[0m\u001b[1;33m[\u001b[0m\u001b[1;33m(\u001b[0m\u001b[0mri\u001b[0m\u001b[1;33m.\u001b[0m\u001b[0mdriver_gender\u001b[0m \u001b[1;33m==\u001b[0m \u001b[1;34m'F'\u001b[0m\u001b[1;33m)\u001b[0m \u001b[1;32mand\u001b[0m \u001b[1;33m(\u001b[0m\u001b[0mri\u001b[0m\u001b[1;33m.\u001b[0m\u001b[0mviolation\u001b[0m \u001b[1;33m==\u001b[0m \u001b[1;34m'Speeding'\u001b[0m\u001b[1;33m)\u001b[0m\u001b[1;33m]\u001b[0m\u001b[1;33m\u001b[0m\u001b[1;33m\u001b[0m\u001b[0m\n\u001b[0m",
      "\u001b[1;32mD:\\Src\\Python37\\lib\\site-packages\\pandas\\core\\generic.py\u001b[0m in \u001b[0;36m__nonzero__\u001b[1;34m(self)\u001b[0m\n\u001b[0;32m   1328\u001b[0m     \u001b[1;32mdef\u001b[0m \u001b[0m__nonzero__\u001b[0m\u001b[1;33m(\u001b[0m\u001b[0mself\u001b[0m\u001b[1;33m)\u001b[0m\u001b[1;33m:\u001b[0m\u001b[1;33m\u001b[0m\u001b[1;33m\u001b[0m\u001b[0m\n\u001b[0;32m   1329\u001b[0m         raise ValueError(\n\u001b[1;32m-> 1330\u001b[1;33m             \u001b[1;34mf\"The truth value of a {type(self).__name__} is ambiguous. \"\u001b[0m\u001b[1;33m\u001b[0m\u001b[1;33m\u001b[0m\u001b[0m\n\u001b[0m\u001b[0;32m   1331\u001b[0m             \u001b[1;34m\"Use a.empty, a.bool(), a.item(), a.any() or a.all().\"\u001b[0m\u001b[1;33m\u001b[0m\u001b[1;33m\u001b[0m\u001b[0m\n\u001b[0;32m   1332\u001b[0m         )\n",
      "\u001b[1;31mValueError\u001b[0m: The truth value of a Series is ambiguous. Use a.empty, a.bool(), a.item(), a.any() or a.all()."
     ]
    }
   ],
   "source": [
    "ri[(ri.driver_gender == 'F') and (ri.violation == 'Speeding')]"
   ]
  },
  {
   "source": [
    "# Comparing speeding outcomes by gender\n",
    "When a driver is pulled over for speeding, many people believe that gender has an impact on whether the driver will receive a ticket or a warning. Can you find evidence of this in the dataset?\n",
    "\n",
    "First, you'll create two DataFrames of drivers who were stopped for speeding: one containing females and the other containing males.\n",
    "\n",
    "Then, for each gender, you'll use the stop_outcome column to calculate what percentage of stops resulted in a \"Citation\" (meaning a ticket) versus a \"Warning\"."
   ],
   "cell_type": "markdown",
   "metadata": {}
  },
  {
   "cell_type": "code",
   "execution_count": 9,
   "metadata": {},
   "outputs": [
    {
     "output_type": "stream",
     "name": "stdout",
     "text": [
      "Citation            0.952192\nWarning             0.040074\nArrest Driver       0.005752\nN/D                 0.000959\nArrest Passenger    0.000639\nNo Action           0.000383\nName: stop_outcome, dtype: float64\nCitation            0.944595\nWarning             0.036184\nArrest Driver       0.015895\nArrest Passenger    0.001281\nNo Action           0.001068\nN/D                 0.000976\nName: stop_outcome, dtype: float64\n"
     ]
    }
   ],
   "source": [
    "# Create a DataFrame of female drivers stopped for speeding\n",
    "female_and_speeding = ri[(ri.driver_gender == 'F') & (ri.violation == 'Speeding')]\n",
    "\n",
    "# Create a DataFrame of male drivers stopped for speeding\n",
    "male_and_speeding = ri[(ri.driver_gender == 'M') & (ri.violation == 'Speeding')]\n",
    "\n",
    "# Compute the stop outcomes for female drivers (as proportions)\n",
    "print(female_and_speeding.stop_outcome.value_counts(normalize = True))\n",
    "\n",
    "# Compute the stop outcomes for male drivers (as proportions)\n",
    "print(male_and_speeding.stop_outcome.value_counts(normalize = True))"
   ]
  },
  {
   "source": [
    "# Calculating the search rate\n",
    "During a traffic stop, the police officer sometimes conducts a search of the vehicle. In this exercise, you'll calculate the percentage of all stops in the ri DataFrame that result in a vehicle search, also known as the search rate."
   ],
   "cell_type": "markdown",
   "metadata": {}
  },
  {
   "cell_type": "code",
   "execution_count": 10,
   "metadata": {},
   "outputs": [
    {
     "output_type": "stream",
     "name": "stdout",
     "text": [
      "bool\nFalse    0.963953\nTrue     0.036047\nName: search_conducted, dtype: float64\n0.03604713268876511\n"
     ]
    }
   ],
   "source": [
    "# Check the data type of 'search_conducted'\n",
    "print(ri.search_conducted.dtype)\n",
    "\n",
    "# Calculate the search rate by counting the values\n",
    "print(ri.search_conducted.value_counts(normalize=True))\n",
    "\n",
    "# Calculate the search rate by taking the mean\n",
    "print(ri.search_conducted.mean())"
   ]
  },
  {
   "source": [
    "# Comparing search rates by gender\n",
    "In this exercise, you'll compare the rates at which female and male drivers are searched during a traffic stop. Remember that the vehicle search rate across all stops is about 3.8%.\n",
    "\n",
    "First, you'll filter the DataFrame by gender and calculate the search rate for each group separately. Then, you'll perform the same calculation for both genders at once using a .groupby()."
   ],
   "cell_type": "markdown",
   "metadata": {}
  },
  {
   "cell_type": "code",
   "execution_count": 11,
   "metadata": {},
   "outputs": [
    {
     "output_type": "stream",
     "name": "stdout",
     "text": [
      "0.019180617481282074\n"
     ]
    }
   ],
   "source": [
    "# Calculate the search rate for female drivers\n",
    "print(ri[ri.driver_gender == 'F'].search_conducted.mean())"
   ]
  },
  {
   "cell_type": "code",
   "execution_count": 12,
   "metadata": {},
   "outputs": [
    {
     "output_type": "stream",
     "name": "stdout",
     "text": [
      "0.04542557598546892\n"
     ]
    }
   ],
   "source": [
    "# Calculate the search rate for male drivers\n",
    "print(ri[ri.driver_gender == 'M'].search_conducted.mean())"
   ]
  },
  {
   "cell_type": "code",
   "execution_count": 13,
   "metadata": {},
   "outputs": [
    {
     "output_type": "stream",
     "name": "stdout",
     "text": [
      "driver_gender\nF    0.019181\nM    0.045426\nName: search_conducted, dtype: float64\n"
     ]
    }
   ],
   "source": [
    "# Calculate the search rate for both groups simultaneously\n",
    "print(ri.groupby('driver_gender').search_conducted.mean())"
   ]
  },
  {
   "source": [
    "# Adding a second factor to the analysis\n",
    "Even though the search rate for males is much higher than for females, it's possible that the difference is mostly due to a second factor.\n",
    "\n",
    "For example, you might hypothesize that the search rate varies by violation type, and the difference in search rate between males and females is because they tend to commit different violations.\n",
    "\n",
    "You can test this hypothesis by examining the search rate for each combination of gender and violation. If the hypothesis was true, you would find that males and females are searched at about the same rate for each violation. Find out below if that's the case!"
   ],
   "cell_type": "markdown",
   "metadata": {}
  },
  {
   "cell_type": "code",
   "execution_count": 14,
   "metadata": {},
   "outputs": [
    {
     "output_type": "stream",
     "name": "stdout",
     "text": [
      "driver_gender  violation          \nF              Equipment              0.039984\n               Moving violation       0.039257\n               Other                  0.041018\n               Registration/plates    0.054924\n               Seat belt              0.017301\n               Speeding               0.008309\nM              Equipment              0.071496\n               Moving violation       0.061524\n               Other                  0.046191\n               Registration/plates    0.108802\n               Seat belt              0.035119\n               Speeding               0.027885\nName: search_conducted, dtype: float64\n"
     ]
    }
   ],
   "source": [
    "# Calculate the search rate for each combination of gender and violation\n",
    "print(ri.groupby(['driver_gender', 'violation']).search_conducted.mean())"
   ]
  },
  {
   "cell_type": "code",
   "execution_count": 15,
   "metadata": {},
   "outputs": [
    {
     "output_type": "stream",
     "name": "stdout",
     "text": [
      "violation            driver_gender\nEquipment            F                0.039984\n                     M                0.071496\nMoving violation     F                0.039257\n                     M                0.061524\nOther                F                0.041018\n                     M                0.046191\nRegistration/plates  F                0.054924\n                     M                0.108802\nSeat belt            F                0.017301\n                     M                0.035119\nSpeeding             F                0.008309\n                     M                0.027885\nName: search_conducted, dtype: float64\n"
     ]
    }
   ],
   "source": [
    "# Reverse the ordering to group by violation before gender\n",
    "print(ri.groupby(['violation', 'driver_gender']).search_conducted.mean())"
   ]
  },
  {
   "source": [
    "# Counting protective frisks\n",
    "During a vehicle search, the police officer may pat down the driver to check if they have a weapon. This is known as a \"protective frisk.\"\n",
    "\n",
    "In this exercise, you'll first check to see how many times \"Protective Frisk\" was the only search type. Then, you'll use a string method to locate all instances in which the driver was frisked."
   ],
   "cell_type": "markdown",
   "metadata": {}
  },
  {
   "cell_type": "code",
   "execution_count": 16,
   "metadata": {},
   "outputs": [
    {
     "output_type": "stream",
     "name": "stdout",
     "text": [
      "Incident to Arrest                                          1290\n",
      "Probable Cause                                               924\n",
      "Inventory                                                    219\n",
      "Reasonable Suspicion                                         214\n",
      "Protective Frisk                                             164\n",
      "Incident to Arrest,Inventory                                 123\n",
      "Incident to Arrest,Probable Cause                            100\n",
      "Probable Cause,Reasonable Suspicion                           54\n",
      "Probable Cause,Protective Frisk                               35\n",
      "Incident to Arrest,Inventory,Probable Cause                   35\n",
      "Incident to Arrest,Protective Frisk                           33\n",
      "Inventory,Probable Cause                                      25\n",
      "Protective Frisk,Reasonable Suspicion                         19\n",
      "Incident to Arrest,Inventory,Protective Frisk                 18\n",
      "Incident to Arrest,Probable Cause,Protective Frisk            13\n",
      "Inventory,Protective Frisk                                    12\n",
      "Incident to Arrest,Reasonable Suspicion                        8\n",
      "Incident to Arrest,Probable Cause,Reasonable Suspicion         5\n",
      "Probable Cause,Protective Frisk,Reasonable Suspicion           5\n",
      "Incident to Arrest,Inventory,Reasonable Suspicion              4\n",
      "Incident to Arrest,Protective Frisk,Reasonable Suspicion       2\n",
      "Inventory,Reasonable Suspicion                                 2\n",
      "Inventory,Probable Cause,Protective Frisk                      1\n",
      "Inventory,Protective Frisk,Reasonable Suspicion                1\n",
      "Inventory,Probable Cause,Reasonable Suspicion                  1\n",
      "Name: search_type, dtype: int64\n",
      "bool\n",
      "303\n"
     ]
    }
   ],
   "source": [
    "# Count the 'search_type' values\n",
    "print(ri.search_type.value_counts())\n",
    "\n",
    "# Check if 'search_type' contains the string 'Protective Frisk'\n",
    "ri['frisk'] = ri.search_type.str.contains('Protective Frisk', na=False)\n",
    "\n",
    "# Check the data type of 'frisk'\n",
    "print(ri.frisk.dtype)\n",
    "\n",
    "# Take the sum of 'frisk'\n",
    "print(ri.frisk.sum())"
   ]
  },
  {
   "source": [
    "# Comparing frisk rates by gender\n",
    "In this exercise, you'll compare the rates at which female and male drivers are frisked during a search. Are males frisked more often than females, perhaps because police officers consider them to be higher risk?\n",
    "\n",
    "Before doing any calculations, it's important to filter the DataFrame to only include the relevant subset of data, namely stops in which a search was conducted."
   ],
   "cell_type": "markdown",
   "metadata": {}
  },
  {
   "cell_type": "code",
   "execution_count": 17,
   "metadata": {},
   "outputs": [
    {
     "output_type": "stream",
     "name": "stdout",
     "text": [
      "0.09162382824312065\ndriver_gender\nF    0.074561\nM    0.094353\nName: frisk, dtype: float64\n"
     ]
    }
   ],
   "source": [
    "# Create a DataFrame of stops in which a search was conducted\n",
    "searched = ri[ri.search_conducted == True]\n",
    "\n",
    "# Calculate the overall frisk rate by taking the mean of 'frisk'\n",
    "print(searched.frisk.mean())\n",
    "\n",
    "# Calculate the frisk rate for each gender\n",
    "print(searched.groupby('driver_gender').frisk.mean())"
   ]
  },
  {
   "cell_type": "code",
   "execution_count": null,
   "metadata": {},
   "outputs": [],
   "source": []
  }
 ]
}