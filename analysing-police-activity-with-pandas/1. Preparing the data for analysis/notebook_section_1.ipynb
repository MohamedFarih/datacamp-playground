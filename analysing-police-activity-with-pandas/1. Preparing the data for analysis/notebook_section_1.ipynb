{
 "metadata": {
  "language_info": {
   "codemirror_mode": {
    "name": "ipython",
    "version": 3
   },
   "file_extension": ".py",
   "mimetype": "text/x-python",
   "name": "python",
   "nbconvert_exporter": "python",
   "pygments_lexer": "ipython3",
   "version": "3.7.9-final"
  },
  "orig_nbformat": 2,
  "kernelspec": {
   "name": "python3",
   "display_name": "Python 3",
   "language": "python"
  }
 },
 "nbformat": 4,
 "nbformat_minor": 2,
 "cells": [
  {
   "source": [
    "# Examining the dataset\n",
    "Throughout this course, you'll be analyzing a dataset of traffic stops in Rhode Island that was collected by the Stanford Open Policing Project.\n",
    "\n",
    "Before beginning your analysis, it's important that you familiarize yourself with the dataset. In this exercise, you'll read the dataset into pandas, examine the first few rows, and then count the number of missing values."
   ],
   "cell_type": "markdown",
   "metadata": {}
  },
  {
   "cell_type": "code",
   "execution_count": 1,
   "metadata": {},
   "outputs": [
    {
     "output_type": "stream",
     "name": "stdout",
     "text": [
      "  state   stop_date stop_time  county_name driver_gender driver_race  \\\n0    RI  2005-01-04     12:55          NaN             M       White   \n1    RI  2005-01-23     23:15          NaN             M       White   \n2    RI  2005-02-17     04:15          NaN             M       White   \n3    RI  2005-02-20     17:15          NaN             M       White   \n4    RI  2005-02-24     01:20          NaN             F       White   \n\n                    violation_raw  violation  search_conducted search_type  \\\n0  Equipment/Inspection Violation  Equipment             False         NaN   \n1                        Speeding   Speeding             False         NaN   \n2                        Speeding   Speeding             False         NaN   \n3                Call for Service      Other             False         NaN   \n4                        Speeding   Speeding             False         NaN   \n\n    stop_outcome is_arrested stop_duration  drugs_related_stop district  \n0       Citation       False      0-15 Min               False  Zone X4  \n1       Citation       False      0-15 Min               False  Zone K3  \n2       Citation       False      0-15 Min               False  Zone X4  \n3  Arrest Driver        True     16-30 Min               False  Zone X1  \n4       Citation       False      0-15 Min               False  Zone X3  \nstate                     0\nstop_date                 0\nstop_time                 0\ncounty_name           91741\ndriver_gender          5205\ndriver_race            5202\nviolation_raw          5202\nviolation              5202\nsearch_conducted          0\nsearch_type           88434\nstop_outcome           5202\nis_arrested            5202\nstop_duration          5202\ndrugs_related_stop        0\ndistrict                  0\ndtype: int64\n"
     ]
    }
   ],
   "source": [
    "# Import the pandas library as pd\n",
    "import pandas as pd\n",
    "\n",
    "# Read 'police.csv' into a DataFrame named ri\n",
    "ri = pd.read_csv('../datasets/police.csv')\n",
    "\n",
    "# Examine the head of the DataFrame\n",
    "print(ri.head())\n",
    "\n",
    "# Count the number of missing values in each column\n",
    "print(ri.isnull().sum())"
   ]
  },
  {
   "source": [
    "# Dropping columns\n",
    "Often, a DataFrame will contain columns that are not useful to your analysis. Such columns should be dropped from the DataFrame, to make it easier for you to focus on the remaining columns.\n",
    "\n",
    "In this exercise, you'll drop the county_name column because it only contains missing values, and you'll drop the state column because all of the traffic stops took place in one state (Rhode Island). Thus, these columns can be dropped because they contain no useful information. The number of missing values in each column has been printed to the console for you."
   ],
   "cell_type": "markdown",
   "metadata": {}
  },
  {
   "cell_type": "code",
   "execution_count": 2,
   "metadata": {},
   "outputs": [
    {
     "output_type": "stream",
     "name": "stdout",
     "text": [
      "(91741, 15)\n(91741, 13)\n"
     ]
    }
   ],
   "source": [
    "# Examine the shape of the DataFrame\n",
    "print(ri.shape)\n",
    "\n",
    "# Drop the 'county_name' and 'state' columns\n",
    "ri.drop(['county_name', 'state'], axis='columns', inplace=True)\n",
    "\n",
    "# Examine the shape of the DataFrame (again)\n",
    "print(ri.shape)"
   ]
  },
  {
   "source": [
    "# Dropping rows\n",
    "When you know that a specific column will be critical to your analysis, and only a small fraction of rows are missing a value in that column, it often makes sense to remove those rows from the dataset.\n",
    "\n",
    "During this course, the driver_gender column will be critical to many of your analyses. Because only a small fraction of rows are missing driver_gender, we'll drop those rows from the dataset."
   ],
   "cell_type": "markdown",
   "metadata": {}
  },
  {
   "cell_type": "code",
   "execution_count": 3,
   "metadata": {},
   "outputs": [
    {
     "output_type": "stream",
     "name": "stdout",
     "text": [
      "stop_date                 0\nstop_time                 0\ndriver_gender          5205\ndriver_race            5202\nviolation_raw          5202\nviolation              5202\nsearch_conducted          0\nsearch_type           88434\nstop_outcome           5202\nis_arrested            5202\nstop_duration          5202\ndrugs_related_stop        0\ndistrict                  0\ndtype: int64\nstop_date                 0\nstop_time                 0\ndriver_gender             0\ndriver_race               0\nviolation_raw             0\nviolation                 0\nsearch_conducted          0\nsearch_type           83229\nstop_outcome              0\nis_arrested               0\nstop_duration             0\ndrugs_related_stop        0\ndistrict                  0\ndtype: int64\n(86536, 13)\n"
     ]
    }
   ],
   "source": [
    "# Count the number of missing values in each column\n",
    "print(ri.isnull().sum())\n",
    "\n",
    "# Drop all rows that are missing 'driver_gender'\n",
    "ri.dropna(subset=['driver_gender'], inplace=True)\n",
    "\n",
    "# Count the number of missing values in each column (again)\n",
    "print(ri.isnull().sum())\n",
    "\n",
    "# Examine the shape of the DataFrame\n",
    "print(ri.shape)"
   ]
  },
  {
   "source": [
    "# Finding an incorrect data type\n",
    "The dtypes attribute of the ri DataFrame has been printed for you. Your task is to explore the ri DataFrame in the IPython Shell to determine which column's data type should be changed.\n",
    "\n",
    "is_arrested should have a data type of bool"
   ],
   "cell_type": "markdown",
   "metadata": {}
  },
  {
   "source": [
    "# Fixing a data type\n",
    "We saw in the previous exercise that the is_arrested column currently has the object data type. In this exercise, we'll change the data type to bool, which is the most suitable type for a column containing True and False values.\n",
    "\n",
    "Fixing the data type will enable us to use mathematical operations on the is_arrested column that would not be possible otherwise."
   ],
   "cell_type": "markdown",
   "metadata": {}
  },
  {
   "cell_type": "code",
   "execution_count": 4,
   "metadata": {},
   "outputs": [
    {
     "output_type": "stream",
     "name": "stdout",
     "text": [
      "object\nbool\n"
     ]
    }
   ],
   "source": [
    "# Examine the head of the 'is_arrested' column\n",
    "print(ri.is_arrested.dtypes)\n",
    "\n",
    "# Change the data type of 'is_arrested' to 'bool'\n",
    "ri['is_arrested'] = ri.is_arrested.astype('bool')\n",
    "\n",
    "# Check the data type of 'is_arrested' \n",
    "print(ri.is_arrested.dtypes)"
   ]
  },
  {
   "source": [
    "# Combining object columns\n",
    "Currently, the date and time of each traffic stop are stored in separate object columns: stop_date and stop_time.\n",
    "\n",
    "In this exercise, you'll combine these two columns into a single column, and then convert it to datetime format. This will enable convenient date-based attributes that we'll use later in the course."
   ],
   "cell_type": "markdown",
   "metadata": {}
  },
  {
   "cell_type": "code",
   "execution_count": 5,
   "metadata": {},
   "outputs": [
    {
     "output_type": "stream",
     "name": "stdout",
     "text": [
      "stop_date                     object\nstop_time                     object\ndriver_gender                 object\ndriver_race                   object\nviolation_raw                 object\nviolation                     object\nsearch_conducted                bool\nsearch_type                   object\nstop_outcome                  object\nis_arrested                     bool\nstop_duration                 object\ndrugs_related_stop              bool\ndistrict                      object\nstop_datetime         datetime64[ns]\ndtype: object\n"
     ]
    }
   ],
   "source": [
    "# Concatenate 'stop_date' and 'stop_time' (separated by a space)\n",
    "combined = ri.stop_date.str.cat(ri.stop_time, sep = ' ')\n",
    "\n",
    "# Convert 'combined' to datetime format\n",
    "ri['stop_datetime'] = pd.to_datetime(combined)\n",
    "\n",
    "# Examine the data types of the DataFrame\n",
    "print(ri.dtypes)"
   ]
  },
  {
   "source": [
    "# Setting the index\n",
    "The last step that you'll take in this chapter is to set the stop_datetime column as the DataFrame's index. By replacing the default index with a DatetimeIndex, you'll make it easier to analyze the dataset by date and time, which will come in handy later in the course!"
   ],
   "cell_type": "markdown",
   "metadata": {}
  },
  {
   "cell_type": "code",
   "execution_count": 6,
   "metadata": {},
   "outputs": [
    {
     "output_type": "stream",
     "name": "stdout",
     "text": [
      "DatetimeIndex(['2005-01-04 12:55:00', '2005-01-23 23:15:00',\n               '2005-02-17 04:15:00', '2005-02-20 17:15:00',\n               '2005-02-24 01:20:00', '2005-03-14 10:00:00',\n               '2005-03-29 21:55:00', '2005-04-04 21:25:00',\n               '2005-07-14 11:20:00', '2005-07-14 19:55:00',\n               ...\n               '2015-12-31 13:23:00', '2015-12-31 18:59:00',\n               '2015-12-31 19:13:00', '2015-12-31 20:20:00',\n               '2015-12-31 20:50:00', '2015-12-31 21:21:00',\n               '2015-12-31 21:59:00', '2015-12-31 22:04:00',\n               '2015-12-31 22:09:00', '2015-12-31 22:47:00'],\n              dtype='datetime64[ns]', name='stop_datetime', length=86536, freq=None)\nIndex(['stop_date', 'stop_time', 'driver_gender', 'driver_race',\n       'violation_raw', 'violation', 'search_conducted', 'search_type',\n       'stop_outcome', 'is_arrested', 'stop_duration', 'drugs_related_stop',\n       'district'],\n      dtype='object')\n"
     ]
    }
   ],
   "source": [
    "# Set 'stop_datetime' as the index\n",
    "ri.set_index('stop_datetime', inplace=True)\n",
    "\n",
    "# Examine the index\n",
    "print(ri.index)\n",
    "\n",
    "# Examine the columns\n",
    "print(ri.columns)"
   ]
  },
  {
   "cell_type": "code",
   "execution_count": null,
   "metadata": {},
   "outputs": [],
   "source": []
  }
 ]
}