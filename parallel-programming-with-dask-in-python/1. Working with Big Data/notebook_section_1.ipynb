{
 "metadata": {
  "language_info": {
   "codemirror_mode": {
    "name": "ipython",
    "version": 3
   },
   "file_extension": ".py",
   "mimetype": "text/x-python",
   "name": "python",
   "nbconvert_exporter": "python",
   "pygments_lexer": "ipython3",
   "version": "3.7.9-final"
  },
  "orig_nbformat": 2,
  "kernelspec": {
   "name": "python3",
   "display_name": "Python 3",
   "language": "python"
  }
 },
 "nbformat": 4,
 "nbformat_minor": 2,
 "cells": [
  {
   "source": [
    "# Section 1: Working with Big Data"
   ],
   "cell_type": "markdown",
   "metadata": {}
  },
  {
   "source": [
    "# NumPy transformations\n",
    "Many NumPy transformations, while fast, use one or more temporary arrays. Therefore, those transformations require more storage than the original array required.\n",
    "\n",
    "An array of temperature values in Celsius is provided for you as celsius. Your job is to monitor memory consumption while applying NumPy vectorized operations. The data comes from The Weather Underground.\n",
    "\n",
    "The function memory_footprint() has been provided for you to return the total amount of memory (in megabytes or MB) currently in use by your program. This function uses the psutil and os modules. You can find the function definition in the course appendix."
   ],
   "cell_type": "markdown",
   "metadata": {}
  },
  {
   "cell_type": "code",
   "execution_count": 1,
   "metadata": {},
   "outputs": [],
   "source": [
    "import numpy as np \n",
    "with open('celsius.txt') as file:\n",
    "   data = [float(line) for line in file]\n",
    "celsius = np.array(data)"
   ]
  },
  {
   "cell_type": "code",
   "execution_count": 2,
   "metadata": {},
   "outputs": [],
   "source": [
    "import os\n",
    "import psutil\n",
    "\n",
    "def memory_footprint():\n",
    "    return psutil.Process(os.getpid()).memory_info().rss / 1024**2"
   ]
  },
  {
   "cell_type": "code",
   "execution_count": 3,
   "metadata": {},
   "outputs": [
    {
     "output_type": "stream",
     "name": "stdout",
     "text": [
      "2.7923583984375\n2.8125\n"
     ]
    }
   ],
   "source": [
    "# Print the size in MB of the celsius array\n",
    "print(celsius.nbytes / 1024 ** 2)\n",
    "\n",
    "# Call memory_footprint(): before\n",
    "before = memory_footprint()\n",
    "\n",
    "# Convert celsius by multiplying by 9/5 and adding 32: fahrenheit\n",
    "fahrenheit = celsius * 9/5 + 32\n",
    "\n",
    "# Call memory_footprint(): after\n",
    "after = memory_footprint()\n",
    "\n",
    "# Print the difference between after and before\n",
    "print(after - before)"
   ]
  },
  {
   "cell_type": "code",
   "execution_count": null,
   "metadata": {},
   "outputs": [],
   "source": []
  }
 ]
}