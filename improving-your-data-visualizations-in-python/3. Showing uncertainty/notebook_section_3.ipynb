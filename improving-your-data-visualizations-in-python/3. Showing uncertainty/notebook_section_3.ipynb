{
 "metadata": {
  "language_info": {
   "codemirror_mode": {
    "name": "ipython",
    "version": 3
   },
   "file_extension": ".py",
   "mimetype": "text/x-python",
   "name": "python",
   "nbconvert_exporter": "python",
   "pygments_lexer": "ipython3",
   "version": "3.7.9-final"
  },
  "orig_nbformat": 2,
  "kernelspec": {
   "name": "python3",
   "display_name": "Python 3",
   "language": "python"
  }
 },
 "nbformat": 4,
 "nbformat_minor": 2,
 "cells": [
  {
   "source": [
    "# Basic confidence intervals\n",
    "You are a data scientist for a fireworks manufacturer in Des Moines, Iowa. You need to make a case to the city that your company's large fireworks show has not caused any harm to the city's air. To do this, you look at the average levels for pollutants in the week after the fourth of July and how they compare to readings taken after your last show. By showing confidence intervals around the averages, you can make a case that the recent readings were well within the normal range.\n",
    "\n",
    "This data is loaded as average_ests with a row for each measured pollutant."
   ],
   "cell_type": "markdown",
   "metadata": {}
  },
  {
   "cell_type": "code",
   "execution_count": null,
   "metadata": {},
   "outputs": [],
   "source": [
    "import pandas as pd \n",
    "pollution = pd.read_csv('../datasets/pollution_wide.csv')\n",
    "pollution.head()"
   ]
  },
  {
   "cell_type": "code",
   "execution_count": null,
   "metadata": {},
   "outputs": [],
   "source": [
    "data = {\n",
    "    'pollutant': ['CO', 'NO2', 'O3', 'SO2'],\n",
    "    'mean': [pollution['CO'].mean(), pollution['NO2'].mean(), pollution['O3'].mean(), pollution['SO2'].mean()],\n",
    "    'std_err': [pollution['CO'].std(), pollution['NO2'].std(), pollution['O3'].std(), pollution['SO2'].std()],\n",
    "    'y': ['95% Interval', '95% Interval', '95% Interval', '95% Interval'],\n",
    "    'seen': [0.40, 16.00, 0.05, 0.15]\n",
    "}"
   ]
  },
  {
   "cell_type": "code",
   "execution_count": null,
   "metadata": {},
   "outputs": [],
   "source": [
    "import matplotlib.pyplot as plt \n",
    "import seaborn as sns\n",
    "\n",
    "average_ests = pd.DataFrame(data)\n",
    "\n",
    "print(average_ests)\n",
    "\n",
    "# Construct CI bounds for averages\n",
    "average_ests['lower'] = average_ests['mean'] - 1.96*average_ests['std_err']\n",
    "average_ests['upper'] = average_ests['mean'] + 1.96*average_ests['std_err']\n",
    "\n",
    "# Setup a grid of plots, with non-shared x axes limits\n",
    "g = sns.FacetGrid(average_ests, row = 'pollutant', sharex = False)\n",
    "\n",
    "# Plot CI for average estimate\n",
    "g.map(plt.hlines, 'y', 'lower', 'upper')\n",
    "\n",
    "# Plot observed values for comparison and remove axes labels\n",
    "g.map(plt.scatter, 'seen', 'y', color = 'orangered').set_ylabels('').set_xlabels('')\n",
    "\n",
    "plt.show()"
   ]
  },
  {
   "source": [
    "# Annotating confidence intervals\n",
    "Your data science work with pollution data is legendary, and you are now weighing job offers in both Cincinnati, Ohio and Indianapolis, Indiana. You want to see if the SO2 levels are significantly different in the two cities, and more specifically, which city has lower levels. To test this, you decide to look at the differences in the cities' SO2 values (Indianapolis' - Cincinnati's) over multiple years (provided as diffs_by_year).\n",
    "\n",
    "Instead of just displaying a p-value for a significant difference between the cities, you decide to look at the 95% confidence intervals (columns lower and upper) of the differences. This allows you to see the magnitude of the differences along with any trends over the years."
   ],
   "cell_type": "markdown",
   "metadata": {}
  },
  {
   "cell_type": "code",
   "execution_count": null,
   "metadata": {},
   "outputs": [],
   "source": [
    "# Set start and ends according to intervals \n",
    "# Make intervals thicker\n",
    "plt.hlines(y = 'year', xmin = 'lower', xmax = 'upper', \n",
    "           linewidth = 5, color = 'steelblue', alpha = 0.7,\n",
    "           data = diffs_by_year)\n",
    "# Point estimates\n",
    "plt.plot('mean', 'year', 'k|', data = diffs_by_year)\n",
    "\n",
    "# Add a 'null' reference line at 0 and color orangered\n",
    "plt.axvline(x = 0, color = 'orangered', linestyle = '--')\n",
    "\n",
    "# Set descriptive axis labels and title\n",
    "plt.xlabel('95% CI')\n",
    "plt.title('Avg SO2 differences between Cincinnati and Indianapolis')\n",
    "plt.show()"
   ]
  },
  {
   "source": [
    "# Making a confidence band\n",
    "Vandenberg Air Force Base is often used as a location to launch rockets into space. You have a theory that a recent increase in the pace of rocket launches could be harming the air quality in the surrounding region. To explore this, you plotted a 25-day rolling average line of the measurements of atmospheric NO2. To help decide if any pattern observed is random-noise or not, you decide to add a 99% confidence band around your rolling mean. Adding a confidence band to a trend line can help shed light on the stability of the trend seen. This can either increase or decrease the confidence in the discovered trend."
   ],
   "cell_type": "markdown",
   "metadata": {}
  },
  {
   "cell_type": "code",
   "execution_count": null,
   "metadata": {},
   "outputs": [],
   "source": [
    "# Draw 99% inverval bands for average NO2\n",
    "vandenberg_NO2['lower'] = vandenberg_NO2['mean'] - 2.58*vandenberg_NO2['std_err']\n",
    "vandenberg_NO2['upper'] = vandenberg_NO2['mean'] + 2.58*vandenberg_NO2['std_err']\n",
    "\n",
    "# Plot mean estimate as a white semi-transparent line\n",
    "plt.plot('day', 'mean', data = vandenberg_NO2,\n",
    "         color = 'white', alpha = 0.4)\n",
    "\n",
    "# Fill between the upper and lower confidence band values\n",
    "plt.fill_between(x = 'day', \n",
    "                 y1 = 'lower', y2 = 'upper', \n",
    "                 data = vandenberg_NO2)\n",
    "\n",
    "plt.show()"
   ]
  },
  {
   "source": [
    "# Separating a lot of bands\n",
    "It is relatively simple to plot a bunch of trend lines on top of each other for rapid and precise comparisons. Unfortunately, if you need to add uncertainty bands around those lines, the plot becomes very difficult to read. Figuring out whether a line corresponds to the top of one class' band or the bottom of another's can be hard due to band overlap. Luckily in Seaborn, it's not difficult to break up the overlapping bands into separate faceted plots.\n",
    "\n",
    "To see this, explore trends in SO2 levels for a few cities in the eastern half of the US. If you plot the trends and their confidence bands on a single plot - it's a mess. To fix, use Seaborn's FacetGrid() function to spread out the confidence intervals to multiple panes to ease your inspection."
   ],
   "cell_type": "markdown",
   "metadata": {}
  },
  {
   "cell_type": "code",
   "execution_count": null,
   "metadata": {},
   "outputs": [],
   "source": [
    "# Setup a grid of plots with columns divided by location\n",
    "g = sns.FacetGrid(eastern_SO2, col = 'city', col_wrap = 2)\n",
    "\n",
    "# Map interval plots to each cities data with corol colored ribbons\n",
    "g.map(plt.fill_between, 'day', 'lower', 'upper', color = 'coral')\n",
    "\n",
    "# Map overlaid mean plots with white line\n",
    "g.map(plt.plot, 'day', 'mean', color = 'white')\n",
    "\n",
    "plt.show()"
   ]
  },
  {
   "source": [
    "# Cleaning up bands for overlaps\n",
    "You are working for the city of Denver, Colorado and want to run an ad campaign about how much cleaner Denver's air is than Long Beach, California's air. To investigate this claim, you will compare the SO2 levels of both cities for the year 2014 (provided as the DataFrame SO2_compare). Since you are solely interested in how the cities compare, you want to keep the bands on the same plot. To make the bands easier to compare, decrease the opacity of the confidence bands and set a clear legend."
   ],
   "cell_type": "markdown",
   "metadata": {}
  },
  {
   "cell_type": "code",
   "execution_count": null,
   "metadata": {},
   "outputs": [],
   "source": [
    "for city, color in [('Denver',\"#66c2a5\"), ('Long Beach', \"#fc8d62\")]:\n",
    "    # Filter data to desired city\n",
    "    city_data = SO2_compare[SO2_compare.city  ==  city]\n",
    "\n",
    "    # Set city interval color to desired and lower opacity\n",
    "    plt.fill_between(x = 'day', y1 = 'lower', y2 = 'upper', data = city_data,\n",
    "                     color = color, alpha = 0.4)\n",
    "    \n",
    "    # Draw a faint mean line for reference and give a label for legend\n",
    "    plt.plot('day','mean', data = city_data, label = city,\n",
    "             color = color, alpha = 0.25)\n",
    "\n",
    "plt.legend()\n",
    "plt.show()"
   ]
  },
  {
   "source": [
    "# 90, 95, and 99% intervals\n",
    "You are a data scientist for an outdoor adventure company in Fairbanks, Alaska. Recently, customers have been having issues with SO2 pollution, leading to costly cancellations. The company has sensors for CO, NO2, and O3 but not SO2 levels.\n",
    "\n",
    "You've built a model that predicts SO2 values based on the values of pollutants with sensors (loaded as pollution_model, a statsmodels object). You want to investigate which pollutant's value has the largest effect on your model's SO2 prediction. This will help you know which pollutant's values to pay most attention to when planning outdoor tours. To maximize the amount of information in your report, show multiple levels of uncertainty for the model estimates."
   ],
   "cell_type": "markdown",
   "metadata": {}
  },
  {
   "cell_type": "code",
   "execution_count": null,
   "metadata": {},
   "outputs": [],
   "source": [
    "# Add interval percent widths\n",
    "alphas = [     0.01,  0.05,   0.1] \n",
    "widths = [ '99% CI', '95%', '90%']\n",
    "colors = ['#fee08b','#fc8d59','#d53e4f']\n",
    "\n",
    "for alpha, color, width in zip(alphas, colors, widths):\n",
    "    # Grab confidence interval\n",
    "    conf_ints = pollution_model.conf_int(alpha)\n",
    "    \n",
    "    # Pass current interval color and legend label to plot\n",
    "    plt.hlines(y = conf_ints.index, xmin = conf_ints[0], xmax = conf_ints[1],\n",
    "               colors = color, label = width, linewidth = 10) \n",
    "\n",
    "# Draw point estimates\n",
    "plt.plot(pollution_model.params, pollution_model.params.index, 'wo', label = 'Point Estimate')\n",
    "\n",
    "plt.legend()\n",
    "plt.show()  "
   ]
  },
  {
   "source": [
    "# 90 and 95% bands\n",
    "You are looking at a 40-day rolling average of the NO2 pollution levels for the city of Cincinnati in 2013. To provide as detailed a picture of the uncertainty in the trend you want to look at both the 90 and 99% intervals around this rolling estimate.\n",
    "\n",
    "To do this, set up your two interval sizes and an orange ordinal color palette. Additionally, to enable precise readings of the bands, make them semi-transparent, so the Seaborn background grids show through."
   ],
   "cell_type": "markdown",
   "metadata": {}
  },
  {
   "cell_type": "code",
   "execution_count": null,
   "metadata": {},
   "outputs": [],
   "source": [
    "int_widths = ['90%', '99%']\n",
    "z_scores = [1.67, 2.58]\n",
    "colors = ['#fc8d59', '#fee08b']\n",
    "\n",
    "for percent, Z, color in zip(int_widths, z_scores, colors):\n",
    "    \n",
    "    # Pass lower and upper confidence bounds and lower opacity\n",
    "    plt.fill_between(\n",
    "        x = cinci_13_no2.day, alpha = 0.4, color = color,\n",
    "        y1 = cinci_13_no2['mean'] - Z*cinci_13_no2['std_err'],\n",
    "        y2 = cinci_13_no2['mean'] + Z*cinci_13_no2['std_err'],\n",
    "        label = percent)\n",
    "    \n",
    "plt.legend()\n",
    "plt.show()"
   ]
  },
  {
   "source": [
    "# Using band thickness instead of coloring\n",
    "You are a researcher investigating the elevation a rocket reaches before visual is lost and pollutant levels at Vandenberg Air Force Base. You've built a model to predict this relationship (stored in the DataFrame rocket_height_model), and since you are working independently, you don't have the money to pay for color figures in your journal article. You need to make your model results plot work in black and white. To do this, you will plot the 90, 95, and 99% intervals of the effect of each pollutant as successively smaller bars."
   ],
   "cell_type": "markdown",
   "metadata": {}
  },
  {
   "cell_type": "code",
   "execution_count": null,
   "metadata": {},
   "outputs": [],
   "source": [
    "# Decrase interval thickness as interval widens\n",
    "sizes =      [      15,    10,     5]\n",
    "int_widths = ['90% CI', '95%', '99%']\n",
    "z_scores =   [    1.67,  1.96,  2.58]\n",
    "\n",
    "for percent, Z, size in zip(int_widths, z_scores, sizes):\n",
    "    plt.hlines(y = rocket_model.pollutant, \n",
    "               xmin = rocket_model['est'] - Z*rocket_model['std_err'],\n",
    "               xmax = rocket_model['est'] + Z*rocket_model['std_err'],\n",
    "               label = percent, \n",
    "               # Resize lines and color them gray\n",
    "               linewidth = size, \n",
    "               color = 'gray') \n",
    "    \n",
    "# Add point estimate\n",
    "plt.plot('est', 'pollutant', 'wo', data = rocket_model, label = 'Point Estimate')\n",
    "plt.legend(loc = 'center left', bbox_to_anchor = (1, 0.5))\n",
    "plt.show()"
   ]
  },
  {
   "source": [
    "# The bootstrap histogram\n",
    "You are considering a vacation to Cincinnati in May, but you have a severe sensitivity to NO2. You pull a few years of pollution data from Cincinnati in May and look at a bootstrap estimate of the average NO2 levels. You only have one estimate to look at the best way to visualize the results of your bootstrap estimates is with a histogram.\n",
    "\n",
    "While you like the intuition of the bootstrap histogram by itself, your partner who will be going on the vacation with you, likes seeing percent intervals. To accommodate them, you decide to highlight the 95% interval by shading the region."
   ],
   "cell_type": "markdown",
   "metadata": {}
  },
  {
   "cell_type": "code",
   "execution_count": null,
   "metadata": {},
   "outputs": [],
   "source": [
    "cinci_may_NO2 = pollution.query(\"city  ==  'Cincinnati' & month  ==  5\").NO2\n",
    "\n",
    "# Generate bootstrap samples\n",
    "boot_means = bootstrap(cinci_may_NO2, 1000)\n",
    "\n",
    "# Get lower and upper 95% interval bounds\n",
    "lower, upper = np.percentile(boot_means, [2.5, 97.5])\n",
    "\n",
    "# Plot shaded area for interval\n",
    "plt.axvspan(lower, upper, color = 'gray', alpha = 0.2)\n",
    "\n",
    "# Draw histogram of bootstrap samples\n",
    "sns.distplot(boot_means, bins = 100, kde = False)\n",
    "\n",
    "plt.show()"
   ]
  },
  {
   "source": [
    "# Bootstrapped regressions\n",
    "While working for the Long Beach parks and recreation department investigating the relationship between NO2 and SO2 you noticed a cluster of potential outliers that you suspect might be throwing off the correlations.\n",
    "\n",
    "![](boot_regression_ex_intro.png)\n",
    "\n",
    "Investigate the uncertainty of your correlations through bootstrap resampling to see how stable your fits are. For convenience, the bootstrap sampling is complete and is provided as no2_so2_boot along with no2_so2 for the non-resampled data."
   ],
   "cell_type": "markdown",
   "metadata": {}
  },
  {
   "cell_type": "code",
   "execution_count": null,
   "metadata": {},
   "outputs": [],
   "source": [
    "sns.lmplot('NO2', 'SO2', data = no2_so2_boot,\n",
    "           # Tell seaborn to a regression line for each sample\n",
    "           hue = 'sample', \n",
    "           # Make lines blue and transparent\n",
    "           line_kws = {'color': 'steelblue', 'alpha': 0.2},\n",
    "           # Disable built-in confidence intervals\n",
    "           ci = None, legend = False, scatter = False)\n",
    "\n",
    "# Draw scatter of all points\n",
    "plt.scatter('NO2', 'SO2', data = no2_so2)\n",
    "\n",
    "plt.show()"
   ]
  },
  {
   "source": [
    "# Lots of bootstraps with beeswarms\n",
    "As a current resident of Cincinnati, you're curious to see how the average NO2 values compare to Des Moines, Indianapolis, and Houston: a few other cities you've lived in.\n",
    "\n",
    "To look at this, you decide to use bootstrap estimation to look at the mean NO2 values for each city. Because the comparisons are of primary interest, you will use a swarm plot to compare the estimates.\n",
    "\n",
    "The DataFrame pollution_may is provided along with the bootstrap() function seen in the slides for performing your bootstrap resampling."
   ],
   "cell_type": "markdown",
   "metadata": {}
  },
  {
   "cell_type": "code",
   "execution_count": null,
   "metadata": {},
   "outputs": [],
   "source": [
    "# Initialize a holder DataFrame for bootstrap results\n",
    "city_boots = pd.DataFrame()\n",
    "\n",
    "for city in ['Cincinnati', 'Des Moines', 'Indianapolis', 'Houston']:\n",
    "    # Filter to city\n",
    "    city_NO2 = pollution_may[pollution_may.city  ==  city].NO2\n",
    "    # Bootstrap city data & put in DataFrame\n",
    "    cur_boot = pd.DataFrame({'NO2_avg': bootstrap(city_NO2, 100), 'city': city})\n",
    "    # Append to other city's bootstraps\n",
    "    city_boots = pd.concat([city_boots,cur_boot])\n",
    "\n",
    "# Beeswarm plot of averages with citys on y axis\n",
    "sns.swarmplot(y = \"city\", x = \"NO2_avg\", data = city_boots, color = 'coral')\n",
    "\n",
    "plt.show()"
   ]
  }
 ]
}