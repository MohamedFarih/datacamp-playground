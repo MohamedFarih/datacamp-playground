{
 "metadata": {
  "language_info": {
   "codemirror_mode": {
    "name": "ipython",
    "version": 3
   },
   "file_extension": ".py",
   "mimetype": "text/x-python",
   "name": "python",
   "nbconvert_exporter": "python",
   "pygments_lexer": "ipython3",
   "version": "3.7.9-final"
  },
  "orig_nbformat": 2,
  "kernelspec": {
   "name": "python3",
   "display_name": "Python 3",
   "language": "python"
  }
 },
 "nbformat": 4,
 "nbformat_minor": 2,
 "cells": [
  {
   "source": [
    "# Basic confidence intervals\n",
    "You are a data scientist for a fireworks manufacturer in Des Moines, Iowa. You need to make a case to the city that your company's large fireworks show has not caused any harm to the city's air. To do this, you look at the average levels for pollutants in the week after the fourth of July and how they compare to readings taken after your last show. By showing confidence intervals around the averages, you can make a case that the recent readings were well within the normal range.\n",
    "\n",
    "This data is loaded as average_ests with a row for each measured pollutant."
   ],
   "cell_type": "markdown",
   "metadata": {}
  },
  {
   "cell_type": "code",
   "execution_count": null,
   "metadata": {},
   "outputs": [],
   "source": [
    "import pandas as pd \n",
    "pollution = pd.read_csv('../datasets/pollution_wide.csv')\n",
    "pollution.head()"
   ]
  },
  {
   "cell_type": "code",
   "execution_count": null,
   "metadata": {},
   "outputs": [],
   "source": [
    "data = {\n",
    "    'pollutant': ['CO', 'NO2', 'O3', 'SO2'],\n",
    "    'mean': [pollution['CO'].mean(), pollution['NO2'].mean(), pollution['O3'].mean(), pollution['SO2'].mean()],\n",
    "    'std_err': [pollution['CO'].std(), pollution['NO2'].std(), pollution['O3'].std(), pollution['SO2'].std()],\n",
    "    'y': ['95% Interval', '95% Interval', '95% Interval', '95% Interval'],\n",
    "    'seen': [0.40, 16.00, 0.05, 0.15]\n",
    "}"
   ]
  },
  {
   "cell_type": "code",
   "execution_count": null,
   "metadata": {},
   "outputs": [],
   "source": [
    "import matplotlib.pyplot as plt \n",
    "import seaborn as sns\n",
    "\n",
    "average_ests = pd.DataFrame(data)\n",
    "\n",
    "print(average_ests)\n",
    "\n",
    "# Construct CI bounds for averages\n",
    "average_ests['lower'] = average_ests['mean'] - 1.96*average_ests['std_err']\n",
    "average_ests['upper'] = average_ests['mean'] + 1.96*average_ests['std_err']\n",
    "\n",
    "# Setup a grid of plots, with non-shared x axes limits\n",
    "g = sns.FacetGrid(average_ests, row = 'pollutant', sharex = False)\n",
    "\n",
    "# Plot CI for average estimate\n",
    "g.map(plt.hlines, 'y', 'lower', 'upper')\n",
    "\n",
    "# Plot observed values for comparison and remove axes labels\n",
    "g.map(plt.scatter, 'seen', 'y', color = 'orangered').set_ylabels('').set_xlabels('')\n",
    "\n",
    "plt.show()"
   ]
  },
  {
   "source": [
    "# Annotating confidence intervals\n",
    "Your data science work with pollution data is legendary, and you are now weighing job offers in both Cincinnati, Ohio and Indianapolis, Indiana. You want to see if the SO2 levels are significantly different in the two cities, and more specifically, which city has lower levels. To test this, you decide to look at the differences in the cities' SO2 values (Indianapolis' - Cincinnati's) over multiple years (provided as diffs_by_year).\n",
    "\n",
    "Instead of just displaying a p-value for a significant difference between the cities, you decide to look at the 95% confidence intervals (columns lower and upper) of the differences. This allows you to see the magnitude of the differences along with any trends over the years."
   ],
   "cell_type": "markdown",
   "metadata": {}
  },
  {
   "cell_type": "code",
   "execution_count": null,
   "metadata": {},
   "outputs": [],
   "source": [
    "# Set start and ends according to intervals \n",
    "# Make intervals thicker\n",
    "plt.hlines(y = 'year', xmin = 'lower', xmax = 'upper', \n",
    "           linewidth = 5, color = 'steelblue', alpha = 0.7,\n",
    "           data = diffs_by_year)\n",
    "# Point estimates\n",
    "plt.plot('mean', 'year', 'k|', data = diffs_by_year)\n",
    "\n",
    "# Add a 'null' reference line at 0 and color orangered\n",
    "plt.axvline(x = 0, color = 'orangered', linestyle = '--')\n",
    "\n",
    "# Set descriptive axis labels and title\n",
    "plt.xlabel('95% CI')\n",
    "plt.title('Avg SO2 differences between Cincinnati and Indianapolis')\n",
    "plt.show()"
   ]
  },
  {
   "source": [
    "# Making a confidence band\n",
    "Vandenberg Air Force Base is often used as a location to launch rockets into space. You have a theory that a recent increase in the pace of rocket launches could be harming the air quality in the surrounding region. To explore this, you plotted a 25-day rolling average line of the measurements of atmospheric NO2. To help decide if any pattern observed is random-noise or not, you decide to add a 99% confidence band around your rolling mean. Adding a confidence band to a trend line can help shed light on the stability of the trend seen. This can either increase or decrease the confidence in the discovered trend."
   ],
   "cell_type": "markdown",
   "metadata": {}
  },
  {
   "cell_type": "code",
   "execution_count": null,
   "metadata": {},
   "outputs": [],
   "source": []
  }
 ]
}