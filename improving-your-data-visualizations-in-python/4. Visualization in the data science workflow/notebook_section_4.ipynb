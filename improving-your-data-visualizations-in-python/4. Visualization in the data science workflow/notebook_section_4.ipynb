{
 "metadata": {
  "language_info": {
   "codemirror_mode": {
    "name": "ipython",
    "version": 3
   },
   "file_extension": ".py",
   "mimetype": "text/x-python",
   "name": "python",
   "nbconvert_exporter": "python",
   "pygments_lexer": "ipython3",
   "version": "3.7.9"
  },
  "orig_nbformat": 2,
  "kernelspec": {
   "name": "python3",
   "display_name": "Python 3.7.9 64-bit",
   "metadata": {
    "interpreter": {
     "hash": "beb6f077b0a50b1f641155dede90312e42f957c2e4f193eba21980585e31aa2e"
    }
   }
  }
 },
 "nbformat": 4,
 "nbformat_minor": 2,
 "cells": [
  {
   "source": [
    "# Section 4: Visualization in the data science workflow"
   ],
   "cell_type": "markdown",
   "metadata": {}
  },
  {
   "source": [
    "# Looking at the farmers market data\n",
    "Loaded is a new dataset, markets. Each row of this DataFrame belongs to an individual farmers market in the continental United States with various information about the market contained in the columns. In this exercise, explore the columns of the data to get familiar with them for future analysis and plotting.\n",
    "\n",
    "As a first step, print out the first three lines of markets to get an idea of what type of data the columns encode. Then look at the summary descriptions of all of the columns. Since there are so many columns in the DataFrame, you'll want to turn the results 'sideways' by transposing the output to avoid cutting off rows."
   ],
   "cell_type": "markdown",
   "metadata": {}
  },
  {
   "cell_type": "code",
   "execution_count": null,
   "metadata": {},
   "outputs": [],
   "source": [
    "import pandas as pd \n",
    "\n",
    "markets = pd.read_csv('../datasets/markets_cleaned.csv')\n",
    "\n",
    "markets.head()"
   ]
  },
  {
   "cell_type": "code",
   "execution_count": null,
   "metadata": {},
   "outputs": [],
   "source": [
    "# Print first three rows of data and transpose\n",
    "first_rows = markets.head(3).transpose()\n",
    "print(first_rows)\n",
    "\n",
    "# Get descriptions of every column\n",
    "col_descriptions = markets.describe(include = 'all',\n",
    "                                percentiles = [0.5]).transpose()\n",
    "print(col_descriptions)"
   ]
  },
  {
   "source": [
    "# Scatter matrix of numeric columns\n",
    "You've investigated the new farmer's market data, and it's rather wide – with lots of columns of information for each market's row. Rather than painstakingly going through every combination of numeric columns and making a scatter plot to look at correlations, you decide to make a scatter matrix using the pandas built-in function.\n",
    "\n",
    "Increasing the figure size with the figsize argument will help give the dense visualization some breathing room. Since there will be a lot of overlap for the points, decreasing the point opacity will help show the density of these overlaps."
   ],
   "cell_type": "markdown",
   "metadata": {}
  },
  {
   "cell_type": "code",
   "execution_count": null,
   "metadata": {},
   "outputs": [],
   "source": [
    "import matplotlib.pyplot as plt"
   ]
  },
  {
   "cell_type": "code",
   "execution_count": null,
   "metadata": {},
   "outputs": [],
   "source": [
    "# Select just the numeric columns (exluding individual goods)\n",
    "numeric_columns = ['lat', 'lon', 'months_open', 'num_items_sold', 'state_pop']\n",
    "\n",
    "# Make a scatter matrix of numeric columns\n",
    "pd.plotting.scatter_matrix(markets[numeric_columns], \n",
    "                          # Make figure large to show details\n",
    "                          figsize = [15, 10], \n",
    "                          # Lower point opacity to show overlap\n",
    "                          alpha = 0.5)\n",
    "\n",
    "plt.show()"
   ]
  },
  {
   "source": [
    "# Digging in with basic transforms\n",
    "You are curious to see if the population of a state correlates to the number of items sold at farmer's markets. To check this, take the log of the population and draw a scatter plot against the number of items sold by a market. From your previous explorations of the dataset, you know there will be a lot of overlap, so to get a better handle on the patterns you want to reduce the marker opacity."
   ],
   "cell_type": "markdown",
   "metadata": {}
  },
  {
   "cell_type": "code",
   "execution_count": null,
   "metadata": {},
   "outputs": [],
   "source": [
    "# Create a new logged population column \n",
    "markets['log_pop'] = np.log(markets['state_pop'])\n",
    "\n",
    "# Draw a scatterplot of log-population to # of items sold\n",
    "sns.scatterplot(x = 'log_pop', \n",
    "                  y = 'num_items_sold', \n",
    "                  # Reduce point opacity to show overlap\n",
    "                    alpha = 0.25, \n",
    "                  data = markets)\n",
    "\n",
    "plt.show()"
   ]
  },
  {
   "source": [
    "# Is latitude related to months open?\n",
    "While exploring the farmers market dataset with a scatter matrix, you noticed a potentially interesting relationship between a market's latitude and the number of months it stays open. Digging into this relationship a bit further, you decide to use Seaborn's regression plot to see if there's any weight to this pattern or if the heavy overlap of the points is playing tricks on your eyes.\n",
    "\n",
    "To make the regression line stand out, you'll want to lower the overlapping background points opacity and color them a muted gray. Since you're not going to be making any formal inference and want to quickly investigate a pattern, you can turn off the default uncertainty band."
   ],
   "cell_type": "markdown",
   "metadata": {}
  },
  {
   "cell_type": "code",
   "execution_count": null,
   "metadata": {},
   "outputs": [],
   "source": [
    "import seaborn as sns \n",
    "sns.regplot(x = 'lat', \n",
    "            y = 'months_open', \n",
    "            # Set scatter point opacity & color\n",
    "            scatter_kws = {'alpha':0.1, 'color':'gray'}, \n",
    "            # Disable confidence band\n",
    "            ci = False, \n",
    "            data = markets)\n",
    "\n",
    "plt.show()"
   ]
  },
  {
   "source": [
    "# What state is the most market-friendly?\n",
    "While exploring the farmer's market data, you wonder what patterns may show up if you aggregated to the state level. Are some states more market-friendly than other states? To investigate this, you group your data by state and get the log-transformed number of markets (log_markets) and state populations (log_pop).\n",
    "\n",
    "```python\n",
    "markets_and_pop = (markets\n",
    "    .groupby('state', as_index = False)\n",
    "    .agg({\n",
    "       'name': lambda d: log(len(d)),\n",
    "       'state_pop': lambda d: log(d.iloc[0]) })\n",
    "    .rename(columns = {\n",
    "        'name': 'log_markets', \n",
    "        'state_pop': 'log_pop' }))\n",
    "```\n",
    "To visualize, you decide to use a regression plot to get an idea of the 'normal' relationship between market and population numbers and a text-scatter to quickly identify interesting outliers."
   ],
   "cell_type": "markdown",
   "metadata": {}
  },
  {
   "cell_type": "code",
   "execution_count": null,
   "metadata": {},
   "outputs": [],
   "source": [
    "markets_and_pop = (markets\n",
    "    .groupby('state', as_index = False)\n",
    "    .agg({\n",
    "       'name': lambda d: log(len(d)),\n",
    "       'state_pop': lambda d: log(d.iloc[0]) })\n",
    "    .rename(columns = {\n",
    "        'name': 'log_markets', \n",
    "        'state_pop': 'log_pop' }))"
   ]
  },
  {
   "cell_type": "code",
   "execution_count": null,
   "metadata": {},
   "outputs": [],
   "source": [
    "g = sns.regplot(\n",
    "    \"log_markets\", \"log_pop\", \n",
    "    ci = False,\n",
    "    # Shrink scatter plot points\n",
    "    scatter_kws = {'s':2},\n",
    "    data = markets_and_pop)\n",
    "\n",
    "# Iterate over the rows of the data\n",
    "for _, row in markets_and_pop.iterrows():\n",
    "    state, _, _, log_markets, log_pop = row\n",
    "    # Place annotation and reduce size for clarity\n",
    "    g.annotate(state, (log_markets,log_pop), size = 10)\n",
    "\n",
    "plt.show()"
   ]
  },
  {
   "cell_type": "code",
   "execution_count": null,
   "metadata": {},
   "outputs": [],
   "source": [
    "# Popularity of goods sold by state\n",
    "The farmer's market dataset contains columns corresponding to 28 different goods and whether or not they are sold at that market. You're curious to see if there are any interesting stories in this dataset regarding how likely you are to find a given good at a state's markets. To answer this question, you collapse the data into three columns:\n",
    "\n",
    "- state - the name of the state\n",
    "- good - the good of interest\n",
    "- prop_selling - the proportion of markets in that state that sell that good\n",
    "\n",
    "To quickly determine if patterns emerge, you choose a subset of goods you find interesting and decide to make a simple text-scatter: the good on the x-axis and the proportion of a state's markets that sell that good on the y-axis."
   ]
  },
  {
   "cell_type": "code",
   "execution_count": null,
   "metadata": {},
   "outputs": [],
   "source": [
    "# Subset goods to interesting ones\n",
    "to_plot = ['Cheese','Maple','Fruits','Grains','Seafood','Plants','Vegetables']\n",
    "goods_by_state_small = goods_by_state.query(\"good in \"+str(to_plot))\n",
    "\n",
    "g = sns.scatterplot('good','prop_selling', data = goods_by_state_small,\n",
    "# Hide scatter points by shrinking to nothing\n",
    "                    s = 0)\n",
    "\n",
    "for _,row in goods_by_state_small.iterrows():\n",
    "  g.annotate(row['state'], (row['good'], row['prop_selling']), \n",
    " # Center annotation on axis\n",
    "             ha = 'center', \n",
    "             size = 10)\n",
    "\n",
    "plt.show()"
   ]
  },
  {
   "source": [
    "# Stacking to find trends\n",
    "In the farmers market dataset, you are interested in the number of months that a market stays open in relation to its geography, more specifically its longitude. You're curious to see if there are any regions of the country that behave noticeably different from the others.\n",
    "\n",
    "To do this, you create a basic map with a scatter plot of the latitude and longitude of each market, coloring each market by the number of months it's open. Further digging into the latitude relationship, you draw a regression plot of the latitude to the number of months open with a flexible fit line to determine if any trends appear. You want to view these simultaneously to get the clearest picture of the trends."
   ],
   "cell_type": "markdown",
   "metadata": {}
  },
  {
   "cell_type": "code",
   "execution_count": null,
   "metadata": {},
   "outputs": [],
   "source": [
    "# Setup two stacked plots\n",
    "_, (ax1, ax2) = plt.subplots(2, 1)\n",
    "\n",
    "# Draw location scatter plot on first plot\n",
    "sns.scatterplot(\"lon\", \"lat\", 'months_open', \n",
    "                palette = sns.light_palette(\"orangered\",n_colors = 12), \n",
    "                legend = False, data = markets,\n",
    "                ax = ax1);\n",
    "\n",
    "# Plot a regression plot on second plot\n",
    "sns.regplot('lon', 'months_open',\n",
    "            scatter_kws = {'alpha': 0.2, 'color': 'gray', 'marker': '|'},\n",
    "            lowess = True,\n",
    "            marker = '|', data = markets, \n",
    "            ax = ax2)\n",
    "\n",
    "plt.show()"
   ]
  },
  {
   "source": [
    "# Using a plot as a legend\n",
    "One interesting thread of investigation in the farmer's market data is a state's \"market friendliness\" and specifically, the outliers. One way to look at this is by using the ratio of farmer's markets to people by state. You could directly look at the ratio; however, a ratio throws away the raw information about a state's population and the number of markets. A large state with a high ratio could be more interesting than a small one.\n",
    "\n",
    "You can show both the ratio and raw numbers by drawing two plots, one of the ratio and the other of the market number to population scatter plot. To help simplify your now dense visualization, you can use the bar plot as a legend; calling out interesting states by matching the colors of their bars and scatter points."
   ],
   "cell_type": "markdown",
   "metadata": {}
  },
  {
   "cell_type": "code",
   "execution_count": null,
   "metadata": {},
   "outputs": [],
   "source": [
    "# Set up two side-by-side plots\n",
    "f, (ax1, ax2) = plt.subplots(1, 2, figsize = (15, 15))\n",
    "\n",
    "# Map the column for selected states to the bar color\n",
    "sns.barplot('people_per_market', 'state', hue = 'is_selected',\n",
    "            # Disable dodge so bars are full size\n",
    "            dodge = False, \n",
    "            data = markets_by_state, ax = ax1)\n",
    "\n",
    "# Map selected states to point color\n",
    "sns.scatterplot('log_pop', 'log_markets', hue = 'is_selected', \n",
    "                data = markets_by_state, ax = ax2, s = 100)\n",
    "\n",
    "# Remove the legend for both plots\n",
    "ax1.legend_.remove()\n",
    "ax2.legend_.remove() \n",
    "plt.show() "
   ]
  },
  {
   "source": [
    "# Cleaning up the background\n",
    "While exploring state-level patterns in goods sold at farmer's markets, a few states stood out to you. North Dakota and New Mexico routinely fell near the bottom of the states regarding their proportion of farmer's markets selling a given good. Whereas Vermont was always near the top. You want to present the general patterns in good sales by state, while also highlighting the states you found interesting.\n",
    "\n",
    "You make a scatter plot of goods being sold by the proportion of markets that sell that good in a state. To highlight the interesting states, you draw a line between each of the state's points. To make a clean and minimal plot, you reduce the background to a simple set of orienting grids."
   ],
   "cell_type": "markdown",
   "metadata": {}
  },
  {
   "cell_type": "code",
   "execution_count": null,
   "metadata": {},
   "outputs": [],
   "source": [
    "# Set background to white with grid\n",
    "sns.set_style('whitegrid')\n",
    "\n",
    "plt.scatter('good','prop selling', marker = '_', alpha = 0.7, data = goods_by_state)\n",
    "\n",
    "# Draw lines across goods for highlighted states\n",
    "highlighted = goods_by_state.query(\"state in ['New Mexico','North Dakota','Vermont']\")\n",
    "sns.lineplot('good','prop selling', 'state', data = highlighted, legend = False)\n",
    "\n",
    "# Draw state name at end of lines\n",
    "last_rows = highlighted.groupby('state', as_index = False).agg('first')\n",
    "for _,row in last_rows.iterrows():\n",
    "    plt.annotate(row['state'], (row['good'], row['prop selling']),\n",
    "                 ha = 'right', xytext = (5,0), textcoords = 'offset pixels')\n",
    "\n",
    "# Remove all borders\n",
    "sns.despine(bottom = True, left = True)\n",
    "plt.show()"
   ]
  },
  {
   "source": [
    "# Remixing a plot\n",
    "You find the relationship between the latitude of a farmer's market and the number of months the market was open fascinating. Intuitively as one gets further South, the growing seasons are longer, and thus the markets can stay open longer. To visualize this story, you summarize the market data at the state level and draw a heatmap with columns corresponding to the duration the markets are open. Each row in the heatmap shows the distribution of the market \"season\" for a state and rows are sorted in descending order of the state's latitude.\n",
    "\n",
    "![](./latheatmap.png)\n",
    "\n",
    "The default heatmap leaves a lot to be desired. Decrease the font size to allow each state name to fit without overlap. The dark color palette also clashes with the light background, and the colorbar doesn't help the reader as the point is relative comparisons."
   ],
   "cell_type": "markdown",
   "metadata": {}
  },
  {
   "cell_type": "code",
   "execution_count": null,
   "metadata": {},
   "outputs": [],
   "source": [
    "# Decrease font size so state names are less crowded\n",
    "sns.set(font_scale = 0.85)\n",
    "\n",
    "# Switch to an appropriate color palette\n",
    "blue_pal = sns.light_palette(\"steelblue\", as_cmap = True)\n",
    "\n",
    "# Order states by latitude\n",
    "g = sns.heatmap(markets_by_month.reindex(state_by_lat), \n",
    "            # Add gaps between cells\n",
    "            linewidths = 0.1, \n",
    "            # Set new palette and remove color bar \n",
    "            cmap = blue_pal, cbar = False,\n",
    "            yticklabels = True)\n",
    "\n",
    "# Rotate y-axis ticks \n",
    "g.set_yticklabels(g.get_yticklabels(), rotation = 0)\n",
    "plt.title('Distribution of months open for farmers markets by latitude')\n",
    "plt.show()"
   ]
  },
  {
   "source": [
    "# Enhancing legibility\n",
    "You and your colleagues have decided that the most important aspect of the data you want to show is the differences between the most \"market-friendly\" state, Vermont, and the least, Texas. To do this, put two plots side by side – a barplot showing the number of people per farmer's market in the state and a scatter plot showing the population on the x-axis and the number of markets on the y-axis.\n",
    "\n",
    "Emphasize your findings by calling out Vermont and Texas by assigning them distinct colors. Also, provide a large and easy to read annotation for Texas.\n",
    "\n",
    "Supplied is a vector state_colors that assigns Vermont and Texas unique colors and all other states gray along with the annotation describing Texas, tx_message."
   ],
   "cell_type": "markdown",
   "metadata": {}
  },
  {
   "cell_type": "code",
   "execution_count": null,
   "metadata": {},
   "outputs": [],
   "source": [
    "# Draw barplot w/ colors mapped to state_colors vector\n",
    "sns.barplot('people_per_market', 'state', palette = state_colors,\n",
    "            data = markets_by_state, ax = ax1)\n",
    "\n",
    "# Map state colors vector to the scatterplot as well\n",
    "p = sns.scatterplot('population', 'num_markets', color = state_colors,\n",
    "                    data = markets_by_state, s = 60, ax = ax2)\n",
    "\n",
    "# Log the x and y scales of our scatter plot so it's easier to read\n",
    "ax2.set(xscale = \"log\", yscale = 'log')\n",
    "\n",
    "# Increase annotation text size for legibility\n",
    "ax2.annotate(tx_message, xy = (26956958,230), \n",
    "             xytext = (26956958, 450),ha = 'right', \n",
    "             size = 15, backgroundcolor = 'white',\n",
    "             arrowprops = {'facecolor':'black', 'width': 3})\n",
    "sns.set_style('whitegrid')\n",
    "plt.show()"
   ]
  }
 ]
}