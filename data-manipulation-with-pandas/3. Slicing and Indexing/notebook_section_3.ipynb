{
 "metadata": {
  "language_info": {
   "codemirror_mode": {
    "name": "ipython",
    "version": 3
   },
   "file_extension": ".py",
   "mimetype": "text/x-python",
   "name": "python",
   "nbconvert_exporter": "python",
   "pygments_lexer": "ipython3",
   "version": "3.7.9-final"
  },
  "orig_nbformat": 2,
  "kernelspec": {
   "name": "python3",
   "display_name": "Python 3",
   "language": "python"
  }
 },
 "nbformat": 4,
 "nbformat_minor": 2,
 "cells": [
  {
   "source": [
    "# Setting and removing indexes\n",
    "pandas allows you to designate columns as an index. This enables cleaner code when taking subsets (as well as providing more efficient lookup under some circumstances).\n",
    "\n",
    "In this chapter, you'll be exploring temperatures, a DataFrame of average temperatures in cities around the world. pandas is loaded as pd."
   ],
   "cell_type": "markdown",
   "metadata": {}
  },
  {
   "cell_type": "code",
   "execution_count": 1,
   "metadata": {},
   "outputs": [],
   "source": [
    "import pandas as pd \n",
    "temperatures = pd.read_csv('../datasets/temperatures.csv')"
   ]
  },
  {
   "cell_type": "code",
   "execution_count": 2,
   "metadata": {},
   "outputs": [
    {
     "output_type": "stream",
     "name": "stdout",
     "text": [
      "       Unnamed: 0        date     city        country  avg_temp_c\n0               0  2000-01-01  Abidjan  Côte D'Ivoire      27.293\n1               1  2000-02-01  Abidjan  Côte D'Ivoire      27.685\n2               2  2000-03-01  Abidjan  Côte D'Ivoire      29.061\n3               3  2000-04-01  Abidjan  Côte D'Ivoire      28.162\n4               4  2000-05-01  Abidjan  Côte D'Ivoire      27.547\n...           ...         ...      ...            ...         ...\n16495       16495  2013-05-01     Xian          China      18.979\n16496       16496  2013-06-01     Xian          China      23.522\n16497       16497  2013-07-01     Xian          China      25.251\n16498       16498  2013-08-01     Xian          China      24.528\n16499       16499  2013-09-01     Xian          China         NaN\n\n[16500 rows x 5 columns]\n         Unnamed: 0        date        country  avg_temp_c\ncity                                                      \nAbidjan           0  2000-01-01  Côte D'Ivoire      27.293\nAbidjan           1  2000-02-01  Côte D'Ivoire      27.685\nAbidjan           2  2000-03-01  Côte D'Ivoire      29.061\nAbidjan           3  2000-04-01  Côte D'Ivoire      28.162\nAbidjan           4  2000-05-01  Côte D'Ivoire      27.547\n...             ...         ...            ...         ...\nXian          16495  2013-05-01          China      18.979\nXian          16496  2013-06-01          China      23.522\nXian          16497  2013-07-01          China      25.251\nXian          16498  2013-08-01          China      24.528\nXian          16499  2013-09-01          China         NaN\n\n[16500 rows x 4 columns]\n          city  Unnamed: 0        date        country  avg_temp_c\n0      Abidjan           0  2000-01-01  Côte D'Ivoire      27.293\n1      Abidjan           1  2000-02-01  Côte D'Ivoire      27.685\n2      Abidjan           2  2000-03-01  Côte D'Ivoire      29.061\n3      Abidjan           3  2000-04-01  Côte D'Ivoire      28.162\n4      Abidjan           4  2000-05-01  Côte D'Ivoire      27.547\n...        ...         ...         ...            ...         ...\n16495     Xian       16495  2013-05-01          China      18.979\n16496     Xian       16496  2013-06-01          China      23.522\n16497     Xian       16497  2013-07-01          China      25.251\n16498     Xian       16498  2013-08-01          China      24.528\n16499     Xian       16499  2013-09-01          China         NaN\n\n[16500 rows x 5 columns]\n       Unnamed: 0        date        country  avg_temp_c\n0               0  2000-01-01  Côte D'Ivoire      27.293\n1               1  2000-02-01  Côte D'Ivoire      27.685\n2               2  2000-03-01  Côte D'Ivoire      29.061\n3               3  2000-04-01  Côte D'Ivoire      28.162\n4               4  2000-05-01  Côte D'Ivoire      27.547\n...           ...         ...            ...         ...\n16495       16495  2013-05-01          China      18.979\n16496       16496  2013-06-01          China      23.522\n16497       16497  2013-07-01          China      25.251\n16498       16498  2013-08-01          China      24.528\n16499       16499  2013-09-01          China         NaN\n\n[16500 rows x 4 columns]\n"
     ]
    }
   ],
   "source": [
    "# Look at temperatures\n",
    "print(temperatures)\n",
    "\n",
    "# Index temperatures by city\n",
    "temperatures_ind = temperatures.set_index('city')\n",
    "\n",
    "# Look at temperatures_ind\n",
    "print(temperatures_ind)\n",
    "\n",
    "# Reset the index, keeping its contents\n",
    "print(temperatures_ind.reset_index())\n",
    "\n",
    "# Reset the index, dropping its contents\n",
    "print(temperatures_ind.reset_index(drop=True))"
   ]
  },
  {
   "source": [
    "# Subsetting with .loc[]\n",
    "The killer feature for indexes is .loc[]: a subsetting method that accepts index values. When you pass it a single argument, it will take a subset of rows.\n",
    "\n",
    "The code for subsetting using .loc[] can be easier to read than standard square bracket subsetting, which can make your code less burdensome to maintain.\n",
    "\n",
    "pandas is loaded as pd. temperatures and temperatures_ind are available; the latter is indexed by city."
   ],
   "cell_type": "markdown",
   "metadata": {}
  },
  {
   "cell_type": "code",
   "execution_count": 3,
   "metadata": {},
   "outputs": [
    {
     "output_type": "stream",
     "name": "stdout",
     "text": [
      "       Unnamed: 0        date              city country  avg_temp_c\n10725       10725  2000-01-01            Moscow  Russia      -7.313\n10726       10726  2000-02-01            Moscow  Russia      -3.551\n10727       10727  2000-03-01            Moscow  Russia      -1.661\n10728       10728  2000-04-01            Moscow  Russia      10.096\n10729       10729  2000-05-01            Moscow  Russia      10.357\n...           ...         ...               ...     ...         ...\n13360       13360  2013-05-01  Saint Petersburg  Russia      12.355\n13361       13361  2013-06-01  Saint Petersburg  Russia      17.185\n13362       13362  2013-07-01  Saint Petersburg  Russia      17.234\n13363       13363  2013-08-01  Saint Petersburg  Russia      17.153\n13364       13364  2013-09-01  Saint Petersburg  Russia         NaN\n\n[330 rows x 5 columns]\n"
     ]
    }
   ],
   "source": [
    "# Make a list of cities to subset on\n",
    "cities = [\"Moscow\", \"Saint Petersburg\"]\n",
    "\n",
    "# Subset temperatures using square brackets\n",
    "print(temperatures[temperatures[\"city\"].isin(cities)])\n"
   ]
  },
  {
   "cell_type": "code",
   "execution_count": 4,
   "metadata": {},
   "outputs": [
    {
     "output_type": "stream",
     "name": "stdout",
     "text": [
      "                  Unnamed: 0        date country  avg_temp_c\ncity                                                        \nMoscow                 10725  2000-01-01  Russia      -7.313\nMoscow                 10726  2000-02-01  Russia      -3.551\nMoscow                 10727  2000-03-01  Russia      -1.661\nMoscow                 10728  2000-04-01  Russia      10.096\nMoscow                 10729  2000-05-01  Russia      10.357\n...                      ...         ...     ...         ...\nSaint Petersburg       13360  2013-05-01  Russia      12.355\nSaint Petersburg       13361  2013-06-01  Russia      17.185\nSaint Petersburg       13362  2013-07-01  Russia      17.234\nSaint Petersburg       13363  2013-08-01  Russia      17.153\nSaint Petersburg       13364  2013-09-01  Russia         NaN\n\n[330 rows x 4 columns]\n"
     ]
    }
   ],
   "source": [
    "# Subset temperatures_ind using .loc[]\n",
    "print(temperatures_ind.loc[cities])"
   ]
  },
  {
   "source": [
    "# Setting multi-level indexes\n",
    "Indexes can also be made out of multiple columns, forming a multi-level index (sometimes called a hierarchical index). There is a trade-off to using these.\n",
    "\n",
    "The benefit is that multi-level indexes make it more natural to reason about nested categorical variables. For example, in a clinical trial, you might have control and treatment groups. Then each test subject belongs to one or another group, and we can say that a test subject is nested inside the treatment group. Similarly, in the temperature dataset, the city is located in the country, so we can say a city is nested inside the country.\n",
    "\n",
    "The main downside is that the code for manipulating indexes is different from the code for manipulating columns, so you have to learn two syntaxes and keep track of how your data is represented.\n",
    "\n",
    "pandas is loaded as pd. temperatures is available."
   ],
   "cell_type": "markdown",
   "metadata": {}
  },
  {
   "cell_type": "code",
   "execution_count": 5,
   "metadata": {},
   "outputs": [
    {
     "output_type": "stream",
     "name": "stdout",
     "text": [
      "                         Unnamed: 0        date  avg_temp_c\ncountry  city                                              \nBrazil   Rio De Janeiro       12540  2000-01-01      25.974\n         Rio De Janeiro       12541  2000-02-01      26.699\n         Rio De Janeiro       12542  2000-03-01      26.270\n         Rio De Janeiro       12543  2000-04-01      25.750\n         Rio De Janeiro       12544  2000-05-01      24.356\n...                             ...         ...         ...\nPakistan Lahore                8575  2013-05-01      33.457\n         Lahore                8576  2013-06-01      34.456\n         Lahore                8577  2013-07-01      33.279\n         Lahore                8578  2013-08-01      31.511\n         Lahore                8579  2013-09-01         NaN\n\n[330 rows x 3 columns]\n"
     ]
    }
   ],
   "source": [
    "# Index temperatures by country & city\n",
    "temperatures_ind = temperatures.set_index(['country', 'city'])\n",
    "\n",
    "# List of tuples: Brazil, Rio De Janeiro & Pakistan, Lahore\n",
    "rows_to_keep = [('Brazil', 'Rio De Janeiro'), ('Pakistan', 'Lahore')]\n",
    "\n",
    "# Subset for rows to keep\n",
    "print(temperatures_ind.loc[rows_to_keep])"
   ]
  },
  {
   "source": [
    "# Sorting by index values\n",
    "Previously, you changed the order of the rows in a DataFrame by calling .sort_values(). It's also useful to be able to sort by elements in the index. For this, you need to use .sort_index().\n",
    "\n",
    "pandas is loaded as pd. temperatures_ind has a multi-level index of country and city, and is available."
   ],
   "cell_type": "markdown",
   "metadata": {}
  },
  {
   "cell_type": "code",
   "execution_count": 6,
   "metadata": {},
   "outputs": [
    {
     "output_type": "stream",
     "name": "stdout",
     "text": [
      "                    Unnamed: 0        date  avg_temp_c\ncountry     city                                      \nAfghanistan Kabul         7260  2000-01-01       3.326\n            Kabul         7261  2000-02-01       3.454\n            Kabul         7262  2000-03-01       9.612\n            Kabul         7263  2000-04-01      17.925\n            Kabul         7264  2000-05-01      24.658\n...                        ...         ...         ...\nZimbabwe    Harare        5605  2013-05-01      18.298\n            Harare        5606  2013-06-01      17.020\n            Harare        5607  2013-07-01      16.299\n            Harare        5608  2013-08-01      19.232\n            Harare        5609  2013-09-01         NaN\n\n[16500 rows x 3 columns]\n"
     ]
    }
   ],
   "source": [
    "# Sort temperatures_ind by index values\n",
    "print(temperatures_ind.sort_index())"
   ]
  },
  {
   "cell_type": "code",
   "execution_count": 7,
   "metadata": {},
   "outputs": [
    {
     "output_type": "stream",
     "name": "stdout",
     "text": [
      "                       Unnamed: 0        date  avg_temp_c\ncountry       city                                       \nCôte D'Ivoire Abidjan           0  2000-01-01      27.293\n              Abidjan           1  2000-02-01      27.685\n              Abidjan           2  2000-03-01      29.061\n              Abidjan           3  2000-04-01      28.162\n              Abidjan           4  2000-05-01      27.547\n...                           ...         ...         ...\nChina         Xian          16495  2013-05-01      18.979\n              Xian          16496  2013-06-01      23.522\n              Xian          16497  2013-07-01      25.251\n              Xian          16498  2013-08-01      24.528\n              Xian          16499  2013-09-01         NaN\n\n[16500 rows x 3 columns]\n"
     ]
    }
   ],
   "source": [
    "# Sort temperatures_ind by index values at the city level\n",
    "print(temperatures_ind.sort_index(level='city'))"
   ]
  },
  {
   "cell_type": "code",
   "execution_count": 8,
   "metadata": {},
   "outputs": [
    {
     "output_type": "stream",
     "name": "stdout",
     "text": [
      "                    Unnamed: 0        date  avg_temp_c\ncountry     city                                      \nAfghanistan Kabul         7260  2000-01-01       3.326\n            Kabul         7261  2000-02-01       3.454\n            Kabul         7262  2000-03-01       9.612\n            Kabul         7263  2000-04-01      17.925\n            Kabul         7264  2000-05-01      24.658\n...                        ...         ...         ...\nZimbabwe    Harare        5605  2013-05-01      18.298\n            Harare        5606  2013-06-01      17.020\n            Harare        5607  2013-07-01      16.299\n            Harare        5608  2013-08-01      19.232\n            Harare        5609  2013-09-01         NaN\n\n[16500 rows x 3 columns]\n"
     ]
    }
   ],
   "source": [
    "# Sort temperatures_ind by country then descending city\n",
    "print(temperatures_ind.sort_index(level=['country', 'city'], ascending = [True, False]))"
   ]
  },
  {
   "source": [
    "# Slicing index values\n",
    "Slicing lets you select consecutive elements of an object using first:last syntax. DataFrames can be sliced by index values or by row/column number; we'll start with the first case. This involves slicing inside the .loc[] method.\n",
    "\n",
    "Compared to slicing lists, there are a few things to remember.\n",
    "\n",
    "- You can only slice an index if the index is sorted (using .sort_index()).\n",
    "- To slice at the outer level, first and last can be strings.\n",
    "- To slice at inner levels, first and last should be tuples.\n",
    "- If you pass a single slice to .loc[], it will slice the rows.\n",
    "\n",
    "pandas is loaded as pd. temperatures_ind has country and city in the index, and is available."
   ],
   "cell_type": "markdown",
   "metadata": {}
  },
  {
   "cell_type": "code",
   "execution_count": 9,
   "metadata": {},
   "outputs": [],
   "source": [
    "# Sort the index of temperatures_ind\n",
    "temperatures_srt = temperatures_ind.sort_index()"
   ]
  },
  {
   "cell_type": "code",
   "execution_count": 10,
   "metadata": {},
   "outputs": [
    {
     "output_type": "stream",
     "name": "stdout",
     "text": [
      "                           Unnamed: 0        date  avg_temp_c\ncountry  city                                                \nPakistan Faisalabad              4785  2000-01-01      12.792\n         Faisalabad              4786  2000-02-01      14.339\n         Faisalabad              4787  2000-03-01      20.309\n         Faisalabad              4788  2000-04-01      29.072\n         Faisalabad              4789  2000-05-01      34.845\n...                               ...         ...         ...\nRussia   Saint Petersburg       13360  2013-05-01      12.355\n         Saint Petersburg       13361  2013-06-01      17.185\n         Saint Petersburg       13362  2013-07-01      17.234\n         Saint Petersburg       13363  2013-08-01      17.153\n         Saint Petersburg       13364  2013-09-01         NaN\n\n[1155 rows x 3 columns]\n"
     ]
    }
   ],
   "source": [
    "# Subset rows from Pakistan to Russia\n",
    "print(temperatures_srt.loc['Pakistan':'Russia'])"
   ]
  },
  {
   "cell_type": "code",
   "execution_count": 11,
   "metadata": {},
   "outputs": [
    {
     "output_type": "stream",
     "name": "stdout",
     "text": [
      "                    Unnamed: 0        date  avg_temp_c\ncountry city                                          \nMexico  Mexico           10230  2000-01-01      12.694\n        Mexico           10231  2000-02-01      14.677\n        Mexico           10232  2000-03-01      17.376\n        Mexico           10233  2000-04-01      18.294\n        Mexico           10234  2000-05-01      18.562\n...                        ...         ...         ...\nMorocco Casablanca        3130  2013-05-01      19.217\n        Casablanca        3131  2013-06-01      23.649\n        Casablanca        3132  2013-07-01      27.488\n        Casablanca        3133  2013-08-01      27.952\n        Casablanca        3134  2013-09-01         NaN\n\n[330 rows x 3 columns]\n"
     ]
    }
   ],
   "source": [
    "# Try to subset rows from Lahore to Moscow\n",
    "print(temperatures_srt.loc['Lahore':'Moscow'])"
   ]
  },
  {
   "cell_type": "code",
   "execution_count": 12,
   "metadata": {},
   "outputs": [
    {
     "output_type": "stream",
     "name": "stdout",
     "text": [
      "                 Unnamed: 0        date  avg_temp_c\ncountry  city                                      \nPakistan Lahore        8415  2000-01-01      12.792\n         Lahore        8416  2000-02-01      14.339\n         Lahore        8417  2000-03-01      20.309\n         Lahore        8418  2000-04-01      29.072\n         Lahore        8419  2000-05-01      34.845\n...                     ...         ...         ...\nRussia   Moscow       10885  2013-05-01      16.152\n         Moscow       10886  2013-06-01      18.718\n         Moscow       10887  2013-07-01      18.136\n         Moscow       10888  2013-08-01      17.485\n         Moscow       10889  2013-09-01         NaN\n\n[660 rows x 3 columns]\n"
     ]
    }
   ],
   "source": [
    "# Subset rows from Pakistan, Lahore to Russia, Moscow\n",
    "print(temperatures_srt.loc[('Pakistan', 'Lahore'):('Russia', 'Moscow')])"
   ]
  },
  {
   "source": [
    "# Slicing in both directions\n",
    "You've seen slicing DataFrames by rows and by columns, but since DataFrames are two-dimensional objects, it is often natural to slice both dimensions at once. That is, by passing two arguments to .loc[], you can subset by rows and columns in one go.\n",
    "\n",
    "pandas is loaded as pd. temperatures_srt is indexed by country and city, has a sorted index, and is available."
   ],
   "cell_type": "markdown",
   "metadata": {}
  },
  {
   "cell_type": "code",
   "execution_count": 13,
   "metadata": {},
   "outputs": [
    {
     "output_type": "stream",
     "name": "stdout",
     "text": [
      "                   Unnamed: 0        date  avg_temp_c\ncountry city                                         \nIndia   Hyderabad        5940  2000-01-01      23.779\n        Hyderabad        5941  2000-02-01      25.826\n        Hyderabad        5942  2000-03-01      28.821\n        Hyderabad        5943  2000-04-01      32.698\n        Hyderabad        5944  2000-05-01      32.438\n...                       ...         ...         ...\nIraq    Baghdad          1150  2013-05-01      28.673\n        Baghdad          1151  2013-06-01      33.803\n        Baghdad          1152  2013-07-01      36.392\n        Baghdad          1153  2013-08-01      35.463\n        Baghdad          1154  2013-09-01         NaN\n\n[2145 rows x 3 columns]\n"
     ]
    }
   ],
   "source": [
    "# Subset rows from India, Hyderabad to Iraq, Baghdad\n",
    "print(temperatures_srt.loc[('India', 'Hyderabad'):('Iraq', 'Baghdad')])"
   ]
  },
  {
   "cell_type": "code",
   "execution_count": 14,
   "metadata": {},
   "outputs": [
    {
     "output_type": "stream",
     "name": "stdout",
     "text": [
      "                          date  avg_temp_c\ncountry     city                          \nAfghanistan Kabul   2000-01-01       3.326\n            Kabul   2000-02-01       3.454\n            Kabul   2000-03-01       9.612\n            Kabul   2000-04-01      17.925\n            Kabul   2000-05-01      24.658\n...                        ...         ...\nZimbabwe    Harare  2013-05-01      18.298\n            Harare  2013-06-01      17.020\n            Harare  2013-07-01      16.299\n            Harare  2013-08-01      19.232\n            Harare  2013-09-01         NaN\n\n[16500 rows x 2 columns]\n"
     ]
    }
   ],
   "source": [
    "# Subset columns from date to avg_temp_c\n",
    "print(temperatures_srt.loc[:,'date':'avg_temp_c'])"
   ]
  },
  {
   "cell_type": "code",
   "execution_count": 15,
   "metadata": {},
   "outputs": [
    {
     "output_type": "stream",
     "name": "stdout",
     "text": [
      "                         date  avg_temp_c\ncountry city                             \nIndia   Hyderabad  2000-01-01      23.779\n        Hyderabad  2000-02-01      25.826\n        Hyderabad  2000-03-01      28.821\n        Hyderabad  2000-04-01      32.698\n        Hyderabad  2000-05-01      32.438\n...                       ...         ...\nIraq    Baghdad    2013-05-01      28.673\n        Baghdad    2013-06-01      33.803\n        Baghdad    2013-07-01      36.392\n        Baghdad    2013-08-01      35.463\n        Baghdad    2013-09-01         NaN\n\n[2145 rows x 2 columns]\n"
     ]
    }
   ],
   "source": [
    "# Subset in both directions at once\n",
    "print(temperatures_srt.loc[('India', 'Hyderabad'):('Iraq', 'Baghdad'),'date':'avg_temp_c'])"
   ]
  },
  {
   "source": [
    "# Slicing time series\n",
    "Slicing is particularly useful for time series since it's a common thing to want to filter for data within a date range. Add the date column to the index, then use .loc[] to perform the subsetting. The important thing to remember is to keep your dates in ISO 8601 format, that is, yyyy-mm-dd.\n",
    "\n",
    "Recall from Chapter 1 that you can combine multiple Boolean conditions using logical operators (such as &). To do so in one line of code, you'll need to add parentheses () around each condition.\n",
    "\n",
    "pandas is loaded as pd and temperatures, with no index, is available."
   ],
   "cell_type": "markdown",
   "metadata": {}
  },
  {
   "cell_type": "code",
   "execution_count": 16,
   "metadata": {},
   "outputs": [
    {
     "output_type": "stream",
     "name": "stdout",
     "text": [
      "       Unnamed: 0        date     city        country  avg_temp_c\n120           120  2010-01-01  Abidjan  Côte D'Ivoire      28.270\n121           121  2010-02-01  Abidjan  Côte D'Ivoire      29.262\n122           122  2010-03-01  Abidjan  Côte D'Ivoire      29.596\n123           123  2010-04-01  Abidjan  Côte D'Ivoire      29.068\n124           124  2010-05-01  Abidjan  Côte D'Ivoire      28.258\n...           ...         ...      ...            ...         ...\n16474       16474  2011-08-01     Xian          China      23.069\n16475       16475  2011-09-01     Xian          China      16.775\n16476       16476  2011-10-01     Xian          China      12.587\n16477       16477  2011-11-01     Xian          China       7.543\n16478       16478  2011-12-01     Xian          China      -0.490\n\n[2400 rows x 5 columns]\n"
     ]
    }
   ],
   "source": [
    "# Use Boolean conditions to subset temperatures for rows in 2010 and 2011\n",
    "temperatures_bool = temperatures[(temperatures[\"date\"] >= \"2010\") & (temperatures[\"date\"] < \"2012\")]\n",
    "print(temperatures_bool)"
   ]
  },
  {
   "cell_type": "code",
   "execution_count": 17,
   "metadata": {},
   "outputs": [],
   "source": [
    "# Set date as an index and sort the index\n",
    "temperatures_ind = temperatures.set_index('date').sort_index()"
   ]
  },
  {
   "cell_type": "code",
   "execution_count": 18,
   "metadata": {},
   "outputs": [
    {
     "output_type": "stream",
     "name": "stdout",
     "text": [
      "            Unnamed: 0        city    country  avg_temp_c\ndate                                                     \n2010-01-01        4905  Faisalabad   Pakistan      11.810\n2010-01-01       10185   Melbourne  Australia      20.016\n2010-01-01        3750   Chongqing      China       7.921\n2010-01-01       13155   São Paulo     Brazil      23.738\n2010-01-01        5400   Guangzhou      China      14.136\n...                ...         ...        ...         ...\n2010-12-01        6896     Jakarta  Indonesia      26.602\n2010-12-01        5246       Gizeh      Egypt      16.530\n2010-12-01       11186      Nagpur      India      19.120\n2010-12-01       14981      Sydney  Australia      19.559\n2010-12-01       13496    Salvador     Brazil      26.265\n\n[1200 rows x 4 columns]\n"
     ]
    }
   ],
   "source": [
    "# Use .loc[] to subset temperatures_ind for rows in 2010 and 2011\n",
    "print(temperatures_ind.loc[\"2010\":\"2011\"])"
   ]
  },
  {
   "cell_type": "code",
   "execution_count": 19,
   "metadata": {},
   "outputs": [
    {
     "output_type": "stream",
     "name": "stdout",
     "text": [
      "            Unnamed: 0           city        country  avg_temp_c\ndate                                                            \n2010-08-01        2602       Calcutta          India      30.226\n2010-08-01       12337           Pune          India      24.941\n2010-08-01        6562          Izmir         Turkey      28.352\n2010-08-01       15637        Tianjin          China      25.543\n2010-08-01        9862         Manila    Philippines      27.101\n...                ...            ...            ...         ...\n2011-01-01        4257  Dar Es Salaam       Tanzania      28.541\n2011-01-01       11352        Nairobi          Kenya      17.768\n2011-01-01         297    Addis Abeba       Ethiopia      17.708\n2011-01-01       11517        Nanjing          China       0.144\n2011-01-01       11847       New York  United States      -4.463\n\n[600 rows x 4 columns]\n"
     ]
    }
   ],
   "source": [
    "# Use .loc[] to subset temperatures_ind for rows from Aug 2010 to Feb 2011\n",
    "print(temperatures_ind.loc[\"2010-08\":\"2011-02\"])"
   ]
  },
  {
   "source": [
    "# Subsetting by row/column number\n",
    "The most common ways to subset rows are the ways we've previously discussed: using a Boolean condition or by index labels. However, it is also occasionally useful to pass row numbers.\n",
    "\n",
    "This is done using .iloc[], and like .loc[], it can take two arguments to let you subset by rows and columns.\n",
    "\n",
    "pandas is loaded as pd. temperatures (without an index) is available."
   ],
   "cell_type": "markdown",
   "metadata": {}
  },
  {
   "cell_type": "code",
   "execution_count": 20,
   "metadata": {},
   "outputs": [
    {
     "output_type": "stream",
     "name": "stdout",
     "text": [
      "Abidjan\n"
     ]
    }
   ],
   "source": [
    "# Get 23rd row, 2nd column (index 22, 1)\n",
    "print(temperatures.iloc[23, 2])"
   ]
  },
  {
   "cell_type": "code",
   "execution_count": 21,
   "metadata": {},
   "outputs": [
    {
     "output_type": "stream",
     "name": "stdout",
     "text": [
      "   Unnamed: 0        date     city        country  avg_temp_c\n0           0  2000-01-01  Abidjan  Côte D'Ivoire      27.293\n1           1  2000-02-01  Abidjan  Côte D'Ivoire      27.685\n2           2  2000-03-01  Abidjan  Côte D'Ivoire      29.061\n3           3  2000-04-01  Abidjan  Côte D'Ivoire      28.162\n4           4  2000-05-01  Abidjan  Côte D'Ivoire      27.547\n"
     ]
    }
   ],
   "source": [
    "# Use slicing to get the first 5 rows\n",
    "print(temperatures.iloc[:5, :])"
   ]
  },
  {
   "cell_type": "code",
   "execution_count": 22,
   "metadata": {},
   "outputs": [
    {
     "output_type": "stream",
     "name": "stdout",
     "text": [
      "          city        country  avg_temp_c\n0      Abidjan  Côte D'Ivoire      27.293\n1      Abidjan  Côte D'Ivoire      27.685\n2      Abidjan  Côte D'Ivoire      29.061\n3      Abidjan  Côte D'Ivoire      28.162\n4      Abidjan  Côte D'Ivoire      27.547\n...        ...            ...         ...\n16495     Xian          China      18.979\n16496     Xian          China      23.522\n16497     Xian          China      25.251\n16498     Xian          China      24.528\n16499     Xian          China         NaN\n\n[16500 rows x 3 columns]\n"
     ]
    }
   ],
   "source": [
    "# Use slicing to get columns 3 to 4\n",
    "print(temperatures.iloc[:, 2:5])"
   ]
  },
  {
   "cell_type": "code",
   "execution_count": 23,
   "metadata": {},
   "outputs": [
    {
     "output_type": "stream",
     "name": "stdout",
     "text": [
      "      city        country  avg_temp_c\n0  Abidjan  Côte D'Ivoire      27.293\n1  Abidjan  Côte D'Ivoire      27.685\n2  Abidjan  Côte D'Ivoire      29.061\n3  Abidjan  Côte D'Ivoire      28.162\n4  Abidjan  Côte D'Ivoire      27.547\n"
     ]
    }
   ],
   "source": [
    "# Use slicing in both directions at once\n",
    "print(temperatures.iloc[:5, 2:5])"
   ]
  },
  {
   "source": [
    "# Pivot temperature by city and year\n",
    "It's interesting to see how temperatures for each city change over time—looking at every month results in a big table, which can be tricky to reason about. Instead, let's look at how temperatures change by year.\n",
    "\n",
    "You can access the components of a date (year, month and day) using code of the form dataframe[\"column\"].dt.component. For example, the month component is dataframe[\"column\"].dt.month, and the year component is dataframe[\"column\"].dt.year.\n",
    "\n",
    "Once you have the year column, you can create a pivot table with the data aggregated by city and year, which you'll explore in the coming exercises.\n",
    "\n",
    "pandas is loaded as pd. temperatures is available."
   ],
   "cell_type": "markdown",
   "metadata": {}
  },
  {
   "cell_type": "code",
   "execution_count": 24,
   "metadata": {},
   "outputs": [],
   "source": [
    "# Add a year column to temperatures\n",
    "temperatures[\"date\"] = pd.to_datetime(temperatures[\"date\"], errors='coerce')\n",
    "temperatures[\"year\"] = temperatures[\"date\"].dt.year"
   ]
  },
  {
   "cell_type": "code",
   "execution_count": 25,
   "metadata": {},
   "outputs": [],
   "source": [
    "# Pivot avg_temp_c by country and city vs year\n",
    "temp_by_country_city_vs_year = temperatures.pivot_table(\"avg_temp_c\", index = [\"country\", \"city\"], columns = \"year\")"
   ]
  },
  {
   "cell_type": "code",
   "execution_count": 26,
   "metadata": {},
   "outputs": [
    {
     "output_type": "stream",
     "name": "stdout",
     "text": [
      "year                                 2000       2001       2002       2003  \\\ncountry       city                                                           \nAfghanistan   Kabul             15.822667  15.847917  15.714583  15.132583   \nAngola        Luanda            24.410333  24.427083  24.790917  24.867167   \nAustralia     Melbourne         14.320083  14.180000  14.075833  13.985583   \n              Sydney            17.567417  17.854500  17.733833  17.592333   \nBangladesh    Dhaka             25.905250  25.931250  26.095000  25.927417   \n...                                   ...        ...        ...        ...   \nUnited States Chicago           11.089667  11.703083  11.532083  10.481583   \n              Los Angeles       16.643333  16.466250  16.430250  16.944667   \n              New York           9.969083  10.931000  11.252167   9.836000   \nVietnam       Ho Chi Minh City  27.588917  27.831750  28.064750  27.827667   \nZimbabwe      Harare            20.283667  20.861000  21.079333  20.889167   \n\nyear                                 2004       2005       2006       2007  \\\ncountry       city                                                           \nAfghanistan   Kabul             16.128417  14.847500  15.798500  15.518000   \nAngola        Luanda            24.216167  24.414583  24.138417  24.241583   \nAustralia     Melbourne         13.742083  14.378500  13.991083  14.991833   \n              Sydney            17.869667  18.028083  17.749500  18.020833   \nBangladesh    Dhaka             26.136083  26.193333  26.440417  25.951333   \n...                                   ...        ...        ...        ...   \nUnited States Chicago           10.943417  11.583833  11.870500  11.448333   \n              Los Angeles       16.552833  16.431417  16.623083  16.699917   \n              New York          10.389500  10.681417  11.519250  10.627333   \nVietnam       Ho Chi Minh City  27.686583  27.884000  28.044000  27.866667   \nZimbabwe      Harare            20.307667  21.487417  20.699750  20.746250   \n\nyear                                 2008       2009       2010       2011  \\\ncountry       city                                                           \nAfghanistan   Kabul             15.479250  15.093333  15.676000  15.812167   \nAngola        Luanda            24.266333  24.325083  24.440250  24.150750   \nAustralia     Melbourne         14.110583  14.647417  14.231667  14.190917   \n              Sydney            17.321083  18.175833  17.999000  17.713333   \nBangladesh    Dhaka             26.004500  26.535583  26.648167  25.803250   \n...                                   ...        ...        ...        ...   \nUnited States Chicago           10.242417  10.298333  11.815917  11.214250   \n              Los Angeles       17.014750  16.677000  15.887000  15.874833   \n              New York          10.641667  10.141833  11.357583  11.272250   \nVietnam       Ho Chi Minh City  27.611417  27.853333  28.281750  27.675417   \nZimbabwe      Harare            20.680500  20.523833  21.165833  20.781750   \n\nyear                                 2012       2013  \ncountry       city                                    \nAfghanistan   Kabul             14.510333  16.206125  \nAngola        Luanda            24.240083  24.553875  \nAustralia     Melbourne         14.268667  14.741500  \n              Sydney            17.474333  18.089750  \nBangladesh    Dhaka             26.283583  26.587000  \n...                                   ...        ...  \nUnited States Chicago           12.821250  11.586889  \n              Los Angeles       17.089583  18.120667  \n              New York          11.971500  12.163889  \nVietnam       Ho Chi Minh City  28.248750  28.455000  \nZimbabwe      Harare            20.523333  19.756500  \n\n[100 rows x 14 columns]\n"
     ]
    }
   ],
   "source": [
    "# See the result\n",
    "print(temp_by_country_city_vs_year)"
   ]
  },
  {
   "source": [
    "# Subsetting pivot tables\n",
    "A pivot table is just a DataFrame with sorted indexes, so the techniques you have learned already can be used to subset them. In particular, the .loc[] + slicing combination is often helpful.\n",
    "\n",
    "pandas is loaded as pd. temp_by_country_city_vs_year is available."
   ],
   "cell_type": "markdown",
   "metadata": {}
  },
  {
   "cell_type": "code",
   "execution_count": 27,
   "metadata": {},
   "outputs": [
    {
     "output_type": "stream",
     "name": "stdout",
     "text": [
      "year                       2000       2001       2002       2003       2004  \\\ncountry  city                                                                 \nEgypt    Alexandria   20.744500  21.454583  21.456167  21.221417  21.064167   \n         Cairo        21.486167  22.330833  22.414083  22.170500  22.081917   \n         Gizeh        21.486167  22.330833  22.414083  22.170500  22.081917   \nEthiopia Addis Abeba  18.241250  18.296417  18.469750  18.320917  18.292750   \nFrance   Paris        11.739667  11.371250  11.871333  11.909500  11.338833   \nGermany  Berlin       10.963667   9.690250  10.264417  10.065750   9.822583   \nIndia    Ahmadabad    27.436000  27.198083  27.719083  27.403833  27.628333   \n         Bangalore    25.337917  25.528167  25.755333  25.924750  25.252083   \n         Bombay       27.203667  27.243667  27.628667  27.578417  27.318750   \n         Calcutta     26.491333  26.515167  26.703917  26.561333  26.634333   \n         Delhi        26.048333  25.862917  26.634333  25.721083  26.239917   \n         Hyderabad    27.231833  27.555167  27.665167  27.844583  27.228500   \n         Jaipur       26.430250  26.023000  27.031667  26.027417  26.642167   \n         Kanpur       25.353917  25.326500  26.116833  25.409083  25.586500   \n         Lakhnau      25.353917  25.326500  26.116833  25.409083  25.586500   \n         Madras       28.811667  29.162917  29.246500  29.273083  28.810917   \n         Nagpur       26.181417  26.321667  26.753000  26.503833  26.406333   \n         New Delhi    26.048333  25.862917  26.634333  25.721083  26.239917   \n         Pune         25.110917  25.337833  25.583000  25.748417  25.316167   \n         Surat        27.029000  26.897250  27.347750  27.230917  27.290583   \n\nyear                       2005       2006       2007       2008       2009  \\\ncountry  city                                                                 \nEgypt    Alexandria   21.082333  21.148167  21.507750  21.739000  21.670500   \n         Cairo        22.006500  22.050000  22.361000  22.644500  22.625000   \n         Gizeh        22.006500  22.050000  22.361000  22.644500  22.625000   \nEthiopia Addis Abeba  18.312833  18.427083  18.142583  18.165000  18.765333   \nFrance   Paris        11.552917  11.788500  11.750833  11.278250  11.464083   \nGermany  Berlin        9.919083  10.545333  10.883167  10.657750  10.062500   \nIndia    Ahmadabad    26.828083  27.282833  27.511167  27.048500  28.095833   \n         Bangalore    25.476500  25.418250  25.464333  25.352583  25.725750   \n         Bombay       27.035750  27.381500  27.634667  27.177750  27.844500   \n         Calcutta     26.729167  26.986250  26.584583  26.522333  27.153250   \n         Delhi        25.716083  26.365917  26.145667  25.675000  26.554250   \n         Hyderabad    27.488833  27.471000  27.545333  27.446667  28.026500   \n         Jaipur       25.772250  26.429833  26.267000  25.877583  26.919500   \n         Kanpur       25.621500  25.848833  25.436083  25.109750  25.987083   \n         Lakhnau      25.621500  25.848833  25.436083  25.109750  25.987083   \n         Madras       29.099417  29.073250  28.970167  29.024083  29.417417   \n         Nagpur       26.229167  26.374833  26.393667  26.188000  27.138917   \n         New Delhi    25.716083  26.365917  26.145667  25.675000  26.554250   \n         Pune         25.085583  25.310167  25.584833  25.230250  25.868250   \n         Surat        26.724500  27.149417  27.311750  26.828750  27.819833   \n\nyear                       2010       2011       2012       2013  \ncountry  city                                                     \nEgypt    Alexandria   22.459583  21.181500  21.552583  21.438500  \n         Cairo        23.718250  21.986917  22.484250  22.907000  \n         Gizeh        23.718250  21.986917  22.484250  22.907000  \nEthiopia Addis Abeba  18.298250  18.606750  18.448583  19.539000  \nFrance   Paris        10.409833  12.325750  11.219917  11.011625  \nGermany  Berlin        8.606833  10.556417   9.964333  10.121500  \nIndia    Ahmadabad    28.017833  27.290417  27.027250  27.608625  \n         Bangalore    25.705250  25.362083  26.042333  26.610500  \n         Bombay       27.765417  27.384917  27.192500  26.713000  \n         Calcutta     27.288833  26.406917  26.935083  27.369250  \n         Delhi        26.520250  25.629500  25.889417  26.709250  \n         Hyderabad    27.693417  27.408833  28.018583  28.851250  \n         Jaipur       26.818417  25.916500  25.884500  26.844125  \n         Kanpur       26.021750  25.062083  25.445417  26.121250  \n         Lakhnau      26.021750  25.062083  25.445417  26.121250  \n         Madras       29.047333  29.063167  29.778417  30.411750  \n         Nagpur       26.927000  26.004667  26.327917  27.112375  \n         New Delhi    26.520250  25.629500  25.889417  26.709250  \n         Pune         25.749167  25.161417  25.296833  25.847625  \n         Surat        27.681667  27.016583  26.889250  27.437750  \n"
     ]
    }
   ],
   "source": [
    "# Subset for Egypt to India\n",
    "print(temp_by_country_city_vs_year.loc['Egypt':'India'])"
   ]
  },
  {
   "cell_type": "code",
   "execution_count": 28,
   "metadata": {},
   "outputs": [
    {
     "output_type": "stream",
     "name": "stdout",
     "text": [
      "year                       2000       2001       2002       2003       2004  \\\ncountry  city                                                                 \nEgypt    Cairo        21.486167  22.330833  22.414083  22.170500  22.081917   \n         Gizeh        21.486167  22.330833  22.414083  22.170500  22.081917   \nEthiopia Addis Abeba  18.241250  18.296417  18.469750  18.320917  18.292750   \nFrance   Paris        11.739667  11.371250  11.871333  11.909500  11.338833   \nGermany  Berlin       10.963667   9.690250  10.264417  10.065750   9.822583   \nIndia    Ahmadabad    27.436000  27.198083  27.719083  27.403833  27.628333   \n         Bangalore    25.337917  25.528167  25.755333  25.924750  25.252083   \n         Bombay       27.203667  27.243667  27.628667  27.578417  27.318750   \n         Calcutta     26.491333  26.515167  26.703917  26.561333  26.634333   \n         Delhi        26.048333  25.862917  26.634333  25.721083  26.239917   \n\nyear                       2005       2006       2007       2008       2009  \\\ncountry  city                                                                 \nEgypt    Cairo        22.006500  22.050000  22.361000  22.644500  22.625000   \n         Gizeh        22.006500  22.050000  22.361000  22.644500  22.625000   \nEthiopia Addis Abeba  18.312833  18.427083  18.142583  18.165000  18.765333   \nFrance   Paris        11.552917  11.788500  11.750833  11.278250  11.464083   \nGermany  Berlin        9.919083  10.545333  10.883167  10.657750  10.062500   \nIndia    Ahmadabad    26.828083  27.282833  27.511167  27.048500  28.095833   \n         Bangalore    25.476500  25.418250  25.464333  25.352583  25.725750   \n         Bombay       27.035750  27.381500  27.634667  27.177750  27.844500   \n         Calcutta     26.729167  26.986250  26.584583  26.522333  27.153250   \n         Delhi        25.716083  26.365917  26.145667  25.675000  26.554250   \n\nyear                       2010       2011       2012       2013  \ncountry  city                                                     \nEgypt    Cairo        23.718250  21.986917  22.484250  22.907000  \n         Gizeh        23.718250  21.986917  22.484250  22.907000  \nEthiopia Addis Abeba  18.298250  18.606750  18.448583  19.539000  \nFrance   Paris        10.409833  12.325750  11.219917  11.011625  \nGermany  Berlin        8.606833  10.556417   9.964333  10.121500  \nIndia    Ahmadabad    28.017833  27.290417  27.027250  27.608625  \n         Bangalore    25.705250  25.362083  26.042333  26.610500  \n         Bombay       27.765417  27.384917  27.192500  26.713000  \n         Calcutta     27.288833  26.406917  26.935083  27.369250  \n         Delhi        26.520250  25.629500  25.889417  26.709250  \n"
     ]
    }
   ],
   "source": [
    "# Subset for Egypt, Cairo to India, Delhi\n",
    "print(temp_by_country_city_vs_year.loc[('Egypt', 'Cairo'): ('India', 'Delhi')])"
   ]
  },
  {
   "cell_type": "code",
   "execution_count": 29,
   "metadata": {},
   "outputs": [
    {
     "output_type": "stream",
     "name": "stdout",
     "text": [
      "year                       2005       2006       2007       2008       2009  \\\ncountry  city                                                                 \nEgypt    Cairo        22.006500  22.050000  22.361000  22.644500  22.625000   \n         Gizeh        22.006500  22.050000  22.361000  22.644500  22.625000   \nEthiopia Addis Abeba  18.312833  18.427083  18.142583  18.165000  18.765333   \nFrance   Paris        11.552917  11.788500  11.750833  11.278250  11.464083   \nGermany  Berlin        9.919083  10.545333  10.883167  10.657750  10.062500   \nIndia    Ahmadabad    26.828083  27.282833  27.511167  27.048500  28.095833   \n         Bangalore    25.476500  25.418250  25.464333  25.352583  25.725750   \n         Bombay       27.035750  27.381500  27.634667  27.177750  27.844500   \n         Calcutta     26.729167  26.986250  26.584583  26.522333  27.153250   \n         Delhi        25.716083  26.365917  26.145667  25.675000  26.554250   \n\nyear                       2010  \ncountry  city                    \nEgypt    Cairo        23.718250  \n         Gizeh        23.718250  \nEthiopia Addis Abeba  18.298250  \nFrance   Paris        10.409833  \nGermany  Berlin        8.606833  \nIndia    Ahmadabad    28.017833  \n         Bangalore    25.705250  \n         Bombay       27.765417  \n         Calcutta     27.288833  \n         Delhi        26.520250  \n"
     ]
    }
   ],
   "source": [
    "# Subset in both directions at once\n",
    "print(temp_by_country_city_vs_year.loc[('Egypt', 'Cairo'): ('India', 'Delhi'), '2005': '2010'])"
   ]
  },
  {
   "source": [
    "# Calculating on a pivot table\n",
    "Pivot tables are filled with summary statistics, but they are only a first step to finding something insightful. Often you'll need to perform further calculations on them. A common thing to do is to find the rows or columns where the highest or lowest value occurs.\n",
    "\n",
    "Recall from Chapter 1 that you can easily subset a Series or DataFrame to find rows of interest using a logical condition inside of square brackets. For example: series[series > value].\n",
    "\n",
    "pandas is loaded as pd and the DataFrame temp_by_country_city_vs_year is available."
   ],
   "cell_type": "markdown",
   "metadata": {}
  },
  {
   "cell_type": "code",
   "execution_count": 30,
   "metadata": {},
   "outputs": [],
   "source": [
    "# Get the worldwide mean temp by year\n",
    "mean_temp_by_year = temp_by_country_city_vs_year.mean()"
   ]
  },
  {
   "cell_type": "code",
   "execution_count": 31,
   "metadata": {},
   "outputs": [
    {
     "output_type": "stream",
     "name": "stdout",
     "text": [
      "year\n",
      "2013    20.312285\n",
      "dtype: float64\n"
     ]
    }
   ],
   "source": [
    "# Filter for the year that had the highest mean temp\n",
    "print(mean_temp_by_year[mean_temp_by_year == mean_temp_by_year.max()])"
   ]
  },
  {
   "cell_type": "code",
   "execution_count": 32,
   "metadata": {},
   "outputs": [],
   "source": [
    "# Get the mean temp by city\n",
    "mean_temp_by_city = temp_by_country_city_vs_year.mean(axis=\"columns\")"
   ]
  },
  {
   "cell_type": "code",
   "execution_count": 33,
   "metadata": {},
   "outputs": [
    {
     "output_type": "stream",
     "name": "stdout",
     "text": [
      "country  city  \nChina    Harbin    4.876551\ndtype: float64\n"
     ]
    }
   ],
   "source": [
    "# Filter for the city that had the lowest mean temp\n",
    "print(mean_temp_by_city[mean_temp_by_city == mean_temp_by_city.min()])"
   ]
  },
  {
   "cell_type": "code",
   "execution_count": null,
   "metadata": {},
   "outputs": [],
   "source": []
  }
 ]
}