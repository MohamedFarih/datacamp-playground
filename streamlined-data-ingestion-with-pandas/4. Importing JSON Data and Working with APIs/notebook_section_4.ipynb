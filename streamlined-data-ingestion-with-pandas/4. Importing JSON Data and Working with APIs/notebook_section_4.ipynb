{
 "metadata": {
  "language_info": {
   "codemirror_mode": {
    "name": "ipython",
    "version": 3
   },
   "file_extension": ".py",
   "mimetype": "text/x-python",
   "name": "python",
   "nbconvert_exporter": "python",
   "pygments_lexer": "ipython3",
   "version": "3.7.9-final"
  },
  "orig_nbformat": 2,
  "kernelspec": {
   "name": "python3",
   "display_name": "Python 3",
   "language": "python"
  }
 },
 "nbformat": 4,
 "nbformat_minor": 2,
 "cells": [
  {
   "source": [
    "# Get data from a spreadsheet\n",
    "In this exercise, you'll create a data frame from a \"base case\" Excel file: one with a single sheet of tabular data. The fcc_survey.xlsx file here has a sample of responses from FreeCodeCamp's annual New Developer Survey. This survey asks participants about their demographics, education, work and home life, plus questions about how they're learning to code. Let's load all of it.\n",
    "\n",
    "pandas has not been pre-loaded in this exercise, so you'll need to import it yourself before using read_excel() to load the spreadsheet."
   ],
   "cell_type": "markdown",
   "metadata": {}
  },
  {
   "cell_type": "code",
   "execution_count": 5,
   "metadata": {},
   "outputs": [
    {
     "output_type": "execute_result",
     "data": {
      "text/plain": [
       "   FreeCodeCamp New Developer Survey Responses, 2016        Unnamed: 1  \\\n",
       "0  Source: https://www.kaggle.com/freecodecamp/20...               NaN   \n",
       "1                                                Age  AttendedBootcamp   \n",
       "2                                                 28                 0   \n",
       "3                                                 22                 0   \n",
       "4                                                 19                 0   \n",
       "\n",
       "       Unnamed: 2         Unnamed: 3    Unnamed: 4         Unnamed: 5  \\\n",
       "0             NaN                NaN           NaN                NaN   \n",
       "1  BootcampFinish  BootcampLoanYesNo  BootcampName  BootcampRecommend   \n",
       "2             NaN                NaN           NaN                NaN   \n",
       "3             NaN                NaN           NaN                NaN   \n",
       "4             NaN                NaN           NaN                NaN   \n",
       "\n",
       "       Unnamed: 6                     Unnamed: 7            Unnamed: 8  \\\n",
       "0             NaN                            NaN                   NaN   \n",
       "1  ChildrenNumber                 CityPopulation  CodeEventConferences   \n",
       "2             NaN  between 100,000 and 1 million                   NaN   \n",
       "3             NaN  between 100,000 and 1 million                   NaN   \n",
       "4             NaN            more than 1 million                   NaN   \n",
       "\n",
       "             Unnamed: 9  ...          Unnamed: 88         Unnamed: 89  \\\n",
       "0                   NaN  ...                  NaN                 NaN   \n",
       "1  CodeEventDjangoGirls  ...  ResourcePluralSight  ResourceSkillCrush   \n",
       "2                   NaN  ...                  NaN                 NaN   \n",
       "3                   NaN  ...                  NaN                 NaN   \n",
       "4                   NaN  ...                  NaN                 NaN   \n",
       "\n",
       "             Unnamed: 90        Unnamed: 91      Unnamed: 92    Unnamed: 93  \\\n",
       "0                    NaN                NaN              NaN            NaN   \n",
       "1  ResourceStackOverflow  ResourceTreehouse  ResourceUdacity  ResourceUdemy   \n",
       "2                    NaN                NaN              NaN            NaN   \n",
       "3                    NaN                NaN              NaN              1   \n",
       "4                    NaN                NaN              NaN            NaN   \n",
       "\n",
       "         Unnamed: 94                              Unnamed: 95  Unnamed: 96  \\\n",
       "0                NaN                                      NaN          NaN   \n",
       "1  ResourceW3Schools                             SchoolDegree  SchoolMajor   \n",
       "2                NaN           some college credit, no degree          NaN   \n",
       "3                NaN           some college credit, no degree          NaN   \n",
       "4                NaN  high school diploma or equivalent (GED)          NaN   \n",
       "\n",
       "      Unnamed: 97  \n",
       "0             NaN  \n",
       "1  StudentDebtOwe  \n",
       "2           20000  \n",
       "3             NaN  \n",
       "4             NaN  \n",
       "\n",
       "[5 rows x 98 columns]"
      ],
      "text/html": "<div>\n<style scoped>\n    .dataframe tbody tr th:only-of-type {\n        vertical-align: middle;\n    }\n\n    .dataframe tbody tr th {\n        vertical-align: top;\n    }\n\n    .dataframe thead th {\n        text-align: right;\n    }\n</style>\n<table border=\"1\" class=\"dataframe\">\n  <thead>\n    <tr style=\"text-align: right;\">\n      <th></th>\n      <th>FreeCodeCamp New Developer Survey Responses, 2016</th>\n      <th>Unnamed: 1</th>\n      <th>Unnamed: 2</th>\n      <th>Unnamed: 3</th>\n      <th>Unnamed: 4</th>\n      <th>Unnamed: 5</th>\n      <th>Unnamed: 6</th>\n      <th>Unnamed: 7</th>\n      <th>Unnamed: 8</th>\n      <th>Unnamed: 9</th>\n      <th>...</th>\n      <th>Unnamed: 88</th>\n      <th>Unnamed: 89</th>\n      <th>Unnamed: 90</th>\n      <th>Unnamed: 91</th>\n      <th>Unnamed: 92</th>\n      <th>Unnamed: 93</th>\n      <th>Unnamed: 94</th>\n      <th>Unnamed: 95</th>\n      <th>Unnamed: 96</th>\n      <th>Unnamed: 97</th>\n    </tr>\n  </thead>\n  <tbody>\n    <tr>\n      <th>0</th>\n      <td>Source: https://www.kaggle.com/freecodecamp/20...</td>\n      <td>NaN</td>\n      <td>NaN</td>\n      <td>NaN</td>\n      <td>NaN</td>\n      <td>NaN</td>\n      <td>NaN</td>\n      <td>NaN</td>\n      <td>NaN</td>\n      <td>NaN</td>\n      <td>...</td>\n      <td>NaN</td>\n      <td>NaN</td>\n      <td>NaN</td>\n      <td>NaN</td>\n      <td>NaN</td>\n      <td>NaN</td>\n      <td>NaN</td>\n      <td>NaN</td>\n      <td>NaN</td>\n      <td>NaN</td>\n    </tr>\n    <tr>\n      <th>1</th>\n      <td>Age</td>\n      <td>AttendedBootcamp</td>\n      <td>BootcampFinish</td>\n      <td>BootcampLoanYesNo</td>\n      <td>BootcampName</td>\n      <td>BootcampRecommend</td>\n      <td>ChildrenNumber</td>\n      <td>CityPopulation</td>\n      <td>CodeEventConferences</td>\n      <td>CodeEventDjangoGirls</td>\n      <td>...</td>\n      <td>ResourcePluralSight</td>\n      <td>ResourceSkillCrush</td>\n      <td>ResourceStackOverflow</td>\n      <td>ResourceTreehouse</td>\n      <td>ResourceUdacity</td>\n      <td>ResourceUdemy</td>\n      <td>ResourceW3Schools</td>\n      <td>SchoolDegree</td>\n      <td>SchoolMajor</td>\n      <td>StudentDebtOwe</td>\n    </tr>\n    <tr>\n      <th>2</th>\n      <td>28</td>\n      <td>0</td>\n      <td>NaN</td>\n      <td>NaN</td>\n      <td>NaN</td>\n      <td>NaN</td>\n      <td>NaN</td>\n      <td>between 100,000 and 1 million</td>\n      <td>NaN</td>\n      <td>NaN</td>\n      <td>...</td>\n      <td>NaN</td>\n      <td>NaN</td>\n      <td>NaN</td>\n      <td>NaN</td>\n      <td>NaN</td>\n      <td>NaN</td>\n      <td>NaN</td>\n      <td>some college credit, no degree</td>\n      <td>NaN</td>\n      <td>20000</td>\n    </tr>\n    <tr>\n      <th>3</th>\n      <td>22</td>\n      <td>0</td>\n      <td>NaN</td>\n      <td>NaN</td>\n      <td>NaN</td>\n      <td>NaN</td>\n      <td>NaN</td>\n      <td>between 100,000 and 1 million</td>\n      <td>NaN</td>\n      <td>NaN</td>\n      <td>...</td>\n      <td>NaN</td>\n      <td>NaN</td>\n      <td>NaN</td>\n      <td>NaN</td>\n      <td>NaN</td>\n      <td>1</td>\n      <td>NaN</td>\n      <td>some college credit, no degree</td>\n      <td>NaN</td>\n      <td>NaN</td>\n    </tr>\n    <tr>\n      <th>4</th>\n      <td>19</td>\n      <td>0</td>\n      <td>NaN</td>\n      <td>NaN</td>\n      <td>NaN</td>\n      <td>NaN</td>\n      <td>NaN</td>\n      <td>more than 1 million</td>\n      <td>NaN</td>\n      <td>NaN</td>\n      <td>...</td>\n      <td>NaN</td>\n      <td>NaN</td>\n      <td>NaN</td>\n      <td>NaN</td>\n      <td>NaN</td>\n      <td>NaN</td>\n      <td>NaN</td>\n      <td>high school diploma or equivalent (GED)</td>\n      <td>NaN</td>\n      <td>NaN</td>\n    </tr>\n  </tbody>\n</table>\n<p>5 rows × 98 columns</p>\n</div>"
     },
     "metadata": {},
     "execution_count": 5
    }
   ],
   "source": [
    "# Load pandas as pd\n",
    "import pandas as pd\n",
    "\n",
    "# Read spreadsheet and assign it to survey_responses\n",
    "survey_responses = pd.read_excel('../datasets/fcc-new-coder-survey.xlsx', engine='openpyxl')\n",
    "\n",
    "# View the head of the data frame\n",
    "(survey_responses.head())"
   ]
  },
  {
   "source": [
    "# Load a portion of a spreadsheet\n",
    "Spreadsheets meant to be read by people often have multiple tables, e.g., a small business might keep an inventory workbook with tables for different product types on a single sheet. Even tabular data may have header rows of metadata, like the New Developer Survey data here. While the metadata is useful, we don't want it in a data frame. You'll use read_excel()'s skiprows keyword to get just the data. You'll also create a string to pass to usecols to get only columns AD and AW through BA, about future job goals.\n",
    "\n",
    "pandas has been imported as pd."
   ],
   "cell_type": "markdown",
   "metadata": {}
  },
  {
   "cell_type": "code",
   "execution_count": null,
   "metadata": {},
   "outputs": [],
   "source": [
    "# Create string of lettered columns to load\n",
    "col_string = ____\n",
    "\n",
    "# Load data with skiprows and usecols set\n",
    "survey_responses = pd.read_excel('../datasets/fcc-new-coder-survey.xlsx', engine='openpyxl', \n",
    "                        ____, \n",
    "                        ____)\n",
    "\n",
    "# View the names of the columns selected\n",
    "print(survey_responses.columns)"
   ]
  },
  {
   "source": [
    "# Select a single sheet\n",
    "An Excel workbook may contain multiple sheets of related data. The New Developer Survey response workbook has sheets for different years. Because read_excel() loads only the first sheet by default, you've already gotten survey responses for 2016. Now, you'll create a data frame of 2017 responses using read_excel()'s sheet_name argument in a couple different ways.\n",
    "\n",
    "pandas has been imported as pd."
   ],
   "cell_type": "markdown",
   "metadata": {}
  },
  {
   "cell_type": "code",
   "execution_count": null,
   "metadata": {},
   "outputs": [],
   "source": [
    "# Create df from second worksheet by referencing its position\n",
    "responses_2017 = pd.read_excel('../datasets/fcc-new-coder-survey.xlsx', engine='openpyxl',\n",
    "                               ____)\n",
    "\n",
    "# Graph where people would like to get a developer job\n",
    "job_prefs = responses_2017.groupby(\"JobPref\").JobPref.count()\n",
    "job_prefs.plot.barh()\n",
    "plt.show()"
   ]
  },
  {
   "source": [
    "# Select multiple sheets\n",
    "So far, you've read Excel files one sheet at a time, which lets you customize import arguments for each sheet. But if an Excel file has some sheets that you want loaded with the same parameters, you can get them in one go by passing a list of their names or indices to read_excel()'s sheet_name keyword. To get them all, pass None. You'll practice both methods to get data from fcc_survey.xlsx, which has multiple sheets of similarly-formatted data.\n",
    "\n",
    "pandas has been loaded as pd."
   ],
   "cell_type": "markdown",
   "metadata": {}
  },
  {
   "cell_type": "code",
   "execution_count": null,
   "metadata": {},
   "outputs": [],
   "source": [
    "# Load both the 2016 and 2017 sheets by name\n",
    "all_survey_data = pd.read_excel('../datasets/fcc-new-coder-survey.xlsx', engine='openpyxl',\n",
    "                                ____)\n",
    "\n",
    "# View the data type of all_survey_data\n",
    "print(type(all_survey_data))"
   ]
  },
  {
   "source": [
    "# Work with multiple spreadsheets\n",
    "Workbooks meant primarily for human readers, not machines, may store data about a single subject across multiple sheets. For example, a file may have a different sheet of transactions for each region or year in which a business operated.\n",
    "\n",
    "The FreeCodeCamp New Developer Survey file is set up similarly, with samples of responses from different years in different sheets. Your task here is to compile them in one data frame for analysis.\n",
    "\n",
    "pandas has been imported as pd. All sheets have been read into the ordered dictionary responses, where sheet names are keys and data frames are values, so you can get data frames with the values() method."
   ],
   "cell_type": "markdown",
   "metadata": {}
  },
  {
   "cell_type": "code",
   "execution_count": null,
   "metadata": {},
   "outputs": [],
   "source": [
    "# Create an empty data frame\n",
    "all_responses = ____\n",
    "\n",
    "# Set up for loop to iterate through values in responses\n",
    "for df in ____:\n",
    "  # Print the number of rows being added\n",
    "  print(\"Adding {} rows\".format(df.shape[0]))\n",
    "  # Append df to all_responses, assign result\n",
    "  all_responses = ____.append(____)\n",
    "\n",
    "# Graph employment statuses in sample\n",
    "counts = all_responses.groupby(\"EmploymentStatus\").EmploymentStatus.count()\n",
    "counts.plot.barh()\n",
    "plt.show()"
   ]
  },
  {
   "source": [
    "# Set Boolean columns\n",
    "Datasets may have columns that are most accurately modeled as Boolean values. However, pandas usually loads these as floats by default, since defaulting to Booleans may have undesired effects like turning NA values into Trues.\n",
    "\n",
    "fcc_survey_subset.xlsx contains a string ID column and several True/False columns indicating financial stressors. You'll evaluate which non-ID columns have no NA values and therefore can be set as Boolean, then tell read_excel() to load them as such with the dtype argument.\n",
    "\n",
    "pandas is loaded as pd."
   ],
   "cell_type": "markdown",
   "metadata": {}
  },
  {
   "cell_type": "code",
   "execution_count": null,
   "metadata": {},
   "outputs": [],
   "source": [
    "# Load the data\n",
    "survey_data = pd.read_excel(\"fcc_survey_subset.xlsx\")\n",
    "\n",
    "# Count NA values in each column\n",
    "print(survey_data.____)"
   ]
  },
  {
   "source": [
    "# Set custom true/false values\n",
    "In Boolean columns, pandas automatically recognizes certain values, like \"TRUE\" and 1, as True, and others, like \"FALSE\" and 0, as False. Some datasets, like survey data, can use unrecognized values, such as \"Yes\" and \"No\".\n",
    "\n",
    "For practice purposes, some Boolean columns in the New Developer Survey have been coded this way. You'll make sure they're properly interpreted with the help of the true_values and false_values arguments.\n",
    "\n",
    "pandas is loaded as pd. You can assume the columns you are working with have no missing values."
   ],
   "cell_type": "markdown",
   "metadata": {}
  },
  {
   "cell_type": "code",
   "execution_count": null,
   "metadata": {},
   "outputs": [],
   "source": [
    "# Load file with Yes as a True value and No as a False value\n",
    "survey_subset = pd.read_excel(\"fcc_survey_yn_data.xlsx\",\n",
    "                              dtype={\"HasDebt\": bool,\n",
    "                              \"AttendedBootCampYesNo\": bool},\n",
    "                              ____,\n",
    "                              ____)\n",
    "\n",
    "# View the data\n",
    "print(survey_subset.head())"
   ]
  },
  {
   "source": [
    "# Parse simple dates\n",
    "pandas does not infer that columns contain datetime data; it interprets them as object or string data unless told otherwise. Correctly modeling datetimes is easy when they are in a standard format -- we can use the parse_dates argument to tell read_excel() to read columns as datetime data.\n",
    "\n",
    "The New Developer Survey responses contain some columns with easy-to-parse timestamps. In this exercise, you'll make sure they're the right data type.\n",
    "\n",
    "pandas has been loaded as pd."
   ],
   "cell_type": "markdown",
   "metadata": {}
  },
  {
   "cell_type": "code",
   "execution_count": null,
   "metadata": {},
   "outputs": [],
   "source": [
    "# Load file, with Part1StartTime parsed as datetime data\n",
    "survey_data = pd.read_excel(\"fcc_survey.xlsx\",\n",
    "                            ____)\n",
    "\n",
    "# Print first few values of Part1StartTime\n",
    "print(survey_data.Part1StartTime.____)"
   ]
  },
  {
   "source": [
    "# Get datetimes from multiple columns\n",
    "Sometimes, datetime data is split across columns. A dataset might have a date and a time column, or a date may be split into year, month, and day columns.\n",
    "\n",
    "A column in this version of the survey data has been split so that dates are in one column, Part2StartDate, and times are in another, Part2StartTime. Your task is to use read_excel()'s parse_dates argument to combine them into one datetime column with a new name.\n",
    "\n",
    "pandas has been imported as pd."
   ],
   "cell_type": "markdown",
   "metadata": {}
  },
  {
   "cell_type": "code",
   "execution_count": null,
   "metadata": {},
   "outputs": [],
   "source": [
    "# Create dict of columns to combine into new datetime column\n",
    "datetime_cols = {\"Part2Start\": ____}\n",
    "\n",
    "\n",
    "# Load file, supplying the dict to parse_dates\n",
    "survey_data = pd.read_excel(\"fcc_survey_dts.xlsx\",\n",
    "                            ____)\n",
    "\n",
    "# View summary statistics about Part2Start\n",
    "print(survey_data.Part2Start.describe())"
   ]
  }
 ]
}