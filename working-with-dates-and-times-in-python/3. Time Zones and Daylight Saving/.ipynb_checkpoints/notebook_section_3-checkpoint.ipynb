{
 "cells": [
  {
   "cell_type": "markdown",
   "metadata": {},
   "source": [
    "# Creating timezone aware datetimes\n",
    "In this exercise, you will practice setting timezones manually."
   ]
  },
  {
   "cell_type": "code",
   "execution_count": null,
   "metadata": {},
   "outputs": [],
   "source": [
    "# Import datetime, timezone\n",
    "from datetime import datetime, timezone\n",
    "\n",
    "# October 1, 2017 at 15:26:26, UTC\n",
    "dt = datetime(2017, 10, 1, 15, 26, 26, tzinfo=timezone.utc)\n",
    "\n",
    "# Print results\n",
    "dt.isoformat()"
   ]
  },
  {
   "cell_type": "code",
   "execution_count": null,
   "metadata": {},
   "outputs": [],
   "source": [
    "# Import datetime, timedelta, timezone\n",
    "from datetime import datetime, timedelta, timezone\n",
    "\n",
    "# Create a timezone for Pacific Standard Time, or UTC-8\n",
    "pst = timezone(timedelta(hours=-8))\n",
    "\n",
    "# October 1, 2017 at 15:26:26, UTC-8\n",
    "dt = datetime(2017, 10, 1, 15, 26, 26, tzinfo=pst)\n",
    "\n",
    "# Print results\n",
    "print(dt.isoformat())"
   ]
  },
  {
   "cell_type": "code",
   "execution_count": 3,
   "metadata": {},
   "outputs": [],
   "source": [
    "# Import datetime, timedelta, timezone\n",
    "from datetime import datetime, timedelta, timezone\n",
    "\n",
    "# Create a timezone for Australian Eastern Daylight Time, or UTC+11\n",
    "aedt = timezone(timedelta(hours=11))\n",
    "\n",
    "# October 1, 2017 at 15:26:26, UTC+11\n",
    "dt = datetime(2017, 10, 1, 15, 26, 26, tzinfo=aedt)\n",
    "\n",
    "# Print results\n",
    "print(dt.isoformat())"
   ]
  },
  {
   "cell_type": "markdown",
   "metadata": {},
   "source": [
    "# Setting timezones\n",
    "Now that you have the hang of setting timezones one at a time, let's look at setting them for the first ten trips that W20529 took.\n",
    "\n",
    "timezone and timedelta have already been imported. Make the change using .replace()"
   ]
  },
  {
   "cell_type": "code",
   "execution_count": 4,
   "metadata": {},
   "outputs": [],
   "source": [
    "import pandas as pd\n",
    "\n",
    "captial_onebike = pd.read_csv('../datasets/capital-onebike.csv')\n",
    "\n",
    "fmt = \"%Y-%m-%d %H:%M:%S\"\n",
    "\n",
    "onebike_datetime_strings = list(zip(captial_onebike['Start date'], captial_onebike['End date']))\n",
    "\n",
    "onebike_datetimes = []\n",
    "\n",
    "# Loop over all trips\n",
    "for (start, end) in onebike_datetime_strings:\n",
    "  trip = {'start': datetime.strptime(start, fmt),\n",
    "          'end': datetime.strptime(end, fmt)}\n",
    "  \n",
    "  # Append the trip\n",
    "  onebike_datetimes.append(trip)"
   ]
  },
  {
   "cell_type": "code",
   "execution_count": 5,
   "metadata": {},
   "outputs": [],
   "source": [
    "# Create a timezone object corresponding to UTC-4\n",
    "edt = timezone(timedelta(hours=-4))   \n",
    "\n",
    "# Loop over trips, updating the start and end datetimes to be in UTC-4\n",
    "for trip in onebike_datetimes[:10]:\n",
    "  # Update trip['start'] and trip['end']\n",
    "  trip['start'] = trip['start'].replace(tzinfo=edt)\n",
    "  trip['end'] = trip['end'].replace(tzinfo=edt)"
   ]
  },
  {
   "cell_type": "code",
   "execution_count": 6,
   "metadata": {},
   "outputs": [
    {
     "data": {
      "text/plain": [
       "[{'start': datetime.datetime(2017, 10, 1, 15, 23, 25, tzinfo=datetime.timezone(datetime.timedelta(days=-1, seconds=72000))),\n",
       "  'end': datetime.datetime(2017, 10, 1, 15, 26, 26, tzinfo=datetime.timezone(datetime.timedelta(days=-1, seconds=72000)))},\n",
       " {'start': datetime.datetime(2017, 10, 1, 15, 42, 57, tzinfo=datetime.timezone(datetime.timedelta(days=-1, seconds=72000))),\n",
       "  'end': datetime.datetime(2017, 10, 1, 17, 49, 59, tzinfo=datetime.timezone(datetime.timedelta(days=-1, seconds=72000)))},\n",
       " {'start': datetime.datetime(2017, 10, 2, 6, 37, 10, tzinfo=datetime.timezone(datetime.timedelta(days=-1, seconds=72000))),\n",
       "  'end': datetime.datetime(2017, 10, 2, 6, 42, 53, tzinfo=datetime.timezone(datetime.timedelta(days=-1, seconds=72000)))},\n",
       " {'start': datetime.datetime(2017, 10, 2, 8, 56, 45, tzinfo=datetime.timezone(datetime.timedelta(days=-1, seconds=72000))),\n",
       "  'end': datetime.datetime(2017, 10, 2, 9, 18, 3, tzinfo=datetime.timezone(datetime.timedelta(days=-1, seconds=72000)))},\n",
       " {'start': datetime.datetime(2017, 10, 2, 18, 23, 48, tzinfo=datetime.timezone(datetime.timedelta(days=-1, seconds=72000))),\n",
       "  'end': datetime.datetime(2017, 10, 2, 18, 45, 5, tzinfo=datetime.timezone(datetime.timedelta(days=-1, seconds=72000)))},\n",
       " {'start': datetime.datetime(2017, 10, 2, 18, 48, 8, tzinfo=datetime.timezone(datetime.timedelta(days=-1, seconds=72000))),\n",
       "  'end': datetime.datetime(2017, 10, 2, 19, 10, 54, tzinfo=datetime.timezone(datetime.timedelta(days=-1, seconds=72000)))},\n",
       " {'start': datetime.datetime(2017, 10, 2, 19, 18, 10, tzinfo=datetime.timezone(datetime.timedelta(days=-1, seconds=72000))),\n",
       "  'end': datetime.datetime(2017, 10, 2, 19, 31, 45, tzinfo=datetime.timezone(datetime.timedelta(days=-1, seconds=72000)))},\n",
       " {'start': datetime.datetime(2017, 10, 2, 19, 37, 32, tzinfo=datetime.timezone(datetime.timedelta(days=-1, seconds=72000))),\n",
       "  'end': datetime.datetime(2017, 10, 2, 19, 46, 37, tzinfo=datetime.timezone(datetime.timedelta(days=-1, seconds=72000)))},\n",
       " {'start': datetime.datetime(2017, 10, 3, 8, 24, 16, tzinfo=datetime.timezone(datetime.timedelta(days=-1, seconds=72000))),\n",
       "  'end': datetime.datetime(2017, 10, 3, 8, 32, 27, tzinfo=datetime.timezone(datetime.timedelta(days=-1, seconds=72000)))},\n",
       " {'start': datetime.datetime(2017, 10, 3, 18, 17, 7, tzinfo=datetime.timezone(datetime.timedelta(days=-1, seconds=72000))),\n",
       "  'end': datetime.datetime(2017, 10, 3, 18, 27, 46, tzinfo=datetime.timezone(datetime.timedelta(days=-1, seconds=72000)))}]"
      ]
     },
     "execution_count": 6,
     "metadata": {},
     "output_type": "execute_result"
    }
   ],
   "source": [
    "onebike_datetimes[:10]"
   ]
  },
  {
   "cell_type": "markdown",
   "metadata": {},
   "source": [
    "# What time did the bike leave in UTC?\n",
    "Having set the timezone for the first ten rides that W20529 took, let's see what time the bike left in UTC. We've already loaded the results of the previous exercise into memory."
   ]
  },
  {
   "cell_type": "code",
   "execution_count": 7,
   "metadata": {},
   "outputs": [
    {
     "name": "stdout",
     "output_type": "stream",
     "text": [
      "Original: 2017-10-01 15:23:25-04:00 | UTC: 2017-10-01T19:23:25+00:00\n",
      "Original: 2017-10-01 15:42:57-04:00 | UTC: 2017-10-01T19:42:57+00:00\n",
      "Original: 2017-10-02 06:37:10-04:00 | UTC: 2017-10-02T10:37:10+00:00\n",
      "Original: 2017-10-02 08:56:45-04:00 | UTC: 2017-10-02T12:56:45+00:00\n",
      "Original: 2017-10-02 18:23:48-04:00 | UTC: 2017-10-02T22:23:48+00:00\n",
      "Original: 2017-10-02 18:48:08-04:00 | UTC: 2017-10-02T22:48:08+00:00\n",
      "Original: 2017-10-02 19:18:10-04:00 | UTC: 2017-10-02T23:18:10+00:00\n",
      "Original: 2017-10-02 19:37:32-04:00 | UTC: 2017-10-02T23:37:32+00:00\n",
      "Original: 2017-10-03 08:24:16-04:00 | UTC: 2017-10-03T12:24:16+00:00\n",
      "Original: 2017-10-03 18:17:07-04:00 | UTC: 2017-10-03T22:17:07+00:00\n"
     ]
    }
   ],
   "source": [
    "# Loop over the trips\n",
    "for trip in onebike_datetimes[:10]:\n",
    "  # Pull out the start\n",
    "  dt = trip['start']\n",
    "  # Move dt to be in UTC\n",
    "  dt = dt.astimezone(timezone.utc)\n",
    "  \n",
    "  # Print the start time in UTC\n",
    "  print('Original:', trip['start'], '| UTC:', dt.isoformat())"
   ]
  },
  {
   "cell_type": "markdown",
   "metadata": {},
   "source": [
    "# Putting the bike trips into the right time zone\n",
    "Instead of setting the timezones for W20529 by hand, let's assign them to their IANA timezone: 'America/New_York'. Since we know their political jurisdiction, we don't need to look up their UTC offset. Python will do that for us."
   ]
  },
  {
   "cell_type": "code",
   "execution_count": 8,
   "metadata": {},
   "outputs": [
    {
     "data": {
      "text/plain": [
       "[{'start': datetime.datetime(2017, 10, 1, 15, 23, 25, tzinfo=tzfile('US/Eastern')),\n",
       "  'end': datetime.datetime(2017, 10, 1, 15, 26, 26, tzinfo=tzfile('US/Eastern'))},\n",
       " {'start': datetime.datetime(2017, 10, 1, 15, 42, 57, tzinfo=tzfile('US/Eastern')),\n",
       "  'end': datetime.datetime(2017, 10, 1, 17, 49, 59, tzinfo=tzfile('US/Eastern'))},\n",
       " {'start': datetime.datetime(2017, 10, 2, 6, 37, 10, tzinfo=tzfile('US/Eastern')),\n",
       "  'end': datetime.datetime(2017, 10, 2, 6, 42, 53, tzinfo=tzfile('US/Eastern'))},\n",
       " {'start': datetime.datetime(2017, 10, 2, 8, 56, 45, tzinfo=tzfile('US/Eastern')),\n",
       "  'end': datetime.datetime(2017, 10, 2, 9, 18, 3, tzinfo=tzfile('US/Eastern'))},\n",
       " {'start': datetime.datetime(2017, 10, 2, 18, 23, 48, tzinfo=tzfile('US/Eastern')),\n",
       "  'end': datetime.datetime(2017, 10, 2, 18, 45, 5, tzinfo=tzfile('US/Eastern'))},\n",
       " {'start': datetime.datetime(2017, 10, 2, 18, 48, 8, tzinfo=tzfile('US/Eastern')),\n",
       "  'end': datetime.datetime(2017, 10, 2, 19, 10, 54, tzinfo=tzfile('US/Eastern'))},\n",
       " {'start': datetime.datetime(2017, 10, 2, 19, 18, 10, tzinfo=tzfile('US/Eastern')),\n",
       "  'end': datetime.datetime(2017, 10, 2, 19, 31, 45, tzinfo=tzfile('US/Eastern'))},\n",
       " {'start': datetime.datetime(2017, 10, 2, 19, 37, 32, tzinfo=tzfile('US/Eastern')),\n",
       "  'end': datetime.datetime(2017, 10, 2, 19, 46, 37, tzinfo=tzfile('US/Eastern'))},\n",
       " {'start': datetime.datetime(2017, 10, 3, 8, 24, 16, tzinfo=tzfile('US/Eastern')),\n",
       "  'end': datetime.datetime(2017, 10, 3, 8, 32, 27, tzinfo=tzfile('US/Eastern'))},\n",
       " {'start': datetime.datetime(2017, 10, 3, 18, 17, 7, tzinfo=tzfile('US/Eastern')),\n",
       "  'end': datetime.datetime(2017, 10, 3, 18, 27, 46, tzinfo=tzfile('US/Eastern'))}]"
      ]
     },
     "execution_count": 8,
     "metadata": {},
     "output_type": "execute_result"
    }
   ],
   "source": [
    "# Import tz\n",
    "from dateutil import tz\n",
    "\n",
    "# Create a timezone object for Eastern Time\n",
    "et = tz.gettz('America/New_York')\n",
    "\n",
    "# Loop over trips, updating the datetimes to be in Eastern Time\n",
    "for trip in onebike_datetimes[:10]:\n",
    "  # Update trip['start'] and trip['end']\n",
    "  trip['start'] = trip['start'].replace(tzinfo = et)\n",
    "  trip['end'] = trip['end'].replace(tzinfo = et)\n",
    "\n",
    "onebike_datetimes[:10]"
   ]
  },
  {
   "cell_type": "markdown",
   "metadata": {},
   "source": [
    "# What time did the bike leave? (Global edition)\n",
    "When you need to move a datetime from one timezone into another, use .astimezone() and tz. Often you will be moving things into UTC, but for fun let's try moving things from 'America/New_York' into a few different time zones."
   ]
  },
  {
   "cell_type": "code",
   "execution_count": 9,
   "metadata": {},
   "outputs": [
    {
     "name": "stdout",
     "output_type": "stream",
     "text": [
      "2017-10-01T15:23:25-04:00\n",
      "2017-10-01T20:23:25+01:00\n"
     ]
    }
   ],
   "source": [
    "# Create the timezone object\n",
    "uk = tz.gettz('Europe/London')\n",
    "\n",
    "# Pull out the start of the first trip\n",
    "local = onebike_datetimes[0]['start']\n",
    "\n",
    "# What time was it in the UK?\n",
    "notlocal = local.astimezone(uk)\n",
    "\n",
    "# Print them out and see the difference\n",
    "print(local.isoformat())\n",
    "print(notlocal.isoformat())"
   ]
  },
  {
   "cell_type": "code",
   "execution_count": 10,
   "metadata": {},
   "outputs": [
    {
     "name": "stdout",
     "output_type": "stream",
     "text": [
      "2017-10-01T15:23:25-04:00\n",
      "2017-10-02T00:53:25+05:30\n"
     ]
    }
   ],
   "source": [
    "# Create the timezone object\n",
    "ist = tz.gettz('Asia/Kolkata')\n",
    "\n",
    "# Pull out the start of the first trip\n",
    "local = onebike_datetimes[0]['start']\n",
    "\n",
    "# What time was it in India?\n",
    "notlocal = local.astimezone(ist)\n",
    "\n",
    "# Print them out and see the difference\n",
    "print(local.isoformat())\n",
    "print(notlocal.isoformat())"
   ]
  },
  {
   "cell_type": "code",
   "execution_count": 11,
   "metadata": {},
   "outputs": [
    {
     "name": "stdout",
     "output_type": "stream",
     "text": [
      "2017-10-01T15:23:25-04:00\n",
      "2017-10-02T09:23:25+14:00\n"
     ]
    }
   ],
   "source": [
    "# Create the timezone object\n",
    "sm = tz.gettz('Pacific/Apia')\n",
    "\n",
    "# Pull out the start of the first trip\n",
    "local = onebike_datetimes[0]['start']\n",
    "\n",
    "# What time was it in Samoa?\n",
    "notlocal = local.astimezone(sm)\n",
    "\n",
    "# Print them out and see the difference\n",
    "print(local.isoformat())\n",
    "print(notlocal.isoformat())"
   ]
  },
  {
   "cell_type": "markdown",
   "metadata": {},
   "source": [
    "# How many hours elapsed around daylight saving?\n",
    "Since our bike data takes place in the fall, you'll have to do something else to learn about the start of daylight savings time.\n",
    "\n",
    "Let's look at March 12, 2017, in the Eastern United States, when Daylight Saving kicked in at 2 AM.\n",
    "\n",
    "If you create a datetime for midnight that night, and add 6 hours to it, how much time will have elapsed?"
   ]
  },
  {
   "cell_type": "code",
   "execution_count": 12,
   "metadata": {},
   "outputs": [
    {
     "name": "stdout",
     "output_type": "stream",
     "text": [
      "2017-03-12T00:00:00-05:00 to 2017-03-12T06:00:00-04:00\n"
     ]
    }
   ],
   "source": [
    "# Import datetime, timedelta, tz, timezone\n",
    "from datetime import datetime, timedelta, timezone\n",
    "from dateutil import tz\n",
    "\n",
    "# Start on March 12, 2017, midnight, then add 6 hours\n",
    "start = datetime(2017, 3, 12, tzinfo = tz.gettz('America/New_York'))\n",
    "end = start + timedelta(hours=6)\n",
    "print(start.isoformat() + \" to \" + end.isoformat())"
   ]
  },
  {
   "cell_type": "code",
   "execution_count": 13,
   "metadata": {},
   "outputs": [
    {
     "name": "stdout",
     "output_type": "stream",
     "text": [
      "2017-03-12T00:00:00-05:00 to 2017-03-12T06:00:00-04:00\n",
      "6.0\n"
     ]
    }
   ],
   "source": [
    "# Import datetime, timedelta, tz, timezone\n",
    "from datetime import datetime, timedelta, timezone\n",
    "from dateutil import tz\n",
    "\n",
    "# Start on March 12, 2017, midnight, then add 6 hours\n",
    "start = datetime(2017, 3, 12, tzinfo = tz.gettz('America/New_York'))\n",
    "end = start + timedelta(hours=6)\n",
    "print(start.isoformat() + \" to \" + end.isoformat())\n",
    "\n",
    "# How many hours have elapsed?\n",
    "print((end - start).total_seconds()/(60*60))"
   ]
  },
  {
   "cell_type": "code",
   "execution_count": 14,
   "metadata": {},
   "outputs": [
    {
     "name": "stdout",
     "output_type": "stream",
     "text": [
      "2017-03-12T00:00:00-05:00 to 2017-03-12T06:00:00-04:00\n",
      "6.0\n",
      "5.0\n"
     ]
    }
   ],
   "source": [
    "# Import datetime, timedelta, tz, timezone\n",
    "from datetime import datetime, timedelta, timezone\n",
    "from dateutil import tz\n",
    "\n",
    "# Start on March 12, 2017, midnight, then add 6 hours\n",
    "start = datetime(2017, 3, 12, tzinfo = tz.gettz('America/New_York'))\n",
    "end = start + timedelta(hours=6)\n",
    "print(start.isoformat() + \" to \" + end.isoformat())\n",
    "\n",
    "# How many hours have elapsed?\n",
    "print((end - start).total_seconds()/(60*60))\n",
    "\n",
    "# What if we move to UTC?\n",
    "print((end.astimezone(timezone.utc) - start.astimezone(timezone.utc))\\\n",
    "      .total_seconds()/(60*60))"
   ]
  },
  {
   "cell_type": "markdown",
   "metadata": {},
   "source": [
    "# March 29, throughout a decade\n",
    "Daylight Saving rules are complicated: they're different in different places, they change over time, and they usually start on a Sunday (and so they move around the calendar).\n",
    "\n",
    "For example, in the United Kingdom, as of the time this lesson was written, Daylight Saving begins on the last Sunday in March. Let's look at the UTC offset for March 29, at midnight, for the years 2000 to 2010."
   ]
  },
  {
   "cell_type": "code",
   "execution_count": 15,
   "metadata": {},
   "outputs": [
    {
     "name": "stdout",
     "output_type": "stream",
     "text": [
      "2000-03-29T00:00:00+01:00\n",
      "2001-03-29T00:00:00+01:00\n",
      "2002-03-29T00:00:00+00:00\n",
      "2003-03-29T00:00:00+00:00\n",
      "2004-03-29T00:00:00+01:00\n",
      "2005-03-29T00:00:00+01:00\n",
      "2006-03-29T00:00:00+01:00\n",
      "2007-03-29T00:00:00+01:00\n",
      "2008-03-29T00:00:00+00:00\n",
      "2009-03-29T00:00:00+00:00\n",
      "2010-03-29T00:00:00+01:00\n"
     ]
    }
   ],
   "source": [
    "# Import datetime and tz\n",
    "from datetime import datetime\n",
    "from dateutil import tz\n",
    "\n",
    "# Create starting date\n",
    "dt = datetime(2000, 3, 29, tzinfo = tz.gettz('Europe/London'))\n",
    "\n",
    "# Loop over the dates, replacing the year, and print the ISO timestamp\n",
    "for y in range(2000, 2011):\n",
    "  print(dt.replace(year=y).isoformat())"
   ]
  },
  {
   "cell_type": "markdown",
   "metadata": {},
   "source": [
    "# Finding ambiguous datetimes\n",
    "At the end of lesson 2, we saw something anomalous in our bike trip duration data. Let's see if we can identify what the problem might be.\n",
    "\n",
    "The data is loaded as onebike_datetimes, and tz has already been imported from dateutil."
   ]
  },
  {
   "cell_type": "code",
   "execution_count": 16,
   "metadata": {},
   "outputs": [
    {
     "name": "stdout",
     "output_type": "stream",
     "text": [
      "Ambiguous start at 2017-11-05 01:56:50-04:00\n",
      "Ambiguous end at 2017-11-05 01:01:04-04:00\n"
     ]
    }
   ],
   "source": [
    "import pandas as pd\n",
    "\n",
    "captial_onebike = pd.read_csv('../datasets/capital-onebike.csv')\n",
    "\n",
    "fmt = \"%Y-%m-%d %H:%M:%S\"\n",
    "\n",
    "onebike_datetime_strings = list(zip(captial_onebike['Start date'], captial_onebike['End date']))\n",
    "\n",
    "onebike_datetimes = []\n",
    "\n",
    "# Loop over all trips\n",
    "for (start, end) in onebike_datetime_strings:\n",
    "  trip = {'start': datetime.strptime(start, fmt),\n",
    "          'end': datetime.strptime(end, fmt)}\n",
    "  \n",
    "  # Append the trip\n",
    "  onebike_datetimes.append(trip)\n",
    "\n",
    "# Import tz\n",
    "from dateutil import tz\n",
    "\n",
    "# Create a timezone object for Eastern Time\n",
    "et = tz.gettz('America/New_York')\n",
    "\n",
    "# Loop over trips, updating the datetimes to be in Eastern Time\n",
    "for trip in onebike_datetimes:\n",
    "  # Update trip['start'] and trip['end']\n",
    "  trip['start'] = trip['start'].replace(tzinfo = et)\n",
    "  trip['end'] = trip['end'].replace(tzinfo = et)\n",
    "\n",
    "# Loop over trips\n",
    "for trip in onebike_datetimes:\n",
    "  # Rides with ambiguous start\n",
    "  if tz.datetime_ambiguous(trip['start']):\n",
    "    print(\"Ambiguous start at \" + str(trip['start']))\n",
    "  # Rides with ambiguous end\n",
    "  if tz.datetime_ambiguous(trip['end']):\n",
    "    print(\"Ambiguous end at \" + str(trip['end']))"
   ]
  },
  {
   "cell_type": "markdown",
   "metadata": {},
   "source": [
    "# Cleaning daylight saving data with fold\n",
    "As we've just discovered, there is a ride in our data set which is being messed up by a Daylight Savings shift. Let's clean up the data set so we actually have a correct minimum ride length. We can use the fact that we know the end of the ride happened after the beginning to fix up the duration messed up by the shift out of Daylight Savings.\n",
    "\n",
    "Since Python does not handle tz.enfold() when doing arithmetic, we must put our datetime objects into UTC, where ambiguities have been resolved.\n",
    "\n",
    "onebike_datetimes is already loaded and in the right timezone. tz and timezone have been imported. Use tz.UTC for the timezone."
   ]
  },
  {
   "cell_type": "code",
   "execution_count": 17,
   "metadata": {},
   "outputs": [
    {
     "name": "stdout",
     "output_type": "stream",
     "text": [
      "Shortest trip: 116.0\n"
     ]
    }
   ],
   "source": [
    "trip_durations = []\n",
    "for trip in onebike_datetimes:\n",
    "  # When the start is later than the end, set the fold to be 1\n",
    "  if trip['start'] > trip['end']:\n",
    "    trip['end'] = tz.enfold(trip['end'])\n",
    "  # Convert to UTC\n",
    "  start = trip['start'].astimezone(tz.UTC)\n",
    "  end = trip['end'].astimezone(tz.UTC)\n",
    "\n",
    "  # Subtract the difference\n",
    "  trip_length_seconds = (end-start).total_seconds()\n",
    "  trip_durations.append(trip_length_seconds)\n",
    "\n",
    "# Take the shortest trip duration\n",
    "print(\"Shortest trip: \" + str(min(trip_durations)))"
   ]
  },
  {
   "cell_type": "code",
   "execution_count": null,
   "metadata": {},
   "outputs": [],
   "source": []
  }
 ],
 "metadata": {
  "kernelspec": {
   "display_name": "Python 3",
   "language": "python",
   "name": "python3"
  },
  "language_info": {
   "codemirror_mode": {
    "name": "ipython",
    "version": 3
   },
   "file_extension": ".py",
   "mimetype": "text/x-python",
   "name": "python",
   "nbconvert_exporter": "python",
   "pygments_lexer": "ipython3",
   "version": "3.7.9"
  }
 },
 "nbformat": 4,
 "nbformat_minor": 4
}
