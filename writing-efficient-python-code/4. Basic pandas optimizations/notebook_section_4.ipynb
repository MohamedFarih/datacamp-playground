{
 "metadata": {
  "language_info": {
   "codemirror_mode": {
    "name": "ipython",
    "version": 3
   },
   "file_extension": ".py",
   "mimetype": "text/x-python",
   "name": "python",
   "nbconvert_exporter": "python",
   "pygments_lexer": "ipython3",
   "version": "3.7.9-final"
  },
  "orig_nbformat": 2,
  "kernelspec": {
   "name": "python3",
   "display_name": "Python 3",
   "language": "python"
  }
 },
 "nbformat": 4,
 "nbformat_minor": 2,
 "cells": [
  {
   "source": [
    "# Iterating with .iterrows()\n",
    "In the video, we discussed that .iterrows() returns each DataFrame row as a tuple of (index, pandas Series) pairs. But, what does this mean? Let's explore with a few coding exercises.\n",
    "\n",
    "A pandas DataFrame has been loaded into your session called pit_df. This DataFrame contains the stats for the Major League Baseball team named the Pittsburgh Pirates (abbreviated as 'PIT') from the year 2008 to the year 2012. It has been printed into your console for convenience."
   ],
   "cell_type": "markdown",
   "metadata": {}
  },
  {
   "cell_type": "code",
   "execution_count": 1,
   "metadata": {},
   "outputs": [
    {
     "output_type": "execute_result",
     "data": {
      "text/plain": [
       "  Team League  Year   RS   RA   W    G  Playoffs\n",
       "0  PIT     NL  2012  651  674  79  162         0\n",
       "1  PIT     NL  2011  610  712  72  162         0\n",
       "2  PIT     NL  2010  587  866  57  162         0\n",
       "3  PIT     NL  2009  636  768  62  161         0\n",
       "4  PIT     NL  2008  735  884  67  162         0"
      ],
      "text/html": "<div>\n<style scoped>\n    .dataframe tbody tr th:only-of-type {\n        vertical-align: middle;\n    }\n\n    .dataframe tbody tr th {\n        vertical-align: top;\n    }\n\n    .dataframe thead th {\n        text-align: right;\n    }\n</style>\n<table border=\"1\" class=\"dataframe\">\n  <thead>\n    <tr style=\"text-align: right;\">\n      <th></th>\n      <th>Team</th>\n      <th>League</th>\n      <th>Year</th>\n      <th>RS</th>\n      <th>RA</th>\n      <th>W</th>\n      <th>G</th>\n      <th>Playoffs</th>\n    </tr>\n  </thead>\n  <tbody>\n    <tr>\n      <th>0</th>\n      <td>PIT</td>\n      <td>NL</td>\n      <td>2012</td>\n      <td>651</td>\n      <td>674</td>\n      <td>79</td>\n      <td>162</td>\n      <td>0</td>\n    </tr>\n    <tr>\n      <th>1</th>\n      <td>PIT</td>\n      <td>NL</td>\n      <td>2011</td>\n      <td>610</td>\n      <td>712</td>\n      <td>72</td>\n      <td>162</td>\n      <td>0</td>\n    </tr>\n    <tr>\n      <th>2</th>\n      <td>PIT</td>\n      <td>NL</td>\n      <td>2010</td>\n      <td>587</td>\n      <td>866</td>\n      <td>57</td>\n      <td>162</td>\n      <td>0</td>\n    </tr>\n    <tr>\n      <th>3</th>\n      <td>PIT</td>\n      <td>NL</td>\n      <td>2009</td>\n      <td>636</td>\n      <td>768</td>\n      <td>62</td>\n      <td>161</td>\n      <td>0</td>\n    </tr>\n    <tr>\n      <th>4</th>\n      <td>PIT</td>\n      <td>NL</td>\n      <td>2008</td>\n      <td>735</td>\n      <td>884</td>\n      <td>67</td>\n      <td>162</td>\n      <td>0</td>\n    </tr>\n  </tbody>\n</table>\n</div>"
     },
     "metadata": {},
     "execution_count": 1
    }
   ],
   "source": [
    "import pandas as pd \n",
    "pit_df = pd.read_csv('pit.csv')\n",
    "pit_df"
   ]
  },
  {
   "cell_type": "code",
   "execution_count": 2,
   "metadata": {},
   "outputs": [
    {
     "output_type": "stream",
     "name": "stdout",
     "text": [
      "Team         PIT\nLeague        NL\nYear        2012\nRS           651\nRA           674\nW             79\nG            162\nPlayoffs       0\nName: 0, dtype: object\nTeam         PIT\nLeague        NL\nYear        2011\nRS           610\nRA           712\nW             72\nG            162\nPlayoffs       0\nName: 1, dtype: object\nTeam         PIT\nLeague        NL\nYear        2010\nRS           587\nRA           866\nW             57\nG            162\nPlayoffs       0\nName: 2, dtype: object\nTeam         PIT\nLeague        NL\nYear        2009\nRS           636\nRA           768\nW             62\nG            161\nPlayoffs       0\nName: 3, dtype: object\nTeam         PIT\nLeague        NL\nYear        2008\nRS           735\nRA           884\nW             67\nG            162\nPlayoffs       0\nName: 4, dtype: object\n"
     ]
    }
   ],
   "source": [
    "# Iterate over pit_df and print each row\n",
    "for i,row in pit_df.iterrows():\n",
    "    print(row)"
   ]
  },
  {
   "cell_type": "code",
   "execution_count": 3,
   "metadata": {},
   "outputs": [
    {
     "output_type": "stream",
     "name": "stdout",
     "text": [
      "0\nTeam         PIT\nLeague        NL\nYear        2012\nRS           651\nRA           674\nW             79\nG            162\nPlayoffs       0\nName: 0, dtype: object\n<class 'pandas.core.series.Series'>\n1\nTeam         PIT\nLeague        NL\nYear        2011\nRS           610\nRA           712\nW             72\nG            162\nPlayoffs       0\nName: 1, dtype: object\n<class 'pandas.core.series.Series'>\n2\nTeam         PIT\nLeague        NL\nYear        2010\nRS           587\nRA           866\nW             57\nG            162\nPlayoffs       0\nName: 2, dtype: object\n<class 'pandas.core.series.Series'>\n3\nTeam         PIT\nLeague        NL\nYear        2009\nRS           636\nRA           768\nW             62\nG            161\nPlayoffs       0\nName: 3, dtype: object\n<class 'pandas.core.series.Series'>\n4\nTeam         PIT\nLeague        NL\nYear        2008\nRS           735\nRA           884\nW             67\nG            162\nPlayoffs       0\nName: 4, dtype: object\n<class 'pandas.core.series.Series'>\n"
     ]
    }
   ],
   "source": [
    "# Iterate over pit_df and print each index variable and then each row\n",
    "for i,row in pit_df.iterrows():\n",
    "    print(i)\n",
    "    print(row)\n",
    "    print(type(row))"
   ]
  },
  {
   "cell_type": "code",
   "execution_count": 4,
   "metadata": {},
   "outputs": [
    {
     "output_type": "stream",
     "name": "stdout",
     "text": [
      "(0, Team         PIT\nLeague        NL\nYear        2012\nRS           651\nRA           674\nW             79\nG            162\nPlayoffs       0\nName: 0, dtype: object)\n(1, Team         PIT\nLeague        NL\nYear        2011\nRS           610\nRA           712\nW             72\nG            162\nPlayoffs       0\nName: 1, dtype: object)\n(2, Team         PIT\nLeague        NL\nYear        2010\nRS           587\nRA           866\nW             57\nG            162\nPlayoffs       0\nName: 2, dtype: object)\n(3, Team         PIT\nLeague        NL\nYear        2009\nRS           636\nRA           768\nW             62\nG            161\nPlayoffs       0\nName: 3, dtype: object)\n(4, Team         PIT\nLeague        NL\nYear        2008\nRS           735\nRA           884\nW             67\nG            162\nPlayoffs       0\nName: 4, dtype: object)\n"
     ]
    }
   ],
   "source": [
    "# Use one variable instead of two to store the result of .iterrows()\n",
    "for row_tuple in pit_df.iterrows():\n",
    "    print(row_tuple)"
   ]
  },
  {
   "cell_type": "code",
   "execution_count": 5,
   "metadata": {},
   "outputs": [
    {
     "output_type": "stream",
     "name": "stdout",
     "text": [
      "(0, Team         PIT\nLeague        NL\nYear        2012\nRS           651\nRA           674\nW             79\nG            162\nPlayoffs       0\nName: 0, dtype: object)\n<class 'tuple'>\n(1, Team         PIT\nLeague        NL\nYear        2011\nRS           610\nRA           712\nW             72\nG            162\nPlayoffs       0\nName: 1, dtype: object)\n<class 'tuple'>\n(2, Team         PIT\nLeague        NL\nYear        2010\nRS           587\nRA           866\nW             57\nG            162\nPlayoffs       0\nName: 2, dtype: object)\n<class 'tuple'>\n(3, Team         PIT\nLeague        NL\nYear        2009\nRS           636\nRA           768\nW             62\nG            161\nPlayoffs       0\nName: 3, dtype: object)\n<class 'tuple'>\n(4, Team         PIT\nLeague        NL\nYear        2008\nRS           735\nRA           884\nW             67\nG            162\nPlayoffs       0\nName: 4, dtype: object)\n<class 'tuple'>\n"
     ]
    }
   ],
   "source": [
    "# Print the row and type of each row\n",
    "for row_tuple in pit_df.iterrows():\n",
    "    print(row_tuple)\n",
    "    print(type(row_tuple))"
   ]
  },
  {
   "source": [
    "# Run differentials with .iterrows()\n",
    "You've been hired by the San Francisco Giants as an analyst—congrats! The team's owner wants you to calculate a metric called the run differential for each season from the year 2008 to 2012. This metric is calculated by subtracting the total number of runs a team allowed in a season from the team's total number of runs scored in a season. 'RS' means runs scored and 'RA' means runs allowed.\n",
    "\n",
    "The below function calculates this metric:\n",
    "\n",
    "```python\n",
    "def calc_run_diff(runs_scored, runs_allowed):\n",
    "\n",
    "    run_diff = runs_scored - runs_allowed\n",
    "\n",
    "    return run_diff\n",
    "```\n",
    "A DataFrame has been loaded into your session as giants_df and printed into the console. Let's practice using .iterrows() to add a run differential column to this DataFrame."
   ],
   "cell_type": "markdown",
   "metadata": {}
  },
  {
   "cell_type": "code",
   "execution_count": 6,
   "metadata": {},
   "outputs": [
    {
     "output_type": "stream",
     "name": "stdout",
     "text": [
      "  Team League  Year   RS   RA   W    G  Playoffs   RD\n0  SFG     NL  2012  718  649  94  162         1   69\n1  SFG     NL  2011  570  578  86  162         0   -8\n2  SFG     NL  2010  697  583  92  162         1  114\n3  SFG     NL  2009  657  611  88  162         0   46\n4  SFG     NL  2008  640  759  72  162         0 -119\n"
     ]
    }
   ],
   "source": [
    "import pandas as pd \n",
    "giants_df = pd.read_csv('giants.csv')\n",
    "\n",
    "def calc_run_diff(runs_scored, runs_allowed):\n",
    "\n",
    "    run_diff = runs_scored - runs_allowed\n",
    "\n",
    "    return run_diff\n",
    "\n",
    "# Create an empty list to store run differentials\n",
    "run_diffs = []\n",
    "\n",
    "# Write a for loop and collect runs allowed and runs scored for each row\n",
    "for i,row in giants_df.iterrows():\n",
    "    runs_scored = row['RS']\n",
    "    runs_allowed = row['RA']\n",
    "    \n",
    "    # Use the provided function to calculate run_diff for each row\n",
    "    run_diff = calc_run_diff(runs_scored, runs_allowed)\n",
    "    \n",
    "    # Append each run differential to the output list\n",
    "    run_diffs.append(run_diff)\n",
    "\n",
    "giants_df['RD'] = run_diffs\n",
    "print(giants_df)"
   ]
  },
  {
   "source": [
    "# Iterating with .itertuples()\n",
    "Remember, .itertuples() returns each DataFrame row as a special data type called a namedtuple. You can look up an attribute within a namedtuple with a special syntax. Let's practice working with namedtuples.\n",
    "\n",
    "A pandas DataFrame has been loaded into your session called rangers_df. This DataFrame contains the stats ('Team', 'League', 'Year', 'RS', 'RA', 'W', 'G', and 'Playoffs') for the Major League baseball team named the Texas Rangers (abbreviated as 'TEX')."
   ],
   "cell_type": "markdown",
   "metadata": {}
  },
  {
   "cell_type": "code",
   "execution_count": 7,
   "metadata": {},
   "outputs": [
    {
     "output_type": "execute_result",
     "data": {
      "text/plain": [
       "    Team League  Year   RS   RA   W    G  Playoffs\n",
       "0    TEX     AL  2012  808  707  93  162         1\n",
       "1    TEX     AL  2011  855  677  96  162         1\n",
       "2    TEX     AL  2010  787  687  90  162         1\n",
       "3    TEX     AL  2009  784  740  87  162         0\n",
       "4    TEX     AL  2008  901  967  79  162         0\n",
       "5    TEX     AL  2007  816  844  75  162         0\n",
       "6    TEX     AL  2006  835  784  80  162         0\n",
       "7    TEX     AL  2005  865  858  79  162         0\n",
       "8    TEX     AL  2004  860  794  89  162         0\n",
       "9    TEX     AL  2003  826  969  71  162         0\n",
       "10   TEX     AL  2002  843  882  72  162         0\n",
       "11   TEX     AL  2001  890  968  73  162         0\n",
       "12   TEX     AL  2000  848  974  71  162         0\n",
       "13   TEX     AL  1999  945  859  95  162         1\n",
       "14   TEX     AL  1998  940  871  88  162         1\n",
       "15   TEX     AL  1997  807  823  77  162         0\n",
       "16   TEX     AL  1996  928  799  90  163         1\n",
       "17   TEX     AL  1993  835  751  86  162         0\n",
       "18   TEX     AL  1992  682  753  77  162         0\n",
       "19   TEX     AL  1991  829  814  85  162         0\n",
       "20   TEX     AL  1990  676  696  83  162         0\n",
       "21   TEX     AL  1989  695  714  83  162         0\n",
       "22   TEX     AL  1988  637  735  70  161         0\n",
       "23   TEX     AL  1987  823  849  75  162         0\n",
       "24   TEX     AL  1986  771  743  87  162         0\n",
       "25   TEX     AL  1985  617  785  62  161         0\n",
       "26   TEX     AL  1984  656  714  69  161         0\n",
       "27   TEX     AL  1983  639  609  77  163         0\n",
       "28   TEX     AL  1982  590  749  64  162         0\n",
       "29   TEX     AL  1980  756  752  76  163         0\n",
       "30   TEX     AL  1979  750  698  83  162         0\n",
       "31   TEX     AL  1978  692  632  87  162         0\n",
       "32   TEX     AL  1977  767  657  94  162         0\n",
       "33   TEX     AL  1976  616  652  76  162         0\n",
       "34   TEX     AL  1975  714  733  79  162         0\n",
       "35   TEX     AL  1974  690  698  83  161         0\n",
       "36   TEX     AL  1973  619  844  57  162         0"
      ],
      "text/html": "<div>\n<style scoped>\n    .dataframe tbody tr th:only-of-type {\n        vertical-align: middle;\n    }\n\n    .dataframe tbody tr th {\n        vertical-align: top;\n    }\n\n    .dataframe thead th {\n        text-align: right;\n    }\n</style>\n<table border=\"1\" class=\"dataframe\">\n  <thead>\n    <tr style=\"text-align: right;\">\n      <th></th>\n      <th>Team</th>\n      <th>League</th>\n      <th>Year</th>\n      <th>RS</th>\n      <th>RA</th>\n      <th>W</th>\n      <th>G</th>\n      <th>Playoffs</th>\n    </tr>\n  </thead>\n  <tbody>\n    <tr>\n      <th>0</th>\n      <td>TEX</td>\n      <td>AL</td>\n      <td>2012</td>\n      <td>808</td>\n      <td>707</td>\n      <td>93</td>\n      <td>162</td>\n      <td>1</td>\n    </tr>\n    <tr>\n      <th>1</th>\n      <td>TEX</td>\n      <td>AL</td>\n      <td>2011</td>\n      <td>855</td>\n      <td>677</td>\n      <td>96</td>\n      <td>162</td>\n      <td>1</td>\n    </tr>\n    <tr>\n      <th>2</th>\n      <td>TEX</td>\n      <td>AL</td>\n      <td>2010</td>\n      <td>787</td>\n      <td>687</td>\n      <td>90</td>\n      <td>162</td>\n      <td>1</td>\n    </tr>\n    <tr>\n      <th>3</th>\n      <td>TEX</td>\n      <td>AL</td>\n      <td>2009</td>\n      <td>784</td>\n      <td>740</td>\n      <td>87</td>\n      <td>162</td>\n      <td>0</td>\n    </tr>\n    <tr>\n      <th>4</th>\n      <td>TEX</td>\n      <td>AL</td>\n      <td>2008</td>\n      <td>901</td>\n      <td>967</td>\n      <td>79</td>\n      <td>162</td>\n      <td>0</td>\n    </tr>\n    <tr>\n      <th>5</th>\n      <td>TEX</td>\n      <td>AL</td>\n      <td>2007</td>\n      <td>816</td>\n      <td>844</td>\n      <td>75</td>\n      <td>162</td>\n      <td>0</td>\n    </tr>\n    <tr>\n      <th>6</th>\n      <td>TEX</td>\n      <td>AL</td>\n      <td>2006</td>\n      <td>835</td>\n      <td>784</td>\n      <td>80</td>\n      <td>162</td>\n      <td>0</td>\n    </tr>\n    <tr>\n      <th>7</th>\n      <td>TEX</td>\n      <td>AL</td>\n      <td>2005</td>\n      <td>865</td>\n      <td>858</td>\n      <td>79</td>\n      <td>162</td>\n      <td>0</td>\n    </tr>\n    <tr>\n      <th>8</th>\n      <td>TEX</td>\n      <td>AL</td>\n      <td>2004</td>\n      <td>860</td>\n      <td>794</td>\n      <td>89</td>\n      <td>162</td>\n      <td>0</td>\n    </tr>\n    <tr>\n      <th>9</th>\n      <td>TEX</td>\n      <td>AL</td>\n      <td>2003</td>\n      <td>826</td>\n      <td>969</td>\n      <td>71</td>\n      <td>162</td>\n      <td>0</td>\n    </tr>\n    <tr>\n      <th>10</th>\n      <td>TEX</td>\n      <td>AL</td>\n      <td>2002</td>\n      <td>843</td>\n      <td>882</td>\n      <td>72</td>\n      <td>162</td>\n      <td>0</td>\n    </tr>\n    <tr>\n      <th>11</th>\n      <td>TEX</td>\n      <td>AL</td>\n      <td>2001</td>\n      <td>890</td>\n      <td>968</td>\n      <td>73</td>\n      <td>162</td>\n      <td>0</td>\n    </tr>\n    <tr>\n      <th>12</th>\n      <td>TEX</td>\n      <td>AL</td>\n      <td>2000</td>\n      <td>848</td>\n      <td>974</td>\n      <td>71</td>\n      <td>162</td>\n      <td>0</td>\n    </tr>\n    <tr>\n      <th>13</th>\n      <td>TEX</td>\n      <td>AL</td>\n      <td>1999</td>\n      <td>945</td>\n      <td>859</td>\n      <td>95</td>\n      <td>162</td>\n      <td>1</td>\n    </tr>\n    <tr>\n      <th>14</th>\n      <td>TEX</td>\n      <td>AL</td>\n      <td>1998</td>\n      <td>940</td>\n      <td>871</td>\n      <td>88</td>\n      <td>162</td>\n      <td>1</td>\n    </tr>\n    <tr>\n      <th>15</th>\n      <td>TEX</td>\n      <td>AL</td>\n      <td>1997</td>\n      <td>807</td>\n      <td>823</td>\n      <td>77</td>\n      <td>162</td>\n      <td>0</td>\n    </tr>\n    <tr>\n      <th>16</th>\n      <td>TEX</td>\n      <td>AL</td>\n      <td>1996</td>\n      <td>928</td>\n      <td>799</td>\n      <td>90</td>\n      <td>163</td>\n      <td>1</td>\n    </tr>\n    <tr>\n      <th>17</th>\n      <td>TEX</td>\n      <td>AL</td>\n      <td>1993</td>\n      <td>835</td>\n      <td>751</td>\n      <td>86</td>\n      <td>162</td>\n      <td>0</td>\n    </tr>\n    <tr>\n      <th>18</th>\n      <td>TEX</td>\n      <td>AL</td>\n      <td>1992</td>\n      <td>682</td>\n      <td>753</td>\n      <td>77</td>\n      <td>162</td>\n      <td>0</td>\n    </tr>\n    <tr>\n      <th>19</th>\n      <td>TEX</td>\n      <td>AL</td>\n      <td>1991</td>\n      <td>829</td>\n      <td>814</td>\n      <td>85</td>\n      <td>162</td>\n      <td>0</td>\n    </tr>\n    <tr>\n      <th>20</th>\n      <td>TEX</td>\n      <td>AL</td>\n      <td>1990</td>\n      <td>676</td>\n      <td>696</td>\n      <td>83</td>\n      <td>162</td>\n      <td>0</td>\n    </tr>\n    <tr>\n      <th>21</th>\n      <td>TEX</td>\n      <td>AL</td>\n      <td>1989</td>\n      <td>695</td>\n      <td>714</td>\n      <td>83</td>\n      <td>162</td>\n      <td>0</td>\n    </tr>\n    <tr>\n      <th>22</th>\n      <td>TEX</td>\n      <td>AL</td>\n      <td>1988</td>\n      <td>637</td>\n      <td>735</td>\n      <td>70</td>\n      <td>161</td>\n      <td>0</td>\n    </tr>\n    <tr>\n      <th>23</th>\n      <td>TEX</td>\n      <td>AL</td>\n      <td>1987</td>\n      <td>823</td>\n      <td>849</td>\n      <td>75</td>\n      <td>162</td>\n      <td>0</td>\n    </tr>\n    <tr>\n      <th>24</th>\n      <td>TEX</td>\n      <td>AL</td>\n      <td>1986</td>\n      <td>771</td>\n      <td>743</td>\n      <td>87</td>\n      <td>162</td>\n      <td>0</td>\n    </tr>\n    <tr>\n      <th>25</th>\n      <td>TEX</td>\n      <td>AL</td>\n      <td>1985</td>\n      <td>617</td>\n      <td>785</td>\n      <td>62</td>\n      <td>161</td>\n      <td>0</td>\n    </tr>\n    <tr>\n      <th>26</th>\n      <td>TEX</td>\n      <td>AL</td>\n      <td>1984</td>\n      <td>656</td>\n      <td>714</td>\n      <td>69</td>\n      <td>161</td>\n      <td>0</td>\n    </tr>\n    <tr>\n      <th>27</th>\n      <td>TEX</td>\n      <td>AL</td>\n      <td>1983</td>\n      <td>639</td>\n      <td>609</td>\n      <td>77</td>\n      <td>163</td>\n      <td>0</td>\n    </tr>\n    <tr>\n      <th>28</th>\n      <td>TEX</td>\n      <td>AL</td>\n      <td>1982</td>\n      <td>590</td>\n      <td>749</td>\n      <td>64</td>\n      <td>162</td>\n      <td>0</td>\n    </tr>\n    <tr>\n      <th>29</th>\n      <td>TEX</td>\n      <td>AL</td>\n      <td>1980</td>\n      <td>756</td>\n      <td>752</td>\n      <td>76</td>\n      <td>163</td>\n      <td>0</td>\n    </tr>\n    <tr>\n      <th>30</th>\n      <td>TEX</td>\n      <td>AL</td>\n      <td>1979</td>\n      <td>750</td>\n      <td>698</td>\n      <td>83</td>\n      <td>162</td>\n      <td>0</td>\n    </tr>\n    <tr>\n      <th>31</th>\n      <td>TEX</td>\n      <td>AL</td>\n      <td>1978</td>\n      <td>692</td>\n      <td>632</td>\n      <td>87</td>\n      <td>162</td>\n      <td>0</td>\n    </tr>\n    <tr>\n      <th>32</th>\n      <td>TEX</td>\n      <td>AL</td>\n      <td>1977</td>\n      <td>767</td>\n      <td>657</td>\n      <td>94</td>\n      <td>162</td>\n      <td>0</td>\n    </tr>\n    <tr>\n      <th>33</th>\n      <td>TEX</td>\n      <td>AL</td>\n      <td>1976</td>\n      <td>616</td>\n      <td>652</td>\n      <td>76</td>\n      <td>162</td>\n      <td>0</td>\n    </tr>\n    <tr>\n      <th>34</th>\n      <td>TEX</td>\n      <td>AL</td>\n      <td>1975</td>\n      <td>714</td>\n      <td>733</td>\n      <td>79</td>\n      <td>162</td>\n      <td>0</td>\n    </tr>\n    <tr>\n      <th>35</th>\n      <td>TEX</td>\n      <td>AL</td>\n      <td>1974</td>\n      <td>690</td>\n      <td>698</td>\n      <td>83</td>\n      <td>161</td>\n      <td>0</td>\n    </tr>\n    <tr>\n      <th>36</th>\n      <td>TEX</td>\n      <td>AL</td>\n      <td>1973</td>\n      <td>619</td>\n      <td>844</td>\n      <td>57</td>\n      <td>162</td>\n      <td>0</td>\n    </tr>\n  </tbody>\n</table>\n</div>"
     },
     "metadata": {},
     "execution_count": 7
    }
   ],
   "source": [
    "rangers_df = pd.read_csv('rangers.csv')\n",
    "rangers_df"
   ]
  },
  {
   "cell_type": "code",
   "execution_count": 8,
   "metadata": {},
   "outputs": [
    {
     "output_type": "stream",
     "name": "stdout",
     "text": [
      "Pandas(Index=0, Team=' TEX', League=' AL', Year=2012, RS=808, RA=707, W=93, G=162, Playoffs=1)\nPandas(Index=1, Team=' TEX', League=' AL', Year=2011, RS=855, RA=677, W=96, G=162, Playoffs=1)\nPandas(Index=2, Team=' TEX', League=' AL', Year=2010, RS=787, RA=687, W=90, G=162, Playoffs=1)\nPandas(Index=3, Team=' TEX', League=' AL', Year=2009, RS=784, RA=740, W=87, G=162, Playoffs=0)\nPandas(Index=4, Team=' TEX', League=' AL', Year=2008, RS=901, RA=967, W=79, G=162, Playoffs=0)\nPandas(Index=5, Team=' TEX', League=' AL', Year=2007, RS=816, RA=844, W=75, G=162, Playoffs=0)\nPandas(Index=6, Team=' TEX', League=' AL', Year=2006, RS=835, RA=784, W=80, G=162, Playoffs=0)\nPandas(Index=7, Team=' TEX', League=' AL', Year=2005, RS=865, RA=858, W=79, G=162, Playoffs=0)\nPandas(Index=8, Team=' TEX', League=' AL', Year=2004, RS=860, RA=794, W=89, G=162, Playoffs=0)\nPandas(Index=9, Team=' TEX', League=' AL', Year=2003, RS=826, RA=969, W=71, G=162, Playoffs=0)\nPandas(Index=10, Team='TEX', League=' AL', Year=2002, RS=843, RA=882, W=72, G=162, Playoffs=0)\nPandas(Index=11, Team='TEX', League=' AL', Year=2001, RS=890, RA=968, W=73, G=162, Playoffs=0)\nPandas(Index=12, Team='TEX', League=' AL', Year=2000, RS=848, RA=974, W=71, G=162, Playoffs=0)\nPandas(Index=13, Team='TEX', League=' AL', Year=1999, RS=945, RA=859, W=95, G=162, Playoffs=1)\nPandas(Index=14, Team='TEX', League=' AL', Year=1998, RS=940, RA=871, W=88, G=162, Playoffs=1)\nPandas(Index=15, Team='TEX', League=' AL', Year=1997, RS=807, RA=823, W=77, G=162, Playoffs=0)\nPandas(Index=16, Team='TEX', League=' AL', Year=1996, RS=928, RA=799, W=90, G=163, Playoffs=1)\nPandas(Index=17, Team='TEX', League=' AL', Year=1993, RS=835, RA=751, W=86, G=162, Playoffs=0)\nPandas(Index=18, Team='TEX', League=' AL', Year=1992, RS=682, RA=753, W=77, G=162, Playoffs=0)\nPandas(Index=19, Team='TEX', League=' AL', Year=1991, RS=829, RA=814, W=85, G=162, Playoffs=0)\nPandas(Index=20, Team='TEX', League=' AL', Year=1990, RS=676, RA=696, W=83, G=162, Playoffs=0)\nPandas(Index=21, Team='TEX', League=' AL', Year=1989, RS=695, RA=714, W=83, G=162, Playoffs=0)\nPandas(Index=22, Team='TEX', League=' AL', Year=1988, RS=637, RA=735, W=70, G=161, Playoffs=0)\nPandas(Index=23, Team='TEX', League=' AL', Year=1987, RS=823, RA=849, W=75, G=162, Playoffs=0)\nPandas(Index=24, Team='TEX', League=' AL', Year=1986, RS=771, RA=743, W=87, G=162, Playoffs=0)\nPandas(Index=25, Team='TEX', League=' AL', Year=1985, RS=617, RA=785, W=62, G=161, Playoffs=0)\nPandas(Index=26, Team='TEX', League=' AL', Year=1984, RS=656, RA=714, W=69, G=161, Playoffs=0)\nPandas(Index=27, Team='TEX', League=' AL', Year=1983, RS=639, RA=609, W=77, G=163, Playoffs=0)\nPandas(Index=28, Team='TEX', League=' AL', Year=1982, RS=590, RA=749, W=64, G=162, Playoffs=0)\nPandas(Index=29, Team='TEX', League=' AL', Year=1980, RS=756, RA=752, W=76, G=163, Playoffs=0)\nPandas(Index=30, Team='TEX', League=' AL', Year=1979, RS=750, RA=698, W=83, G=162, Playoffs=0)\nPandas(Index=31, Team='TEX', League=' AL', Year=1978, RS=692, RA=632, W=87, G=162, Playoffs=0)\nPandas(Index=32, Team='TEX', League=' AL', Year=1977, RS=767, RA=657, W=94, G=162, Playoffs=0)\nPandas(Index=33, Team='TEX', League=' AL', Year=1976, RS=616, RA=652, W=76, G=162, Playoffs=0)\nPandas(Index=34, Team='TEX', League=' AL', Year=1975, RS=714, RA=733, W=79, G=162, Playoffs=0)\nPandas(Index=35, Team='TEX', League=' AL', Year=1974, RS=690, RA=698, W=83, G=161, Playoffs=0)\nPandas(Index=36, Team='TEX', League=' AL', Year=1973, RS=619, RA=844, W=57, G=162, Playoffs=0)\n"
     ]
    }
   ],
   "source": [
    "# Loop over the DataFrame and print each row\n",
    "for row_tuple in rangers_df.itertuples():\n",
    "  print(row_tuple)"
   ]
  },
  {
   "cell_type": "code",
   "execution_count": 9,
   "metadata": {},
   "outputs": [
    {
     "output_type": "stream",
     "name": "stdout",
     "text": [
      "0 2012 93\n",
      "1 2011 96\n",
      "2 2010 90\n",
      "3 2009 87\n",
      "4 2008 79\n",
      "5 2007 75\n",
      "6 2006 80\n",
      "7 2005 79\n",
      "8 2004 89\n",
      "9 2003 71\n",
      "10 2002 72\n",
      "11 2001 73\n",
      "12 2000 71\n",
      "13 1999 95\n",
      "14 1998 88\n",
      "15 1997 77\n",
      "16 1996 90\n",
      "17 1993 86\n",
      "18 1992 77\n",
      "19 1991 85\n",
      "20 1990 83\n",
      "21 1989 83\n",
      "22 1988 70\n",
      "23 1987 75\n",
      "24 1986 87\n",
      "25 1985 62\n",
      "26 1984 69\n",
      "27 1983 77\n",
      "28 1982 64\n",
      "29 1980 76\n",
      "30 1979 83\n",
      "31 1978 87\n",
      "32 1977 94\n",
      "33 1976 76\n",
      "34 1975 79\n",
      "35 1974 83\n",
      "36 1973 57\n"
     ]
    }
   ],
   "source": [
    "# Loop over the DataFrame and print each row's Index, Year and Wins (W)\n",
    "for row in rangers_df.itertuples():\n",
    "  i = row.Index\n",
    "  year = row.Year\n",
    "  wins = row.W\n",
    "  print(i, year, wins)"
   ]
  },
  {
   "cell_type": "code",
   "execution_count": 10,
   "metadata": {},
   "outputs": [
    {
     "output_type": "stream",
     "name": "stdout",
     "text": [
      "0 2012 93\n1 2011 96\n2 2010 90\n13 1999 95\n14 1998 88\n16 1996 90\n"
     ]
    }
   ],
   "source": [
    "# Loop over the DataFrame and print each row's Index, Year and Wins (W)\n",
    "for row in rangers_df.itertuples():\n",
    "  i = row.Index\n",
    "  year = row.Year\n",
    "  wins = row.W\n",
    "  \n",
    "  # Check if rangers made Playoffs (1 means yes; 0 means no)\n",
    "  if row.Playoffs == 1:\n",
    "    print(i, year, wins)"
   ]
  },
  {
   "source": [
    "# Run differentials with .itertuples()\n",
    "The New York Yankees have made a trade with the San Francisco Giants for your analyst contract— you're a hot commodity! Your new boss has seen your work with the Giants and now wants you to do something similar with the Yankees data. He'd like you to calculate run differentials for the Yankees from the year 1962 to the year 2012 and find which season they had the best run differential.\n",
    "\n",
    "You've remembered the function you used when working with the Giants and quickly write it down:\n",
    "\n",
    "```python\n",
    "def calc_run_diff(runs_scored, runs_allowed):\n",
    "\n",
    "    run_diff = runs_scored - runs_allowed\n",
    "\n",
    "    return run_diff\n",
    "```\n",
    "\n",
    "Let's use .itertuples() to loop over the yankees_df DataFrame (which has been loaded into your session) and calculate run differentials."
   ],
   "cell_type": "markdown",
   "metadata": {}
  },
  {
   "cell_type": "code",
   "execution_count": 11,
   "metadata": {},
   "outputs": [
    {
     "output_type": "execute_result",
     "data": {
      "text/plain": [
       "    Team League  Year   RS   RA    W    G  Playoffs\n",
       "0    NYY     AL  2012  804  668   95  162         1\n",
       "1    NYY     AL  2011  867  657   97  162         1\n",
       "2    NYY     AL  2010  859  693   95  162         1\n",
       "3    NYY     AL  2009  915  753  103  162         1\n",
       "4    NYY     AL  2008  789  727   89  162         0\n",
       "5    NYY     AL  2007  968  777   94  162         1\n",
       "6    NYY     AL  2006  930  767   97  162         1\n",
       "7    NYY     AL  2005  886  789   95  162         1\n",
       "8    NYY     AL  2004  897  808  101  162         1\n",
       "9    NYY     AL  2003  877  716  101  163         1\n",
       "10   NYY     AL  2002  897  697  103  161         1\n",
       "11   NYY     AL  2001  804  713   95  161         1\n",
       "12   NYY     AL  2000  871  814   87  161         1\n",
       "13   NYY     AL  1999  900  731   98  162         1\n",
       "14   NYY     AL  1998  965  656  114  162         1\n",
       "15   NYY     AL  1997  891  688   96  162         1\n",
       "16   NYY     AL  1996  871  787   92  162         1\n",
       "17   NYY     AL  1993  821  761   88  162         0\n",
       "18   NYY     AL  1992  733  746   76  162         0\n",
       "19   NYY     AL  1991  674  777   71  162         0\n",
       "20   NYY     AL  1990  603  749   67  162         0\n",
       "21   NYY     AL  1989  698  792   74  161         0\n",
       "22   NYY     AL  1988  772  748   85  161         0\n",
       "23   NYY     AL  1987  788  758   89  162         0\n",
       "24   NYY     AL  1986  797  738   90  162         0\n",
       "25   NYY     AL  1985  839  660   97  161         0\n",
       "26   NYY     AL  1984  758  679   87  162         0\n",
       "27   NYY     AL  1983  770  703   91  162         0\n",
       "28   NYY     AL  1982  709  716   79  162         0\n",
       "29   NYY     AL  1980  820  662  103  162         1\n",
       "30   NYY     AL  1979  734  672   89  160         0\n",
       "31   NYY     AL  1978  735  582  100  163         1\n",
       "32   NYY     AL  1977  831  651  100  162         1\n",
       "33   NYY     AL  1976  730  575   97  159         1\n",
       "34   NYY     AL  1975  681  588   83  160         0\n",
       "35   NYY     AL  1974  671  623   89  162         0\n",
       "36   NYY     AL  1973  641  610   80  162         0\n",
       "37   NYY     AL  1971  648  641   81  162         0\n",
       "38   NYY     AL  1970  680  612   93  163         0\n",
       "39   NYY     AL  1969  562  587   80  162         0\n",
       "40   NYY     AL  1968  536  531   83  164         0\n",
       "41   NYY     AL  1967  522  621   72  163         0\n",
       "42   NYY     AL  1966  611  612   70  160         0\n",
       "43   NYY     AL  1965  611  604   77  162         0\n",
       "44   NYY     AL  1964  730  577   99  164         1\n",
       "45   NYY     AL  1963  714  547  104  161         1\n",
       "46   NYY     AL  1962  817  680   96  162         1"
      ],
      "text/html": "<div>\n<style scoped>\n    .dataframe tbody tr th:only-of-type {\n        vertical-align: middle;\n    }\n\n    .dataframe tbody tr th {\n        vertical-align: top;\n    }\n\n    .dataframe thead th {\n        text-align: right;\n    }\n</style>\n<table border=\"1\" class=\"dataframe\">\n  <thead>\n    <tr style=\"text-align: right;\">\n      <th></th>\n      <th>Team</th>\n      <th>League</th>\n      <th>Year</th>\n      <th>RS</th>\n      <th>RA</th>\n      <th>W</th>\n      <th>G</th>\n      <th>Playoffs</th>\n    </tr>\n  </thead>\n  <tbody>\n    <tr>\n      <th>0</th>\n      <td>NYY</td>\n      <td>AL</td>\n      <td>2012</td>\n      <td>804</td>\n      <td>668</td>\n      <td>95</td>\n      <td>162</td>\n      <td>1</td>\n    </tr>\n    <tr>\n      <th>1</th>\n      <td>NYY</td>\n      <td>AL</td>\n      <td>2011</td>\n      <td>867</td>\n      <td>657</td>\n      <td>97</td>\n      <td>162</td>\n      <td>1</td>\n    </tr>\n    <tr>\n      <th>2</th>\n      <td>NYY</td>\n      <td>AL</td>\n      <td>2010</td>\n      <td>859</td>\n      <td>693</td>\n      <td>95</td>\n      <td>162</td>\n      <td>1</td>\n    </tr>\n    <tr>\n      <th>3</th>\n      <td>NYY</td>\n      <td>AL</td>\n      <td>2009</td>\n      <td>915</td>\n      <td>753</td>\n      <td>103</td>\n      <td>162</td>\n      <td>1</td>\n    </tr>\n    <tr>\n      <th>4</th>\n      <td>NYY</td>\n      <td>AL</td>\n      <td>2008</td>\n      <td>789</td>\n      <td>727</td>\n      <td>89</td>\n      <td>162</td>\n      <td>0</td>\n    </tr>\n    <tr>\n      <th>5</th>\n      <td>NYY</td>\n      <td>AL</td>\n      <td>2007</td>\n      <td>968</td>\n      <td>777</td>\n      <td>94</td>\n      <td>162</td>\n      <td>1</td>\n    </tr>\n    <tr>\n      <th>6</th>\n      <td>NYY</td>\n      <td>AL</td>\n      <td>2006</td>\n      <td>930</td>\n      <td>767</td>\n      <td>97</td>\n      <td>162</td>\n      <td>1</td>\n    </tr>\n    <tr>\n      <th>7</th>\n      <td>NYY</td>\n      <td>AL</td>\n      <td>2005</td>\n      <td>886</td>\n      <td>789</td>\n      <td>95</td>\n      <td>162</td>\n      <td>1</td>\n    </tr>\n    <tr>\n      <th>8</th>\n      <td>NYY</td>\n      <td>AL</td>\n      <td>2004</td>\n      <td>897</td>\n      <td>808</td>\n      <td>101</td>\n      <td>162</td>\n      <td>1</td>\n    </tr>\n    <tr>\n      <th>9</th>\n      <td>NYY</td>\n      <td>AL</td>\n      <td>2003</td>\n      <td>877</td>\n      <td>716</td>\n      <td>101</td>\n      <td>163</td>\n      <td>1</td>\n    </tr>\n    <tr>\n      <th>10</th>\n      <td>NYY</td>\n      <td>AL</td>\n      <td>2002</td>\n      <td>897</td>\n      <td>697</td>\n      <td>103</td>\n      <td>161</td>\n      <td>1</td>\n    </tr>\n    <tr>\n      <th>11</th>\n      <td>NYY</td>\n      <td>AL</td>\n      <td>2001</td>\n      <td>804</td>\n      <td>713</td>\n      <td>95</td>\n      <td>161</td>\n      <td>1</td>\n    </tr>\n    <tr>\n      <th>12</th>\n      <td>NYY</td>\n      <td>AL</td>\n      <td>2000</td>\n      <td>871</td>\n      <td>814</td>\n      <td>87</td>\n      <td>161</td>\n      <td>1</td>\n    </tr>\n    <tr>\n      <th>13</th>\n      <td>NYY</td>\n      <td>AL</td>\n      <td>1999</td>\n      <td>900</td>\n      <td>731</td>\n      <td>98</td>\n      <td>162</td>\n      <td>1</td>\n    </tr>\n    <tr>\n      <th>14</th>\n      <td>NYY</td>\n      <td>AL</td>\n      <td>1998</td>\n      <td>965</td>\n      <td>656</td>\n      <td>114</td>\n      <td>162</td>\n      <td>1</td>\n    </tr>\n    <tr>\n      <th>15</th>\n      <td>NYY</td>\n      <td>AL</td>\n      <td>1997</td>\n      <td>891</td>\n      <td>688</td>\n      <td>96</td>\n      <td>162</td>\n      <td>1</td>\n    </tr>\n    <tr>\n      <th>16</th>\n      <td>NYY</td>\n      <td>AL</td>\n      <td>1996</td>\n      <td>871</td>\n      <td>787</td>\n      <td>92</td>\n      <td>162</td>\n      <td>1</td>\n    </tr>\n    <tr>\n      <th>17</th>\n      <td>NYY</td>\n      <td>AL</td>\n      <td>1993</td>\n      <td>821</td>\n      <td>761</td>\n      <td>88</td>\n      <td>162</td>\n      <td>0</td>\n    </tr>\n    <tr>\n      <th>18</th>\n      <td>NYY</td>\n      <td>AL</td>\n      <td>1992</td>\n      <td>733</td>\n      <td>746</td>\n      <td>76</td>\n      <td>162</td>\n      <td>0</td>\n    </tr>\n    <tr>\n      <th>19</th>\n      <td>NYY</td>\n      <td>AL</td>\n      <td>1991</td>\n      <td>674</td>\n      <td>777</td>\n      <td>71</td>\n      <td>162</td>\n      <td>0</td>\n    </tr>\n    <tr>\n      <th>20</th>\n      <td>NYY</td>\n      <td>AL</td>\n      <td>1990</td>\n      <td>603</td>\n      <td>749</td>\n      <td>67</td>\n      <td>162</td>\n      <td>0</td>\n    </tr>\n    <tr>\n      <th>21</th>\n      <td>NYY</td>\n      <td>AL</td>\n      <td>1989</td>\n      <td>698</td>\n      <td>792</td>\n      <td>74</td>\n      <td>161</td>\n      <td>0</td>\n    </tr>\n    <tr>\n      <th>22</th>\n      <td>NYY</td>\n      <td>AL</td>\n      <td>1988</td>\n      <td>772</td>\n      <td>748</td>\n      <td>85</td>\n      <td>161</td>\n      <td>0</td>\n    </tr>\n    <tr>\n      <th>23</th>\n      <td>NYY</td>\n      <td>AL</td>\n      <td>1987</td>\n      <td>788</td>\n      <td>758</td>\n      <td>89</td>\n      <td>162</td>\n      <td>0</td>\n    </tr>\n    <tr>\n      <th>24</th>\n      <td>NYY</td>\n      <td>AL</td>\n      <td>1986</td>\n      <td>797</td>\n      <td>738</td>\n      <td>90</td>\n      <td>162</td>\n      <td>0</td>\n    </tr>\n    <tr>\n      <th>25</th>\n      <td>NYY</td>\n      <td>AL</td>\n      <td>1985</td>\n      <td>839</td>\n      <td>660</td>\n      <td>97</td>\n      <td>161</td>\n      <td>0</td>\n    </tr>\n    <tr>\n      <th>26</th>\n      <td>NYY</td>\n      <td>AL</td>\n      <td>1984</td>\n      <td>758</td>\n      <td>679</td>\n      <td>87</td>\n      <td>162</td>\n      <td>0</td>\n    </tr>\n    <tr>\n      <th>27</th>\n      <td>NYY</td>\n      <td>AL</td>\n      <td>1983</td>\n      <td>770</td>\n      <td>703</td>\n      <td>91</td>\n      <td>162</td>\n      <td>0</td>\n    </tr>\n    <tr>\n      <th>28</th>\n      <td>NYY</td>\n      <td>AL</td>\n      <td>1982</td>\n      <td>709</td>\n      <td>716</td>\n      <td>79</td>\n      <td>162</td>\n      <td>0</td>\n    </tr>\n    <tr>\n      <th>29</th>\n      <td>NYY</td>\n      <td>AL</td>\n      <td>1980</td>\n      <td>820</td>\n      <td>662</td>\n      <td>103</td>\n      <td>162</td>\n      <td>1</td>\n    </tr>\n    <tr>\n      <th>30</th>\n      <td>NYY</td>\n      <td>AL</td>\n      <td>1979</td>\n      <td>734</td>\n      <td>672</td>\n      <td>89</td>\n      <td>160</td>\n      <td>0</td>\n    </tr>\n    <tr>\n      <th>31</th>\n      <td>NYY</td>\n      <td>AL</td>\n      <td>1978</td>\n      <td>735</td>\n      <td>582</td>\n      <td>100</td>\n      <td>163</td>\n      <td>1</td>\n    </tr>\n    <tr>\n      <th>32</th>\n      <td>NYY</td>\n      <td>AL</td>\n      <td>1977</td>\n      <td>831</td>\n      <td>651</td>\n      <td>100</td>\n      <td>162</td>\n      <td>1</td>\n    </tr>\n    <tr>\n      <th>33</th>\n      <td>NYY</td>\n      <td>AL</td>\n      <td>1976</td>\n      <td>730</td>\n      <td>575</td>\n      <td>97</td>\n      <td>159</td>\n      <td>1</td>\n    </tr>\n    <tr>\n      <th>34</th>\n      <td>NYY</td>\n      <td>AL</td>\n      <td>1975</td>\n      <td>681</td>\n      <td>588</td>\n      <td>83</td>\n      <td>160</td>\n      <td>0</td>\n    </tr>\n    <tr>\n      <th>35</th>\n      <td>NYY</td>\n      <td>AL</td>\n      <td>1974</td>\n      <td>671</td>\n      <td>623</td>\n      <td>89</td>\n      <td>162</td>\n      <td>0</td>\n    </tr>\n    <tr>\n      <th>36</th>\n      <td>NYY</td>\n      <td>AL</td>\n      <td>1973</td>\n      <td>641</td>\n      <td>610</td>\n      <td>80</td>\n      <td>162</td>\n      <td>0</td>\n    </tr>\n    <tr>\n      <th>37</th>\n      <td>NYY</td>\n      <td>AL</td>\n      <td>1971</td>\n      <td>648</td>\n      <td>641</td>\n      <td>81</td>\n      <td>162</td>\n      <td>0</td>\n    </tr>\n    <tr>\n      <th>38</th>\n      <td>NYY</td>\n      <td>AL</td>\n      <td>1970</td>\n      <td>680</td>\n      <td>612</td>\n      <td>93</td>\n      <td>163</td>\n      <td>0</td>\n    </tr>\n    <tr>\n      <th>39</th>\n      <td>NYY</td>\n      <td>AL</td>\n      <td>1969</td>\n      <td>562</td>\n      <td>587</td>\n      <td>80</td>\n      <td>162</td>\n      <td>0</td>\n    </tr>\n    <tr>\n      <th>40</th>\n      <td>NYY</td>\n      <td>AL</td>\n      <td>1968</td>\n      <td>536</td>\n      <td>531</td>\n      <td>83</td>\n      <td>164</td>\n      <td>0</td>\n    </tr>\n    <tr>\n      <th>41</th>\n      <td>NYY</td>\n      <td>AL</td>\n      <td>1967</td>\n      <td>522</td>\n      <td>621</td>\n      <td>72</td>\n      <td>163</td>\n      <td>0</td>\n    </tr>\n    <tr>\n      <th>42</th>\n      <td>NYY</td>\n      <td>AL</td>\n      <td>1966</td>\n      <td>611</td>\n      <td>612</td>\n      <td>70</td>\n      <td>160</td>\n      <td>0</td>\n    </tr>\n    <tr>\n      <th>43</th>\n      <td>NYY</td>\n      <td>AL</td>\n      <td>1965</td>\n      <td>611</td>\n      <td>604</td>\n      <td>77</td>\n      <td>162</td>\n      <td>0</td>\n    </tr>\n    <tr>\n      <th>44</th>\n      <td>NYY</td>\n      <td>AL</td>\n      <td>1964</td>\n      <td>730</td>\n      <td>577</td>\n      <td>99</td>\n      <td>164</td>\n      <td>1</td>\n    </tr>\n    <tr>\n      <th>45</th>\n      <td>NYY</td>\n      <td>AL</td>\n      <td>1963</td>\n      <td>714</td>\n      <td>547</td>\n      <td>104</td>\n      <td>161</td>\n      <td>1</td>\n    </tr>\n    <tr>\n      <th>46</th>\n      <td>NYY</td>\n      <td>AL</td>\n      <td>1962</td>\n      <td>817</td>\n      <td>680</td>\n      <td>96</td>\n      <td>162</td>\n      <td>1</td>\n    </tr>\n  </tbody>\n</table>\n</div>"
     },
     "metadata": {},
     "execution_count": 11
    }
   ],
   "source": [
    "yankees_df = pd.read_csv('yankees.csv')\n",
    "yankees_df"
   ]
  },
  {
   "cell_type": "code",
   "execution_count": 12,
   "metadata": {},
   "outputs": [],
   "source": [
    "def calc_run_diff(runs_scored, runs_allowed):\n",
    "\n",
    "    run_diff = runs_scored - runs_allowed\n",
    "\n",
    "    return run_diff"
   ]
  },
  {
   "cell_type": "code",
   "execution_count": 13,
   "metadata": {},
   "outputs": [
    {
     "output_type": "stream",
     "name": "stdout",
     "text": [
      "    Team League  Year   RS   RA    W    G  Playoffs   RD\n0    NYY     AL  2012  804  668   95  162         1  136\n1    NYY     AL  2011  867  657   97  162         1  210\n2    NYY     AL  2010  859  693   95  162         1  166\n3    NYY     AL  2009  915  753  103  162         1  162\n4    NYY     AL  2008  789  727   89  162         0   62\n5    NYY     AL  2007  968  777   94  162         1  191\n6    NYY     AL  2006  930  767   97  162         1  163\n7    NYY     AL  2005  886  789   95  162         1   97\n8    NYY     AL  2004  897  808  101  162         1   89\n9    NYY     AL  2003  877  716  101  163         1  161\n10   NYY     AL  2002  897  697  103  161         1  200\n11   NYY     AL  2001  804  713   95  161         1   91\n12   NYY     AL  2000  871  814   87  161         1   57\n13   NYY     AL  1999  900  731   98  162         1  169\n14   NYY     AL  1998  965  656  114  162         1  309\n15   NYY     AL  1997  891  688   96  162         1  203\n16   NYY     AL  1996  871  787   92  162         1   84\n17   NYY     AL  1993  821  761   88  162         0   60\n18   NYY     AL  1992  733  746   76  162         0  -13\n19   NYY     AL  1991  674  777   71  162         0 -103\n20   NYY     AL  1990  603  749   67  162         0 -146\n21   NYY     AL  1989  698  792   74  161         0  -94\n22   NYY     AL  1988  772  748   85  161         0   24\n23   NYY     AL  1987  788  758   89  162         0   30\n24   NYY     AL  1986  797  738   90  162         0   59\n25   NYY     AL  1985  839  660   97  161         0  179\n26   NYY     AL  1984  758  679   87  162         0   79\n27   NYY     AL  1983  770  703   91  162         0   67\n28   NYY     AL  1982  709  716   79  162         0   -7\n29   NYY     AL  1980  820  662  103  162         1  158\n30   NYY     AL  1979  734  672   89  160         0   62\n31   NYY     AL  1978  735  582  100  163         1  153\n32   NYY     AL  1977  831  651  100  162         1  180\n33   NYY     AL  1976  730  575   97  159         1  155\n34   NYY     AL  1975  681  588   83  160         0   93\n35   NYY     AL  1974  671  623   89  162         0   48\n36   NYY     AL  1973  641  610   80  162         0   31\n37   NYY     AL  1971  648  641   81  162         0    7\n38   NYY     AL  1970  680  612   93  163         0   68\n39   NYY     AL  1969  562  587   80  162         0  -25\n40   NYY     AL  1968  536  531   83  164         0    5\n41   NYY     AL  1967  522  621   72  163         0  -99\n42   NYY     AL  1966  611  612   70  160         0   -1\n43   NYY     AL  1965  611  604   77  162         0    7\n44   NYY     AL  1964  730  577   99  164         1  153\n45   NYY     AL  1963  714  547  104  161         1  167\n46   NYY     AL  1962  817  680   96  162         1  137\n"
     ]
    }
   ],
   "source": [
    "run_diffs = []\n",
    "\n",
    "# Loop over the DataFrame and calculate each row's run differential\n",
    "for row in yankees_df.itertuples():\n",
    "    \n",
    "    runs_scored = row.RS\n",
    "    runs_allowed = row.RA\n",
    "\n",
    "    run_diff = calc_run_diff(runs_scored, runs_allowed)\n",
    "    \n",
    "    run_diffs.append(run_diff)\n",
    "\n",
    "# Append new column\n",
    "yankees_df['RD'] = run_diffs\n",
    "print(yankees_df)"
   ]
  },
  {
   "source": [
    "# Analyzing baseball stats with .apply()\n",
    "The Tampa Bay Rays want you to analyze their data.\n",
    "\n",
    "They'd like the following metrics:\n",
    "\n",
    "The sum of each column in the data\n",
    "The total amount of runs scored in a year ('RS' + 'RA' for each year)\n",
    "The 'Playoffs' column in text format rather than using 1's and 0's\n",
    "The below function can be used to convert the 'Playoffs' column to text:\n",
    "\n",
    "```python\n",
    "def text_playoffs(num_playoffs): \n",
    "    if num_playoffs == 1:\n",
    "        return 'Yes'\n",
    "    else:\n",
    "        return 'No' \n",
    "```\n",
    "\n",
    "Use .apply() to get these metrics. A DataFrame (rays_df) has been loaded and printed to the console. This DataFrame is indexed on the 'Year' column."
   ],
   "cell_type": "markdown",
   "metadata": {}
  },
  {
   "cell_type": "code",
   "execution_count": 14,
   "metadata": {},
   "outputs": [
    {
     "output_type": "execute_result",
     "data": {
      "text/plain": [
       "   Year   RS   RA   W  Playoffs\n",
       "0  2012  697  577  90         0\n",
       "1  2011  707  614  91         1\n",
       "2  2010  802  649  96         1\n",
       "3  2009  803  754  84         0\n",
       "4  2008  774  671  97         1"
      ],
      "text/html": "<div>\n<style scoped>\n    .dataframe tbody tr th:only-of-type {\n        vertical-align: middle;\n    }\n\n    .dataframe tbody tr th {\n        vertical-align: top;\n    }\n\n    .dataframe thead th {\n        text-align: right;\n    }\n</style>\n<table border=\"1\" class=\"dataframe\">\n  <thead>\n    <tr style=\"text-align: right;\">\n      <th></th>\n      <th>Year</th>\n      <th>RS</th>\n      <th>RA</th>\n      <th>W</th>\n      <th>Playoffs</th>\n    </tr>\n  </thead>\n  <tbody>\n    <tr>\n      <th>0</th>\n      <td>2012</td>\n      <td>697</td>\n      <td>577</td>\n      <td>90</td>\n      <td>0</td>\n    </tr>\n    <tr>\n      <th>1</th>\n      <td>2011</td>\n      <td>707</td>\n      <td>614</td>\n      <td>91</td>\n      <td>1</td>\n    </tr>\n    <tr>\n      <th>2</th>\n      <td>2010</td>\n      <td>802</td>\n      <td>649</td>\n      <td>96</td>\n      <td>1</td>\n    </tr>\n    <tr>\n      <th>3</th>\n      <td>2009</td>\n      <td>803</td>\n      <td>754</td>\n      <td>84</td>\n      <td>0</td>\n    </tr>\n    <tr>\n      <th>4</th>\n      <td>2008</td>\n      <td>774</td>\n      <td>671</td>\n      <td>97</td>\n      <td>1</td>\n    </tr>\n  </tbody>\n</table>\n</div>"
     },
     "metadata": {},
     "execution_count": 14
    }
   ],
   "source": [
    "rays_df = pd.read_csv('rays.csv')\n",
    "rays_df"
   ]
  },
  {
   "cell_type": "code",
   "execution_count": 15,
   "metadata": {},
   "outputs": [
    {
     "output_type": "execute_result",
     "data": {
      "text/plain": [
       "       RS   RA   W  Playoffs\n",
       "Year                        \n",
       "2012  697  577  90         0\n",
       "2011  707  614  91         1\n",
       "2010  802  649  96         1\n",
       "2009  803  754  84         0\n",
       "2008  774  671  97         1"
      ],
      "text/html": "<div>\n<style scoped>\n    .dataframe tbody tr th:only-of-type {\n        vertical-align: middle;\n    }\n\n    .dataframe tbody tr th {\n        vertical-align: top;\n    }\n\n    .dataframe thead th {\n        text-align: right;\n    }\n</style>\n<table border=\"1\" class=\"dataframe\">\n  <thead>\n    <tr style=\"text-align: right;\">\n      <th></th>\n      <th>RS</th>\n      <th>RA</th>\n      <th>W</th>\n      <th>Playoffs</th>\n    </tr>\n    <tr>\n      <th>Year</th>\n      <th></th>\n      <th></th>\n      <th></th>\n      <th></th>\n    </tr>\n  </thead>\n  <tbody>\n    <tr>\n      <th>2012</th>\n      <td>697</td>\n      <td>577</td>\n      <td>90</td>\n      <td>0</td>\n    </tr>\n    <tr>\n      <th>2011</th>\n      <td>707</td>\n      <td>614</td>\n      <td>91</td>\n      <td>1</td>\n    </tr>\n    <tr>\n      <th>2010</th>\n      <td>802</td>\n      <td>649</td>\n      <td>96</td>\n      <td>1</td>\n    </tr>\n    <tr>\n      <th>2009</th>\n      <td>803</td>\n      <td>754</td>\n      <td>84</td>\n      <td>0</td>\n    </tr>\n    <tr>\n      <th>2008</th>\n      <td>774</td>\n      <td>671</td>\n      <td>97</td>\n      <td>1</td>\n    </tr>\n  </tbody>\n</table>\n</div>"
     },
     "metadata": {},
     "execution_count": 15
    }
   ],
   "source": [
    "rays_df.set_index('Year')"
   ]
  },
  {
   "cell_type": "code",
   "execution_count": 16,
   "metadata": {},
   "outputs": [
    {
     "output_type": "stream",
     "name": "stdout",
     "text": [
      "Year        10050\nRS           3783\nRA           3265\nW             458\nPlayoffs        3\ndtype: int64\n"
     ]
    }
   ],
   "source": [
    "# Gather sum of all columns\n",
    "stat_totals = rays_df.apply(sum, axis=0)\n",
    "print(stat_totals)"
   ]
  },
  {
   "cell_type": "code",
   "execution_count": 17,
   "metadata": {},
   "outputs": [
    {
     "output_type": "stream",
     "name": "stdout",
     "text": [
      "0    1274\n1    1321\n2    1451\n3    1557\n4    1445\ndtype: int64\n"
     ]
    }
   ],
   "source": [
    "# Gather total runs scored in all games per year\n",
    "total_runs_scored = rays_df[['RS', 'RA']].apply(sum, axis=1)\n",
    "print(total_runs_scored)"
   ]
  },
  {
   "cell_type": "code",
   "execution_count": 18,
   "metadata": {},
   "outputs": [
    {
     "output_type": "stream",
     "name": "stdout",
     "text": [
      "0     No\n1    Yes\n2    Yes\n3     No\n4    Yes\ndtype: object\n"
     ]
    }
   ],
   "source": [
    "def text_playoffs(num_playoffs): \n",
    "    if num_playoffs == 1:\n",
    "        return 'Yes'\n",
    "    else:\n",
    "        return 'No' \n",
    "        \n",
    "# Convert numeric playoffs to text by applying text_playoffs()\n",
    "textual_playoffs = rays_df.apply(lambda row: text_playoffs(row['Playoffs']), axis=1)\n",
    "print(textual_playoffs)"
   ]
  },
  {
   "source": [
    "# Settle a debate with .apply()\n",
    "Word has gotten to the Arizona Diamondbacks about your awesome analytics skills. They'd like for you to help settle a debate amongst the managers. One manager claims that the team has made the playoffs every year they have had a win percentage of 0.50 or greater. Another manager says this is not true.\n",
    "\n",
    "Let's use the below function and the .apply() method to see which manager is correct.\n",
    "\n",
    "```python\n",
    "def calc_win_perc(wins, games_played):\n",
    "    win_perc = wins / games_played\n",
    "    return np.round(win_perc,2)\n",
    "```    \n",
    "\n",
    "A DataFrame named dbacks_df has been loaded into your session."
   ],
   "cell_type": "markdown",
   "metadata": {}
  },
  {
   "cell_type": "code",
   "execution_count": 19,
   "metadata": {},
   "outputs": [
    {
     "output_type": "execute_result",
     "data": {
      "text/plain": [
       "   Team League  Year   RS   RA    W    G  Playoffs\n",
       "0   ARI     NL  2012  734  688   81  162         0\n",
       "1   ARI     NL  2011  731  662   94  162         1\n",
       "2   ARI     NL  2010  713  836   65  162         0\n",
       "3   ARI     NL  2009  720  782   70  162         0\n",
       "4   ARI     NL  2008  720  706   82  162         0\n",
       "5   ARI     NL  2007  712  732   90  162         1\n",
       "6   ARI     NL  2006  773  788   76  162         0\n",
       "7   ARI     NL  2005  696  856   77  162         0\n",
       "8   ARI     NL  2004  615  899   51  162         0\n",
       "9   ARI     NL  2003  717  685   84  162         0\n",
       "10  ARI     NL  2002  819  674   98  162         1\n",
       "11  ARI     NL  2001  818  677   92  162         1\n",
       "12  ARI     NL  2000  792  754   85  162         0\n",
       "13  ARI     NL  1999  908  676  100  162         1\n",
       "14  ARI     NL  1998  665  812   65  162         0"
      ],
      "text/html": "<div>\n<style scoped>\n    .dataframe tbody tr th:only-of-type {\n        vertical-align: middle;\n    }\n\n    .dataframe tbody tr th {\n        vertical-align: top;\n    }\n\n    .dataframe thead th {\n        text-align: right;\n    }\n</style>\n<table border=\"1\" class=\"dataframe\">\n  <thead>\n    <tr style=\"text-align: right;\">\n      <th></th>\n      <th>Team</th>\n      <th>League</th>\n      <th>Year</th>\n      <th>RS</th>\n      <th>RA</th>\n      <th>W</th>\n      <th>G</th>\n      <th>Playoffs</th>\n    </tr>\n  </thead>\n  <tbody>\n    <tr>\n      <th>0</th>\n      <td>ARI</td>\n      <td>NL</td>\n      <td>2012</td>\n      <td>734</td>\n      <td>688</td>\n      <td>81</td>\n      <td>162</td>\n      <td>0</td>\n    </tr>\n    <tr>\n      <th>1</th>\n      <td>ARI</td>\n      <td>NL</td>\n      <td>2011</td>\n      <td>731</td>\n      <td>662</td>\n      <td>94</td>\n      <td>162</td>\n      <td>1</td>\n    </tr>\n    <tr>\n      <th>2</th>\n      <td>ARI</td>\n      <td>NL</td>\n      <td>2010</td>\n      <td>713</td>\n      <td>836</td>\n      <td>65</td>\n      <td>162</td>\n      <td>0</td>\n    </tr>\n    <tr>\n      <th>3</th>\n      <td>ARI</td>\n      <td>NL</td>\n      <td>2009</td>\n      <td>720</td>\n      <td>782</td>\n      <td>70</td>\n      <td>162</td>\n      <td>0</td>\n    </tr>\n    <tr>\n      <th>4</th>\n      <td>ARI</td>\n      <td>NL</td>\n      <td>2008</td>\n      <td>720</td>\n      <td>706</td>\n      <td>82</td>\n      <td>162</td>\n      <td>0</td>\n    </tr>\n    <tr>\n      <th>5</th>\n      <td>ARI</td>\n      <td>NL</td>\n      <td>2007</td>\n      <td>712</td>\n      <td>732</td>\n      <td>90</td>\n      <td>162</td>\n      <td>1</td>\n    </tr>\n    <tr>\n      <th>6</th>\n      <td>ARI</td>\n      <td>NL</td>\n      <td>2006</td>\n      <td>773</td>\n      <td>788</td>\n      <td>76</td>\n      <td>162</td>\n      <td>0</td>\n    </tr>\n    <tr>\n      <th>7</th>\n      <td>ARI</td>\n      <td>NL</td>\n      <td>2005</td>\n      <td>696</td>\n      <td>856</td>\n      <td>77</td>\n      <td>162</td>\n      <td>0</td>\n    </tr>\n    <tr>\n      <th>8</th>\n      <td>ARI</td>\n      <td>NL</td>\n      <td>2004</td>\n      <td>615</td>\n      <td>899</td>\n      <td>51</td>\n      <td>162</td>\n      <td>0</td>\n    </tr>\n    <tr>\n      <th>9</th>\n      <td>ARI</td>\n      <td>NL</td>\n      <td>2003</td>\n      <td>717</td>\n      <td>685</td>\n      <td>84</td>\n      <td>162</td>\n      <td>0</td>\n    </tr>\n    <tr>\n      <th>10</th>\n      <td>ARI</td>\n      <td>NL</td>\n      <td>2002</td>\n      <td>819</td>\n      <td>674</td>\n      <td>98</td>\n      <td>162</td>\n      <td>1</td>\n    </tr>\n    <tr>\n      <th>11</th>\n      <td>ARI</td>\n      <td>NL</td>\n      <td>2001</td>\n      <td>818</td>\n      <td>677</td>\n      <td>92</td>\n      <td>162</td>\n      <td>1</td>\n    </tr>\n    <tr>\n      <th>12</th>\n      <td>ARI</td>\n      <td>NL</td>\n      <td>2000</td>\n      <td>792</td>\n      <td>754</td>\n      <td>85</td>\n      <td>162</td>\n      <td>0</td>\n    </tr>\n    <tr>\n      <th>13</th>\n      <td>ARI</td>\n      <td>NL</td>\n      <td>1999</td>\n      <td>908</td>\n      <td>676</td>\n      <td>100</td>\n      <td>162</td>\n      <td>1</td>\n    </tr>\n    <tr>\n      <th>14</th>\n      <td>ARI</td>\n      <td>NL</td>\n      <td>1998</td>\n      <td>665</td>\n      <td>812</td>\n      <td>65</td>\n      <td>162</td>\n      <td>0</td>\n    </tr>\n  </tbody>\n</table>\n</div>"
     },
     "metadata": {},
     "execution_count": 19
    }
   ],
   "source": [
    "dbacks_df = pd.read_csv('dbacks.csv')\n",
    "dbacks_df"
   ]
  },
  {
   "cell_type": "code",
   "execution_count": 20,
   "metadata": {},
   "outputs": [
    {
     "output_type": "stream",
     "name": "stdout",
     "text": [
      "  Team League  Year   RS   RA   W    G  Playoffs\n0  ARI     NL  2012  734  688  81  162         0\n1  ARI     NL  2011  731  662  94  162         1\n2  ARI     NL  2010  713  836  65  162         0\n3  ARI     NL  2009  720  782  70  162         0\n4  ARI     NL  2008  720  706  82  162         0\n"
     ]
    }
   ],
   "source": [
    "# Display the first five rows of the DataFrame\n",
    "print(dbacks_df.head())"
   ]
  },
  {
   "cell_type": "code",
   "execution_count": 21,
   "metadata": {},
   "outputs": [
    {
     "output_type": "stream",
     "name": "stdout",
     "text": [
      "0     0.50\n1     0.58\n2     0.40\n3     0.43\n4     0.51\n5     0.56\n6     0.47\n7     0.48\n8     0.31\n9     0.52\n10    0.60\n11    0.57\n12    0.52\n13    0.62\n14    0.40\ndtype: float64 \n\n"
     ]
    }
   ],
   "source": [
    "import numpy as np\n",
    "\n",
    "def calc_win_perc(wins, games_played):\n",
    "    win_perc = wins / games_played\n",
    "    return np.round(win_perc,2)\n",
    "\n",
    "# Create a win percentage Series \n",
    "win_percs = dbacks_df.apply(lambda row: calc_win_perc(row['W'], row['G']), axis=1)\n",
    "print(win_percs, '\\n')"
   ]
  },
  {
   "cell_type": "code",
   "execution_count": 22,
   "metadata": {},
   "outputs": [
    {
     "output_type": "stream",
     "name": "stdout",
     "text": [
      "   Team League  Year   RS   RA    W    G  Playoffs    WP\n0   ARI     NL  2012  734  688   81  162         0  0.50\n1   ARI     NL  2011  731  662   94  162         1  0.58\n2   ARI     NL  2010  713  836   65  162         0  0.40\n3   ARI     NL  2009  720  782   70  162         0  0.43\n4   ARI     NL  2008  720  706   82  162         0  0.51\n5   ARI     NL  2007  712  732   90  162         1  0.56\n6   ARI     NL  2006  773  788   76  162         0  0.47\n7   ARI     NL  2005  696  856   77  162         0  0.48\n8   ARI     NL  2004  615  899   51  162         0  0.31\n9   ARI     NL  2003  717  685   84  162         0  0.52\n10  ARI     NL  2002  819  674   98  162         1  0.60\n11  ARI     NL  2001  818  677   92  162         1  0.57\n12  ARI     NL  2000  792  754   85  162         0  0.52\n13  ARI     NL  1999  908  676  100  162         1  0.62\n14  ARI     NL  1998  665  812   65  162         0  0.40 \n\n   Team League  Year   RS   RA    W    G  Playoffs    WP\n0   ARI     NL  2012  734  688   81  162         0  0.50\n1   ARI     NL  2011  731  662   94  162         1  0.58\n4   ARI     NL  2008  720  706   82  162         0  0.51\n5   ARI     NL  2007  712  732   90  162         1  0.56\n9   ARI     NL  2003  717  685   84  162         0  0.52\n10  ARI     NL  2002  819  674   98  162         1  0.60\n11  ARI     NL  2001  818  677   92  162         1  0.57\n12  ARI     NL  2000  792  754   85  162         0  0.52\n13  ARI     NL  1999  908  676  100  162         1  0.62\n"
     ]
    }
   ],
   "source": [
    "# Append a new column to dbacks_df\n",
    "dbacks_df['WP'] = win_percs\n",
    "print(dbacks_df, '\\n')\n",
    "\n",
    "# Display dbacks_df where WP is greater than 0.50\n",
    "print(dbacks_df[dbacks_df['WP'] >= 0.50])"
   ]
  },
  {
   "source": [
    "# Replacing .iloc with underlying arrays\n",
    "Now that you have a better grasp on a DataFrame's internals let's update one of your previous analyses to leverage a DataFrame's underlying arrays. You'll revisit the win percentage calculations you performed row by row with the .iloc method:\n",
    "\n",
    "```python\n",
    "def calc_win_perc(wins, games_played):\n",
    "    win_perc = wins / games_played\n",
    "    return np.round(win_perc,2)\n",
    "\n",
    "win_percs_list = []\n",
    "\n",
    "for i in range(len(baseball_df)):\n",
    "    row = baseball_df.iloc[i]\n",
    "\n",
    "    wins = row['W']\n",
    "    games_played = row['G']\n",
    "\n",
    "    win_perc = calc_win_perc(wins, games_played)\n",
    "\n",
    "    win_percs_list.append(win_perc)\n",
    "\n",
    "baseball_df['WP'] = win_percs_list\n",
    "```\n",
    "Let's update this analysis to use arrays instead of the .iloc method. A DataFrame (baseball_df) has been loaded into your session."
   ],
   "cell_type": "markdown",
   "metadata": {}
  },
  {
   "cell_type": "code",
   "execution_count": 23,
   "metadata": {},
   "outputs": [],
   "source": [
    "import numpy as np \n",
    "import pandas as pd \n",
    "\n",
    "baseball_df = pd.read_csv('baseball_stats.csv')"
   ]
  },
  {
   "cell_type": "code",
   "execution_count": 24,
   "metadata": {},
   "outputs": [
    {
     "output_type": "execute_result",
     "data": {
      "text/plain": [
       "  Team League  Year   RS   RA   W    OBP    SLG     BA  Playoffs  RankSeason  \\\n",
       "0  ARI     NL  2012  734  688  81  0.328  0.418  0.259         0         NaN   \n",
       "1  ATL     NL  2012  700  600  94  0.320  0.389  0.247         1         4.0   \n",
       "2  BAL     AL  2012  712  705  93  0.311  0.417  0.247         1         5.0   \n",
       "3  BOS     AL  2012  734  806  69  0.315  0.415  0.260         0         NaN   \n",
       "4  CHC     NL  2012  613  759  61  0.302  0.378  0.240         0         NaN   \n",
       "\n",
       "   RankPlayoffs    G   OOBP   OSLG  \n",
       "0           NaN  162  0.317  0.415  \n",
       "1           5.0  162  0.306  0.378  \n",
       "2           4.0  162  0.315  0.403  \n",
       "3           NaN  162  0.331  0.428  \n",
       "4           NaN  162  0.335  0.424  "
      ],
      "text/html": "<div>\n<style scoped>\n    .dataframe tbody tr th:only-of-type {\n        vertical-align: middle;\n    }\n\n    .dataframe tbody tr th {\n        vertical-align: top;\n    }\n\n    .dataframe thead th {\n        text-align: right;\n    }\n</style>\n<table border=\"1\" class=\"dataframe\">\n  <thead>\n    <tr style=\"text-align: right;\">\n      <th></th>\n      <th>Team</th>\n      <th>League</th>\n      <th>Year</th>\n      <th>RS</th>\n      <th>RA</th>\n      <th>W</th>\n      <th>OBP</th>\n      <th>SLG</th>\n      <th>BA</th>\n      <th>Playoffs</th>\n      <th>RankSeason</th>\n      <th>RankPlayoffs</th>\n      <th>G</th>\n      <th>OOBP</th>\n      <th>OSLG</th>\n    </tr>\n  </thead>\n  <tbody>\n    <tr>\n      <th>0</th>\n      <td>ARI</td>\n      <td>NL</td>\n      <td>2012</td>\n      <td>734</td>\n      <td>688</td>\n      <td>81</td>\n      <td>0.328</td>\n      <td>0.418</td>\n      <td>0.259</td>\n      <td>0</td>\n      <td>NaN</td>\n      <td>NaN</td>\n      <td>162</td>\n      <td>0.317</td>\n      <td>0.415</td>\n    </tr>\n    <tr>\n      <th>1</th>\n      <td>ATL</td>\n      <td>NL</td>\n      <td>2012</td>\n      <td>700</td>\n      <td>600</td>\n      <td>94</td>\n      <td>0.320</td>\n      <td>0.389</td>\n      <td>0.247</td>\n      <td>1</td>\n      <td>4.0</td>\n      <td>5.0</td>\n      <td>162</td>\n      <td>0.306</td>\n      <td>0.378</td>\n    </tr>\n    <tr>\n      <th>2</th>\n      <td>BAL</td>\n      <td>AL</td>\n      <td>2012</td>\n      <td>712</td>\n      <td>705</td>\n      <td>93</td>\n      <td>0.311</td>\n      <td>0.417</td>\n      <td>0.247</td>\n      <td>1</td>\n      <td>5.0</td>\n      <td>4.0</td>\n      <td>162</td>\n      <td>0.315</td>\n      <td>0.403</td>\n    </tr>\n    <tr>\n      <th>3</th>\n      <td>BOS</td>\n      <td>AL</td>\n      <td>2012</td>\n      <td>734</td>\n      <td>806</td>\n      <td>69</td>\n      <td>0.315</td>\n      <td>0.415</td>\n      <td>0.260</td>\n      <td>0</td>\n      <td>NaN</td>\n      <td>NaN</td>\n      <td>162</td>\n      <td>0.331</td>\n      <td>0.428</td>\n    </tr>\n    <tr>\n      <th>4</th>\n      <td>CHC</td>\n      <td>NL</td>\n      <td>2012</td>\n      <td>613</td>\n      <td>759</td>\n      <td>61</td>\n      <td>0.302</td>\n      <td>0.378</td>\n      <td>0.240</td>\n      <td>0</td>\n      <td>NaN</td>\n      <td>NaN</td>\n      <td>162</td>\n      <td>0.335</td>\n      <td>0.424</td>\n    </tr>\n  </tbody>\n</table>\n</div>"
     },
     "metadata": {},
     "execution_count": 24
    }
   ],
   "source": [
    "baseball_df.head()"
   ]
  },
  {
   "cell_type": "code",
   "execution_count": 25,
   "metadata": {},
   "outputs": [],
   "source": [
    "def calc_win_perc(wins, games_played):\n",
    "    win_perc = wins / games_played\n",
    "    return np.round(win_perc,2)\n",
    "\n",
    "win_percs_list = []\n",
    "\n",
    "for i in range(len(baseball_df)):\n",
    "    row = baseball_df.iloc[i]\n",
    "\n",
    "    wins = row['W']\n",
    "    games_played = row['G']\n",
    "\n",
    "    win_perc = calc_win_perc(wins, games_played)\n",
    "\n",
    "    win_percs_list.append(win_perc)\n",
    "\n",
    "baseball_df['WP'] = win_percs_list\n",
    "\n",
    "# Use the W array and G array to calculate win percentages\n",
    "win_percs_np = calc_win_perc(baseball_df['W'], baseball_df['G'])"
   ]
  },
  {
   "cell_type": "code",
   "execution_count": 26,
   "metadata": {},
   "outputs": [
    {
     "output_type": "stream",
     "name": "stdout",
     "text": [
      "  Team League  Year   RS   RA   W    OBP    SLG     BA  Playoffs  RankSeason  \\\n0  ARI     NL  2012  734  688  81  0.328  0.418  0.259         0         NaN   \n1  ATL     NL  2012  700  600  94  0.320  0.389  0.247         1         4.0   \n2  BAL     AL  2012  712  705  93  0.311  0.417  0.247         1         5.0   \n3  BOS     AL  2012  734  806  69  0.315  0.415  0.260         0         NaN   \n4  CHC     NL  2012  613  759  61  0.302  0.378  0.240         0         NaN   \n\n   RankPlayoffs    G   OOBP   OSLG    WP  \n0           NaN  162  0.317  0.415  0.50  \n1           5.0  162  0.306  0.378  0.58  \n2           4.0  162  0.315  0.403  0.57  \n3           NaN  162  0.331  0.428  0.43  \n4           NaN  162  0.335  0.424  0.38  \n"
     ]
    }
   ],
   "source": [
    "# Use the W array and G array to calculate win percentages\n",
    "win_percs_np = calc_win_perc(baseball_df['W'].values, baseball_df['G'].values)\n",
    "\n",
    "# Append a new column to baseball_df that stores all win percentages\n",
    "baseball_df['WP'] = win_percs_np\n",
    "\n",
    "print(baseball_df.head())"
   ]
  },
  {
   "source": [
    "# Bringing it all together: Predict win percentage\n",
    "A pandas DataFrame (baseball_df) has been loaded into your session. For convenience, a dictionary describing each column within baseball_df has been printed into your console. You can reference these descriptions throughout the exercise.\n",
    "\n",
    "You'd like to attempt to predict a team's win percentage for a given season by using the team's total runs scored in a season ('RS') and total runs allowed in a season ('RA') with the following function:\n",
    "\n",
    "```python\n",
    "def predict_win_perc(RS, RA):\n",
    "    prediction = RS ** 2 / (RS ** 2 + RA ** 2)\n",
    "    return np.round(prediction, 2)\n",
    "```\n",
    "\n",
    "Let's compare the approaches you've learned to calculate a predicted win percentage for each season (or row) in your DataFrame."
   ],
   "cell_type": "markdown",
   "metadata": {}
  },
  {
   "cell_type": "code",
   "execution_count": 27,
   "metadata": {},
   "outputs": [
    {
     "output_type": "stream",
     "name": "stdout",
     "text": [
      "  Team League  Year   RS   RA   W    OBP    SLG     BA  Playoffs  RankSeason  \\\n0  ARI     NL  2012  734  688  81  0.328  0.418  0.259         0         NaN   \n1  ATL     NL  2012  700  600  94  0.320  0.389  0.247         1         4.0   \n2  BAL     AL  2012  712  705  93  0.311  0.417  0.247         1         5.0   \n3  BOS     AL  2012  734  806  69  0.315  0.415  0.260         0         NaN   \n4  CHC     NL  2012  613  759  61  0.302  0.378  0.240         0         NaN   \n\n   RankPlayoffs    G   OOBP   OSLG    WP  WP_preds  \n0           NaN  162  0.317  0.415  0.50      0.53  \n1           5.0  162  0.306  0.378  0.58      0.58  \n2           4.0  162  0.315  0.403  0.57      0.50  \n3           NaN  162  0.331  0.428  0.43      0.45  \n4           NaN  162  0.335  0.424  0.38      0.39  \n"
     ]
    }
   ],
   "source": [
    "win_perc_preds_loop = []\n",
    "\n",
    "def predict_win_perc(RS, RA):\n",
    "    prediction = RS ** 2 / (RS ** 2 + RA ** 2)\n",
    "    return np.round(prediction, 2)\n",
    "\n",
    "# Use a loop and .itertuples() to collect each row's predicted win percentage\n",
    "for row in baseball_df.itertuples():\n",
    "    runs_scored = row.RS\n",
    "    runs_allowed = row.RA\n",
    "    win_perc_pred = predict_win_perc(runs_scored, runs_allowed)\n",
    "    win_perc_preds_loop.append(win_perc_pred)\n",
    "\n",
    "# Apply predict_win_perc to each row of the DataFrame\n",
    "win_perc_preds_apply = baseball_df.apply(lambda row: predict_win_perc(row['RS'], row['RA']), axis=1)\n",
    "\n",
    "# Calculate the win percentage predictions using NumPy arrays\n",
    "win_perc_preds_np = predict_win_perc(baseball_df['RS'].values, baseball_df['RA'].values)\n",
    "baseball_df['WP_preds'] = win_perc_preds_np\n",
    "print(baseball_df.head())"
   ]
  },
  {
   "cell_type": "code",
   "execution_count": null,
   "metadata": {},
   "outputs": [],
   "source": []
  }
 ]
}