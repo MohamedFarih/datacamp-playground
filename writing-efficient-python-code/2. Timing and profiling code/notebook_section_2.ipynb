{
 "metadata": {
  "language_info": {
   "codemirror_mode": {
    "name": "ipython",
    "version": 3
   },
   "file_extension": ".py",
   "mimetype": "text/x-python",
   "name": "python",
   "nbconvert_exporter": "python",
   "pygments_lexer": "ipython3",
   "version": "3.7.9-final"
  },
  "orig_nbformat": 2,
  "kernelspec": {
   "name": "python3",
   "display_name": "Python 3",
   "language": "python"
  }
 },
 "nbformat": 4,
 "nbformat_minor": 2,
 "cells": [
  {
   "cell_type": "code",
   "execution_count": 1,
   "metadata": {},
   "outputs": [],
   "source": [
    "from data import *"
   ]
  },
  {
   "source": [
    "# Using %timeit: your turn!\n",
    "You'd like to create a list of integers from 0 to 50 using the range() function. However, you are unsure whether using list comprehension or unpacking the range object into a list is faster. Let's use %timeit to find the best implementation.\n",
    "\n",
    "For your convenience, a reference table of time orders of magnitude is provided below (faster at the top).\n",
    "\n",
    "|symbol\t| name\t| unit (s) |\n",
    "|-------|-------|----------|\n",
    "|ns\t|nanosecond\t|10^9|\n",
    "|µs (us)\t|microsecond|\t10^6|\n",
    "|ms\t|millisecond|\t10^3|\n",
    "|s\t|second\t|10^0|"
   ],
   "cell_type": "markdown",
   "metadata": {}
  },
  {
   "cell_type": "code",
   "execution_count": 2,
   "metadata": {},
   "outputs": [
    {
     "output_type": "stream",
     "name": "stdout",
     "text": [
      "[0, 1, 2, 3, 4, 5, 6, 7, 8, 9, 10, 11, 12, 13, 14, 15, 16, 17, 18, 19, 20, 21, 22, 23, 24, 25, 26, 27, 28, 29, 30, 31, 32, 33, 34, 35, 36, 37, 38, 39, 40, 41, 42, 43, 44, 45, 46, 47, 48, 49, 50]\n"
     ]
    }
   ],
   "source": [
    "# Create a list of integers (0-50) using list comprehension\n",
    "nums_list_comp = [num for num in range(0,51)]\n",
    "print(nums_list_comp)"
   ]
  },
  {
   "cell_type": "code",
   "execution_count": 3,
   "metadata": {},
   "outputs": [
    {
     "output_type": "stream",
     "name": "stdout",
     "text": [
      "[0, 1, 2, 3, 4, 5, 6, 7, 8, 9, 10, 11, 12, 13, 14, 15, 16, 17, 18, 19, 20, 21, 22, 23, 24, 25, 26, 27, 28, 29, 30, 31, 32, 33, 34, 35, 36, 37, 38, 39, 40, 41, 42, 43, 44, 45, 46, 47, 48, 49, 50]\n"
     ]
    }
   ],
   "source": [
    "# Create a list of integers (0-50) by unpacking range\n",
    "nums_unpack = [*range(51)]\n",
    "print(nums_unpack)"
   ]
  },
  {
   "source": [
    "## Question\n",
    "Use %timeit within your IPython console (i.e. not within the script.py window) to compare the runtimes for creating a list of integers from 0 to 50 using list comprehension vs. unpacking the range object. Don't include the print() statements when timing.\n",
    "\n",
    "Which method was faster?\n",
    "\n",
    "Unpacking the range object was faster than list comprehension."
   ],
   "cell_type": "markdown",
   "metadata": {}
  },
  {
   "cell_type": "code",
   "execution_count": 4,
   "metadata": {},
   "outputs": [
    {
     "output_type": "stream",
     "name": "stdout",
     "text": [
      "1.48 µs ± 217 ns per loop (mean ± std. dev. of 7 runs, 1000000 loops each)\n"
     ]
    }
   ],
   "source": [
    "%timeit [num for num in range(0,51)]"
   ]
  },
  {
   "cell_type": "code",
   "execution_count": 5,
   "metadata": {},
   "outputs": [
    {
     "output_type": "stream",
     "name": "stdout",
     "text": [
      "547 ns ± 34.9 ns per loop (mean ± std. dev. of 7 runs, 1000000 loops each)\n"
     ]
    }
   ],
   "source": [
    "%timeit [*range(51)]"
   ]
  },
  {
   "source": [
    "# Using %timeit: specifying number of runs and loops\n",
    "A list of 480 superheroes has been loaded into your session (called heroes). You'd like to analyze the runtime for converting this heroes list into a set. Instead of relying on the default settings for %timeit, you'd like to only use 5 runs and 25 loops per each run.\n",
    "\n",
    "What is the correct syntax when using %timeit and only using 5 runs with 25 loops per each run?\n",
    "\n",
    "%timeit -r5 -n25 set(heroes)"
   ],
   "cell_type": "markdown",
   "metadata": {}
  },
  {
   "cell_type": "code",
   "execution_count": 6,
   "metadata": {},
   "outputs": [
    {
     "output_type": "stream",
     "name": "stdout",
     "text": [
      "8.87 µs ± 954 ns per loop (mean ± std. dev. of 5 runs, 25 loops each)\n"
     ]
    }
   ],
   "source": [
    "%timeit -r5 -n25 set(heroes)"
   ]
  },
  {
   "source": [
    "# Using %timeit: formal name or literal syntax\n",
    "Python allows you to create data structures using either a formal name or a literal syntax. In this exercise, you'll explore how using a literal syntax for creating a data structure can speed up runtimes.\n",
    "\n",
    "|data structure\t|formal name|\tliteral syntax|\n",
    "|---------------|-----------|-----------------|\n",
    "|list\t|list()|\t[]|\n",
    "|dictionary\t|dict()|\t{}|\n",
    "|tuple\t|tuple()|\t()|"
   ],
   "cell_type": "markdown",
   "metadata": {}
  },
  {
   "cell_type": "code",
   "execution_count": 7,
   "metadata": {},
   "outputs": [
    {
     "output_type": "stream",
     "name": "stdout",
     "text": [
      "[]\n[]\n"
     ]
    }
   ],
   "source": [
    "# Create a list using the formal name\n",
    "formal_list = list()\n",
    "print(formal_list)\n",
    "\n",
    "# Create a list using the literal syntax\n",
    "literal_list = []\n",
    "print(literal_list)"
   ]
  },
  {
   "cell_type": "code",
   "execution_count": 8,
   "metadata": {},
   "outputs": [
    {
     "output_type": "stream",
     "name": "stdout",
     "text": [
      "<class 'list'>\n<class 'list'>\n"
     ]
    }
   ],
   "source": [
    "# Print out the type of formal_list\n",
    "print(type(formal_list))\n",
    "\n",
    "# Print out the type of literal_list\n",
    "print(type(literal_list))"
   ]
  },
  {
   "cell_type": "code",
   "execution_count": 9,
   "metadata": {},
   "outputs": [
    {
     "output_type": "stream",
     "name": "stdout",
     "text": [
      "79.6 ns ± 9.92 ns per loop (mean ± std. dev. of 7 runs, 10000000 loops each)\n"
     ]
    }
   ],
   "source": [
    "%timeit list()"
   ]
  },
  {
   "cell_type": "code",
   "execution_count": 10,
   "metadata": {},
   "outputs": [
    {
     "output_type": "stream",
     "name": "stdout",
     "text": [
      "20 ns ± 1.28 ns per loop (mean ± std. dev. of 7 runs, 100000000 loops each)\n"
     ]
    }
   ],
   "source": [
    "%timeit []"
   ]
  },
  {
   "source": [
    "## Question\n",
    "Use %timeit in your IPython console to compare runtimes between creating a list using the formal name (list()) and the literal syntax ([]). Don't include the print() statements when timing.\n",
    "\n",
    "Which naming convention is faster?\n",
    "\n",
    "Using the literal syntax ([]) to create a list is faster."
   ],
   "cell_type": "markdown",
   "metadata": {}
  },
  {
   "source": [
    "# Using cell magic mode (%%timeit)\n",
    "From here on out, you'll be working with a superheroes dataset. For this exercise, a list of each hero's weight in kilograms (called wts) is loaded into your session. You'd like to convert these weights into pounds.\n",
    "\n",
    "You could accomplish this using the below for loop:\n",
    "\n",
    "```python\n",
    "hero_wts_lbs = []\n",
    "for wt in wts:\n",
    "    hero_wts_lbs.append(wt * 2.20462)\n",
    "```\n",
    "\n",
    "Or you could use a numpy array to accomplish this task:\n",
    "\n",
    "```python\n",
    "wts_np = np.array(wts)\n",
    "hero_wts_lbs_np = wts_np * 2.20462\n",
    "```\n",
    "\n",
    "Use %%timeit in your IPython console to compare runtimes between these two approaches. Make sure to press SHIFT+ENTER after the magic command to add a new line before writing the code you wish to time. After you've finished coding, answer the following question:\n",
    "\n",
    "Which of the above techniques is faster?\n",
    "\n",
    "The numpy technique was faster."
   ],
   "cell_type": "markdown",
   "metadata": {}
  },
  {
   "cell_type": "code",
   "execution_count": 11,
   "metadata": {},
   "outputs": [],
   "source": [
    "def loop_technique():\n",
    "    hero_wts_lbs = []\n",
    "    for wt in wts:\n",
    "        hero_wts_lbs.append(wt * 2.20462)"
   ]
  },
  {
   "cell_type": "code",
   "execution_count": 12,
   "metadata": {},
   "outputs": [],
   "source": [
    "import numpy as np \n",
    "\n",
    "def numpy_technique():\n",
    "    wts_np = np.array(wts)\n",
    "    hero_wts_lbs_np = wts_np * 2.20462"
   ]
  },
  {
   "cell_type": "code",
   "execution_count": 13,
   "metadata": {},
   "outputs": [
    {
     "output_type": "stream",
     "name": "stdout",
     "text": [
      "36.2 µs ± 1.69 µs per loop (mean ± std. dev. of 7 runs, 10000 loops each)\n"
     ]
    }
   ],
   "source": [
    "%timeit loop_technique()"
   ]
  },
  {
   "cell_type": "code",
   "execution_count": 14,
   "metadata": {},
   "outputs": [
    {
     "output_type": "stream",
     "name": "stdout",
     "text": [
      "15.5 µs ± 180 ns per loop (mean ± std. dev. of 7 runs, 100000 loops each)\n"
     ]
    }
   ],
   "source": [
    "%timeit numpy_technique()"
   ]
  },
  {
   "source": [
    "# Pop quiz: steps for using %lprun\n",
    "Below is the convert_units() function, which converts the heights and weights of our favorite superheroes from metric units to Imperial units.\n",
    "\n",
    "```python\n",
    "def convert_units(heroes, heights, weights):\n",
    "\n",
    "    new_hts = [ht * 0.39370  for ht in heights]\n",
    "    new_wts = [wt * 2.20462  for wt in weights]\n",
    "\n",
    "    hero_data = {}\n",
    "\n",
    "    for i,hero in enumerate(heroes):\n",
    "        hero_data[hero] = (new_hts[i], new_wts[i])\n",
    "\n",
    "    return hero_data\n",
    "```\n",
    "\n",
    "Suppose you have a list of superheroes (named heroes) along with each hero's height (in centimeters) and weight (in kilograms) loaded as NumPy arrays (named hts and wts respectively).\n",
    "\n",
    "What are the necessary steps you need to take in order to profile the convert_units() function acting on your superheroes data if you'd like to see line-by-line runtimes?\n",
    "\n",
    "The first and second options from above are necessary\n",
    "\n",
    "- Use %load_ext line_profiler to load the line_profiler within your IPython session.\n",
    "- Use %lprun -f convert_units convert_units(heroes, hts, wts) to get line-by-line runtimes."
   ],
   "cell_type": "markdown",
   "metadata": {}
  },
  {
   "cell_type": "code",
   "execution_count": 15,
   "metadata": {},
   "outputs": [],
   "source": [
    "def convert_units(heroes, heights, weights):\n",
    "\n",
    "    new_hts = [ht * 0.39370  for ht in heights]\n",
    "    new_wts = [wt * 2.20462  for wt in weights]\n",
    "\n",
    "    hero_data = {}\n",
    "\n",
    "    for i,hero in enumerate(heroes):\n",
    "        hero_data[hero] = (new_hts[i], new_wts[i])\n",
    "\n",
    "    return hero_data"
   ]
  },
  {
   "cell_type": "code",
   "execution_count": 16,
   "metadata": {},
   "outputs": [],
   "source": [
    "%load_ext line_profiler"
   ]
  },
  {
   "cell_type": "code",
   "execution_count": 17,
   "metadata": {},
   "outputs": [
    {
     "output_type": "stream",
     "text": [
      "Timer unit: 1e-07 s\n",
      "\n",
      "Total time: 0.0008973 s\n",
      "File: <ipython-input-15-d844055423a7>\n",
      "Function: convert_units at line 1\n",
      "\n",
      "Line #      Hits         Time  Per Hit   % Time  Line Contents\n",
      "==============================================================\n",
      "     1                                           def convert_units(heroes, heights, weights):\n",
      "     2                                           \n",
      "     3         1        868.0    868.0      9.7      new_hts = [ht * 0.39370  for ht in heights]\n",
      "     4         1        798.0    798.0      8.9      new_wts = [wt * 2.20462  for wt in weights]\n",
      "     5                                           \n",
      "     6         1          6.0      6.0      0.1      hero_data = {}\n",
      "     7                                           \n",
      "     8       481       3361.0      7.0     37.5      for i,hero in enumerate(heroes):\n",
      "     9       480       3930.0      8.2     43.8          hero_data[hero] = (new_hts[i], new_wts[i])\n",
      "    10                                           \n",
      "    11         1         10.0     10.0      0.1      return hero_data"
     ],
     "name": "stdout"
    }
   ],
   "source": [
    "%lprun -f convert_units convert_units(heroes, hts, wts)"
   ]
  },
  {
   "cell_type": "code",
   "execution_count": 18,
   "metadata": {},
   "outputs": [
    {
     "output_type": "stream",
     "name": "stdout",
     "text": [
      "106 µs ± 6.95 µs per loop (mean ± std. dev. of 7 runs, 10000 loops each)\n"
     ]
    }
   ],
   "source": [
    "%timeit convert_units(heroes, hts, wts)"
   ]
  },
  {
   "source": [
    "# Using %lprun: spot bottlenecks\n",
    "Profiling a function allows you to dig deeper into the function's source code and potentially spot bottlenecks. When you see certain lines of code taking up the majority of the function's runtime, it is an indication that you may want to deploy a different, more efficient technique.\n",
    "\n",
    "Lets dig deeper into the convert_units() function.\n",
    "\n",
    "```python\n",
    "def convert_units(heroes, heights, weights):\n",
    "\n",
    "    new_hts = [ht * 0.39370  for ht in heights]\n",
    "    new_wts = [wt * 2.20462  for wt in weights]\n",
    "\n",
    "    hero_data = {}\n",
    "\n",
    "    for i,hero in enumerate(heroes):\n",
    "        hero_data[hero] = (new_hts[i], new_wts[i])\n",
    "\n",
    "    return hero_data\n",
    "```\n",
    "\n",
    "Load the line_profiler package into your IPython session. Then, use %lprun to profile the convert_units() function acting on your superheroes data. Remember to use the special syntax for working with %lprun (you'll have to provide a -f flag specifying the function you'd like to profile).\n",
    "\n",
    "The convert_units() function, heroes list, hts array, and wts array have been loaded into your session. After you've finished coding, answer the following question:\n",
    "\n",
    "What percentage of time is spent on the new_hts list comprehension line of code relative to the total amount of time spent in the convert_units() function?\n",
    "\n"
   ],
   "cell_type": "markdown",
   "metadata": {}
  },
  {
   "cell_type": "code",
   "execution_count": 19,
   "metadata": {},
   "outputs": [],
   "source": [
    "def convert_units_broadcast(heroes, heights, weights):\n",
    "\n",
    "    # Array broadcasting instead of list comprehension\n",
    "    new_hts = heights * 0.39370\n",
    "    new_wts = weights * 2.20462\n",
    "\n",
    "    hero_data = {}\n",
    "\n",
    "    for i,hero in enumerate(heroes):\n",
    "        hero_data[hero] = (new_hts[i], new_wts[i])\n",
    "\n",
    "    return hero_data"
   ]
  },
  {
   "cell_type": "code",
   "execution_count": 20,
   "metadata": {},
   "outputs": [
    {
     "output_type": "stream",
     "name": "stdout",
     "text": [
      "The line_profiler extension is already loaded. To reload it, use:\n  %reload_ext line_profiler\n"
     ]
    }
   ],
   "source": [
    "%load_ext line_profiler"
   ]
  },
  {
   "cell_type": "code",
   "execution_count": 21,
   "metadata": {},
   "outputs": [
    {
     "output_type": "stream",
     "text": [
      "Timer unit: 1e-07 s\n",
      "\n",
      "Total time: 0.0007267 s\n",
      "File: <ipython-input-19-097b3089decf>\n",
      "Function: convert_units_broadcast at line 1\n",
      "\n",
      "Line #      Hits         Time  Per Hit   % Time  Line Contents\n",
      "==============================================================\n",
      "     1                                           def convert_units_broadcast(heroes, heights, weights):\n",
      "     2                                           \n",
      "     3                                               # Array broadcasting instead of list comprehension\n",
      "     4         1        113.0    113.0      1.6      new_hts = heights * 0.39370\n",
      "     5         1         23.0     23.0      0.3      new_wts = weights * 2.20462\n",
      "     6                                           \n",
      "     7         1          6.0      6.0      0.1      hero_data = {}\n",
      "     8                                           \n",
      "     9       481       2819.0      5.9     38.8      for i,hero in enumerate(heroes):\n",
      "    10       480       4287.0      8.9     59.0          hero_data[hero] = (new_hts[i], new_wts[i])\n",
      "    11                                           \n",
      "    12         1         19.0     19.0      0.3      return hero_data"
     ],
     "name": "stdout"
    }
   ],
   "source": [
    "test_hts = np.array(hts)\n",
    "test_wts = np.array(wts)\n",
    "\n",
    "%lprun -f convert_units_broadcast convert_units_broadcast(heroes, test_hts, test_wts)"
   ]
  },
  {
   "cell_type": "code",
   "execution_count": 22,
   "metadata": {},
   "outputs": [
    {
     "output_type": "stream",
     "name": "stdout",
     "text": [
      "148 µs ± 2.77 µs per loop (mean ± std. dev. of 7 runs, 10000 loops each)\n"
     ]
    }
   ],
   "source": [
    "%timeit convert_units_broadcast(heroes, test_hts, test_wts)"
   ]
  },
  {
   "source": [
    "# Using %mprun: Hero BMI\n",
    "You'd like to calculate the body mass index (BMI) for a selected sample of heroes. BMI can be calculated using the below formula:\n",
    "\n",
    "A random sample of 25,000 superheroes has been loaded into your session as an array called sample_indices. This sample is a list of indices that corresponds to each superhero's index selected from the heroes list.\n",
    "\n",
    "A function named calc_bmi_lists has also been created and saved to a file titled bmi_lists.py. For convenience, it is displayed below:\n",
    "\n",
    "```python\n",
    "def calc_bmi_lists(sample_indices, hts, wts):\n",
    "\n",
    "    # Gather sample heights and weights as lists\n",
    "    s_hts = [hts[i] for i in sample_indices]\n",
    "    s_wts = [wts[i] for i in sample_indices]\n",
    "\n",
    "    # Convert heights from cm to m and square with list comprehension\n",
    "    s_hts_m_sqr = [(ht / 100) ** 2 for ht in s_hts]\n",
    "\n",
    "    # Calculate BMIs as a list with list comprehension\n",
    "    bmis = [s_wts[i] / s_hts_m_sqr[i] for i in range(len(sample_indices))]\n",
    "\n",
    "    return bmis\n",
    "```\n",
    "\n",
    "Notice that this function performs all necessary calculations using list comprehension (hence the name calc_bmi_lists()). Dig deeper into this function and analyze the memory footprint for performing your calculations using lists:\n",
    "\n",
    "- Load the memory_profiler package into your IPython session.\n",
    "- Import calc_bmi_lists from bmi_lists.\n",
    "- Once you've completed the above steps, use %mprun to profile the calc_bmi_lists() function acting on your superheroes data. The hts array and wts array have already been loaded into your session.\n",
    "\n",
    "After you've finished coding, answer the following question:\n",
    "\n",
    "How much memory do the list comprehension lines of code consume in the calc_bmi_lists() function? (i.e., what is the total sum of the Increment column for these four lines of code?)"
   ],
   "cell_type": "markdown",
   "metadata": {}
  },
  {
   "cell_type": "code",
   "execution_count": 23,
   "metadata": {},
   "outputs": [],
   "source": [
    "def loadSample(file_dir):\n",
    "    with open(file=file_dir) as file:\n",
    "        numbers = [int(line) for line in file]\n",
    "    return numbers\n",
    "\n",
    "sample_indices = loadSample('sample.txt')"
   ]
  },
  {
   "cell_type": "code",
   "execution_count": 24,
   "metadata": {},
   "outputs": [],
   "source": [
    "%load_ext memory_profiler"
   ]
  },
  {
   "cell_type": "code",
   "execution_count": 25,
   "metadata": {},
   "outputs": [],
   "source": [
    "from bmi_lists import calc_bmi_lists"
   ]
  },
  {
   "cell_type": "code",
   "execution_count": 26,
   "metadata": {},
   "outputs": [
    {
     "output_type": "stream",
     "name": "stdout",
     "text": [
      "\n"
     ]
    },
    {
     "output_type": "stream",
     "text": [
      "Filename: e:\\Github-Workspace\\nhutnamhcmus\\datacamp-playground\\writing-efficient-python-code\\2. Timing and profiling code\\bmi_lists.py\n",
      "\n",
      "Line #    Mem usage    Increment  Occurences   Line Contents\n",
      "============================================================\n",
      "     1     62.7 MiB     62.7 MiB           1   def calc_bmi_lists(sample_indices, hts, wts):\n",
      "     2                                         \n",
      "     3                                             # Gather sample heights and weights as lists\n",
      "     4     63.7 MiB      1.0 MiB       25003       s_hts = [hts[i] for i in sample_indices]\n",
      "     5     64.6 MiB      1.0 MiB       25003       s_wts = [wts[i] for i in sample_indices]\n",
      "     6                                         \n",
      "     7                                             # Convert heights from cm to m and square with list comprehension\n",
      "     8     65.7 MiB      1.1 MiB       25003       s_hts_m_sqr = [(ht / 100) ** 2 for ht in s_hts]\n",
      "     9                                         \n",
      "    10                                             # Calculate BMIs as a list with list comprehension\n",
      "    11     66.8 MiB      1.1 MiB       25003       bmis = [s_wts[i] / s_hts_m_sqr[i] for i in range(len(sample_indices))]\n",
      "    12                                         \n",
      "    13     66.8 MiB      0.0 MiB           1       return bmis"
     ],
     "name": "stdout"
    }
   ],
   "source": [
    "%mprun -f calc_bmi_lists calc_bmi_lists(sample_indices, test_hts, test_wts)"
   ]
  },
  {
   "source": [
    "# Using %mprun: Hero BMI 2.0\n",
    "Let's see if using a different approach to calculate the BMIs can save some memory. If you remember, each hero's height and weight is stored in a numpy array. That means you can use NumPy's handy array indexing capabilities and broadcasting to perform your calculations. A function named calc_bmi_arrays has been created and saved to a file titled bmi_arrays.py. For convenience, it is displayed below:\n",
    "\n",
    "```python\n",
    "def calc_bmi_arrays(sample_indices, hts, wts):\n",
    "\n",
    "    # Gather sample heights and weights as arrays\n",
    "    s_hts = hts[sample_indices]\n",
    "    s_wts = wts[sample_indices]\n",
    "\n",
    "    # Convert heights from cm to m and square with broadcasting\n",
    "    s_hts_m_sqr = (s_hts / 100) ** 2\n",
    "\n",
    "    # Calculate BMIs as an array using broadcasting\n",
    "    bmis = s_wts / s_hts_m_sqr\n",
    "\n",
    "    return bmis\n",
    "```\n",
    "\n",
    "Notice that this function performs all necessary calculations using arrays.\n",
    "\n",
    "Let's see if this updated array approach decreases your memory footprint:\n",
    "\n",
    "- Load the memory_profiler package into your IPython session.\n",
    "- Import calc_bmi_arrays from bmi_arrays.\n",
    "- Once you've completed the above steps, use %mprun to profile the calc_bmi_arrays() function acting on your superheroes data. The sample_indices array, hts array, and wts array have been loaded into your session.\n",
    "\n",
    "After you've finished coding, answer the following question:\n",
    "\n",
    "How much memory do the array indexing and broadcasting lines of code consume in the calc_bmi_array() function? (i.e., what is the total sum of the Increment column for these four lines of code?)"
   ],
   "cell_type": "markdown",
   "metadata": {}
  },
  {
   "cell_type": "code",
   "execution_count": 27,
   "metadata": {},
   "outputs": [
    {
     "output_type": "stream",
     "name": "stdout",
     "text": [
      "The line_profiler extension is already loaded. To reload it, use:\n  %reload_ext line_profiler\n"
     ]
    }
   ],
   "source": [
    "%load_ext line_profiler"
   ]
  },
  {
   "cell_type": "code",
   "execution_count": 28,
   "metadata": {},
   "outputs": [],
   "source": [
    "from bmi_arrays import calc_bmi_arrays"
   ]
  },
  {
   "cell_type": "code",
   "execution_count": 29,
   "metadata": {},
   "outputs": [
    {
     "output_type": "stream",
     "name": "stdout",
     "text": [
      "\n"
     ]
    },
    {
     "output_type": "stream",
     "text": [
      "Filename: e:\\Github-Workspace\\nhutnamhcmus\\datacamp-playground\\writing-efficient-python-code\\2. Timing and profiling code\\bmi_arrays.py\n",
      "\n",
      "Line #    Mem usage    Increment  Occurences   Line Contents\n",
      "============================================================\n",
      "     1     63.1 MiB     63.1 MiB           1   def calc_bmi_arrays(sample_indices, hts, wts):\n",
      "     2                                         \n",
      "     3                                             # Gather sample heights and weights as arrays\n",
      "     4     63.5 MiB      0.4 MiB           1       s_hts = hts[sample_indices]\n",
      "     5     63.7 MiB      0.2 MiB           1       s_wts = wts[sample_indices]\n",
      "     6                                         \n",
      "     7                                             # Convert heights from cm to m and square with broadcasting\n",
      "     8     64.0 MiB      0.3 MiB           1       s_hts_m_sqr = (s_hts / 100) ** 2\n",
      "     9                                         \n",
      "    10                                             # Calculate BMIs as an array using broadcasting\n",
      "    11     64.0 MiB      0.0 MiB           1       bmis = s_wts / s_hts_m_sqr\n",
      "    12                                         \n",
      "    13     64.0 MiB      0.0 MiB           1       return bmis"
     ],
     "name": "stdout"
    }
   ],
   "source": [
    "%mprun -f calc_bmi_arrays calc_bmi_arrays(sample_indices, test_hts, test_wts)"
   ]
  },
  {
   "source": [
    "# Bringing it all together: Star Wars profiling\n",
    "A list of 480 superheroes has been loaded into your session (called heroes) as well as a list of each hero's corresponding publisher (called publishers).\n",
    "\n",
    "You'd like to filter the heroes list based on a hero's specific publisher, but are unsure which of the below functions is more efficient.\n",
    "\n",
    "```python\n",
    "def get_publisher_heroes(heroes, publishers, desired_publisher):\n",
    "\n",
    "    desired_heroes = []\n",
    "\n",
    "    for i,pub in enumerate(publishers):\n",
    "        if pub == desired_publisher:\n",
    "            desired_heroes.append(heroes[i])\n",
    "\n",
    "    return desired_heroes\n",
    "```\n",
    "\n",
    "```python\n",
    "def get_publisher_heroes_np(heroes, publishers, desired_publisher):\n",
    "\n",
    "    heroes_np = np.array(heroes)\n",
    "    pubs_np = np.array(publishers)\n",
    "\n",
    "    desired_heroes = heroes_np[pubs_np == desired_publisher]\n",
    "\n",
    "    return desired_heroes\n",
    "```\n"
   ],
   "cell_type": "markdown",
   "metadata": {}
  },
  {
   "cell_type": "code",
   "execution_count": 30,
   "metadata": {},
   "outputs": [],
   "source": [
    "def get_publisher_heroes(heroes, publishers, desired_publisher):\n",
    "\n",
    "    desired_heroes = []\n",
    "\n",
    "    for i,pub in enumerate(publishers):\n",
    "        if pub == desired_publisher:\n",
    "            desired_heroes.append(heroes[i])\n",
    "\n",
    "    return desired_heroes\n",
    "def get_publisher_heroes_np(heroes, publishers, desired_publisher):\n",
    "\n",
    "    heroes_np = np.array(heroes)\n",
    "    pubs_np = np.array(publishers)\n",
    "\n",
    "    desired_heroes = heroes_np[pubs_np == desired_publisher]\n",
    "\n",
    "    return desired_heroes"
   ]
  },
  {
   "cell_type": "code",
   "execution_count": 31,
   "metadata": {},
   "outputs": [
    {
     "output_type": "stream",
     "name": "stdout",
     "text": [
      "['Darth Vader', 'Han Solo', 'Luke Skywalker', 'Yoda']\n<class 'list'>\n['Darth Vader' 'Han Solo' 'Luke Skywalker' 'Yoda']\n<class 'numpy.ndarray'>\n"
     ]
    }
   ],
   "source": [
    "import numpy as np\n",
    "\n",
    "# Use get_publisher_heroes() to gather Star Wars heroes\n",
    "star_wars_heroes = get_publisher_heroes(heroes, publishers, desired_publisher='George Lucas')\n",
    "\n",
    "print(star_wars_heroes)\n",
    "print(type(star_wars_heroes))\n",
    "\n",
    "# Use get_publisher_heroes_np() to gather Star Wars heroes\n",
    "star_wars_heroes_np = get_publisher_heroes_np(heroes, publishers, desired_publisher='George Lucas')\n",
    "\n",
    "print(star_wars_heroes_np)\n",
    "print(type(star_wars_heroes_np))"
   ]
  },
  {
   "cell_type": "code",
   "execution_count": 32,
   "metadata": {},
   "outputs": [
    {
     "output_type": "stream",
     "name": "stdout",
     "text": [
      "18.7 µs ± 492 ns per loop (mean ± std. dev. of 7 runs, 100000 loops each)\n"
     ]
    }
   ],
   "source": [
    "%timeit get_publisher_heroes(heroes, publishers, desired_publisher='George Lucas')"
   ]
  },
  {
   "cell_type": "code",
   "execution_count": 33,
   "metadata": {},
   "outputs": [
    {
     "output_type": "stream",
     "name": "stdout",
     "text": [
      "78.6 µs ± 1.88 µs per loop (mean ± std. dev. of 7 runs, 10000 loops each)\n"
     ]
    }
   ],
   "source": [
    "%timeit get_publisher_heroes_np(heroes, publishers, desired_publisher='George Lucas')"
   ]
  },
  {
   "cell_type": "code",
   "execution_count": 34,
   "metadata": {},
   "outputs": [
    {
     "output_type": "stream",
     "text": [
      "Timer unit: 1e-07 s\n",
      "\n",
      "Total time: 0.0002598 s\n",
      "File: <ipython-input-30-74702c55f56d>\n",
      "Function: get_publisher_heroes at line 1\n",
      "\n",
      "Line #      Hits         Time  Per Hit   % Time  Line Contents\n",
      "==============================================================\n",
      "     1                                           def get_publisher_heroes(heroes, publishers, desired_publisher):\n",
      "     2                                           \n",
      "     3         1         11.0     11.0      0.4      desired_heroes = []\n",
      "     4                                           \n",
      "     5       481       1307.0      2.7     50.3      for i,pub in enumerate(publishers):\n",
      "     6       480       1253.0      2.6     48.2          if pub == desired_publisher:\n",
      "     7         4         24.0      6.0      0.9              desired_heroes.append(heroes[i])\n",
      "     8                                           \n",
      "     9         1          3.0      3.0      0.1      return desired_heroes"
     ],
     "name": "stdout"
    }
   ],
   "source": [
    "%lprun -f get_publisher_heroes get_publisher_heroes(heroes, publishers, desired_publisher=\"George Lucas\")"
   ]
  },
  {
   "cell_type": "code",
   "execution_count": 35,
   "metadata": {},
   "outputs": [
    {
     "output_type": "stream",
     "text": [
      "Timer unit: 1e-07 s\n",
      "\n",
      "Total time: 0.000108 s\n",
      "File: <ipython-input-30-74702c55f56d>\n",
      "Function: get_publisher_heroes_np at line 10\n",
      "\n",
      "Line #      Hits         Time  Per Hit   % Time  Line Contents\n",
      "==============================================================\n",
      "    10                                           def get_publisher_heroes_np(heroes, publishers, desired_publisher):\n",
      "    11                                           \n",
      "    12         1        568.0    568.0     52.6      heroes_np = np.array(heroes)\n",
      "    13         1        374.0    374.0     34.6      pubs_np = np.array(publishers)\n",
      "    14                                           \n",
      "    15         1        135.0    135.0     12.5      desired_heroes = heroes_np[pubs_np == desired_publisher]\n",
      "    16                                           \n",
      "    17         1          3.0      3.0      0.3      return desired_heroes"
     ],
     "name": "stdout"
    }
   ],
   "source": [
    "%lprun -f get_publisher_heroes_np get_publisher_heroes_np(heroes, publishers, desired_publisher=\"George Lucas\")"
   ]
  },
  {
   "cell_type": "code",
   "execution_count": 36,
   "metadata": {},
   "outputs": [],
   "source": [
    "from publisher_heroes import get_publisher_heroes\n",
    "from publisher_heroes_np import get_publisher_heroes_np"
   ]
  },
  {
   "cell_type": "code",
   "execution_count": 37,
   "metadata": {},
   "outputs": [
    {
     "output_type": "stream",
     "name": "stdout",
     "text": [
      "\n"
     ]
    },
    {
     "output_type": "stream",
     "text": [
      "Filename: e:\\Github-Workspace\\nhutnamhcmus\\datacamp-playground\\writing-efficient-python-code\\2. Timing and profiling code\\publisher_heroes_np.py\n",
      "\n",
      "Line #    Mem usage    Increment  Occurences   Line Contents\n",
      "============================================================\n",
      "     3     64.0 MiB     64.0 MiB           1   def get_publisher_heroes_np(heroes, publishers, desired_publisher):\n",
      "     4                                         \n",
      "     5     64.0 MiB      0.0 MiB           1       heroes_np = np.array(heroes)\n",
      "     6     64.0 MiB      0.0 MiB           1       pubs_np = np.array(publishers)\n",
      "     7                                         \n",
      "     8     64.0 MiB      0.0 MiB           1       desired_heroes = heroes_np[pubs_np == desired_publisher]\n",
      "     9                                         \n",
      "    10     64.0 MiB      0.0 MiB           1       return desired_heroes"
     ],
     "name": "stdout"
    }
   ],
   "source": [
    "%mprun -f get_publisher_heroes_np get_publisher_heroes_np(heroes, publishers, desired_publisher=\"George Lucas\")"
   ]
  },
  {
   "cell_type": "code",
   "execution_count": 38,
   "metadata": {},
   "outputs": [
    {
     "output_type": "stream",
     "name": "stdout",
     "text": [
      "\n"
     ]
    },
    {
     "output_type": "stream",
     "text": [
      "Filename: e:\\Github-Workspace\\nhutnamhcmus\\datacamp-playground\\writing-efficient-python-code\\2. Timing and profiling code\\publisher_heroes.py\n",
      "\n",
      "Line #    Mem usage    Increment  Occurences   Line Contents\n",
      "============================================================\n",
      "     1     64.0 MiB     64.0 MiB           1   def get_publisher_heroes(heroes, publishers, desired_publisher):\n",
      "     2                                         \n",
      "     3     64.0 MiB      0.0 MiB           1       desired_heroes = []\n",
      "     4                                         \n",
      "     5     64.0 MiB      0.0 MiB         481       for i,pub in enumerate(publishers):\n",
      "     6     64.0 MiB      0.0 MiB         480           if pub == desired_publisher:\n",
      "     7     64.0 MiB      0.0 MiB           4               desired_heroes.append(heroes[i])"
     ],
     "name": "stdout"
    }
   ],
   "source": [
    "%mprun -f get_publisher_heroes get_publisher_heroes(heroes, publishers, desired_publisher=\"George Lucas\")"
   ]
  },
  {
   "cell_type": "code",
   "execution_count": null,
   "metadata": {},
   "outputs": [],
   "source": []
  }
 ]
}